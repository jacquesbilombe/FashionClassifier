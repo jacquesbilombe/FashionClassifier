{
  "nbformat": 4,
  "nbformat_minor": 0,
  "metadata": {
    "colab": {
      "provenance": [],
      "authorship_tag": "ABX9TyNGRn+KmNXHtLsCEwE9doaV",
      "include_colab_link": true
    },
    "kernelspec": {
      "name": "python3",
      "display_name": "Python 3"
    },
    "language_info": {
      "name": "python"
    }
  },
  "cells": [
    {
      "cell_type": "markdown",
      "metadata": {
        "id": "view-in-github",
        "colab_type": "text"
      },
      "source": [
        "<a href=\"https://colab.research.google.com/github/jacquesbilombe/FashionClassifier/blob/main/fashionclassifier.ipynb\" target=\"_parent\"><img src=\"https://colab.research.google.com/assets/colab-badge.svg\" alt=\"Open In Colab\"/></a>"
      ]
    },
    {
      "cell_type": "markdown",
      "source": [
        "The dataset for this project can be found on the project's GitHub repository or at [Kaggle](https://www.kaggle.com/datasets/agrigorev/clothing-dataset-full?rvi=1). This project serves as a case study for the Data Science and Analytics course at PUC RIO.\n",
        "For more information, please refer to the project README."
      ],
      "metadata": {
        "id": "GDL9MkuYYBka"
      }
    },
    {
      "cell_type": "markdown",
      "source": [
        "## Importing libraries"
      ],
      "metadata": {
        "id": "W92YbU5Kbcg6"
      }
    },
    {
      "cell_type": "code",
      "execution_count": 1,
      "metadata": {
        "id": "CyQOF09lmUvI"
      },
      "outputs": [],
      "source": [
        "import os\n",
        "import cv2 # opencv lib\n",
        "import csv\n",
        "import random\n",
        "import warnings\n",
        "import numpy as np\n",
        "import pandas as pd\n",
        "import tensorflow as tf\n",
        "import plotly.express as px\n",
        "import matplotlib.pyplot as plt\n",
        "import matplotlib.image as mpimg\n",
        "\n",
        "from pathlib import Path\n",
        "from keras.optimizers import Adam\n",
        "from tensorflow.keras import Model\n",
        "from keras.callbacks import ReduceLROnPlateau\n",
        "from keras.layers import Flatten, Dense, Dropout\n",
        "from keras.preprocessing.image import ImageDataGenerator\n",
        "from keras.callbacks import EarlyStopping, ModelCheckpoint"
      ]
    },
    {
      "cell_type": "markdown",
      "source": [
        "### Other configurations"
      ],
      "metadata": {
        "id": "aTadjjqDbybA"
      }
    },
    {
      "cell_type": "code",
      "source": [
        "%matplotlib inline\n",
        "warnings.filterwarnings('ignore')\n",
        "\n",
        "# Get the data access\n",
        "! git clone https://github.com/jacquesbilombe/FashionClassifier.git"
      ],
      "metadata": {
        "colab": {
          "base_uri": "https://localhost:8080/"
        },
        "id": "zoQV0xsfXKrg",
        "outputId": "d76920df-92e6-4048-814c-ae95584a7d72"
      },
      "execution_count": 2,
      "outputs": [
        {
          "output_type": "stream",
          "name": "stdout",
          "text": [
            "fatal: destination path 'FashionClassifier' already exists and is not an empty directory.\n"
          ]
        }
      ]
    },
    {
      "cell_type": "markdown",
      "source": [
        "## Preprocessing"
      ],
      "metadata": {
        "id": "H8P6I78CyFsf"
      }
    },
    {
      "cell_type": "markdown",
      "source": [
        "### Data importation"
      ],
      "metadata": {
        "id": "pYnRL1q5yNkV"
      }
    },
    {
      "cell_type": "code",
      "source": [
        "# Files path\n",
        "data_folder = os.path.join('FashionClassifier', 'dataset')\n",
        "\n",
        "imgs_path = data_folder + '/' + 'Images'\n",
        "img_id = pd.DataFrame(pd.read_csv(data_folder + '/' + 'images_details.csv'))\n",
        "img_id.head(5)"
      ],
      "metadata": {
        "id": "4ciKRjHdcF1r",
        "outputId": "bbb5f316-145a-4da6-f416-560d7ac5da5e",
        "colab": {
          "base_uri": "https://localhost:8080/",
          "height": 206
        }
      },
      "execution_count": 3,
      "outputs": [
        {
          "output_type": "execute_result",
          "data": {
            "text/plain": [
              "                                  image  sender_id     label   kids\n",
              "0  4285fab0-751a-4b74-8e9b-43af05deee22        124  Not sure  False\n",
              "1  ea7b6656-3f84-4eb3-9099-23e623fc1018        148   T-Shirt  False\n",
              "2  00627a3f-0477-401c-95eb-92642cbe078d         94  Not sure  False\n",
              "3  ea2ffd4d-9b25-4ca8-9dc2-bd27f1cc59fa         43   T-Shirt  False\n",
              "4  3b86d877-2b9e-4c8b-a6a2-1d87513309d0        189     Shoes  False"
            ],
            "text/html": [
              "\n",
              "  <div id=\"df-a16dbc73-b871-43f7-92aa-2fb13a966013\" class=\"colab-df-container\">\n",
              "    <div>\n",
              "<style scoped>\n",
              "    .dataframe tbody tr th:only-of-type {\n",
              "        vertical-align: middle;\n",
              "    }\n",
              "\n",
              "    .dataframe tbody tr th {\n",
              "        vertical-align: top;\n",
              "    }\n",
              "\n",
              "    .dataframe thead th {\n",
              "        text-align: right;\n",
              "    }\n",
              "</style>\n",
              "<table border=\"1\" class=\"dataframe\">\n",
              "  <thead>\n",
              "    <tr style=\"text-align: right;\">\n",
              "      <th></th>\n",
              "      <th>image</th>\n",
              "      <th>sender_id</th>\n",
              "      <th>label</th>\n",
              "      <th>kids</th>\n",
              "    </tr>\n",
              "  </thead>\n",
              "  <tbody>\n",
              "    <tr>\n",
              "      <th>0</th>\n",
              "      <td>4285fab0-751a-4b74-8e9b-43af05deee22</td>\n",
              "      <td>124</td>\n",
              "      <td>Not sure</td>\n",
              "      <td>False</td>\n",
              "    </tr>\n",
              "    <tr>\n",
              "      <th>1</th>\n",
              "      <td>ea7b6656-3f84-4eb3-9099-23e623fc1018</td>\n",
              "      <td>148</td>\n",
              "      <td>T-Shirt</td>\n",
              "      <td>False</td>\n",
              "    </tr>\n",
              "    <tr>\n",
              "      <th>2</th>\n",
              "      <td>00627a3f-0477-401c-95eb-92642cbe078d</td>\n",
              "      <td>94</td>\n",
              "      <td>Not sure</td>\n",
              "      <td>False</td>\n",
              "    </tr>\n",
              "    <tr>\n",
              "      <th>3</th>\n",
              "      <td>ea2ffd4d-9b25-4ca8-9dc2-bd27f1cc59fa</td>\n",
              "      <td>43</td>\n",
              "      <td>T-Shirt</td>\n",
              "      <td>False</td>\n",
              "    </tr>\n",
              "    <tr>\n",
              "      <th>4</th>\n",
              "      <td>3b86d877-2b9e-4c8b-a6a2-1d87513309d0</td>\n",
              "      <td>189</td>\n",
              "      <td>Shoes</td>\n",
              "      <td>False</td>\n",
              "    </tr>\n",
              "  </tbody>\n",
              "</table>\n",
              "</div>\n",
              "    <div class=\"colab-df-buttons\">\n",
              "\n",
              "  <div class=\"colab-df-container\">\n",
              "    <button class=\"colab-df-convert\" onclick=\"convertToInteractive('df-a16dbc73-b871-43f7-92aa-2fb13a966013')\"\n",
              "            title=\"Convert this dataframe to an interactive table.\"\n",
              "            style=\"display:none;\">\n",
              "\n",
              "  <svg xmlns=\"http://www.w3.org/2000/svg\" height=\"24px\" viewBox=\"0 -960 960 960\">\n",
              "    <path d=\"M120-120v-720h720v720H120Zm60-500h600v-160H180v160Zm220 220h160v-160H400v160Zm0 220h160v-160H400v160ZM180-400h160v-160H180v160Zm440 0h160v-160H620v160ZM180-180h160v-160H180v160Zm440 0h160v-160H620v160Z\"/>\n",
              "  </svg>\n",
              "    </button>\n",
              "\n",
              "  <style>\n",
              "    .colab-df-container {\n",
              "      display:flex;\n",
              "      gap: 12px;\n",
              "    }\n",
              "\n",
              "    .colab-df-convert {\n",
              "      background-color: #E8F0FE;\n",
              "      border: none;\n",
              "      border-radius: 50%;\n",
              "      cursor: pointer;\n",
              "      display: none;\n",
              "      fill: #1967D2;\n",
              "      height: 32px;\n",
              "      padding: 0 0 0 0;\n",
              "      width: 32px;\n",
              "    }\n",
              "\n",
              "    .colab-df-convert:hover {\n",
              "      background-color: #E2EBFA;\n",
              "      box-shadow: 0px 1px 2px rgba(60, 64, 67, 0.3), 0px 1px 3px 1px rgba(60, 64, 67, 0.15);\n",
              "      fill: #174EA6;\n",
              "    }\n",
              "\n",
              "    .colab-df-buttons div {\n",
              "      margin-bottom: 4px;\n",
              "    }\n",
              "\n",
              "    [theme=dark] .colab-df-convert {\n",
              "      background-color: #3B4455;\n",
              "      fill: #D2E3FC;\n",
              "    }\n",
              "\n",
              "    [theme=dark] .colab-df-convert:hover {\n",
              "      background-color: #434B5C;\n",
              "      box-shadow: 0px 1px 3px 1px rgba(0, 0, 0, 0.15);\n",
              "      filter: drop-shadow(0px 1px 2px rgba(0, 0, 0, 0.3));\n",
              "      fill: #FFFFFF;\n",
              "    }\n",
              "  </style>\n",
              "\n",
              "    <script>\n",
              "      const buttonEl =\n",
              "        document.querySelector('#df-a16dbc73-b871-43f7-92aa-2fb13a966013 button.colab-df-convert');\n",
              "      buttonEl.style.display =\n",
              "        google.colab.kernel.accessAllowed ? 'block' : 'none';\n",
              "\n",
              "      async function convertToInteractive(key) {\n",
              "        const element = document.querySelector('#df-a16dbc73-b871-43f7-92aa-2fb13a966013');\n",
              "        const dataTable =\n",
              "          await google.colab.kernel.invokeFunction('convertToInteractive',\n",
              "                                                    [key], {});\n",
              "        if (!dataTable) return;\n",
              "\n",
              "        const docLinkHtml = 'Like what you see? Visit the ' +\n",
              "          '<a target=\"_blank\" href=https://colab.research.google.com/notebooks/data_table.ipynb>data table notebook</a>'\n",
              "          + ' to learn more about interactive tables.';\n",
              "        element.innerHTML = '';\n",
              "        dataTable['output_type'] = 'display_data';\n",
              "        await google.colab.output.renderOutput(dataTable, element);\n",
              "        const docLink = document.createElement('div');\n",
              "        docLink.innerHTML = docLinkHtml;\n",
              "        element.appendChild(docLink);\n",
              "      }\n",
              "    </script>\n",
              "  </div>\n",
              "\n",
              "\n",
              "<div id=\"df-fcd78a81-fa08-4d2a-8e70-ba7eedeb02b7\">\n",
              "  <button class=\"colab-df-quickchart\" onclick=\"quickchart('df-fcd78a81-fa08-4d2a-8e70-ba7eedeb02b7')\"\n",
              "            title=\"Suggest charts\"\n",
              "            style=\"display:none;\">\n",
              "\n",
              "<svg xmlns=\"http://www.w3.org/2000/svg\" height=\"24px\"viewBox=\"0 0 24 24\"\n",
              "     width=\"24px\">\n",
              "    <g>\n",
              "        <path d=\"M19 3H5c-1.1 0-2 .9-2 2v14c0 1.1.9 2 2 2h14c1.1 0 2-.9 2-2V5c0-1.1-.9-2-2-2zM9 17H7v-7h2v7zm4 0h-2V7h2v10zm4 0h-2v-4h2v4z\"/>\n",
              "    </g>\n",
              "</svg>\n",
              "  </button>\n",
              "\n",
              "<style>\n",
              "  .colab-df-quickchart {\n",
              "      --bg-color: #E8F0FE;\n",
              "      --fill-color: #1967D2;\n",
              "      --hover-bg-color: #E2EBFA;\n",
              "      --hover-fill-color: #174EA6;\n",
              "      --disabled-fill-color: #AAA;\n",
              "      --disabled-bg-color: #DDD;\n",
              "  }\n",
              "\n",
              "  [theme=dark] .colab-df-quickchart {\n",
              "      --bg-color: #3B4455;\n",
              "      --fill-color: #D2E3FC;\n",
              "      --hover-bg-color: #434B5C;\n",
              "      --hover-fill-color: #FFFFFF;\n",
              "      --disabled-bg-color: #3B4455;\n",
              "      --disabled-fill-color: #666;\n",
              "  }\n",
              "\n",
              "  .colab-df-quickchart {\n",
              "    background-color: var(--bg-color);\n",
              "    border: none;\n",
              "    border-radius: 50%;\n",
              "    cursor: pointer;\n",
              "    display: none;\n",
              "    fill: var(--fill-color);\n",
              "    height: 32px;\n",
              "    padding: 0;\n",
              "    width: 32px;\n",
              "  }\n",
              "\n",
              "  .colab-df-quickchart:hover {\n",
              "    background-color: var(--hover-bg-color);\n",
              "    box-shadow: 0 1px 2px rgba(60, 64, 67, 0.3), 0 1px 3px 1px rgba(60, 64, 67, 0.15);\n",
              "    fill: var(--button-hover-fill-color);\n",
              "  }\n",
              "\n",
              "  .colab-df-quickchart-complete:disabled,\n",
              "  .colab-df-quickchart-complete:disabled:hover {\n",
              "    background-color: var(--disabled-bg-color);\n",
              "    fill: var(--disabled-fill-color);\n",
              "    box-shadow: none;\n",
              "  }\n",
              "\n",
              "  .colab-df-spinner {\n",
              "    border: 2px solid var(--fill-color);\n",
              "    border-color: transparent;\n",
              "    border-bottom-color: var(--fill-color);\n",
              "    animation:\n",
              "      spin 1s steps(1) infinite;\n",
              "  }\n",
              "\n",
              "  @keyframes spin {\n",
              "    0% {\n",
              "      border-color: transparent;\n",
              "      border-bottom-color: var(--fill-color);\n",
              "      border-left-color: var(--fill-color);\n",
              "    }\n",
              "    20% {\n",
              "      border-color: transparent;\n",
              "      border-left-color: var(--fill-color);\n",
              "      border-top-color: var(--fill-color);\n",
              "    }\n",
              "    30% {\n",
              "      border-color: transparent;\n",
              "      border-left-color: var(--fill-color);\n",
              "      border-top-color: var(--fill-color);\n",
              "      border-right-color: var(--fill-color);\n",
              "    }\n",
              "    40% {\n",
              "      border-color: transparent;\n",
              "      border-right-color: var(--fill-color);\n",
              "      border-top-color: var(--fill-color);\n",
              "    }\n",
              "    60% {\n",
              "      border-color: transparent;\n",
              "      border-right-color: var(--fill-color);\n",
              "    }\n",
              "    80% {\n",
              "      border-color: transparent;\n",
              "      border-right-color: var(--fill-color);\n",
              "      border-bottom-color: var(--fill-color);\n",
              "    }\n",
              "    90% {\n",
              "      border-color: transparent;\n",
              "      border-bottom-color: var(--fill-color);\n",
              "    }\n",
              "  }\n",
              "</style>\n",
              "\n",
              "  <script>\n",
              "    async function quickchart(key) {\n",
              "      const quickchartButtonEl =\n",
              "        document.querySelector('#' + key + ' button');\n",
              "      quickchartButtonEl.disabled = true;  // To prevent multiple clicks.\n",
              "      quickchartButtonEl.classList.add('colab-df-spinner');\n",
              "      try {\n",
              "        const charts = await google.colab.kernel.invokeFunction(\n",
              "            'suggestCharts', [key], {});\n",
              "      } catch (error) {\n",
              "        console.error('Error during call to suggestCharts:', error);\n",
              "      }\n",
              "      quickchartButtonEl.classList.remove('colab-df-spinner');\n",
              "      quickchartButtonEl.classList.add('colab-df-quickchart-complete');\n",
              "    }\n",
              "    (() => {\n",
              "      let quickchartButtonEl =\n",
              "        document.querySelector('#df-fcd78a81-fa08-4d2a-8e70-ba7eedeb02b7 button');\n",
              "      quickchartButtonEl.style.display =\n",
              "        google.colab.kernel.accessAllowed ? 'block' : 'none';\n",
              "    })();\n",
              "  </script>\n",
              "</div>\n",
              "\n",
              "    </div>\n",
              "  </div>\n"
            ],
            "application/vnd.google.colaboratory.intrinsic+json": {
              "type": "dataframe",
              "variable_name": "img_id",
              "summary": "{\n  \"name\": \"img_id\",\n  \"rows\": 5403,\n  \"fields\": [\n    {\n      \"column\": \"image\",\n      \"properties\": {\n        \"dtype\": \"string\",\n        \"num_unique_values\": 5403,\n        \"samples\": [\n          \"65e038b2-c84d-4e95-be70-e58fab54f729\",\n          \"11f2ff4e-6b43-4071-b5b1-2036ec0fe8fe\",\n          \"70d08b8a-72e4-4e35-bff6-21563e19eed0\"\n        ],\n        \"semantic_type\": \"\",\n        \"description\": \"\"\n      }\n    },\n    {\n      \"column\": \"sender_id\",\n      \"properties\": {\n        \"dtype\": \"number\",\n        \"std\": 99,\n        \"min\": 0,\n        \"max\": 370,\n        \"num_unique_values\": 351,\n        \"samples\": [\n          258,\n          160,\n          50\n        ],\n        \"semantic_type\": \"\",\n        \"description\": \"\"\n      }\n    },\n    {\n      \"column\": \"label\",\n      \"properties\": {\n        \"dtype\": \"category\",\n        \"num_unique_values\": 20,\n        \"samples\": [\n          \"Not sure\",\n          \"Hoodie\",\n          \"Polo\"\n        ],\n        \"semantic_type\": \"\",\n        \"description\": \"\"\n      }\n    },\n    {\n      \"column\": \"kids\",\n      \"properties\": {\n        \"dtype\": \"boolean\",\n        \"num_unique_values\": 2,\n        \"samples\": [\n          true,\n          false\n        ],\n        \"semantic_type\": \"\",\n        \"description\": \"\"\n      }\n    }\n  ]\n}"
            }
          },
          "metadata": {},
          "execution_count": 3
        }
      ]
    },
    {
      "cell_type": "code",
      "source": [
        "img_id.info()"
      ],
      "metadata": {
        "id": "0RQnLDiFyZ5a",
        "outputId": "416d7c36-fdc0-4f92-e1c8-e4825d1291de",
        "colab": {
          "base_uri": "https://localhost:8080/"
        }
      },
      "execution_count": 4,
      "outputs": [
        {
          "output_type": "stream",
          "name": "stdout",
          "text": [
            "<class 'pandas.core.frame.DataFrame'>\n",
            "RangeIndex: 5403 entries, 0 to 5402\n",
            "Data columns (total 4 columns):\n",
            " #   Column     Non-Null Count  Dtype \n",
            "---  ------     --------------  ----- \n",
            " 0   image      5403 non-null   object\n",
            " 1   sender_id  5403 non-null   int64 \n",
            " 2   label      5403 non-null   object\n",
            " 3   kids       5403 non-null   bool  \n",
            "dtypes: bool(1), int64(1), object(2)\n",
            "memory usage: 132.0+ KB\n"
          ]
        }
      ]
    },
    {
      "cell_type": "code",
      "source": [
        "images_names = os.listdir(imgs_path)\n",
        "images_names[:5], print(img_id.columns)"
      ],
      "metadata": {
        "id": "0EEs56iO4cC1",
        "outputId": "038bd3ae-1f23-4b9b-be9b-3645f5df8c3b",
        "colab": {
          "base_uri": "https://localhost:8080/"
        }
      },
      "execution_count": 5,
      "outputs": [
        {
          "output_type": "stream",
          "name": "stdout",
          "text": [
            "Index(['image', 'sender_id', 'label', 'kids'], dtype='object')\n"
          ]
        },
        {
          "output_type": "execute_result",
          "data": {
            "text/plain": [
              "(['e04c6715-e743-4645-8955-03e86801ec25.jpg',\n",
              "  '5e20fec3-814f-4d03-bd88-4b72a0e2ea53.jpg',\n",
              "  'ecfd00ef-2fe1-4778-a2a8-e97aeb810f26.jpg',\n",
              "  'f72d9ae5-b2b7-4c2e-83c0-d7e1d6cf3404.jpg',\n",
              "  '22ee2330-a2e7-4abf-aec1-0699e819a248.jpg'],\n",
              " None)"
            ]
          },
          "metadata": {},
          "execution_count": 5
        }
      ]
    },
    {
      "cell_type": "markdown",
      "source": [
        "### Data Cleaning\n",
        "\n",
        "For a classification problem, we only need the image ID and its label (target), so we can drop the other columns"
      ],
      "metadata": {
        "id": "_xL2J2Z26iqk"
      }
    },
    {
      "cell_type": "code",
      "source": [
        "# For a classification problem\n",
        "df_images = pd.DataFrame(img_id['image'] + '.jpg')\n",
        "df_images['target'] = img_id['label']\n",
        "df_images.head(5)"
      ],
      "metadata": {
        "id": "uz91Z4b95sIz",
        "outputId": "17f66a46-f367-4d97-8798-f2d4930f66df",
        "colab": {
          "base_uri": "https://localhost:8080/",
          "height": 206
        }
      },
      "execution_count": 6,
      "outputs": [
        {
          "output_type": "execute_result",
          "data": {
            "text/plain": [
              "                                      image    target\n",
              "0  4285fab0-751a-4b74-8e9b-43af05deee22.jpg  Not sure\n",
              "1  ea7b6656-3f84-4eb3-9099-23e623fc1018.jpg   T-Shirt\n",
              "2  00627a3f-0477-401c-95eb-92642cbe078d.jpg  Not sure\n",
              "3  ea2ffd4d-9b25-4ca8-9dc2-bd27f1cc59fa.jpg   T-Shirt\n",
              "4  3b86d877-2b9e-4c8b-a6a2-1d87513309d0.jpg     Shoes"
            ],
            "text/html": [
              "\n",
              "  <div id=\"df-08d78eb6-9a01-4ff9-90dc-e3d85ad15f88\" class=\"colab-df-container\">\n",
              "    <div>\n",
              "<style scoped>\n",
              "    .dataframe tbody tr th:only-of-type {\n",
              "        vertical-align: middle;\n",
              "    }\n",
              "\n",
              "    .dataframe tbody tr th {\n",
              "        vertical-align: top;\n",
              "    }\n",
              "\n",
              "    .dataframe thead th {\n",
              "        text-align: right;\n",
              "    }\n",
              "</style>\n",
              "<table border=\"1\" class=\"dataframe\">\n",
              "  <thead>\n",
              "    <tr style=\"text-align: right;\">\n",
              "      <th></th>\n",
              "      <th>image</th>\n",
              "      <th>target</th>\n",
              "    </tr>\n",
              "  </thead>\n",
              "  <tbody>\n",
              "    <tr>\n",
              "      <th>0</th>\n",
              "      <td>4285fab0-751a-4b74-8e9b-43af05deee22.jpg</td>\n",
              "      <td>Not sure</td>\n",
              "    </tr>\n",
              "    <tr>\n",
              "      <th>1</th>\n",
              "      <td>ea7b6656-3f84-4eb3-9099-23e623fc1018.jpg</td>\n",
              "      <td>T-Shirt</td>\n",
              "    </tr>\n",
              "    <tr>\n",
              "      <th>2</th>\n",
              "      <td>00627a3f-0477-401c-95eb-92642cbe078d.jpg</td>\n",
              "      <td>Not sure</td>\n",
              "    </tr>\n",
              "    <tr>\n",
              "      <th>3</th>\n",
              "      <td>ea2ffd4d-9b25-4ca8-9dc2-bd27f1cc59fa.jpg</td>\n",
              "      <td>T-Shirt</td>\n",
              "    </tr>\n",
              "    <tr>\n",
              "      <th>4</th>\n",
              "      <td>3b86d877-2b9e-4c8b-a6a2-1d87513309d0.jpg</td>\n",
              "      <td>Shoes</td>\n",
              "    </tr>\n",
              "  </tbody>\n",
              "</table>\n",
              "</div>\n",
              "    <div class=\"colab-df-buttons\">\n",
              "\n",
              "  <div class=\"colab-df-container\">\n",
              "    <button class=\"colab-df-convert\" onclick=\"convertToInteractive('df-08d78eb6-9a01-4ff9-90dc-e3d85ad15f88')\"\n",
              "            title=\"Convert this dataframe to an interactive table.\"\n",
              "            style=\"display:none;\">\n",
              "\n",
              "  <svg xmlns=\"http://www.w3.org/2000/svg\" height=\"24px\" viewBox=\"0 -960 960 960\">\n",
              "    <path d=\"M120-120v-720h720v720H120Zm60-500h600v-160H180v160Zm220 220h160v-160H400v160Zm0 220h160v-160H400v160ZM180-400h160v-160H180v160Zm440 0h160v-160H620v160ZM180-180h160v-160H180v160Zm440 0h160v-160H620v160Z\"/>\n",
              "  </svg>\n",
              "    </button>\n",
              "\n",
              "  <style>\n",
              "    .colab-df-container {\n",
              "      display:flex;\n",
              "      gap: 12px;\n",
              "    }\n",
              "\n",
              "    .colab-df-convert {\n",
              "      background-color: #E8F0FE;\n",
              "      border: none;\n",
              "      border-radius: 50%;\n",
              "      cursor: pointer;\n",
              "      display: none;\n",
              "      fill: #1967D2;\n",
              "      height: 32px;\n",
              "      padding: 0 0 0 0;\n",
              "      width: 32px;\n",
              "    }\n",
              "\n",
              "    .colab-df-convert:hover {\n",
              "      background-color: #E2EBFA;\n",
              "      box-shadow: 0px 1px 2px rgba(60, 64, 67, 0.3), 0px 1px 3px 1px rgba(60, 64, 67, 0.15);\n",
              "      fill: #174EA6;\n",
              "    }\n",
              "\n",
              "    .colab-df-buttons div {\n",
              "      margin-bottom: 4px;\n",
              "    }\n",
              "\n",
              "    [theme=dark] .colab-df-convert {\n",
              "      background-color: #3B4455;\n",
              "      fill: #D2E3FC;\n",
              "    }\n",
              "\n",
              "    [theme=dark] .colab-df-convert:hover {\n",
              "      background-color: #434B5C;\n",
              "      box-shadow: 0px 1px 3px 1px rgba(0, 0, 0, 0.15);\n",
              "      filter: drop-shadow(0px 1px 2px rgba(0, 0, 0, 0.3));\n",
              "      fill: #FFFFFF;\n",
              "    }\n",
              "  </style>\n",
              "\n",
              "    <script>\n",
              "      const buttonEl =\n",
              "        document.querySelector('#df-08d78eb6-9a01-4ff9-90dc-e3d85ad15f88 button.colab-df-convert');\n",
              "      buttonEl.style.display =\n",
              "        google.colab.kernel.accessAllowed ? 'block' : 'none';\n",
              "\n",
              "      async function convertToInteractive(key) {\n",
              "        const element = document.querySelector('#df-08d78eb6-9a01-4ff9-90dc-e3d85ad15f88');\n",
              "        const dataTable =\n",
              "          await google.colab.kernel.invokeFunction('convertToInteractive',\n",
              "                                                    [key], {});\n",
              "        if (!dataTable) return;\n",
              "\n",
              "        const docLinkHtml = 'Like what you see? Visit the ' +\n",
              "          '<a target=\"_blank\" href=https://colab.research.google.com/notebooks/data_table.ipynb>data table notebook</a>'\n",
              "          + ' to learn more about interactive tables.';\n",
              "        element.innerHTML = '';\n",
              "        dataTable['output_type'] = 'display_data';\n",
              "        await google.colab.output.renderOutput(dataTable, element);\n",
              "        const docLink = document.createElement('div');\n",
              "        docLink.innerHTML = docLinkHtml;\n",
              "        element.appendChild(docLink);\n",
              "      }\n",
              "    </script>\n",
              "  </div>\n",
              "\n",
              "\n",
              "<div id=\"df-7b6faefa-e928-42da-b57a-06aa02633dbb\">\n",
              "  <button class=\"colab-df-quickchart\" onclick=\"quickchart('df-7b6faefa-e928-42da-b57a-06aa02633dbb')\"\n",
              "            title=\"Suggest charts\"\n",
              "            style=\"display:none;\">\n",
              "\n",
              "<svg xmlns=\"http://www.w3.org/2000/svg\" height=\"24px\"viewBox=\"0 0 24 24\"\n",
              "     width=\"24px\">\n",
              "    <g>\n",
              "        <path d=\"M19 3H5c-1.1 0-2 .9-2 2v14c0 1.1.9 2 2 2h14c1.1 0 2-.9 2-2V5c0-1.1-.9-2-2-2zM9 17H7v-7h2v7zm4 0h-2V7h2v10zm4 0h-2v-4h2v4z\"/>\n",
              "    </g>\n",
              "</svg>\n",
              "  </button>\n",
              "\n",
              "<style>\n",
              "  .colab-df-quickchart {\n",
              "      --bg-color: #E8F0FE;\n",
              "      --fill-color: #1967D2;\n",
              "      --hover-bg-color: #E2EBFA;\n",
              "      --hover-fill-color: #174EA6;\n",
              "      --disabled-fill-color: #AAA;\n",
              "      --disabled-bg-color: #DDD;\n",
              "  }\n",
              "\n",
              "  [theme=dark] .colab-df-quickchart {\n",
              "      --bg-color: #3B4455;\n",
              "      --fill-color: #D2E3FC;\n",
              "      --hover-bg-color: #434B5C;\n",
              "      --hover-fill-color: #FFFFFF;\n",
              "      --disabled-bg-color: #3B4455;\n",
              "      --disabled-fill-color: #666;\n",
              "  }\n",
              "\n",
              "  .colab-df-quickchart {\n",
              "    background-color: var(--bg-color);\n",
              "    border: none;\n",
              "    border-radius: 50%;\n",
              "    cursor: pointer;\n",
              "    display: none;\n",
              "    fill: var(--fill-color);\n",
              "    height: 32px;\n",
              "    padding: 0;\n",
              "    width: 32px;\n",
              "  }\n",
              "\n",
              "  .colab-df-quickchart:hover {\n",
              "    background-color: var(--hover-bg-color);\n",
              "    box-shadow: 0 1px 2px rgba(60, 64, 67, 0.3), 0 1px 3px 1px rgba(60, 64, 67, 0.15);\n",
              "    fill: var(--button-hover-fill-color);\n",
              "  }\n",
              "\n",
              "  .colab-df-quickchart-complete:disabled,\n",
              "  .colab-df-quickchart-complete:disabled:hover {\n",
              "    background-color: var(--disabled-bg-color);\n",
              "    fill: var(--disabled-fill-color);\n",
              "    box-shadow: none;\n",
              "  }\n",
              "\n",
              "  .colab-df-spinner {\n",
              "    border: 2px solid var(--fill-color);\n",
              "    border-color: transparent;\n",
              "    border-bottom-color: var(--fill-color);\n",
              "    animation:\n",
              "      spin 1s steps(1) infinite;\n",
              "  }\n",
              "\n",
              "  @keyframes spin {\n",
              "    0% {\n",
              "      border-color: transparent;\n",
              "      border-bottom-color: var(--fill-color);\n",
              "      border-left-color: var(--fill-color);\n",
              "    }\n",
              "    20% {\n",
              "      border-color: transparent;\n",
              "      border-left-color: var(--fill-color);\n",
              "      border-top-color: var(--fill-color);\n",
              "    }\n",
              "    30% {\n",
              "      border-color: transparent;\n",
              "      border-left-color: var(--fill-color);\n",
              "      border-top-color: var(--fill-color);\n",
              "      border-right-color: var(--fill-color);\n",
              "    }\n",
              "    40% {\n",
              "      border-color: transparent;\n",
              "      border-right-color: var(--fill-color);\n",
              "      border-top-color: var(--fill-color);\n",
              "    }\n",
              "    60% {\n",
              "      border-color: transparent;\n",
              "      border-right-color: var(--fill-color);\n",
              "    }\n",
              "    80% {\n",
              "      border-color: transparent;\n",
              "      border-right-color: var(--fill-color);\n",
              "      border-bottom-color: var(--fill-color);\n",
              "    }\n",
              "    90% {\n",
              "      border-color: transparent;\n",
              "      border-bottom-color: var(--fill-color);\n",
              "    }\n",
              "  }\n",
              "</style>\n",
              "\n",
              "  <script>\n",
              "    async function quickchart(key) {\n",
              "      const quickchartButtonEl =\n",
              "        document.querySelector('#' + key + ' button');\n",
              "      quickchartButtonEl.disabled = true;  // To prevent multiple clicks.\n",
              "      quickchartButtonEl.classList.add('colab-df-spinner');\n",
              "      try {\n",
              "        const charts = await google.colab.kernel.invokeFunction(\n",
              "            'suggestCharts', [key], {});\n",
              "      } catch (error) {\n",
              "        console.error('Error during call to suggestCharts:', error);\n",
              "      }\n",
              "      quickchartButtonEl.classList.remove('colab-df-spinner');\n",
              "      quickchartButtonEl.classList.add('colab-df-quickchart-complete');\n",
              "    }\n",
              "    (() => {\n",
              "      let quickchartButtonEl =\n",
              "        document.querySelector('#df-7b6faefa-e928-42da-b57a-06aa02633dbb button');\n",
              "      quickchartButtonEl.style.display =\n",
              "        google.colab.kernel.accessAllowed ? 'block' : 'none';\n",
              "    })();\n",
              "  </script>\n",
              "</div>\n",
              "\n",
              "    </div>\n",
              "  </div>\n"
            ],
            "application/vnd.google.colaboratory.intrinsic+json": {
              "type": "dataframe",
              "variable_name": "df_images",
              "summary": "{\n  \"name\": \"df_images\",\n  \"rows\": 5403,\n  \"fields\": [\n    {\n      \"column\": \"image\",\n      \"properties\": {\n        \"dtype\": \"string\",\n        \"num_unique_values\": 5403,\n        \"samples\": [\n          \"65e038b2-c84d-4e95-be70-e58fab54f729.jpg\",\n          \"11f2ff4e-6b43-4071-b5b1-2036ec0fe8fe.jpg\",\n          \"70d08b8a-72e4-4e35-bff6-21563e19eed0.jpg\"\n        ],\n        \"semantic_type\": \"\",\n        \"description\": \"\"\n      }\n    },\n    {\n      \"column\": \"target\",\n      \"properties\": {\n        \"dtype\": \"category\",\n        \"num_unique_values\": 20,\n        \"samples\": [\n          \"Not sure\",\n          \"Hoodie\",\n          \"Polo\"\n        ],\n        \"semantic_type\": \"\",\n        \"description\": \"\"\n      }\n    }\n  ]\n}"
            }
          },
          "metadata": {},
          "execution_count": 6
        }
      ]
    },
    {
      "cell_type": "code",
      "source": [
        "# Calculate the value counts of unique labels\n",
        "counts = df_images['target'].value_counts()\n",
        "\n",
        "# Create a bar chart using plotly express\n",
        "target_count = px.bar(x=counts.index, y=counts.values,\n",
        "                      labels={'x': 'Label', 'y': 'Count'},\n",
        "                      title='Label Categories',\n",
        "                      text=counts.values)\n",
        "target_count.show()"
      ],
      "metadata": {
        "id": "hf_Sb5Hr8wSg",
        "outputId": "0044bec4-8367-443b-cad3-a2f42402e8a6",
        "colab": {
          "base_uri": "https://localhost:8080/",
          "height": 542
        }
      },
      "execution_count": 7,
      "outputs": [
        {
          "output_type": "display_data",
          "data": {
            "text/html": [
              "<html>\n",
              "<head><meta charset=\"utf-8\" /></head>\n",
              "<body>\n",
              "    <div>            <script src=\"https://cdnjs.cloudflare.com/ajax/libs/mathjax/2.7.5/MathJax.js?config=TeX-AMS-MML_SVG\"></script><script type=\"text/javascript\">if (window.MathJax && window.MathJax.Hub && window.MathJax.Hub.Config) {window.MathJax.Hub.Config({SVG: {font: \"STIX-Web\"}});}</script>                <script type=\"text/javascript\">window.PlotlyConfig = {MathJaxConfig: 'local'};</script>\n",
              "        <script charset=\"utf-8\" src=\"https://cdn.plot.ly/plotly-2.24.1.min.js\"></script>                <div id=\"18c3e413-15c7-49b4-9bc3-3ea2862f6af5\" class=\"plotly-graph-div\" style=\"height:525px; width:100%;\"></div>            <script type=\"text/javascript\">                                    window.PLOTLYENV=window.PLOTLYENV || {};                                    if (document.getElementById(\"18c3e413-15c7-49b4-9bc3-3ea2862f6af5\")) {                    Plotly.newPlot(                        \"18c3e413-15c7-49b4-9bc3-3ea2862f6af5\",                        [{\"alignmentgroup\":\"True\",\"hovertemplate\":\"Label=%{x}\\u003cbr\\u003eCount=%{y}\\u003cbr\\u003etext=%{text}\\u003cextra\\u003e\\u003c\\u002fextra\\u003e\",\"legendgroup\":\"\",\"marker\":{\"color\":\"#636efa\",\"pattern\":{\"shape\":\"\"}},\"name\":\"\",\"offsetgroup\":\"\",\"orientation\":\"v\",\"showlegend\":false,\"text\":[1011.0,699.0,692.0,431.0,378.0,357.0,312.0,308.0,228.0,171.0,155.0,120.0,118.0,109.0,100.0,69.0,67.0,43.0,23.0,12.0],\"textposition\":\"auto\",\"x\":[\"T-Shirt\",\"Longsleeve\",\"Pants\",\"Shoes\",\"Shirt\",\"Dress\",\"Outwear\",\"Shorts\",\"Not sure\",\"Hat\",\"Skirt\",\"Polo\",\"Undershirt\",\"Blazer\",\"Hoodie\",\"Body\",\"Other\",\"Top\",\"Blouse\",\"Skip\"],\"xaxis\":\"x\",\"y\":[1011,699,692,431,378,357,312,308,228,171,155,120,118,109,100,69,67,43,23,12],\"yaxis\":\"y\",\"type\":\"bar\"}],                        {\"template\":{\"data\":{\"histogram2dcontour\":[{\"type\":\"histogram2dcontour\",\"colorbar\":{\"outlinewidth\":0,\"ticks\":\"\"},\"colorscale\":[[0.0,\"#0d0887\"],[0.1111111111111111,\"#46039f\"],[0.2222222222222222,\"#7201a8\"],[0.3333333333333333,\"#9c179e\"],[0.4444444444444444,\"#bd3786\"],[0.5555555555555556,\"#d8576b\"],[0.6666666666666666,\"#ed7953\"],[0.7777777777777778,\"#fb9f3a\"],[0.8888888888888888,\"#fdca26\"],[1.0,\"#f0f921\"]]}],\"choropleth\":[{\"type\":\"choropleth\",\"colorbar\":{\"outlinewidth\":0,\"ticks\":\"\"}}],\"histogram2d\":[{\"type\":\"histogram2d\",\"colorbar\":{\"outlinewidth\":0,\"ticks\":\"\"},\"colorscale\":[[0.0,\"#0d0887\"],[0.1111111111111111,\"#46039f\"],[0.2222222222222222,\"#7201a8\"],[0.3333333333333333,\"#9c179e\"],[0.4444444444444444,\"#bd3786\"],[0.5555555555555556,\"#d8576b\"],[0.6666666666666666,\"#ed7953\"],[0.7777777777777778,\"#fb9f3a\"],[0.8888888888888888,\"#fdca26\"],[1.0,\"#f0f921\"]]}],\"heatmap\":[{\"type\":\"heatmap\",\"colorbar\":{\"outlinewidth\":0,\"ticks\":\"\"},\"colorscale\":[[0.0,\"#0d0887\"],[0.1111111111111111,\"#46039f\"],[0.2222222222222222,\"#7201a8\"],[0.3333333333333333,\"#9c179e\"],[0.4444444444444444,\"#bd3786\"],[0.5555555555555556,\"#d8576b\"],[0.6666666666666666,\"#ed7953\"],[0.7777777777777778,\"#fb9f3a\"],[0.8888888888888888,\"#fdca26\"],[1.0,\"#f0f921\"]]}],\"heatmapgl\":[{\"type\":\"heatmapgl\",\"colorbar\":{\"outlinewidth\":0,\"ticks\":\"\"},\"colorscale\":[[0.0,\"#0d0887\"],[0.1111111111111111,\"#46039f\"],[0.2222222222222222,\"#7201a8\"],[0.3333333333333333,\"#9c179e\"],[0.4444444444444444,\"#bd3786\"],[0.5555555555555556,\"#d8576b\"],[0.6666666666666666,\"#ed7953\"],[0.7777777777777778,\"#fb9f3a\"],[0.8888888888888888,\"#fdca26\"],[1.0,\"#f0f921\"]]}],\"contourcarpet\":[{\"type\":\"contourcarpet\",\"colorbar\":{\"outlinewidth\":0,\"ticks\":\"\"}}],\"contour\":[{\"type\":\"contour\",\"colorbar\":{\"outlinewidth\":0,\"ticks\":\"\"},\"colorscale\":[[0.0,\"#0d0887\"],[0.1111111111111111,\"#46039f\"],[0.2222222222222222,\"#7201a8\"],[0.3333333333333333,\"#9c179e\"],[0.4444444444444444,\"#bd3786\"],[0.5555555555555556,\"#d8576b\"],[0.6666666666666666,\"#ed7953\"],[0.7777777777777778,\"#fb9f3a\"],[0.8888888888888888,\"#fdca26\"],[1.0,\"#f0f921\"]]}],\"surface\":[{\"type\":\"surface\",\"colorbar\":{\"outlinewidth\":0,\"ticks\":\"\"},\"colorscale\":[[0.0,\"#0d0887\"],[0.1111111111111111,\"#46039f\"],[0.2222222222222222,\"#7201a8\"],[0.3333333333333333,\"#9c179e\"],[0.4444444444444444,\"#bd3786\"],[0.5555555555555556,\"#d8576b\"],[0.6666666666666666,\"#ed7953\"],[0.7777777777777778,\"#fb9f3a\"],[0.8888888888888888,\"#fdca26\"],[1.0,\"#f0f921\"]]}],\"mesh3d\":[{\"type\":\"mesh3d\",\"colorbar\":{\"outlinewidth\":0,\"ticks\":\"\"}}],\"scatter\":[{\"fillpattern\":{\"fillmode\":\"overlay\",\"size\":10,\"solidity\":0.2},\"type\":\"scatter\"}],\"parcoords\":[{\"type\":\"parcoords\",\"line\":{\"colorbar\":{\"outlinewidth\":0,\"ticks\":\"\"}}}],\"scatterpolargl\":[{\"type\":\"scatterpolargl\",\"marker\":{\"colorbar\":{\"outlinewidth\":0,\"ticks\":\"\"}}}],\"bar\":[{\"error_x\":{\"color\":\"#2a3f5f\"},\"error_y\":{\"color\":\"#2a3f5f\"},\"marker\":{\"line\":{\"color\":\"#E5ECF6\",\"width\":0.5},\"pattern\":{\"fillmode\":\"overlay\",\"size\":10,\"solidity\":0.2}},\"type\":\"bar\"}],\"scattergeo\":[{\"type\":\"scattergeo\",\"marker\":{\"colorbar\":{\"outlinewidth\":0,\"ticks\":\"\"}}}],\"scatterpolar\":[{\"type\":\"scatterpolar\",\"marker\":{\"colorbar\":{\"outlinewidth\":0,\"ticks\":\"\"}}}],\"histogram\":[{\"marker\":{\"pattern\":{\"fillmode\":\"overlay\",\"size\":10,\"solidity\":0.2}},\"type\":\"histogram\"}],\"scattergl\":[{\"type\":\"scattergl\",\"marker\":{\"colorbar\":{\"outlinewidth\":0,\"ticks\":\"\"}}}],\"scatter3d\":[{\"type\":\"scatter3d\",\"line\":{\"colorbar\":{\"outlinewidth\":0,\"ticks\":\"\"}},\"marker\":{\"colorbar\":{\"outlinewidth\":0,\"ticks\":\"\"}}}],\"scattermapbox\":[{\"type\":\"scattermapbox\",\"marker\":{\"colorbar\":{\"outlinewidth\":0,\"ticks\":\"\"}}}],\"scatterternary\":[{\"type\":\"scatterternary\",\"marker\":{\"colorbar\":{\"outlinewidth\":0,\"ticks\":\"\"}}}],\"scattercarpet\":[{\"type\":\"scattercarpet\",\"marker\":{\"colorbar\":{\"outlinewidth\":0,\"ticks\":\"\"}}}],\"carpet\":[{\"aaxis\":{\"endlinecolor\":\"#2a3f5f\",\"gridcolor\":\"white\",\"linecolor\":\"white\",\"minorgridcolor\":\"white\",\"startlinecolor\":\"#2a3f5f\"},\"baxis\":{\"endlinecolor\":\"#2a3f5f\",\"gridcolor\":\"white\",\"linecolor\":\"white\",\"minorgridcolor\":\"white\",\"startlinecolor\":\"#2a3f5f\"},\"type\":\"carpet\"}],\"table\":[{\"cells\":{\"fill\":{\"color\":\"#EBF0F8\"},\"line\":{\"color\":\"white\"}},\"header\":{\"fill\":{\"color\":\"#C8D4E3\"},\"line\":{\"color\":\"white\"}},\"type\":\"table\"}],\"barpolar\":[{\"marker\":{\"line\":{\"color\":\"#E5ECF6\",\"width\":0.5},\"pattern\":{\"fillmode\":\"overlay\",\"size\":10,\"solidity\":0.2}},\"type\":\"barpolar\"}],\"pie\":[{\"automargin\":true,\"type\":\"pie\"}]},\"layout\":{\"autotypenumbers\":\"strict\",\"colorway\":[\"#636efa\",\"#EF553B\",\"#00cc96\",\"#ab63fa\",\"#FFA15A\",\"#19d3f3\",\"#FF6692\",\"#B6E880\",\"#FF97FF\",\"#FECB52\"],\"font\":{\"color\":\"#2a3f5f\"},\"hovermode\":\"closest\",\"hoverlabel\":{\"align\":\"left\"},\"paper_bgcolor\":\"white\",\"plot_bgcolor\":\"#E5ECF6\",\"polar\":{\"bgcolor\":\"#E5ECF6\",\"angularaxis\":{\"gridcolor\":\"white\",\"linecolor\":\"white\",\"ticks\":\"\"},\"radialaxis\":{\"gridcolor\":\"white\",\"linecolor\":\"white\",\"ticks\":\"\"}},\"ternary\":{\"bgcolor\":\"#E5ECF6\",\"aaxis\":{\"gridcolor\":\"white\",\"linecolor\":\"white\",\"ticks\":\"\"},\"baxis\":{\"gridcolor\":\"white\",\"linecolor\":\"white\",\"ticks\":\"\"},\"caxis\":{\"gridcolor\":\"white\",\"linecolor\":\"white\",\"ticks\":\"\"}},\"coloraxis\":{\"colorbar\":{\"outlinewidth\":0,\"ticks\":\"\"}},\"colorscale\":{\"sequential\":[[0.0,\"#0d0887\"],[0.1111111111111111,\"#46039f\"],[0.2222222222222222,\"#7201a8\"],[0.3333333333333333,\"#9c179e\"],[0.4444444444444444,\"#bd3786\"],[0.5555555555555556,\"#d8576b\"],[0.6666666666666666,\"#ed7953\"],[0.7777777777777778,\"#fb9f3a\"],[0.8888888888888888,\"#fdca26\"],[1.0,\"#f0f921\"]],\"sequentialminus\":[[0.0,\"#0d0887\"],[0.1111111111111111,\"#46039f\"],[0.2222222222222222,\"#7201a8\"],[0.3333333333333333,\"#9c179e\"],[0.4444444444444444,\"#bd3786\"],[0.5555555555555556,\"#d8576b\"],[0.6666666666666666,\"#ed7953\"],[0.7777777777777778,\"#fb9f3a\"],[0.8888888888888888,\"#fdca26\"],[1.0,\"#f0f921\"]],\"diverging\":[[0,\"#8e0152\"],[0.1,\"#c51b7d\"],[0.2,\"#de77ae\"],[0.3,\"#f1b6da\"],[0.4,\"#fde0ef\"],[0.5,\"#f7f7f7\"],[0.6,\"#e6f5d0\"],[0.7,\"#b8e186\"],[0.8,\"#7fbc41\"],[0.9,\"#4d9221\"],[1,\"#276419\"]]},\"xaxis\":{\"gridcolor\":\"white\",\"linecolor\":\"white\",\"ticks\":\"\",\"title\":{\"standoff\":15},\"zerolinecolor\":\"white\",\"automargin\":true,\"zerolinewidth\":2},\"yaxis\":{\"gridcolor\":\"white\",\"linecolor\":\"white\",\"ticks\":\"\",\"title\":{\"standoff\":15},\"zerolinecolor\":\"white\",\"automargin\":true,\"zerolinewidth\":2},\"scene\":{\"xaxis\":{\"backgroundcolor\":\"#E5ECF6\",\"gridcolor\":\"white\",\"linecolor\":\"white\",\"showbackground\":true,\"ticks\":\"\",\"zerolinecolor\":\"white\",\"gridwidth\":2},\"yaxis\":{\"backgroundcolor\":\"#E5ECF6\",\"gridcolor\":\"white\",\"linecolor\":\"white\",\"showbackground\":true,\"ticks\":\"\",\"zerolinecolor\":\"white\",\"gridwidth\":2},\"zaxis\":{\"backgroundcolor\":\"#E5ECF6\",\"gridcolor\":\"white\",\"linecolor\":\"white\",\"showbackground\":true,\"ticks\":\"\",\"zerolinecolor\":\"white\",\"gridwidth\":2}},\"shapedefaults\":{\"line\":{\"color\":\"#2a3f5f\"}},\"annotationdefaults\":{\"arrowcolor\":\"#2a3f5f\",\"arrowhead\":0,\"arrowwidth\":1},\"geo\":{\"bgcolor\":\"white\",\"landcolor\":\"#E5ECF6\",\"subunitcolor\":\"white\",\"showland\":true,\"showlakes\":true,\"lakecolor\":\"white\"},\"title\":{\"x\":0.05},\"mapbox\":{\"style\":\"light\"}}},\"xaxis\":{\"anchor\":\"y\",\"domain\":[0.0,1.0],\"title\":{\"text\":\"Label\"}},\"yaxis\":{\"anchor\":\"x\",\"domain\":[0.0,1.0],\"title\":{\"text\":\"Count\"}},\"legend\":{\"tracegroupgap\":0},\"title\":{\"text\":\"Label Categories\"},\"barmode\":\"relative\"},                        {\"responsive\": true}                    ).then(function(){\n",
              "                            \n",
              "var gd = document.getElementById('18c3e413-15c7-49b4-9bc3-3ea2862f6af5');\n",
              "var x = new MutationObserver(function (mutations, observer) {{\n",
              "        var display = window.getComputedStyle(gd).display;\n",
              "        if (!display || display === 'none') {{\n",
              "            console.log([gd, 'removed!']);\n",
              "            Plotly.purge(gd);\n",
              "            observer.disconnect();\n",
              "        }}\n",
              "}});\n",
              "\n",
              "// Listen for the removal of the full notebook cells\n",
              "var notebookContainer = gd.closest('#notebook-container');\n",
              "if (notebookContainer) {{\n",
              "    x.observe(notebookContainer, {childList: true});\n",
              "}}\n",
              "\n",
              "// Listen for the clearing of the current output cell\n",
              "var outputEl = gd.closest('.output');\n",
              "if (outputEl) {{\n",
              "    x.observe(outputEl, {childList: true});\n",
              "}}\n",
              "\n",
              "                        })                };                            </script>        </div>\n",
              "</body>\n",
              "</html>"
            ]
          },
          "metadata": {}
        }
      ]
    },
    {
      "cell_type": "markdown",
      "source": [
        "As shown above, some label categories have fewer than 40 items in the dataset, so we can apply a threshold of 40. Moreover, we don't have information about the \"Not sure\" and \"Other\" categories, so we'll drop them from the dataset."
      ],
      "metadata": {
        "id": "0YRsZPAoTIks"
      }
    },
    {
      "cell_type": "code",
      "source": [
        "list_unwaned = ['Other', 'Not sure']\n",
        "\n",
        "# Get the label with its count less than 40\n",
        "df_threshold = counts.reset_index()\n",
        "df_threshold.columns = ['target', 'count']\n",
        "df_threshold = df_threshold.loc[df_threshold['count'] < 40]\n",
        "\n",
        "# final list\n",
        "list_unwaned = list_unwaned + list(df_threshold['target'].values)\n",
        "list_unwaned"
      ],
      "metadata": {
        "id": "kDNGgUPTU5Lw",
        "outputId": "df03d364-cf1c-4cee-abdf-6da8e8235c6d",
        "colab": {
          "base_uri": "https://localhost:8080/"
        }
      },
      "execution_count": 8,
      "outputs": [
        {
          "output_type": "execute_result",
          "data": {
            "text/plain": [
              "['Other', 'Not sure', 'Blouse', 'Skip']"
            ]
          },
          "metadata": {},
          "execution_count": 8
        }
      ]
    },
    {
      "cell_type": "code",
      "source": [
        "# Drop the unwanted labels\n",
        "df_images = df_images[~df_images['target'].isin(list_unwaned)]\n"
      ],
      "metadata": {
        "id": "R5eJMKn5dkvL"
      },
      "execution_count": 9,
      "outputs": []
    },
    {
      "cell_type": "code",
      "source": [
        " # Calculate the value counts of unique labels\n",
        "counts = df_images['target'].value_counts()\n",
        "\n",
        "# Create a bar chart using plotly express\n",
        "target_count = px.bar(x=counts.index, y=counts.values,\n",
        "                      labels={'x': 'Label', 'y': 'Count'},\n",
        "                      title='Label Categories',\n",
        "                      text=counts.values)\n",
        "target_count.show()"
      ],
      "metadata": {
        "id": "Qp5VPCp-_Ie5",
        "outputId": "d3445520-f638-457a-a7f7-70625f45eae3",
        "colab": {
          "base_uri": "https://localhost:8080/",
          "height": 542
        }
      },
      "execution_count": 10,
      "outputs": [
        {
          "output_type": "display_data",
          "data": {
            "text/html": [
              "<html>\n",
              "<head><meta charset=\"utf-8\" /></head>\n",
              "<body>\n",
              "    <div>            <script src=\"https://cdnjs.cloudflare.com/ajax/libs/mathjax/2.7.5/MathJax.js?config=TeX-AMS-MML_SVG\"></script><script type=\"text/javascript\">if (window.MathJax && window.MathJax.Hub && window.MathJax.Hub.Config) {window.MathJax.Hub.Config({SVG: {font: \"STIX-Web\"}});}</script>                <script type=\"text/javascript\">window.PlotlyConfig = {MathJaxConfig: 'local'};</script>\n",
              "        <script charset=\"utf-8\" src=\"https://cdn.plot.ly/plotly-2.24.1.min.js\"></script>                <div id=\"8b3a60c5-7a72-4500-be18-1cd4d06888f3\" class=\"plotly-graph-div\" style=\"height:525px; width:100%;\"></div>            <script type=\"text/javascript\">                                    window.PLOTLYENV=window.PLOTLYENV || {};                                    if (document.getElementById(\"8b3a60c5-7a72-4500-be18-1cd4d06888f3\")) {                    Plotly.newPlot(                        \"8b3a60c5-7a72-4500-be18-1cd4d06888f3\",                        [{\"alignmentgroup\":\"True\",\"hovertemplate\":\"Label=%{x}\\u003cbr\\u003eCount=%{y}\\u003cbr\\u003etext=%{text}\\u003cextra\\u003e\\u003c\\u002fextra\\u003e\",\"legendgroup\":\"\",\"marker\":{\"color\":\"#636efa\",\"pattern\":{\"shape\":\"\"}},\"name\":\"\",\"offsetgroup\":\"\",\"orientation\":\"v\",\"showlegend\":false,\"text\":[1011.0,699.0,692.0,431.0,378.0,357.0,312.0,308.0,171.0,155.0,120.0,118.0,109.0,100.0,69.0,43.0],\"textposition\":\"auto\",\"x\":[\"T-Shirt\",\"Longsleeve\",\"Pants\",\"Shoes\",\"Shirt\",\"Dress\",\"Outwear\",\"Shorts\",\"Hat\",\"Skirt\",\"Polo\",\"Undershirt\",\"Blazer\",\"Hoodie\",\"Body\",\"Top\"],\"xaxis\":\"x\",\"y\":[1011,699,692,431,378,357,312,308,171,155,120,118,109,100,69,43],\"yaxis\":\"y\",\"type\":\"bar\"}],                        {\"template\":{\"data\":{\"histogram2dcontour\":[{\"type\":\"histogram2dcontour\",\"colorbar\":{\"outlinewidth\":0,\"ticks\":\"\"},\"colorscale\":[[0.0,\"#0d0887\"],[0.1111111111111111,\"#46039f\"],[0.2222222222222222,\"#7201a8\"],[0.3333333333333333,\"#9c179e\"],[0.4444444444444444,\"#bd3786\"],[0.5555555555555556,\"#d8576b\"],[0.6666666666666666,\"#ed7953\"],[0.7777777777777778,\"#fb9f3a\"],[0.8888888888888888,\"#fdca26\"],[1.0,\"#f0f921\"]]}],\"choropleth\":[{\"type\":\"choropleth\",\"colorbar\":{\"outlinewidth\":0,\"ticks\":\"\"}}],\"histogram2d\":[{\"type\":\"histogram2d\",\"colorbar\":{\"outlinewidth\":0,\"ticks\":\"\"},\"colorscale\":[[0.0,\"#0d0887\"],[0.1111111111111111,\"#46039f\"],[0.2222222222222222,\"#7201a8\"],[0.3333333333333333,\"#9c179e\"],[0.4444444444444444,\"#bd3786\"],[0.5555555555555556,\"#d8576b\"],[0.6666666666666666,\"#ed7953\"],[0.7777777777777778,\"#fb9f3a\"],[0.8888888888888888,\"#fdca26\"],[1.0,\"#f0f921\"]]}],\"heatmap\":[{\"type\":\"heatmap\",\"colorbar\":{\"outlinewidth\":0,\"ticks\":\"\"},\"colorscale\":[[0.0,\"#0d0887\"],[0.1111111111111111,\"#46039f\"],[0.2222222222222222,\"#7201a8\"],[0.3333333333333333,\"#9c179e\"],[0.4444444444444444,\"#bd3786\"],[0.5555555555555556,\"#d8576b\"],[0.6666666666666666,\"#ed7953\"],[0.7777777777777778,\"#fb9f3a\"],[0.8888888888888888,\"#fdca26\"],[1.0,\"#f0f921\"]]}],\"heatmapgl\":[{\"type\":\"heatmapgl\",\"colorbar\":{\"outlinewidth\":0,\"ticks\":\"\"},\"colorscale\":[[0.0,\"#0d0887\"],[0.1111111111111111,\"#46039f\"],[0.2222222222222222,\"#7201a8\"],[0.3333333333333333,\"#9c179e\"],[0.4444444444444444,\"#bd3786\"],[0.5555555555555556,\"#d8576b\"],[0.6666666666666666,\"#ed7953\"],[0.7777777777777778,\"#fb9f3a\"],[0.8888888888888888,\"#fdca26\"],[1.0,\"#f0f921\"]]}],\"contourcarpet\":[{\"type\":\"contourcarpet\",\"colorbar\":{\"outlinewidth\":0,\"ticks\":\"\"}}],\"contour\":[{\"type\":\"contour\",\"colorbar\":{\"outlinewidth\":0,\"ticks\":\"\"},\"colorscale\":[[0.0,\"#0d0887\"],[0.1111111111111111,\"#46039f\"],[0.2222222222222222,\"#7201a8\"],[0.3333333333333333,\"#9c179e\"],[0.4444444444444444,\"#bd3786\"],[0.5555555555555556,\"#d8576b\"],[0.6666666666666666,\"#ed7953\"],[0.7777777777777778,\"#fb9f3a\"],[0.8888888888888888,\"#fdca26\"],[1.0,\"#f0f921\"]]}],\"surface\":[{\"type\":\"surface\",\"colorbar\":{\"outlinewidth\":0,\"ticks\":\"\"},\"colorscale\":[[0.0,\"#0d0887\"],[0.1111111111111111,\"#46039f\"],[0.2222222222222222,\"#7201a8\"],[0.3333333333333333,\"#9c179e\"],[0.4444444444444444,\"#bd3786\"],[0.5555555555555556,\"#d8576b\"],[0.6666666666666666,\"#ed7953\"],[0.7777777777777778,\"#fb9f3a\"],[0.8888888888888888,\"#fdca26\"],[1.0,\"#f0f921\"]]}],\"mesh3d\":[{\"type\":\"mesh3d\",\"colorbar\":{\"outlinewidth\":0,\"ticks\":\"\"}}],\"scatter\":[{\"fillpattern\":{\"fillmode\":\"overlay\",\"size\":10,\"solidity\":0.2},\"type\":\"scatter\"}],\"parcoords\":[{\"type\":\"parcoords\",\"line\":{\"colorbar\":{\"outlinewidth\":0,\"ticks\":\"\"}}}],\"scatterpolargl\":[{\"type\":\"scatterpolargl\",\"marker\":{\"colorbar\":{\"outlinewidth\":0,\"ticks\":\"\"}}}],\"bar\":[{\"error_x\":{\"color\":\"#2a3f5f\"},\"error_y\":{\"color\":\"#2a3f5f\"},\"marker\":{\"line\":{\"color\":\"#E5ECF6\",\"width\":0.5},\"pattern\":{\"fillmode\":\"overlay\",\"size\":10,\"solidity\":0.2}},\"type\":\"bar\"}],\"scattergeo\":[{\"type\":\"scattergeo\",\"marker\":{\"colorbar\":{\"outlinewidth\":0,\"ticks\":\"\"}}}],\"scatterpolar\":[{\"type\":\"scatterpolar\",\"marker\":{\"colorbar\":{\"outlinewidth\":0,\"ticks\":\"\"}}}],\"histogram\":[{\"marker\":{\"pattern\":{\"fillmode\":\"overlay\",\"size\":10,\"solidity\":0.2}},\"type\":\"histogram\"}],\"scattergl\":[{\"type\":\"scattergl\",\"marker\":{\"colorbar\":{\"outlinewidth\":0,\"ticks\":\"\"}}}],\"scatter3d\":[{\"type\":\"scatter3d\",\"line\":{\"colorbar\":{\"outlinewidth\":0,\"ticks\":\"\"}},\"marker\":{\"colorbar\":{\"outlinewidth\":0,\"ticks\":\"\"}}}],\"scattermapbox\":[{\"type\":\"scattermapbox\",\"marker\":{\"colorbar\":{\"outlinewidth\":0,\"ticks\":\"\"}}}],\"scatterternary\":[{\"type\":\"scatterternary\",\"marker\":{\"colorbar\":{\"outlinewidth\":0,\"ticks\":\"\"}}}],\"scattercarpet\":[{\"type\":\"scattercarpet\",\"marker\":{\"colorbar\":{\"outlinewidth\":0,\"ticks\":\"\"}}}],\"carpet\":[{\"aaxis\":{\"endlinecolor\":\"#2a3f5f\",\"gridcolor\":\"white\",\"linecolor\":\"white\",\"minorgridcolor\":\"white\",\"startlinecolor\":\"#2a3f5f\"},\"baxis\":{\"endlinecolor\":\"#2a3f5f\",\"gridcolor\":\"white\",\"linecolor\":\"white\",\"minorgridcolor\":\"white\",\"startlinecolor\":\"#2a3f5f\"},\"type\":\"carpet\"}],\"table\":[{\"cells\":{\"fill\":{\"color\":\"#EBF0F8\"},\"line\":{\"color\":\"white\"}},\"header\":{\"fill\":{\"color\":\"#C8D4E3\"},\"line\":{\"color\":\"white\"}},\"type\":\"table\"}],\"barpolar\":[{\"marker\":{\"line\":{\"color\":\"#E5ECF6\",\"width\":0.5},\"pattern\":{\"fillmode\":\"overlay\",\"size\":10,\"solidity\":0.2}},\"type\":\"barpolar\"}],\"pie\":[{\"automargin\":true,\"type\":\"pie\"}]},\"layout\":{\"autotypenumbers\":\"strict\",\"colorway\":[\"#636efa\",\"#EF553B\",\"#00cc96\",\"#ab63fa\",\"#FFA15A\",\"#19d3f3\",\"#FF6692\",\"#B6E880\",\"#FF97FF\",\"#FECB52\"],\"font\":{\"color\":\"#2a3f5f\"},\"hovermode\":\"closest\",\"hoverlabel\":{\"align\":\"left\"},\"paper_bgcolor\":\"white\",\"plot_bgcolor\":\"#E5ECF6\",\"polar\":{\"bgcolor\":\"#E5ECF6\",\"angularaxis\":{\"gridcolor\":\"white\",\"linecolor\":\"white\",\"ticks\":\"\"},\"radialaxis\":{\"gridcolor\":\"white\",\"linecolor\":\"white\",\"ticks\":\"\"}},\"ternary\":{\"bgcolor\":\"#E5ECF6\",\"aaxis\":{\"gridcolor\":\"white\",\"linecolor\":\"white\",\"ticks\":\"\"},\"baxis\":{\"gridcolor\":\"white\",\"linecolor\":\"white\",\"ticks\":\"\"},\"caxis\":{\"gridcolor\":\"white\",\"linecolor\":\"white\",\"ticks\":\"\"}},\"coloraxis\":{\"colorbar\":{\"outlinewidth\":0,\"ticks\":\"\"}},\"colorscale\":{\"sequential\":[[0.0,\"#0d0887\"],[0.1111111111111111,\"#46039f\"],[0.2222222222222222,\"#7201a8\"],[0.3333333333333333,\"#9c179e\"],[0.4444444444444444,\"#bd3786\"],[0.5555555555555556,\"#d8576b\"],[0.6666666666666666,\"#ed7953\"],[0.7777777777777778,\"#fb9f3a\"],[0.8888888888888888,\"#fdca26\"],[1.0,\"#f0f921\"]],\"sequentialminus\":[[0.0,\"#0d0887\"],[0.1111111111111111,\"#46039f\"],[0.2222222222222222,\"#7201a8\"],[0.3333333333333333,\"#9c179e\"],[0.4444444444444444,\"#bd3786\"],[0.5555555555555556,\"#d8576b\"],[0.6666666666666666,\"#ed7953\"],[0.7777777777777778,\"#fb9f3a\"],[0.8888888888888888,\"#fdca26\"],[1.0,\"#f0f921\"]],\"diverging\":[[0,\"#8e0152\"],[0.1,\"#c51b7d\"],[0.2,\"#de77ae\"],[0.3,\"#f1b6da\"],[0.4,\"#fde0ef\"],[0.5,\"#f7f7f7\"],[0.6,\"#e6f5d0\"],[0.7,\"#b8e186\"],[0.8,\"#7fbc41\"],[0.9,\"#4d9221\"],[1,\"#276419\"]]},\"xaxis\":{\"gridcolor\":\"white\",\"linecolor\":\"white\",\"ticks\":\"\",\"title\":{\"standoff\":15},\"zerolinecolor\":\"white\",\"automargin\":true,\"zerolinewidth\":2},\"yaxis\":{\"gridcolor\":\"white\",\"linecolor\":\"white\",\"ticks\":\"\",\"title\":{\"standoff\":15},\"zerolinecolor\":\"white\",\"automargin\":true,\"zerolinewidth\":2},\"scene\":{\"xaxis\":{\"backgroundcolor\":\"#E5ECF6\",\"gridcolor\":\"white\",\"linecolor\":\"white\",\"showbackground\":true,\"ticks\":\"\",\"zerolinecolor\":\"white\",\"gridwidth\":2},\"yaxis\":{\"backgroundcolor\":\"#E5ECF6\",\"gridcolor\":\"white\",\"linecolor\":\"white\",\"showbackground\":true,\"ticks\":\"\",\"zerolinecolor\":\"white\",\"gridwidth\":2},\"zaxis\":{\"backgroundcolor\":\"#E5ECF6\",\"gridcolor\":\"white\",\"linecolor\":\"white\",\"showbackground\":true,\"ticks\":\"\",\"zerolinecolor\":\"white\",\"gridwidth\":2}},\"shapedefaults\":{\"line\":{\"color\":\"#2a3f5f\"}},\"annotationdefaults\":{\"arrowcolor\":\"#2a3f5f\",\"arrowhead\":0,\"arrowwidth\":1},\"geo\":{\"bgcolor\":\"white\",\"landcolor\":\"#E5ECF6\",\"subunitcolor\":\"white\",\"showland\":true,\"showlakes\":true,\"lakecolor\":\"white\"},\"title\":{\"x\":0.05},\"mapbox\":{\"style\":\"light\"}}},\"xaxis\":{\"anchor\":\"y\",\"domain\":[0.0,1.0],\"title\":{\"text\":\"Label\"}},\"yaxis\":{\"anchor\":\"x\",\"domain\":[0.0,1.0],\"title\":{\"text\":\"Count\"}},\"legend\":{\"tracegroupgap\":0},\"title\":{\"text\":\"Label Categories\"},\"barmode\":\"relative\"},                        {\"responsive\": true}                    ).then(function(){\n",
              "                            \n",
              "var gd = document.getElementById('8b3a60c5-7a72-4500-be18-1cd4d06888f3');\n",
              "var x = new MutationObserver(function (mutations, observer) {{\n",
              "        var display = window.getComputedStyle(gd).display;\n",
              "        if (!display || display === 'none') {{\n",
              "            console.log([gd, 'removed!']);\n",
              "            Plotly.purge(gd);\n",
              "            observer.disconnect();\n",
              "        }}\n",
              "}});\n",
              "\n",
              "// Listen for the removal of the full notebook cells\n",
              "var notebookContainer = gd.closest('#notebook-container');\n",
              "if (notebookContainer) {{\n",
              "    x.observe(notebookContainer, {childList: true});\n",
              "}}\n",
              "\n",
              "// Listen for the clearing of the current output cell\n",
              "var outputEl = gd.closest('.output');\n",
              "if (outputEl) {{\n",
              "    x.observe(outputEl, {childList: true});\n",
              "}}\n",
              "\n",
              "                        })                };                            </script>        </div>\n",
              "</body>\n",
              "</html>"
            ]
          },
          "metadata": {}
        }
      ]
    },
    {
      "cell_type": "markdown",
      "source": [
        "#### Check if some images cannot be open by the image processing algorithms"
      ],
      "metadata": {
        "id": "8id4w9S8g9Kn"
      }
    },
    {
      "cell_type": "code",
      "source": [
        "corrupted_img = list()\n",
        "path = Path(imgs_path).rglob(\"*.jpg\")\n",
        "for img_dir in path:\n",
        "    try:\n",
        "      image = cv2.imread(str(img_dir))\n",
        "      # Perform operations on the image\n",
        "    except cv2.error as e:\n",
        "        corrupted_img.append(str(img_dir))\n",
        "\n",
        "# Drop the corrupted images from the dataset\n",
        "df_images = df_images[~df_images['image'].isin(corrupted_img)]"
      ],
      "metadata": {
        "id": "CWwCsYEBd_I7"
      },
      "execution_count": 11,
      "outputs": []
    },
    {
      "cell_type": "code",
      "source": [
        "image"
      ],
      "metadata": {
        "id": "Cocdm3YUiDNd",
        "outputId": "e10f59ac-990e-4a4d-bdfd-69543b71da52",
        "colab": {
          "base_uri": "https://localhost:8080/",
          "height": 573
        }
      },
      "execution_count": 14,
      "outputs": [
        {
          "output_type": "execute_result",
          "data": {
            "text/plain": [
              "array([[[184, 208, 220],\n",
              "        [184, 208, 220],\n",
              "        [184, 208, 220],\n",
              "        ...,\n",
              "        [178, 197, 210],\n",
              "        [178, 197, 210],\n",
              "        [178, 197, 210]],\n",
              "\n",
              "       [[184, 208, 220],\n",
              "        [184, 208, 220],\n",
              "        [184, 208, 220],\n",
              "        ...,\n",
              "        [178, 197, 210],\n",
              "        [178, 197, 210],\n",
              "        [178, 197, 210]],\n",
              "\n",
              "       [[185, 209, 221],\n",
              "        [185, 209, 221],\n",
              "        [184, 208, 220],\n",
              "        ...,\n",
              "        [179, 198, 211],\n",
              "        [179, 198, 211],\n",
              "        [179, 198, 211]],\n",
              "\n",
              "       ...,\n",
              "\n",
              "       [[221, 231, 248],\n",
              "        [208, 219, 233],\n",
              "        [216, 227, 241],\n",
              "        ...,\n",
              "        [200, 217, 230],\n",
              "        [199, 216, 229],\n",
              "        [198, 215, 228]],\n",
              "\n",
              "       [[217, 227, 244],\n",
              "        [221, 232, 246],\n",
              "        [204, 215, 229],\n",
              "        ...,\n",
              "        [200, 217, 230],\n",
              "        [199, 216, 229],\n",
              "        [198, 215, 228]],\n",
              "\n",
              "       [[210, 220, 237],\n",
              "        [208, 219, 233],\n",
              "        [163, 174, 188],\n",
              "        ...,\n",
              "        [200, 217, 230],\n",
              "        [199, 216, 229],\n",
              "        [198, 215, 228]]], dtype=uint8)"
            ],
            "text/html": [
              "<style>\n",
              "      .ndarray_repr .ndarray_raw_data {\n",
              "        display: none;\n",
              "      }\n",
              "      .ndarray_repr.show_array .ndarray_raw_data {\n",
              "        display: block;\n",
              "      }\n",
              "      .ndarray_repr.show_array .ndarray_image_preview {\n",
              "        display: none;\n",
              "      }\n",
              "      </style>\n",
              "      <div id=\"id-12635440-0426-41e8-9fa9-4e0726621f9b\" class=\"ndarray_repr\"><pre>ndarray (533, 400, 3) <button style=\"padding: 0 2px;\">show data</button></pre><img src=\"data:image/png;base64,iVBORw0KGgoAAAANSUhEUgAAAZAAAAIVCAIAAABwSD5tAAEAAElEQVR4nOz9d7AdR5YfDJ6TWf665w08CAIgYUgC9K5B32ST096MVaunFTEjab6R9N9ubHzfRmyENkLaL3a1Wn0ajT5JY75Rz3Q3bbPpQNskSBAkARAA4b15D89ff2+5zNw/8t56datu3ffuw6NpxXcCqKhXtyrNyZO/PHny5El89dMzAAAAQojgCgCEEGhHGrZ/zjlHRHkvb+Q1SCeSfntCQRFr9Uo2mzUM48CBA5988snmzZt/+MMfnD17jhBCCCkUCiMjI47jnD179q677hq/Mtk2pSCjcGGC59hKwU8BBZ84jmOapq7rjDHHcRhjhBBKqed5Q0NDly5devXVV2dnZ2+//fZt27YRQnzO25YniZ9tmdaBkhjIm/lGEozwP7jhCeVUEtqLMRYvJCKy5mthxsaLMV/fzgIQo4CfkfIk8UFmF3+ZUtr2uZLQLmEK56VQCgCu6zLGVFX1ff/SpUtnzpwpl8t/+qd/OjDQf/r0GcuyACCfz2d7sh5jLnMZY4ioKAoiMsYYY7I8caJsATmJVKF9KwIgYtAowZMO0tVWfjg2smg0rhAAQAQAAPO8bDZrV6q2bafTad/3fdfN9faev3zprXfeyefz999//44dO+r1erlcTqVSvu8nZd0VYQSwgptuASvCGlgqYBmaVq2VCSGmac7NzZ09e7ZarWaz2UceeWRubm5ubm54eLhcLvu+v3bt2tOnT2dSPZ3Ls0jAEqGOFwYsAJASBgCGYUjksm1bVdWjR4+eOHGCELJp06YNGzboum7btkiQiSRZ+ZwAK0gnif9JgKUmdGzJgXj6IqFjJNb3ywAsaPIh/pwuxPAICc4VRRFCeJ5HKUXEQqEwNTV17tw527a/9a1v3XLL5sOHTwPAqlWrLly6QFVVkDaYnlT+3wrAEkLoqjozM9PX22uo2sTERCaTSZnmydOnn//1ixs2bty2bdvo6CghxHVdznkSmCyBlKCBAybKmwV7ThItsuMlke/7qqp6nlev13t6em688cbjx48fPnx4ZGRk06ZNnPN6vY6ImqZJXiwtF0kRoQmjFTR5omlapVKhlGYyGdd1JyYmNE0bHh7evXv31NSUYRjbtm1bv3697/vVahUAiKJcS5GukZK0m0X29g4UiEQgKpFcIhpWYiLdZrwkCkoYqWnS885Jhf/0GVNVlRDi+75Usnp6ekzTVBRlz549u3fvzmaz11133aVLly5cuGBYhu26cmbAOfd9XwihKIqiKEkax5I7zudEsj+QlhEdAKBarfb19bmOU61Wh4eHPc/b88EHH+z7cP369TfffPOGDRscxymXy5qmqapq27ayTP0CXzt0NigZhEQ5CRRVaM/QsFYSv8bTTyiO8BzHShkSmDRNMwxjcnLy9OnTV65cufvuu+++++5Lly7V6/W+vr6ZmZlsNuu77RNcUMOKX9tOCSmliqLUarVarTYwMJDL5U6cOPHuu+96nrdp06Ybb7wxl8tVq9VqtUoIMQyjw4jXqeLXrGFF6htPKoJWiSN8K6OCm/DY0FLUpuYSnxKGs5iXq87Vi1GShpVEcQ1LXuNTQnldzJQwzEnOmKZpQgjbtn3fVxSFUio10Lm5ubfeesuyrB//+MeZTObUqVP9g/3Veh0oAADnXPKQUkopDTTWMBEAwttPFQP6IjUsAGAgeEgvFkLqi2DqerVadWx7aGjIs53nnnvu7Nmzt95x++NPPGG7rmSONBNJE8qyTQl3Hz4HyQ0cJ2WhkWmRg3zCx4J5nmFqQoharSaEME0TER3H2bt375UrV77zne+sX7/+0qVL6XQaET3Pg4QGXgxgRV6IaFjyoRwVNU3Tdb1cLp8/f/78+fNzc3MPPvjg4OCgaZqVSsVxHMuyDMMQQtiuuwCDkqq+HIC1SLTqkA4J/Rp5uf3sNQGwwlm3yFWXGsTSACv+ftLUuHN52gy9QiAi59zzvKCTM8YURdF1/fTp0x9++GFPT8+3vvWtDRvWXxkfd33fZ66UIqlqda4FFe01kaTx5vMGLF/M819ClUxTUxTGWDaTOX369PPPPw8ATz7+xLabb6rbdrla5ZwbhsEYq1arlNJsNluv15Oy7ooagAXJDRyhzoCVhFbx9BO+F4amuZ4tGziwhhBC6vX6Bx98MD4+/r3vfW/Dhg1jY2PpdLparRJQ26bUGbAg1qUJIW01LERUFMUwjHw+//777x89evT666//+te/nk6nS6WSnC1alqWqKuecMZYkQIvsadcCWG0BJSy1i2mCoNUjL7fVmhFRtOYS6RVhfn4xgCXbMf6J1IPaPE8uT1DZFrWRcyEED5VKmjhVVa3Varlcbnx8/O23306lUo8//viGjRvy+bzt2Y7jCCEopXJuKJdu2mb6FQesIEFNUTzPO3b06AcffGCa5lNPPXXDDTdMTU2VKxWiKNK6JwFaCOH7/nJNdecBCxanYVHeydjZ9iaeeHJxhKFpjlv3fT9oXQleEqR/+ctf5nK5J598UlEUz/MQkfudpqiQDFgRCoa+SMvpuq6q6rFjx9577z1d1x944IE1a9bMzs5KQxshxLIsRVFs2/Y8DwBUXe9cnkWWM4m6BT7eZYdPWiVsr14lG92DzyOYtZgpWJiSACuJUeEpYfgmotosqGGFx8swYHHGgrFBzvLkn5TSSqWi67qcDL799tvZbPbJ33myv7/fZa7neVKM4yWM0FcNsGQFw1nL6aFt2/v27du/f/+OHTt++MMfOo5z+vTpoaEhqqpCCMdxfN/XNM2yLMZYpVLRNC0p664IXz9yPmlEavvBIgErzppFAhbzPEUllNKwNACAtBAVCoWnn346lUr95Cc/0TTt8uXLhpZqm1IHIGhbhrCGFa6UpmlvvvnmsWPH1q9ff9dddw0ODrqu6ziOXMeU01UhhGwPx3GSjO5fDGDFRwspiPGOmkRas/xtP2mTfvOduIYlYgSLsxmFaWmAFX9/yVPCCGZxxgJEdl1XDlqapjmOQyl1XVdqUrOzs6dOnRobu/LP/uyfc+SMMSk2nPPORvevGmCFbW1hwPrLv/xLy7LuvPPO7du3Sz5IK02xXIbmMO84jpwSptNpd6mmkmi9Ag0rUtAkyU6aEi4oQBFqvwyPggAAzvexoBiqqubz+aGhofHx8VdeeWV4ePjxxx9XVbVUqGaz2Vqt5rpuLpfzPK9arUpcb5uv1KEIIdIpRq71CCEqlcrAwAAhpFKpIGIwxftP/+k/rVu3bsuWLStXrtQ0TRabEJIE0EtbtoxPuJLKn0SBUTlCqqpCiJkLIle3gNJ5ChxpRCFEt1PCpPST+JMkb4kazeLKM4+DCQOAlCWJX7qu+75/+fLlixcvnLtw/g//6Pc3b948MTHhOI6mafV63XVdwzBkH5YrjLLPI6JC9EjKnccY3s3L4bpErnLWFmCxZC8hBIWQawuyU1BKDxw48PTTT994440PPPDAxs2bC4VCoVBIpVKqqpZKJdM0wyVZTHk6FLLN8whgLTh1+rIAq1araZqGiKlUamJi4pVXXrEs60/+5E/mZopy0VSCjmEY6XTa87wkgdY0TernEIJmIUQul5ubm5NTPJnRp59++vzzzz/00EP9/f3Dw8PpdBoA5IeEkCS/pC8LsCJ+RsGN5Ix854sELIj1InntdpXwqwBYLep5AmBJ19CGFqkoiFgqlebmZk+cOlmtle+777677rprcnIyn8/39vZKrwjpfSpHGokXmqYFq95dARYsGiCSBtparZbJZOSCuOu6Ept839dVVf7a29vruu4vf/nLs2fPPvzwwxs3bszlclRV5YKgHODr9bphGF2Vf8FyRp9LwIqUHjs4ti00JVzk824By7bt/v7+yclJXddHRkbefvvtffv2bdu27ZtPfWdubs7zPLnYHCBRUr7SLhYsMEtdKeA1IlqWNTMz89JLL01MTNxzzz1bt25VVVV6kciVWrlM2y1gLTjXi7yz5KEp8mF8BOos2WqCKSCJWEI6YT09nHW3jqNJ/ExywfucNKz5dBIAK1BDpGBIqzNj/uzs7Cf7PyqVSvfff//dd99t2/bk5KQ0IEiLRyCQhBBVVV2XR1LuLAki1FUXg1lJgKUoiuM4rutKTQoRPc9jnmfoOqV0aGjo5MmTzzzzjKIoX9u1q7e3d826dYVCoV6vq6pKVEVOU1RVFT6Ll2QJwpzUjkrcKtHZmLJMxv6uKZPJVCoVqTzPzc3dc8896XT6pZdeyqZ777jjjmw2Oz09bRiGYRhy5S7JBuc4jqqqckAIDIrS7oCI6XT64MGDzz//fG9v7/e///1Vq1ZJ91TbtqVTSdid5ytFSTgV/3Ux0HnthDH348afXxLruq1126lGh3ZXFCUwg8p1Q2mrWr16taYr77zzzjvvvJNOp7dv355Op4vFouSPlDqpBcu9X4jtV707F1U0DYhiIZfvJMFQFKVUKjHGMpmMEKJQKBBCBvv7i4XCqtEV+/bt+/Wvf93T0/PEE0+sW7/e87zJyUm5Nqrrust8OctJp9O2XwuXJChYt5VKIiVSjfhNjL4cgRNCzMzMDA4OplKpyclJVVVvvvlm3/dffOFlRVHuu+++dDp99erV3t7egYGBQqGQlI4cxxDRdV3XdaUxCwAGBgamp6efffbZS5cuPfzww9u2bQO5KtTENelBKoVyCR72i2mza4GVpL4Uf97ZRtm1bH3FAKhrYFpE+ovRXIJlImhq8b7vM+YzxnRdf/DBB48fP/7SSy9NTk7u2rUrlUoVCgVp85KLy8HEUNocu6UIZi0hhenpacuypPG3WCwyxlKplGVZdr3+zDPPHDhwYOPGjY98/TGpGUirSyqVMlIW51z4HqVUINbrddKULux+U8FiSIEE3apbgfi8lY56vT4wMICI+XweACqVihDi5ptvrlWc119/vVarffvb3/Z9v1QqZTKZDtuXApsi51xVVdM05Vz95MmTL7zwAiHkO9/5ztq1a+XnhULBsix5H3Yq8TxPT3Bf+LIoohFEtPFuBqTloSSj+5ekoCfXd6EpbWd8D5OcFkk7gxQwQtBxHEVVcrkcpbRarX7yySeI+OCDD+ZyObmIJpV3XdeDsXMJ9RKxrXWd34d2KCy3uxUKBV3X161bV61WDx8+/NmRI2dOnrr99tsff/xxX/BKpWKaZqlU0nUdEWu1muM4iqJkMhmPsVqtltL0oAyL0fiSKNHGusiZ4JdOiNjT0zM3NyfNlqZpyt0w3/zmN8+ePbt///7rrrtu48aNQgjpJJWUDmPM8zwpWIZhyBXo8fHxX/3qVw8++OD1118vpU2iUjqdFk2SIrg09QoWYmx83rG0/aKBlATiGBboxdgol0sA4gb+RndaltSTqduBdkENa5EjcdghSz6hlGqaqlKq6UqxWDQ07Wv33bdv374jhw5ZhrFp0yZVVVOmiUJ4nicYo4pCKV3a7thrn4LlcjnXdWu1GgAYhlGr1U6ePHlw//7JsfEf/9EfrV67tlgsZjIZy7IKxWJfX1+pUnEcx2U+5xwpZULIuW1SkZaL8K3PLnAAisjlFkdEAsABFELkk/AVAKRRLU7ddoDE6AIoADkIIoAFV0BOUKnVKwSVTDZFULGdmuAofT0sy/rlL56+cPH8H//kp5tv2HT+3IVMNu3YLqAAgS1XAN/3JRZQSjVNKxQK+/fv//jjj7/1rW8NDAwMDAwwxur1uqrruqrW6/XwHFCKo1S1pCYfL3+SvCXZ1MLcC187v98hnQgFwBcAlrx2jtawePKS3UegnYa1XG4NSfK2YBif6PMkYzylcWbKjKG1RvNFbS7IyNFOUZRUKsU5m8vPmJpppIx6pV6ulccuje3/dP+3f+fbfYN9vdlel7l21fa4R4FyAEASSXmBDp8QPij5dRJvGikntVrNNM3e3t7p6el9+/adPn2a+/6/+pf/spQvACXyBU3TdMOoVCqKpiEiKlSa523XVQjRdR15+4GqW0rEk/eOXeYIRIAgSARwBArIEYBx+Tx87UBJHSBpSpJUIM55G6BJuBIUAKBQBEGef+HZ6anZ3/v9H61Zve7qxJhppHzmOrY3MNg3Mz3n+c7G6zefP3+eMa6qajabRcTDhw/v3bs3k83u2rUr19vbUoyF6psEKGFDPoTgrOuO1OXUO1CsZAGC17SEWUYAwZGrXFsIChyklrSCie38vzqUM0lOkvjT7UC44PNI8TBWWvmmNIQn1SuODgGLJOvCLPV8VzBBFKIQpe7U87P5Qqmw9/29j3790W1btimaAhwKpUK9Wk9nMtIBVZpZbdu2bVs6drWNRwYxd5Z4CSNkmqY0UaXTaRkQybZtaK47ydgkH3/88eHDhzdv3vyDH/xAWmDCJNsv0o5Bf0nq4EnxyESr7h88DMtDS4d679jlcDvBQiNwEi0nYC2eUHDX03SlXq+bpvnmm29OTEz8+Mc/lgsxUhvK5/MrV67knB89enTTpk3M4aqqVu36Rx99dOjQoeuuu+7e++7r6emp1GrzZQjJPE2YNHQALAhNiILG+IIBK3iepDEtCFjBXDIiQJG+2i1gdQtAXxZgxR1xIdSs8XSCb8Pck9fAG0ZRFM55rVar1+tnzpy5ePHiLbfcsmvXrkqlks/n0+m0NNUHO6t1Xdd1XfrcyPJEACvcTG2vcbJtO5fLyTXBWq0ml/kQ0XGcwcHBCxcu/OxnP5ubm/vjP/7ju++++/jx44ZltU2nK7cSkRBAEUL4EJY3SN4T+lsPWF7dTqVNqYoXi8WXX365Uqn8yZ/8iWEY4+PjcoonzU8zMzPr1q2zK87Fixd/s+c9zvmjjz66du3aQrEIMK9aQytgKQkBC5MAKyzfQZUjY0hLDZbJZtQWsBAxyRE0CbCSBCgicPPC1PragoDVLTB9RQAL2tY9klSTjfHZ97zjOKJsI9/3P/7448uXL2/btu2+++4zTXNmZsZ1XdM0pcFB+t+Ypum6brFYtJrAEccs6AawUqlUuVyu1WrShhtYnUzTfPXVV19//fUNGzb83u/9Xi6Xm5mZ6evrCw/kYUpKP4ntSfwXC2lYUSZ/1QBrkYxoEApkPJU2XdedmpravHnzqVOn/uqv/mr79u3f+c53stnsxMSEDGU1ODi4YcO6I0eOHT5w5PDhwxs2bXzsscdUVa1UKkhIpVLRm1sKoBWwVJKwp7IjYEUqvgTASuJDB2N8RB2QiSfZjDoAVrxIQggp2XFgCm8N6dxVgiJ1KM/iqVug7xawwh2mAxzEP4xcA4QK4tYiotx+6Hneb37zm3Pnzj3wwAP33HOP3CQceJkLIeSGjcC/FNr1o24BSxrXpPRKnsuyvf3220ePHr355pu/+c1vCiGmpqZ0XaeUduu4C61Ns2A5IdY7JMPjQPEV1bC6BSxDURWVTExM5HI5WYZ6vf4f/sN/GB0d/Zf/8l8KIWZnZ0dHRxljp0+ffu2116rF2qOPPrpq7Rq5m3p6erpWr2/atGl6dna+LtcGWJAsx21qsNSO1zbrMFrJl5PgLQmwwqmFHwZbfGQWwcw3spcNFmrBJMDtdivSFwBYbSsViX4R3ITrFSmb/FMuPQczbrk3AxEPHjx4+PDhHTt2fP3rX1dVdXp6WkaCk/supEkrlUrVmppOvCtBN4Dluq5c+67X6xKSTp06tX///rNnz/70pz9ds2bN+Ph4Op22LEs6YCeF/F6wn0bUzCS1FDoCVnxg+MoBVneEgnCBREgP+FKpNDw8bBjG+++///zzz69fv/7HP/7xyMjIqVOnDh8+/Nlnn/X39z/+yBNCiN6BfumtOzAwkOvpuXTpkpVOz9flGqaE0NokndGqw0/dPo/bzuQ1aRUsCbAwYZd/ZNUsmHhGWj08bCbUuD11K29LNtIvErDalr+ttgUhG02cgqib4c+heVCAZVnVavWjjz66cOHC5s2b77333hUrVkxNTUkLbODrJ/fNdCje4gErlUrNzc0BQE9PT7lcPnz48KlTp2q12h/+4R+Wy+VcLqeqarFY7O3tzWQyly9fDveLeI5JFJ8Xh+se6SBtAatt1eB/AMDirgfIh4aGzp07l0ql+vv7z507t2XLlhMnTvzH//gfd+zYsX79+rffflsIcffdd995552E01QqVbXrnufJtnFcd2RkZLmM7kHtwu3RqQYJv3bW4OIUCSMzn3VCuywIWBF5CoffCZYO5VDYVb2SqNu9gUnPP1fAgpiGFXy44FQdQ6uHACAN8LOzs6ZpGoaxZ8+eU6dObd68+YEHHpDmqnK5LLUwALBtW27iiZcwCaqS+CCXHWV0uXffffejjz7asGHDk08+SSnt6+tzHEeat2q1Gud8ZGSkVKkkVSrp+fxgGQKjpDBH4ZdhIbQSQvzWA5YC6DO3XC4PDg7atl0qlYaGhvL5/IoVK15//fXnnnvONM0bbrjhoYceuuuuOw4ePJQxs77vE1WRG5gppYBo27YSCjAWBqwk54bPG7CSnJ6T+BwRiPl8uwQsua0kUv7AWhyg1fw77Tpqhyp3EPS2z78swEr6M2lKGJaHcGoy9FUQIjmw5cvlQsuydF13HMfzvHPnzr333ntbt269//77r7tu/cTE5NTUVCqVkm6c4fSvBbBk+NzTp0+/9dZbpVLpzjvvvO2222SAprm5OUTMZrPS6i8LiV0OnCIW+BCbM+LwhxFBTdKw4nVRwu+FbxZjVAszLinIf1vddQkkRxs5zktHFd/363ZNVVRFUaTju67r2WzWcZwVK1acO3fu/fff13U9l8utXr36xhtvLBRK6XTaUA3P8+quIzd5UUp9xjRNu5YoC22/igt6W74tOJIvksI2prAGlLRKGNcIwu0eKX+4MAGEyT87O462zbdt7wpyjPTDJP50awuLlCdIlnRs37hGEJQfW324wwMAhHqdDHoVlDbgpAwAKffVy6SGhoaeeOKJX/ziF9lsVlGUnp6eDRs2TE9Pz83N9fb2ymgiMkagdJKQm6Wlx1a8l3HODcPwPM+2bU3TTNP0fb9er2cymQ8//PCNN94wTfPb3/725s2bq9Xq9PS0dHOFZgCloJC84wAQV0TCZQio7QtxJgdpyvA7kbwkLXHv0hdPiqLI45Vs265Wq0IITdNUTSmXy6pGM5mMbdsyCB8AHD58+B/+4R8ymcyTTz5pWdZLL71k2/Y//+c/HRsbsyvOwMCAmU7VajUZB1Ie3NRWU1hG+rz5FvTw5VFdP0/C1o1mIrawHX7ziy9eZ0pib9sBaTFtIeuuKIqMj/Td73735ZdfvnDhwh/+4R/KHYg9PT2ccxnLVOq/0DzMSUY6hRCyB+hgGEapVAKAvr4+Sqm0Ww0NDf3yl7/88MMPt2zZ8qMf/UhV1fHxcdM0TdMMdm58wSRi23c68y0RsBaUlc4KwrITIsqQjIgo1St5Y/T2UgXz+bzrukNDQ/V6/a233nr77be3bt364IMPrly50vO8q1evHj16dPfud++7777L568QQsqVitwqKAErlUrVbDuUVyjf5d799vnx7SsFVQtOhCPaU9JErFtGdTtVXDJFZitBnIbFFzjomfIrqUD19/ffdtttx48ff/bZZx966KE1a9aUy2UZyVM09+sFThJxd/CA5N5+ufnM9/3169dfuXLl3/7bfzs9Pf29733vpptuqlQqALBy5UrG2NTUlBly6/kiSQ6xkSlhBx4u8XTD+KTm8+4tMhaiXFiRJ1+7rlutVpnjKipJpVIDAwOnT59+8cUXbdv+wQ9+sH37dsuyCoVCPp9/+OGHOed/8Rd/oWnarTffVq1WZWsNDAxQSj3fX65THhekxUwGl0aBbrXIhvjSlZc4JMUtCV96IZMoPquVGlYQJmRBJSuw3TRMRc1d06VS6dFHH02n02+99RYAfOMb3+jp6ZHhXOTpAVJW5SkPgVoXt8F5nidDUWaz2TVr1rz++uuvvfZab2/vH/zBH9x6662+78/OzqZSqUqlYtt2T09PUsz1z7sBkjSspKafN7p3SxGRWrzZb2kk9zkHcR0bhkzgGdNi3Ovp6dm/f/8vf/nL66677tvf/raiKNls9vz589lsVsYYEkLs3r37xIkTf/LTP123bh0qtFQqyb07jusiYjhy5mJWCZdMi+yK3fbVsJkpzPluNxt3S0k2rESB62jLCJs8kuaJnanDlK3t886GgLgNK8keHKj/Ul2K9Is4yfhZkSMeZCFlMLwLFy588sknw8PDDz/88OjoaL1el7Fc5GRQfoLtTv+VJKeBg4ODmqa9/PLLb7755qZNm5566qmtW7cePnzYMIyVK1fOzMxUq9VMJhNEBGjDt4786WzDCt+0BQpItu0m5rg0wIqb3MKrVJ8HYPm+bxiGPKBQhuAxTVPTVbtS1Q31r//6rw8fPvyTn/xkx44dly9fljFFZRCyvr6+c+fOmabZ19f3V3/1V/npwne+852777urWrXHx8ctyzItq1KphDve5wdYcb51GIG7SjnJ2PyVBazIjexygXsXhpYmuyrPFwNYEQkPsGaRaAWxczCDdRK5yy+dTququn///gMHDoyOjt59992bN2+WcUSq1SpjTNM0CVvhRVsI8S2VStm2XSwWX3rppX379n3zm9/87ne/Oz097ThOcKQN5zyXywkhZEy+9nzryJlrB6y2CvVSpoSLVwG+GL1drhrItpGrHoyx6enpmYnJ//C//ft169b963/9rymlly9fHhoaQsTZ2dnBwcF8Po+IlmVNT08TQp588snnn35h7969HGHr1q3ZbBaa5vxuO163HSmpo35Z9IXZejrk3lZJj7/Wlr4sg10ShIWhajE4y5rHhQUTSalrOI6zatUqeUbv9u3bAeDYsWMffPCBYRjDw8PZbFYIUWn6RkkzVlu+SYH/u7/7uwsXLvz5n//5DTfccObMmdWrV09PT+dyuXw+7zjO8PBwqVQqlUpr167tEKT3c6Uwvi/GxJSoYS0SsILXOmhY8TA1SdfO2VFKpXqVzWYNwzh79uynBw7sfv21n/zxj++87S6XOcIHj7tu3TNSuu8wQXjKSM8VZ/ty/YpOz546t2rVKgD49//u36m68U//6Z+uW7duenracT3PdwlSjoII5K3xs7r1qO7MrjjflkvDSloGTtKwlguwlqBhxdFKdlohhAzaCc3m7tDzu33eScNKDmEkeONXAVzKQ2fH0XCzduakxJqgjoGGRQipVqtyiiCEoJSePXv29ddfX7t27a233rpp0ybP88rlsjwYxXVdSgjnjHPBOQNApEiQEooHD3z64q9/NTgw9Lu/96MVoysd1waB5XLZsizXdVOplBAin89blpXJZAqFQqLfX0L5l0vDajt0BTO2OOGe41c6sLXNB634t6B8C4LxQIDBtSkSjSsAIBcqpXI7u5z3Mcaq1aphGPV6XT7J5/OfffbZsWPH5ubm/uzP/kwQoEAEASKQAUcODDgRKJ8HMIQcBHDPcQ1T+89/+V+ogv/iz/9Vb19ucmLaMDXX8etuLWNlqUbmZguqRtOpbLVaJdhdQLuAzYucmQdz+DBjO3CVJivPYVtG8GskUGK8JBEESeqQnQEiSCQogAjZTdtyIA7c8cIviNqLl8NEv7ZmwMjIlfntngMgtI8/FS5q+L6zX1h4vJdPeAjIZJwZeSrdCy+8kMlkdu3addNNN5VKJcdxpO+hQtBnLkGFC19wVA316vjkJ/s/+mjfJw8+tOuuu+81Lb1Wd6mCCNS2bVVpfwJz26lZuEaR9o182JYPi6EwcoVzD5+TGH55ic5HiyxWYAzii75Kz2BKqZyvTU5OlsvlgYGBUqkklwKLxeJbb731zjvvDA4O/ot/8S8EIgIBQghSeZVPBCII5ADhe4HY29tbLpe//4PvAsB/+a//mTE2umK4Vqv1D/T25noq1VKtUh3o7yWAc7PTKctYGn+6ZVS39HlMiJY3zc4V76B/LebzZSNsVhn5oq64KG/esHGqU+atGCf/jDhGSPBSVXXXrl29vb1vv/32hx9+ODo6nMvlxsfHVVWplstEAPddjSqptHn+7NnXdr/y6aef/vBH37/tttt6erNCCJ+5vu8z7mHnWUzHEn5htADTutWwkgJrtSWOgNipkSMjFQEwVA2FqNVqtm1ns9m+vr5yuTw2NrZ58+ZarXbo0KG9e/dyzu+4444bb7xR0zTbdeMwLJpLxdHnwIXnO27dsqzLly/v3r17xYoV/+gf/aOhob7jx09nMhnpmAqhSUq3nh+ysnEVN/H9LjUs0nF22a2GFX+Y1LgdNKzO5Y8P2m3LnxT4sDNdq4YlAaudhCYe1CoUiMktJDfxgjsWsHWlj7QyMyBVVScmJvbu3es4zmOPPbZly5ZareY4NhXCthuB2I+fOvnss89SVf393//9devWAYDre7VazWNMGmoBgPvdmXoWbN9FaliLxO7gJmzjCyeC758Y61yBtkkvUlCkhtUVYHHPV5onccl4QIZhZDKZarX6q1/96siRI1u2bHnggQfkzkHXdQMP9UjBkgCrUiiall4oFK6//vpjx4797Gc/u/fee//gD/6gWCyWy2U5t5+dnc1kMtlsdmpqStPaR1xMrHIro6AjWsGSAKtt4ti6aTl4mARYbdV+6B6w4nWMd+NrmRJ2zvfzA6xEoOELb0ELFyayZQda+RwBJoDGmnR4ohRcGWOFQuHjjz++evXqI488smvXrkqlrACMjV3WNO3jjz/++dO/vP3223/y058CgIx97PoepZSqapBOZ8BKEtqk9o3fdAtYSXK4zIDVtsRxWgJg1SvVkaEhAJiZmaGUDg4OOo5z6dKlf/iHf8hms7fccssdd9xhWdbExITv+4ODg+VqNV4AbLfhQwKWisR2aqqqzs3NDQwMXLly5cUXX9ywYcO/+lf/dHa2Ojk5iYiWZckDuDOZTL3e3ZaFsIYFye03//6SACueRbeAFY4F3pYWD1jdaliRh501rN8WwEraIxnRUOaBI+R/BCHMwvA9IjbdFBRFmZubk8cJv/XWW8VicdeuXXfeecfVy5c1Tfn7v//7Y8eO/cE/+qNbb711cnpank3nuq5AMAwDCHFdV3qKEWh/oFTbIRCSNazlAqwkOeStobqDRPCDk+NtE0qitnLZGbO6AiyVUHnwkQyC4TjOBx988M477/T39z/xxBM33XRTPp/P5/PZbFbTtHw+r+p6hyE9DljIOFUQEWdmZjRN6+vrO3jw4CuvvPLQQw/97u/+wLa906dPr1q1qlarjY2NrVu3rlKx25Y8sb4JukwSi7oFLGxnHA2UkW4BC5IFrivAive9OAegVZoXqWF1nlJ9NQErqEiYDxGZDHNbhAhDyUY+8X3fcRyJWW+++ebMzMw999ydMc1f//pXqqp+5zvf2bBpY61WqzuO7/uWZXHOkRJKqc95EC4iScNqK7RBMdpia/Bn+GbBETop30g6IhT1IZz10rfmiMWeg9bJsC9iV03TLl+82Nvbe/31648ePfF3f/d3tVrtgQceePzxx6enp8+ePWuaZk9Pj4wnq+s6NB3wgoIFvTd4AiFu+r5PFbVara5bt25sbOzKlSt33XVXuVx+5ZVXVq5cuXPnzqGhIdu2hRC5XK5SqXR7dHjAiLaaxXKRCG0bhpBwL57CbRdBim7TCd/E5WExaNW2VEsrz3JRoqaw6BQiuCNaj1wTsVXUxn2rJ02QiOd5mUxG+jQMDQ3dfffdb7755gsvvAC+v2PHzY8++ujIyMjU7Awi5nI5GZhBRnTwPI8DUEplCMbFVLlt60Tat1uB6RwvDBYth9e6h24JRe9AREAxn5cGxZ///On9+/fncrmvf/3rN91006VLlwzDCKBKCKHrumEYru+L0OGmgQodzIGD5wAgQIyMjFy4eG5kZEQGRRseHp6dnb3nnnsA4Gc/+1mhUPjud79x+fJ0sVgcGRmZm5tTlCUeHb5MLFmAlgBVAS1X28UlO55s50JGxr/FfPJVpriGJVonVh0ofESYTEfKdiqVyufz0sG9XC4PDw9v3rz5gw/eH+jp2bp166ZNm+TBUb7vywOGFUVRFIUJ7rquBEHGmG3butreJtuhYItp3wUpcQDo8rDVxU4JI4pZ/BoEGFtwUiNJbgmU8XrkAR6e51UqlVUrVly5cmXPnj3Hjh3buHHjU089NTo6OjExESlGcOMnqO7tA+yhIFwIYKKVAEBV1ffee+/gwYPf+ta37r///unpabnbq1aLrkLKPyUgQutwhMlLokkMidgyAkpapVJaFxmScglPPUTsKB1sHtIbeSeh7NA5xzAHwtOitip9t+c5dhakuLAlvS9iIQGEEALmvRba1i7MH5ly0pSq2z4cFx55oyqKVItYc2lPAo0QQgaT6enp8Tzv6aefPnTo0I4dt+RSqTNnTt17771PPfVUqVopFAq6aUrPUsYYB6EoCjQPA8aFjO5xitiY2k5cwr+GjeVhAUg6BScpIGLQL4ItBPLPxWpYi1QmF0/Bodi9vb0ylJVlWddff/1v3n77tddec133Rz/60f333zc9PXPq1CnLsj6/gAqyV9Rqta1bt1qW9fbbbyPi17++68KFiWq1mk73yJNLEFHuVsVmiI9wCteSe1fvxwdtSRGjb/BCBJeDT2SNROu8vkMrL5fH/+dKHQoTR9XQJy1zt+D9gCFhBsIy7S2ND73yRobok2hFKQ2QS4brGxwcnJycfOGFF2ZmZp544oktW24E3wfgH330EQA8/uQ3LMu6ePmyjFTDOfc5E0JIA1Yzo6WUPy4bEXyJAFkSLV5awppmOM1OewmXRRaTZq6aoui6XqvV8rOzg4ODG9avP3HixAvPPXfkyJH777//zjvvTKfTFy5cRMT+/v7IvvZIObsqjxACMKowIqKu60KInTt3jo2N/frXvx4dHb3hhk2XL48JIWS4WKmNL7JhlkBL4HYYNCOGjyR5Ch6GI4supq2vHZTFNcxe45RUwaSKhOU+XJ7w+2F+Bm0dDt8KAHKDTofyLI2CstXrdRkLV9M013XluG6apjwe4uDBgy+//DIiyrgL5XJJp/TOO+8sl8vvvvuumU7dfffdAwMDMv4yNANeB4kvoZCR8SwM4pG6R1TjeFKdZTJC8ZDQjfukKWHbSi44gsVLkwRYlmXNzc0RQvr7+6vV6oEDBz777LNisfjggw9u2rRpYGBgbm6uUCgYhiFPJZIREePjEksoUnuNAAWyhr9yIIIBo13XlfuznnnmmXq9/md/9mdr1qy8dGlSBuS3LEvTNBnWppMFMaFPLnK1CxZqTtoKtcG9VPpE7Kj6ltqHVGvRGnu7Q9ka+SbELI9MjSMsjSQuWo8gD1O3U8IknErcM9i616+RHQrO5/3Xw3nJ9yOxEAAaq4SLpyTeBvyM9HDf82TUIzkxRETLsqSfzcsvv7x///4bb7zxkUcekeehWpbp1mq5XGZubu7999+/PD62c+fOrz3wQH9///j4OABwEJxzgRgkSLH91pwkSpoSJm3hCvfQcNWS8CHpRrq5BjSffhJghQua1AHC1C1gzczMrFmzZmCg98KFyy+//PKxY8euv/76Xbt2bd68eWJCzsXSuq7X63V5tGTSQZLdxWJvBazgsRCiXq+PjIxcvHhxcHCwXC7/7d/+bV9f3z/+x//YMNLS7V7OBLHpAZ8U7LFbG1b41/g1TmrIVhh+kzTtFJEjJESrO08gPWE/l8UAVnCQauTawS0jkn4YieLULWAl2T46aFjQKqWc87BbQ4SfwTtR81+XC+tJAE1abZFBwQgi57xer8uIuNJilc/nZR/ZtWvX97///UKhMDk5mU6nPc/VCGHMy2QytVrtvQ/eP3PmzNbt2x955BEZ5apm12u1mkCUW6kdx1kaYEE7PrflPGlnY43IQNuWiqSmNQ+FibzWBWBFv0zQ/RYJWIqi6Lp+9OjR3bt327b9ta997eabb0ZE27ZTqZQ8aEiqPEHcH1hWwIoUWFVVeQKS53lDQ0Nnzpx57rnnBgcH/+iPfqLrevhUXqnLhBsgfJNUnsTd5yGzLrTKQVtSEtpFtFI4fRKiyLgSAEqQSFIH63B0e1vAaouGInlWeI2ANc//xZ1I3KwGR0TA+ayD2sm4ERKwwoxKAqykeiXxs632gYie68oCyLlFrVY7fPjwwYMHXdd98MEHb7/99mKxODY2NjQ0lE6nL1++lEulFIVUKhXTNKmm7tmz5/jJkxs3bvz+979PKbVdp1gs2q4rD3BhjHWrIcYPl4nfhP/sXN/4JwFF0pTKQTydBWxYHSTmGimXy/3sZz/74IMPNm/e/O1vf3vVqlXSGXdwcHBmZsZ13UwmI4+ZlMFeg4Mkl50kXwzDmJycXL16da1Wk6feP/LII2+//fZbb7110003rV27VgaQwKZ2LTWaCGxBu5ZYPLUdGCIUNqmEsSPiKQ6xGVlc3wmDwoINnQSLi9HOMGQHWZgLi6a23aZDLYIyhCrAETGyaizf9JvuMqKpODQmccvUHYJFD2hFZ2lwSKVSuq5PTEycOHHi0qVLhJDf+73fW7NmzdWrV2dnZ9esWeM4zsWLF1euXFEpFBRFI4RUKpW+wYGdO3cCIVeuXPnggw/WrFkzNDKcTqehVhPNgxFFgg2uM2FsfSbpeWRUiKSzYBtF+BNOExdcJYwLcZLYLQHX/s2/+TflcvnWW2994oknVq5cOT4+Xq1WBwcHx8bGenp65EGPlUolOClneWRdoEAABOREEC6vRFBB+NXxybXr1xXnSkRFhWoTU5Pbt92sqcZf/uVfaqqyauVKyzQc2yYEEcBnHqUUCTTjJTUCkCzkFxBlUeAWL+b/CQw5J0ZGKxQAjCEAcOAgGj2qFUcab7ayS7Z6WMOKT5EWbMEwQHQFWLB8azjxwrTLLDmyFQAKBCGCfxx8gQBccBDABRMN3A80LNHUFhsQLxsxFDFtYWpfHhF6QhpXgEwmI4fD2dnZTz755MSJE1u3bn3qqadmZmYmJycJIb29vaVSSW7SKBSKPdnsxUvnhwZH+oess2fOK7py+2139vX1vfbq6/fed3eup6+vv4dQzXZqvse7cHtNKH8g8wikTb0i3y1iFEySHylgcXHtemtO0hQPEWUce8MwAEAeGBEs/8sjjIQQiqKcOHHilVdeMU1z165dO3fuFELk83kAkGu3RIkelRgZhSLXJI5Eht+WdJoRssJX5MBjzwHF9NWJv//v/8c999z3u7/7Qw5kZnaqWCinsilC1bpdVVRD1Wi95vjC1xWdMSZ4lEUcG7YeQB7ZacgRGJdxugQiUjk98Rlwbtu2oWmGrimEMOajEJRSjaozUzOrV6y8OjntM1Z3nVQmMz07a5omE1xG+0ZE2acIofJcOXkelAyxhM0ZYmQRIwCgJJtFEkUgMkiwg3G9zdSso+AmpRMu9vwNZ4AckAJyLogAJjgCclMzq7Vyf2/fxfPn161eA5yXy+VMJjOVn6OqamgaB/Bdt1qvN44O0FQAEE12SfCSQbcBAAShChJUAADlzJEJREQx7zQkJ5ucM0COQJEIBCrvAbllpmfnpk0jZaWMYqEMyFNWxrZtSpXh4eHTp0+/8MILtm0//vjjN910k7SiJvOzUQohwOc+Z4ILNjsz9/Y7bw30D/7u7/1odGT0ytiVes22LEvu7yGEGIYhhKjX64iYSqWSDqFIihcmuUpQCeolOAIAFy2Nu+A1MlUMbpL89ZYNsOQZjaqq1ut127ZVVdV1XXYMGaZahuJ78cUXT5w4cfvtt99xxx25XA4RS6WSlANVVV3XFSFU/rwAq+P7LZVFQRk/ffL4Sy+99ODDD3/jG98oFApmOlWp1YQQtut4jMnOZqZSlNJKuaYSJcwiDo2BXQghgAV/Br8KJEgUioRzznyHMaYQVAgxVK1UKji1ejad7uvJ2rZ95syZ82cvfPzBhw8/9Mitt98+W8jbtqdaJgcAgpzPAxZwAQAKUqAEEKUdMACsYFYbV+BFyAbx2w1YBBvsbZLvuplU2q5XmeutXrly/MrYyePHV69du2rN6nK1WiyUam6dcFQMVVN1VIjg4Pqu47iM+ZQqumWkDEvRNBmeWDTNW4QQjWqKovgeawtYQnDAln288jo3N7du3bpisVgsFgcHB+VmmtWrV+ua9fOf/3zv3r2bNm36xje+sXr16tnZ2cnJyd7e3rZ8YCF+yiJJ3VCa7ffv3+/7/ve///2tW9eNjxdnZmYsy5KeqL7vy1Dj0sYfWZVrUPJeS0mR6F1CCM6paNd/40+WBljL5o2p63pwJLdUsmzbdhwHEeUOmFOnTj377LOWZf34xz8eGRmRoC4BXnoMSHYjpQESzevhydb9L4C2b99eKJU++uijbDb72BOPFgrler2u67ps+0qtBgDAud/sG2we1TkAgGgoWYByMtLcM4VCCIEU67UK931d19OmpRBSr1ZqpbKvqxSwN5fTFDI+Pv7xRx+9+OKLH77/YcZKa5p26+23+4wJIhj3qKpW61VDtwTKgIVAkACADK0U79IdFPXlmXd/2YRApQu7CBFjvqardh0opdVa5W//j7959513BgYG1l133fabb7rt1tvXrl5VKZZn8rNOra5bRr1uK7pqGoaqpQQHx3PmZmcc101lM9LtAAnIaTkTggAI4EIAggABKGgAWAgCMQrrALBu3bqrV6/6vt/b2yuEkL5Xs7OzLzz/N5TSRx999MYbb8xms+Pj457nSVfE9pWNNZn0vbIsS1XVLVu2fPrppy+++KLnPX7jjRsJIZOTk5qmWZYlMVc6pnboSogICVIRRmFodtikxZDFlHwxtGwalmmahUJBGsgDq5PkmuM477333oEDBzZu3PjAAw/09/fbtp3P5wkhuq7rug4AcoYid5bLBDtoRoup6nJpWE65kk1bPX19L7zwwsT01BNPPDE0NJTOZq9evWqlU4joeZ7r+57nCUTTSPmO18okLmPsSKmVelbzhgshmM9N09RV1bbtarnsea5pGJmUVa9Wcz0Zp1b/4P33n3/22U8++URBMjQ0VC5XV61e+2d//ucDg0NUVYmuVWpV23VTVgYp1eSUEAgBCOYyUsMKln0xRmEmJI14C/L5q6NhIaIgHABY4JUG3HdchdKUpnPmOXX7f/rn/3xifJxS6vhOT0/P6rVrt2zZsmXLltWrV6fSaUJI3XVEcxooNw+rqkoUrVqrIVWkFzECEUJwBpxzReoakrswD1gEQcb5jDBc0zS5u0M6efb19U1PT7/66qvViv21r31t586d8owVzrlhGJFmauFDq2ExvNhaLpd7e3vz+fxbb70lhHjqqafuvPOWyclCuVyW6hUAyE0/uq4nRbOQtWjzS2t1gkxdt80CiEh2A4o/7KxhLRtgBZnJENRypSOVSh06dOjgwYNjY2M7d+588MEHOeezs7PZbLaxyCqXcj3P8zxd19PptFRY4r0lIuXzFVhI0K8RsITnKwSKxeLAwMCHH3+0b9++7//wh1/72h0XL04yxqr1GiFEN81qter7/uDAcLFUa1gfW8PvIkorQytmCaERrNfrvufpup7LZDRNdW27Xq1OT06985u3Xn355YsXL+QymYGBARSiXC4rqlmqVB79+te/9/0fqLrOCE5OTff297u+T1RFpzqllBCqIKGUqpTK5a0AsKB12SUucx0Y2JlvXxHAAmk1RxBCMGBCCC6YEMLU9GIxrxOaTadfeObZv/3r/5ZJpRRFuTJ22bCswByxevXqO+64Y9u2bbm+Xk3TVE2TQQ4kbHEEIJrPuRCCUio3xnuuL8O5AEADqqAxUaKISYBVq9WkfV0eXrd3796jR48ODQ09/NBjcmeFnMVLTsqNge3508rGgF3Sci/nesVicc+ePZzzp5566rbbbi4UqpOTk5VKRYbGlJGzkgCLENIBsKDVLycALIhhVpLCkdRPP/cpYbValVHYfd9PpVKapl25cuXo0aMnTpwwDON73/vetm3bxsbGOOcrV66UbiNymi31LDklrFarsJADzhdMhmEwz2GMeZxt37794sWLu3fvVhTlttt21utO9UrNdd1sNuvrum3bcj9EgwS2mKsaQ58QQi5TyfNa0DQMYIwjSaUsU1WmJif3f/zJZ0cPv7F7N/Nc33VzqZSKpFoqIEotjXHOjx8/Pjs3oxvWXLlULJWprpdrVVVVdc1UVVWhqqYoqqpqVDF1PY4dmBAn6yvC82WkBhpy4XmORhW3Xtd6c7tffZkSmJudJQRvvGHTXH42n88LIQzTnJ0af+YXP/tv/7V83333jY6OXrfx+rVr1/b29qqq6nMOXBipjO0x33V93wfOBRIk83tLsdGRBQhAIByFSgBYFK0QcWBgQAYdKZVKR48ePXDgwKpVq5566ikERZ4YKGd2wd7VDlvTIuO3zEJal6RxJpfL7dix4/Tp088991y1Wt2+ffvmzdeNjU3Nzc1J06fjOO1tWAvxNsg9MvCIVnvOMsrVsmlYQYQwRVE8z5ucnDxx4sT58+e3bNnyjW98g3N+5syZ0dFRGTy/Wq2mUik5+EtlGwAcx6nX64ZlQbJKGX4uWle1IrRcGhYB9D27v7//4sWLqVSKAzz77LOu6/7BH/zBddddV6/Xp2dnTNP0PK9YLJpWhnEyv76LAgAIcAiiL8gnyOW5QcAFMr8vlwWAkydPvvPWW+9/8N6Vi5cc1zY0TVVVTVGpIh2HpJpGHJ8TTXd9/8mnnrp+0w2Tc7NGKk0UhQMqmmbolmEYmqobmqZrpqYoKVOX4EWbxkE5VQw83eN206Sbznz7imhYAuZNCr7wOefAmRCiUilZhqYhmZ2d/p//L/9XQ1OqxQoKVqmVTNPUTVMI4TiO53lIqaqqly9fNlNWX1/fyMjIqjVrNm3atGnTpsHRFdOFMtV0XdWAIPcZF0gpVRVNtq/AUGgBQZAIKkJL8iHMkpaTUqn09ttvnz59+sknn9y1a9elS5dch5mmiYjSqpVKpWq12szMTJLRHUKnhAUNIalWq8lwTFevXk2lUtVq9Z133nFdd9euXffee69laVNTc8ViUbZIYnSTBA0LYoqSbBHGEj3joVVI5DVpx8LnPiWUmqdhGLquf/rpp3v27Ont7ZVbbS5cuKCq6uDgYKVSqVQq6XQ6nU7PzMyk02lFUYIDuHVdp5TKc+4igAUhzRO+WMCSx1agEIZlTU5OSo++v/mbvzEM44/+6I/WrVszNnbVdV0Ogvss19NXKFYbc5IQWhF5biAKFCDXjIL0y7Oz506d2Lt336FDByfGx13PURRFIVRRFNLYMsJRiIZIEVJz3N7+wYuXL2/cfMPvfOfb5bqzbsOGcxcuGlZK0TTTSJmmaeimYRimZuqqamiKBKyGx0NznV6KacT9vQPfkui3ArAAuKmrnmNbuv7v/93/+53X33Bsuz+bIygAWeBsRQiRW0F9wVVV9TyvVqtV63VEzGSzoyMjub6BO+69v29oZHRkhTzgr+44hDS8RqR5MMAsAKCIzeWWqIaVTqfPnDmzd+9eAHj44Yc3bdokVwxz2T5pBQ/Cb8g9IcluBy2AFeTCGJNdknM+ODjouq6MOf7qq68i4pYtWx566KGBgZ4rVyZKpVIul2vvNtERsKB1PthsESXccEHzhXeqXBNgfXh6ou0PSYKrq6rv+57naZqm63q1WrVt2zAM3/dXrFhx+fLlX/3qV2NjY3feeeddd90lw7nGS4mtR9uHbyBhs2UShdsJQoIbfycCWHElrsGRcM9BAZwjEShACCG3j/q+zxh78803Xdf98Y9/vG7dmhMnTqVSKV1V84VyOtdTLBaFQEUhnHNNUTRN8z3XdV1ATgBUTZEnyn126PDhTz999cXnXadu12yARkAIzjlnLiEERWODLgWUK1NAqCu4qupzxUIm23v73XcNr1wliJLrHxBICCGqZqZSKdOwVFVVVV1XVEMhKqWapsnEA3gKx8MKzwrDbAwIQoIVfnmeT7GHSQDUNv0OgBVvrGCgCv4MW5qlNKJCPM/jwqeUCua7rs19N5eyZien/u//y/9t/NLlnmwGOOe+p1CAkD9lcApBMNmRu+sZCCLAF1CoOb19/Vu23nTHHXdcd911hmFQqmiGUavVFM0ghLiuj4hy0uC6rqmbmqbV63UAkCFDOecDAwNvvPHG8ePHe3t7n3rqqVWrVp09e7ZWq61fv75SrkM7gIu3VIMzstjh7dkAErDCHAva0XGcN954Y2pq6oEHHti1axelNJ/Py8Ytl8vZbNayrNnZWd/3c7kcEvA8D0k0lBiEtu61opWIBDGOAFZEDCB5YAsM3NFrt4Dluy6lVG6aKZVKQ0NDPT09U1NTmUzmN7/5zccff9zX1/fwww9v3769XC6fO3ducHAwKGKY3YnLnwmBvpIoCbCwoz9X5/TnH6JAIaROJIQQjEvXDc55oVA4fvx4uVz+J//knwwP9n/66eHh4eFisQhU9Tm3mt6zwAUhxK5XUoaZyaZVSsevjh08ePDDDz/89MDByxcvrl4xxF0vsLMSKpHRVwiRy4gAQAEJBUpUQdBjjKqa7Tiuz9Zv3Hjfrgezff0XLo+tWrNWIFGopmiaqmi6rptmytKNlK4uHrAgJohJgBXBl64AK9KLrgWwwmWTf8ry+4L5vg/IAQUw7vs24Txtmc8/88sXn3u2Uihaps5cT1UwvK8guAufpxmGLQ5opXuuTk5VarXR0dEbb9y6efPm9dddNzI8qpkGVVUQxGU+AChUFUK4rqtQFQDkaZjlcvmGG24olUp/+7d/W61W77vvvptvvlmaxuX0wrZtSjToErAiLRXpCJFfFUWxbfvTTz89evTotm3bfvSjH+Vy+sGDx4eGhmSgAWmtT6fTADCXn02n04EfWdAWImSiiclJ+6gePCFQ5ecOWMzzenp65MpoLpfL5/O1Wm3t2rV/93d/5/v+6OjoTTfdNDQ0VK1WXdeVbmlBmmF2BzWECKDQTo5nbcsZrk/wyYLAFHke+VyE5hfzI4x0FfMZ5zyTyZw4ceLDDz4YHh7+6T/+iaZpBw8eHFm5olguU1WxDNP3/UqlYuiqoWq1enX1ypWHDn76zltv7fto78Vz54vFIiIaupo2TAIhZROFEEIuJwshkDfgklAkSBFRILqur2hauVYXVHnwkce279g5PjHVOzBIqKpohqIomqqbRsqyLEPTDE3pAFgQA6C24g7tVHoIoc/iAStgfljKF6Q4YCWVEyl1XZcLRilFIhj3hc8AfFNVi3PT/4//5X+eujpOOEfBfNc1DR2ah5A3MmreBJjFQplyQJ+BAJS+l9W6ncvlbtm5c+eO27bdfJMAAIFUU03TVDXT9/1KrY5A+vr6KpWKpmn9/f0HDx48cOBAf3//2rVr161bJ3+S0Y3lJLRbwOLtOBkX5uAFxpi0I7///vv5fH7nzp333HPP6OjIuXPn5VIp51wa0RzHEcA1TQtWOcOpRQAryM5fKKJppMU7mA4i1WncdwtYg/39586dU1U1l8vJul28ePH555/P5XI33njj1q1bs9lsuVwulUpSEVvMyNlSjaVOCeNpJmYR+jN4GIzYLQ2MAhHnl6XlU9YweTDGJq9e/fWvf33T1m0//elP5+bmZmdniUblr45j+66by+VSplkpF9964409e97b+957+Xw+l8lmc2ld1xVCyoViYwEbBWOMCwbzag5DIeQG3cDYpCpaqVTSDAspnSuW+oaG79v14A3bts8Vy6puqKqlmUbayFjptK6qiGgZWlvAkjaC+AgWZ05bZIfWXrF4wIqkeS2A1baQHMB1XSGEqikCmOPawvdUipmU9drLv/5v//kvCfiUC+G5CKA0tzSHpyuNSVao+PO/ClQ0g/kN7HZ8z647AkDRtY2bbrxpxy07d9yazeVKpVLVrmcymd6+QaTKzPTs4OBgOp3+4IMPDhw4sGbNmjvuuGPr1q0XL17M5/PpdNo0TWmiSqfTzG9wbwmAFW6LtpgFAFKNkn5F+/btO3DgwLZt237/93+fMeb7fj6fR8R0Ol0ul13XXbFytFKphK2uQVKRJ0FeXvNUvBaUSeieomN8tLafdw1Y1XJZxuiREXZ+85vfHDt2bN26dY899lhgp5RwBgDlcjmIawMxyGifUfdbQzpoWEm1gFZBh9gA0mxhDoQAchk2jwQ5CqjVaplUynXd8+fPv/byK7fffvs/+9N/fPjISSuTmsvPcM5zuVzGSpVKhffe+c2rr/z6xNFjtVpNQcxk0oam1Wo1u1aTDaZpmjR5+L7PmC8ISh7MlwGA0MZCtSqo4NxnXDEs22fTc/k1113/5De/pacyiqIRqiOlGSubzmYNVWfc781laDJgQTu0gphUBdc2U5IuAStibVkyYCWVE4jiurZc4uDCZ9ynIDSFzE1N/q//9v85NzXJXJvZDnCWsSy5nB9sfxMxkAoDGUcgAihQwZiMMMURHNut2bbLfMfxVqxeddP2W7Zs2za6aqVpWYjIBKia1dc/6DjO3r17L1y4sHPnzh07djiO47qurutyJYQ0Tw5mjCE0purXqGFF5DngjwzcZBhGKpUaHx8/ePDg9PR0KpX6Z//snymKMj09XalUUqmUNNf29OZqtVoAWOGekdS/Aj+sSJkjq/yRfpfU4vH7rgFLU5RSqdTf35/P55977rmxsbFdu3bdc889lFIZ+5w3D0GTO5Xk6kM8tQi+BL9ix/g7bcsZsCZ4IpKnhEmABTFuCiEAhUCUxnKIOLC7nu/70ifz0IGD+/fvv23nzu9+7ztXJ67ohoaIp06efOmllz756MP87Kxr16USpVJKQLiu67l1goqu647nKYoqJ2iM+ZxzQYSEFenxKIQAbASNpIjgsJ5stliqeIKncr3Tc/mq427YeOMTv/MtK53RdINx1FQzm82mrDQSyKbSVME4YCVFboiwuqVp2r2fFKcsSRDDxuDFUxywklLwOTDGPM8RwHVd101F+J5jV3759//9r//rf1m/epVdLTvVikqgP5ur1WpIFwCsoLISsOxSNZVKGYbhel61WnV930ylrXTadr3JqSnX9a+7/vq77713+y039/b2AhCGis/Enj17pqamHn300a1bt9ZqNUVR8vl8Lpezmk480unE9/0l2LCgdRiItGYEs6SVxrZtqXPYtn306NFDhw7dcMMN991334YNG2q1mnQQk4NleJVQPosMORGSgBUudniADHexyFDXtsXj9107jgohhoaG9uzZ8957723YsOGHP/xhT0+P3Gfjui6lNJVKyYiuMr6VjJXetjNAU7HHdqaQts87UDiL8AiDi3Ngi3v6IiI0TbINQwYAAJBmXpRSCliYnbv/3ntRiBdeeGHlqhV33XXb08/8/Omnnz5x7FixWNRVxdA033PNTIYiAmNc+LpCUmaW+dx1XYUQIThjPshpCCXy5FmOggsQAAK5EILI+SiAoVLu2gpFztCu1TRVdTz/5IkTPX0D6zduWn/dhpSVoUiQC4qodfQGFDE3vw4saotWS6BuoapbkjZjSikgMQyDC+/MmTOfHTn4xhtvSLEkhGhUAWCu67atRXwNnze30xGAkaGBerVampshitKTyymqWqvWZyYmzExmYKAPBBbzsy+9+OKBAwfuv//+2+64s1KpPPPs85lM5sknn8xmsxMTE3LpfPXq1fl8fnZ2Np1Oa5pWq9VEcxNuVyRNGeEliM4NFERqkgiiadr69etzudzLL78svbjXrVsnhCiXy0IIATLNFpRpC1gR/SBegLYvdBCGeIdt1K5bDQs4f+655yYnJ3ft2nXrrbcKIer1ulQQZMAKuUnFMAw5Zwy7L4Sv8QqIz21KGE6By8C4AgXw4AoomM8jcX/kPQeQO2nkkcsSrRCEU68P9vVPXr1KCWYymXq1evDgwf/63/533VAunj/nOG5PT06llDGmKlQhpCZjQqKoV6vcZ5quUqK4vkcI4cFRs1RqPdLSDz7nKIQvfCKIIIKgohLRY6bmZmbMVIZq2vjEJEOazvaW6055avqm+7724EOPrli5RlFUXdfTqaxuGKqhokI0TTc0VaHqvNG9NZQtCU0x4nGO4lGQGvzpXsPyPC8xmlJyfKX2GpaM29NqNQfOVVX1mcs8n1Acvzr2wnPPPP/Mz51K+dZbd16+cK43nWGO7fsO+kzTNE4UARjOjYfkaj5gGUEigCIyx00bBlJq23bNdrk8nUTTPMaZtGyC8FwfEPv7+/uHR2cLxTvvvX/Llq3pdFqhas22EagMzyB13kbLKzK6njD0FHSjYRFKRRDNKxapKvxccAAAmS8iSn96edaG4zhnzpzZv3//8PDwt771rbVr1xaLRbnNkDM/CCnDGXBknIEAFgk4g6QRz8v12h/zJY0eIkadR742uPHJ2SlpbxNN3zmZhOu66XS6cfiirlNKS6VSsVh8+umnN2/evGPHjhUrVggh5IxPns4QZmVQDp6QfbdD9ILGuQg2RRB6HrMEkywWDd8aFo/yI68gCBPCSqenpqay6bSu6/m5acswU5YxfuVyytQ1Si1D1xQycfXq+++//8bu1w4fPtzT04MEsBExoTk/bRoXEZE0hi0mOApov98iYB3FRmQuQQAEEhQqAVlo3xeuz5hAQApUqdlueS4/tGb9t7/z3dtvuwMRBdJcf3+FeVY2lUplCAoEqqsqpZQIIAIJAAKVzdBkLmfABWkT/0ihWpu4SNA6j2rXLhESwBvC3WwFyQcZUymePglNxEUToUDKZ8ZijM3m8wQgk8spKq1XKzqSUnEuk0n3ZLPvv//+f/7Lvzh+7LOh/gHPtRE4YVwwJpiPzcOQGReSz5FN4ZGtMLzJItIqVIHfAyWqtNMHOgjn3BMi3de364GHdt56OwhardlWKmelM5yBaVlCAKVE0zRFwSAKTdrIhAddqS2G+1QYvDiCSIhXxRm0kXMABBIUkoei11JKjx8/vnfv3v7+/t/93d+9/vp1V69O16pVXVFdzxEcVE0hSG3PYYwjAiEUQE4COAuAEgASdlAEZwKIVr85uVUzIIgBCERtWCfHg0YKG8YURSkUCogoreaI+Nlnn7388svf+ta3ent7BwYGDMOQSCdNhoEnbhywIqixvIAVx+AOL0hH0HAM70h54ulUa05PX3+9WnHqdcvU67WKYP76tavtalVTsTiX37dv78u/euHjjz/mvjswMMBCgg+hISW89zjcQmTBMKVhfqJQkQByLgTzRXNUp5xQzoTrsXKllsrkHnzgoSd/53dWrFg5VciLtGVlM5ZuyH3/6VRK+KJcKObSWQCgQAkibZYWgHvcl6EOIpR4LmRCjPCkzbQAEDfidqg+CTkizgMWckJItVrlglnptKnrlVqtVC76rj2Uza5cMTw5cfXv//7vf/X88zOTUynL0DQNmAcAhHHf90XDVYoSSuWiRlwjSATchOWIYECSf8o+yYTgiupysXXLtse+/uSaNdfNzOarNTfX228aFhBUFEXXNV1XCEEAQCIUqhPJpObSsASs8EwiwAJBgINo64me5EFOQA2jhmjOgSzLKhaLV65cOXLkCCHke9/73vbt1584fqEv1+PU69Jc6/p+vV4XBOUR09A0+bMw0LQeejLfjgl+W4sBrDDh3hNjcqjBpo+/rInjOKZpCiEURZmYmHjttdfK5fIjjzyyZcsW+Zp0+JZdMQC7eH6sHVp1KFASLUZ1hHby1JI1CsFYAFhtyxMpJ+NYr9fTlqVpml2v6pqiUlKYm0mb5v5PPnznzbeOHfusWiwwxigKQghv7tSPIGDQE4JcJKFIVLIi+j8iAgoFEIngHDnnrs8CwDJ0s1Su5gsl4GxgZOXO22772v27Nm7bUhdcqEoum02n067j2bVaysqMDg2Xi0UAoEAQkTTDoSARru+27QDLBViIGF4m561nTySmH44ujY29mYigKApHsGvVuuOk0+nhgb5KIb//ow+ff+6ZPXv2eLYzODhICeTz+d5sWgghAYv7HgAolCIhiCQMWAG3kwAroLg8h5u4gQUAts+LlaphmFu23rRj5x1r115npXJE0RgHKnchaqpuqKqmSMcxCiq0opW8CQIuBg4uMjcmooeqxIsXlvYAsMJoFegoiqIcOXLkvffeW7ly5Te/+c3rN2yYmZxybZsxpmkaUup5nuN7wQAcByzSZAWJnXgSLk8AT3JO2gVgfXxmcp6/TbTC5rlAuq4fOXLk9ddfHx4e/sY3vjE8PFwqlSKjovwqsBdG8ltMfKvFUGIFElYb29+g4L4fTMTCX8VPB5HXlJW5cOFCb2/vQH9vIT8rmH/pwoVfv/jC3Mz02MXzly5e5L7X25NNpVIUBWPMbTrpBCWMN0O4hTprWBHMkhoWEiEEYYx5jHPOBVKBqOlWoVhUFM200nNzhXq1eusdd33j29/acusOn3NCiGma6VRG13VgIOUPAKiMGQEUAAiiQM7llDlGSXu7ugUsueoU50MiYIlWzbpRNuG6rmkYnudVqmVN0+Qu38LczLO/+Pn7e949cfyoYRgZK2XbNiXQ19Nbr5WJAMFYAFgy8g4hNLwUGO9j7QvVTkOP6GgAwITwOZiZdKVUm5yeHV2x5uFHHtu69WYgVNEMRdMUVSUUFEVRDU3TFUKIoZjYXMMlTcLQsWwkRB0AK9FUIuanZmHO12q1bDYrFxDHxsY++uijdDr93e98Z6C3DziXMZqpqlqW5TK/XC5Lm1QcsKRtNKJeBeWJ820xgNVy//GZScaYnLEHiI6IlNLp6endu3fPzMw89thj27dvl/uh5MEQcvc/tJPLthpWHEG6Bawk6gxY0YcouNyxEfuEJG8JQgG2beuaUiqVXnrxV6+89FKpmC8V8oZCUpZlGbrgvuM4yIWiKKgkHqPUVsNa5JQQWjUsAMo595gML0cEIqCChDAmqvW65/pEVSwzrZrGw1//+q6HHtyyZUu1WrVtd2BgQFHUubm5vr4+AJD2fmmOlfVHAl8pwJpfkWg6l6BopOO7jjSwjgwNVWvlV196+fnnnz98+FOVoqGpiqIwz3McR6HENE3BPeQCeGNKKISQU0JCqGjXNzoDFsSBoB1gAYDXONaC+AwYF2Yqs2bNdavWrLtx+7Z0JmekLAHAAVRD01O6SmhGT5OQhhJOLYZWiJg4JYxDQwMORMv5kgHnhRDpdLpYLHqel8lkLly4cODAAbte/yc/+eORoSEAGB8fL1ermUxGM416vS7bty1gxZVNaJWHMG+TpoTQiiTzI8qHJ8el/5TcFE4p9X3fdd0TJ068/fbb/f39Tz755OjoqIzML4N+SXce0TxZRPoieU0X1whg8dZSLjtgRVgQST8KZMDllDD+U7CZNvoTF55r53I533WeeeaZ//0v/6J09eqq6zdoiuI5dc59Q9VUhfi+79kOY4yoSqT7ycYLN0a4hRajYbWILAhKAYAKIVyf8ebpB4qqI1WqlXqhVNQ0LZvr9Txvbno2NdB/5913P/nkk9u3byeKYtuOZVk9vf22bQsECNurBAIKVWnfLkk2xM91Ssibhu2QH5xAAAJCCJEyzWw6bdu1Q59++vLLL7/3m99cunSxty/HPM91HUKInMi7jl2rVDIpU+bHGAtsWFRRgHR3Tp+k+AAZ9NIIoziDmmOrimalM7bj5wtFQvXevoGvPfTgilVrhlasoKriCaEaum7puqqm1ZQaRSWEps4SVrLkLwLbDzDthRkAhRJHMQCglJbL5XQ6TQgpFApyU/RH+/YN9vXfumPHli1bAGBmbs5xHI4gw3VBR8BK4lWEIjtMoB1gBQkiohLcySG0XC5PTExMT0+/+eabTz755LZt2wCgWq06jsMY6+3tlcAklbIggw5hoTEUmVe0Ov60fT+JktJvy/1wbUWrPxcSAtimPMHL4a9QABJhey5wdvrkyVdffrlSLq+74QYColQoEBQKwapb9VybMZY2rWw2W6nXwgULjzPY0fEkqXbRciII0XBCCCdOKXWZpxvqoN7vOE6pmFdVdXjFiCD41su/PnLgk+/94AePP/FEX9+A63uF/CxRFMkO0QyrQogi3Tg6B5W9RhJCAMz3pQ661TwFBiwBiIIIIADM95lrj1+e/eijfc8+/fSePXtQiFWrVjiOA4Ap0ySEOLZdKhbTlrlixYrC3AyA3KnZbBc5kETL1lVF2nwVeY5Is6k0Y7xaKArEvlzWY3x2dnLPe+/edPMtVKOZ3h6GyJAJCowxhVGfEKVJjYkfACBCs7RCep8IgQQoodCuK4VH7ojshSUqIHmaTjqdNgyDc+553vDw8COPPPLqSy9/7Pu2bd90003Dw8NTU1OFcilR3W7Hw8bAnDTgLZoagBioZIho2/bk5OSxY8fOnj37J3/yJ/IkG9u26/W6PCeiVqsFiChN9YSQwPLVPpvkvJeFkkaSeI5hSU1KLYopKEr5/JYbNh059Nnf/PV/G7tyaf3aNYKxK5curRgdLpfL9WrdNM3e3l5CiFu38/m8aujQbKQgzWWpZgRbIy/YtZpmGKqmOr7nOkApCu7b9arruiPDQwTwpedfGL9y5cnf+Z1Nm2907Lqq6wIJpRTlrh9CCAFECgsZm5ejIm06eVsuEQCGoqleCSlMBIAAT2fTnx0+9OILL7yxe/fs7OzwQJ+maeVSyff9TDarqrRWqyFif08vEpibm5NudLJhZE7YCljdjiVJX4UFUgihUYX7PnDQVQUVKkAIgilDO3/siGVZIytHiaaColAQghBfUVSh6KSxHbXRKiHjWlgGAACSi9x5dIyr/ISQ9evXT01NTU9Pj4yMAEA+nzdN8/777z9y6ND+/fvT6fTmG2+UWybS6bQ8PagDTzDkipzUvoscwsPVx32nrtZqNXna2ocffrh3794NGzZ897vfTQwY1kwicg2XtQU7ukTWzu4LbUvSVqVsD2TNVcJ4+QkhtVpNxg6VDvq+7/ueaymo6+q////8f1955WXTND3HIfJwCsdBIYAzzjkN+cv4C636ReaqSauESTBHERBRuphy1liu9TlXVV0OIQKR+bzm2J7tuK4nrY1U0QFAIKxas+brT3zjoUceEZRQRdctU1E0x/ccz5PxLYEJ7vvSX3zedyw0X45SV0efN2JRtJmSy8FPhpkO9qJWq1XD0D3fZYwhcOAcOFeQqCr93/79/+/Qp/vPnT6jUGrquuPYjDHTNDkXHmPAmSy2Smnz/FQmIw4zxgAFpVQllBDpjrYUipRfJC3nixbWcUBEZEgEUS5fnbj3aw888o0nXc4YYu/AYLlcHu0b1qgSbKVSVTWIktZgYWhWCChUSpNirgcFCxeVN6MpJIGgaC6+cc5BCApYKZU++eSTWq12/65dN954Y9Wuy6heAOAz5rouby4i+76vNr3GoB0+JLExTsEiA7aa8xTP81atWnX58uXdu3eXy+Unn3xy8+bNcrtTUh7hEiyjrvTlktQZZUtQSqVWTISwTOv9d986e/oUFcyt1ShFTVUrlYpCCF+cmpD0wtKG9PjnKN3Om0QQBQqFoKAoKNEUikBUAhyhbnsXz59/5aVfnzhx4ne+/e2RlSsQMW/nTctaMTzqcTY2NmZqhtwsHajP0tsuvIm9pRhdFltquOGprqxIoVCQO3JzuZzv+7Vazfd9QrBUKqTTloLE93lPTw/z3NdeffXnf//fq+Xy9MSk6zhGOqVSwikFzgVj2EQgTJjbImJ7tb8b6tx2YXWYt04yGvGzBfd8N2UaV8evnD196vobNnsC5mZn5UGnRIA0JWPCCZJL63SS1UnuR2GAm3+fc6duZzKZu++++8CBA7t37+ac33nPXdPTM5VKhTEGiIZhBBEyFCXBAto9hVXLMJgquq4/88wzp0+f3rBhw6OPPtrf3+/7/oIR6eMsizdho82Wp/zLRvEpoSy5DCkbOO7LSGaqqti16u5XXzl35hQh4DqOYaRUSlBwigSxwdGG0suFQNFBlKP6vJTshJeT0mGABBHlSN38GBGB+4ACCaAQFIVCABVChCI497iPBDTDsEwsV6unTx6/cOHC+PjYXffe89BDj4yuWlmuVk+fPplKpUYHh7hcaeDc8zzZYWT0mwX9krqiuBll5cqV+Xy+WCyapil7KSEkZZkpnTLPNQxDMY1jnx351fPPvvvuu7PT0xQQgKfSlqarsuKAwvUcVdGQCwRAeWgNADS2FkSbhoEQUaeJRVFb5T08D4r0MQEgo10HJigE4ntuJqVPjl357NMDq9et1UxrrpDPptOO44Ayr1wEPVZ2yYhatMiiYqs9JA5S0ApYMhfOOSCm0+l6tZrL5bZt25YvFj/44AOgZPPmzUNDQ4VCoVavCyEwFAJENHcIdFXOOEVmWoGeqDz33HMAcPvtt998882ZTGZubs73/b6+Psdx2ia0XOrVV0018zzPMAx5sCs08UtV6cGPPjx+7Jhn1y3LAoVqVHFd17Is5nnYagERIEAIIlpCKUUoYopaGrVV5aQKLZdvEFGlFIVAZK7jA+eu68rJRY5kXN/nQpw5dWpsbOzkiVOPPPro9ltuHujJCiHsWlUzTMaF9AqWgfYRUe5nWHKBwxTRsKDZneSIHSj/UrmzbTutkmwmOzY29uprL7/y0kvnzp1TkGRSFmdMUShF9H3fd11EoSiEMQGcowABidpuRMNackNEpoTBw0i+gTBIG1zjK84F83TD8Jz6xYvnL104t27DRkvVPNshFD0BgYE4WBAMDu6GxfWdSMGw1WgVfieSWpAFIQSEoEgAYHZ2dmRk5PHHH3/11VdfeeUVALjrrjvk2/KQOtKMLBZJBNqN0/HsOjyP8Fnp6enZsmXL+vXrGWPy2B9d1+v1emIQ+IQMwgVqYUrbt788CmtY4TLLPhko4UIIXddrpcIrv37Jd51sJsUYMw1NcL9SLo6OjlaKZSYEk/YvASgHcs4B2rdM27G3QzkX1NSCeySAAOBzFEhAoOCEECSIlCABwZEjMMZsp065j0CQIEWiU9W2q3vfe/fMqZMPPvLwE088sWr16ppdL5TKqqbLJSpp/3Jdt1arSaNSV+Vs+3pwjQiiDNIkb6Q1yrIsleDM+KVjhz/dvXv3hx9+WC6XM9m0IU9kYJwJ7jLmejal1DRNSgjxfN9hyAFBEAQigAgABC53AQesw/letLRxM65bxXUZOR/kIASiAoAEgQtADoxzEERw8N1synLs2rFDh7M9faOjq6r1OtGpIEg5o4ITwQkIAgIEp/IkbwQkKEhjxbDDGBIHo8a9mP818mYYIxoajRCVakWGS65Wqz09PbfffvvBw4f27t2rKMrKlSv7+vqq1Wq+efROOMdr1LDaTkcAQHnqqafm5ubGxsak+UAOa3LrUIeEwklA11L7VaRA1GQXlWbmo0ePfvTRR33ZFADI0zRkIKFAbY6NA4krkGGrDYSlvMsGDYQpLBmBrhc0RMM/k1GfsMDF13ecwMzsCjedyWRTWqlQeOYffv7p/gNPPPHE3ffdr1kZwzSlOc9xHERUFCUS6rqFb116QYimW0MEsOTh6TLH3t5eTdOuXr16/szpd1976cC+vefPn8/lcitHhiuVSrVUTqUtr3FCBw8OBPJ9z3c9FASardDkTOLycUMvXhJ11rCC53Lno0DkICjyBohxToD7rpNOZXjNuXjhwqo1Fwb6B7nv+9RHhYY3+kmtOZgTQQhc+EL9LiIn0Bwx2g6cbdX/TCZTq1Qsy2KMjY+Pj4yM3J/LfvTRR2+88cbtt9++89Zbs9msz3m1WhUyyk0or3DWS4CItkqicuXKlcHBQRnTamZmJpPJyKh7i1TVIqm3Q/TuVMHPm4IpSfBE3suAE77v67ou54O1Wu2dd95xnLpCUrZtqxSBcd9xc+mMW7cbMxfRCDIghJBrYJCgVGLMarM0DSvONyJAToEAgBCByLGx/I9ye61A5gufMYZACSEgkIEwTL1QzGuqnslkajX76JEjlVLp5Okzd3/twdFVq4eGhoQQEpotyzIMI3AMjhe0Qy3ibwNAI9BJa58vlUqqqlqWlU6nHcc5cODASy+99OG77145fnjF6Mh169aWSqXC3JxpmrqmVCsVM5XiwkdUZXRp1/M8zwMhVAYgEClKMxY2ezVpmpOCKWHbmfViq9EOrcI/BT2fo7SUyQ4M8vgl0QyxzT1fUYjj2OfPnu0fHFqxcrXv++hTuZoZrNZJlb/tDK5DCUNa5PzISlr9Itt+G/7QsqxiPk8pNQxDaYZX3rFjx8cff3zhwgXG+ebNm3v7+yml1Wo1fNJE/KZDXklsDGO0LI/S29srPVYsy5JQ5TiOrusdMoik0qE0XzlqPY0ZZEhJQeRALZfDEAEEpwTr9cqhg/t7eno457VaLZ1Oey4TQvT09BSLRUVREVEQ5FzKJVAQcO3rT4upRML6BiIKQaTXg0AOHAFEOp2u2bbje77vEwRCCALhvu+BYxoGItr1uqYqwwN9hdnpXz//3KHDn92764GHHnpoxYoVGiXMdSrMFxzkvEA6x7dm3VXRkYGMSxiK08IFAPRlc4pKOeenjx7dvXv3K6+8cvH8eQpi8w03lgsz+dnZdDqt63qxWOSCpdNpz6l7nFFKiaZxzn3XpYRalmGX6gLnFadA8WxhWjPelhAAS3F0j1WrHZo0nggpYMFDZCCAA0fgQtTtKtUsXaVzE1evXry48boNhboLTPEYUzmnnBOOyAABBG/osnKMbED/fGbR8DLQsKYGQXsaCwwkFDUhbKYIAC54KG1Ys7OzwytGSvlivlQYGBhwPadQLA4ODuzatevdd3/z/vvvc8Huv+9ruZ6s77p1uwYQjaQGornckBzvrC1LI08axXv/xBhAGxVObn4OahIY/zr7Z8UpcSqxkAbXtgLxaxIljh4ynmfzTyYEESgdcyYnxtauXTM5eTWTMnVV+X/9r//mrddeNQihISZgM6YFNm3zvu9zz2cgFGw4LsWD9sdrF9xI21l4Y6YcD5P4Fiz3Bm/Ke6kBSZOWghQVoiAFQjzGOG+UU5IcunVdlyMvQRo0rsRfpOrQyMhdd939tQceuH7DJo/5s3OFdCpjplOKajiux3xBNVWGIVeQyARlZeUaPCHEsizpIyLrIqOREJX4gikq8TzPqdd1Vcmk09z3K/nCytEVU5NX33z99ad//osTx49nU+lsLs1813NriBBwPpglUUoFmVccOPebcYOEEIIiEkXRFIUDyFqHOQYASESjM4ekBUPUtu0i7RLuNeH4WS0yTJTmnxxlUBfG5OTXsCzPZZppmIY1NTOzZs3ab//o95iZLTpuf09/T0+P43iWmerv7wfODVVTVKqrVCEEQTTOGSBEyOggAoMobDKAXzh0nwQIhOimmTBF+tR8xQUH5EQQBowz4MKXV4IKEvHpwcMXL53fccutd993l64Y5UqxWqmn0ubcbMH17KHBEdezy6VqX39PveaEI801onQhIDQ2h0UgKJgUR/ivJPllxGd8v2XKVAKFJ6ocEBrrOCh8v6evz3Ndz6mnBnqPHzt8/sxp4CxsPohYBAJlmyMILlhD+efL4OeTTKLVFtbuDeRSxULpp4kALUOOfKuBuYhAGlMnggQBao7DoD52obZ7bubUsaM337Jzx223rl23wfXcaokLrAGhum6phLp1p1Ip9/T0yPB7hAIlClUQBCEUpqen0xlLUw2fuYTQVNqsVe25mZl0T6rsuLqi9ff2EMR6tYo+y6RTf/tX//XjfXuPHPyU+e7a0WHgzKlWfO6hMu9kFlS/sZjYNAAKIZAjhkQ8HIa0fS+VWo/odKxxB/4v/n0yb6UkQgjBBReEc45ERaBC+MJnBIROSa1UOHfqxPqddxJCbNepO7ZCNQFQr9mKoqiqoLI1UYCQ7v4CALhoWk4FAgKIBj5Bc6VU9tpuTY0NwsaUhCMHAUgEckTCkSPjHgq89bYdpqV//Mk+xr2HH35YnoZdLpf7B3p935+YHM9ms6MrhicnJ+WkDaUXLXKQ15jCviApYZxqO+1MgrDPiZYrl2Spml/ECY8njm339uWqpaIcvffu3XvmzBlVeni3vhkejSEUSaOpH83Pl4Ob5WWdiNnC4n0yyDHQ2uQerEicyXhD53qyQIjjuJOTkxcvXjx05MjHB/ZvuH7z1x97PNfTa6XTTPBauei6WjqVXbFiuFwuIwKg4Aw4sEYP8UU2m0IE2666rqMoqqqmstmUZWn50mxfNiOYqJaKhqYJz333N+++/NKvxi5dvnL5InPcFSNDikILxSLzvGw2a3tOUNqA7QHPwzpXwzk7hlDYdJLolsnhmyC78BMRsgSFXwvzM56mLHOgM0rVTFGUUql06NChwetvUIwM91m9WstmNQBet2umaXKuiobTfEvTx/WIoEgRwesKZyMJhu8D/quqSghZt26dbduHDx+u1WqPP/749devOn78fLFYTKVSciu1jJsg46fH+bZg1hHGtndnb5vi0pSsJbPpc6KwhiVJVoox5jmO9LGam5k5sH+/a9tmJs09P9gxK2LLKIHmEnSYZXJXWpTRPS6X8V8DOJOYFfTqyBQgEMRquUxVVdO0/v5ez/M8jx0/+tmJEycOHTy4/eab777n3g3XbzINy/O8udlJmIVMJgMKEuA+4wohQKhC0OdcU9F2XU0lVirLfX8uPyPPDB8ZHcrPTbuO7zn1Pfv3v/DCC8c++wwF574/OjKUSaXq1crM7BTjfsowCWkYa8IbU8JoJa8B88OglsSWrpqgLWxF3gkKE9Z856+iTZpBstIUIF3ebNseHx8/ferUpu03p6x03XYdp64oCjRxzZNLKO1PUI4WKd7Vl8yH8LcBzgKA53nVajWXy915552MsVOnTlFKH3744XXr1k1MTMzOzvb19THGZmdn5c6/CJIiYtMWl5ijaJ3TAIAiWrtuhylh/OFXmZLaRrTuvA2kxzCMcrlMCUlZmY/3fnD27NlUKiWDE2JzSAxLm2jOTYLRspnawmW4FkoaM+PacaSxwyoJIsoo/tBqOJNyzn3X5b6mGaZlcoG26zmuf/LY4atjl8+cOnXzjh03bb95xaqVpmEJ4MXCjKJrFNAXXCVUNXSVUJf59XKJaqpKaLVWIQJ0TUkbOqC4cPok971Dhw6/+MLzR44cUVU1bZquU0ddVSmxa9XZuRnORE9vjgLOFubC6z+hQraoVwFmQQh54dqENknDigwSYVgU7TTWcIJxUlW1sQmMEF3XHSE+O3R41Zr1wwODtm079bqpmYqhAoDHGKXz2xIR5/t6JKOIJIRBfAl8CCeFoXmJ4zi2bcslqdnZ2dtvv33VqlUvvvji5OTk7//+769fP8oYk7HzZNCqoHXaan9tcwyrTUEBlICbcf5GJCNpkFleWoxmcY0U0ZIAALkwDcOpVXTdIAAf7dtXKZX6e3pr1TIV8/UPJxL4lGNoc2b4tWss8CL5EM4uPvaIkHoFTfVEei2JUFTvgDjnlmHI2vmu7dTqHAGJoqnq5k3Xz84VDh/af+rEsY/2fbBz5847br9rw8aNRKCmU40qju9RQEqFYK7n2hQwm8kC41OzM0RAT3+f79THrlw5cvDAb95648D+TwmFnkzKcW3fqfX19NTr9VK5yDxPUYhmaUIw1/epgrx1028YjsPFDvMh/CZvRtBdWhO0hS1I7i/tGisRtuQeOHmgJyHEMAwQ4urli5cvXhgeHFARmee6nq2ZhqyjLzgXPhMECfLGUqDUU+bbN9zW8Q67IEy0pXiaQgjXdWWQktnZWdkX+vv777333pMnT/7iF7945JFHbrzxuomJfKFQME2zXq8Hp+a0YFZHJzhsN6VtY8OK9+cwrzuEwknKte3zpY17107YdEEWTYMkcgEAcpqNXORn5o5/dlQllPs+RSI4iwyOMp2wa28wKwQA6WQUHxmWq76idbbeYUiXL4d1DWgas2RpsRnITDTXPYmA/OysqirSPEEJUFQ0TaWqNjs5wQRkLIP5/Nypk5NjV04c+WzN+rX3PrCrp7c3l80SSnVNQwK+59WrlWwmM37lcrlUqlSr9Vrt6sTEZ0eOnD55/PLpMwM9udH+XtupO45tqBQA8nMzhmEQ4Jqpa7rqOE65UqKUpjPpaqmC0LJPJaiaCJnkwqwOlhci899u+Ry+aathRVo5Uoy2zREkQgiR/snyvHQAUBSFCkAUZ06eGOjtXbfheqoojuNorksIAQIKp0yIyMYvQohoQekoWi2XnhFOXwhhmqZhGLOzs4g4MjIyMzNTrVa/9rWv9fT07Nmz57XXXtP1bw4PDwNAsN2tLd+SGiYJcBe7Svg/KgkhI1hCtVzJZVN2pTwzPT09OWkZhus4pq7JA+XjX/Fm0MWwrHwxTFukyiBadeTIE1l4iVPzHQlZX18f8z2fMc45IRSAOfW6V6mYpgWc64qipHTGWL1eP33y6Nlzpz7Z/9HI6pVrVq7uG+wf6h/M9uaQQ6la3nrDln/45c9/89Y7HIVKlKuTV8H1+wcHVg4P1cqViu3ohmaqSrVeJxQyqZTruoDC8926XRPAqIKUom3bnHN5YhqGgnlGFMNwrSPNIenau+uCrE7SsCISEZRW7iVoHO6AKL1DPZ/lrNTklUuXL46uX79eN4yq7ThOXVFVRQje9LgNB1lEjAohxHAhKMy11DECwT09PVNTU4qipFKpcrmcSqV6e3svXbo0Ojr60EMPHTx48Lnnnnv88cc3brx+bg4Cv5ZWzlyb0T2Q2vCT8J/xsRquAeC6ZV+c9Rham1vMh40babiJibqu65VKJWtZRw4dqlerw8P945evZEwjSF+KlNRQZOR8aHZ46UjVcE32PameBFIYliTejPIDTfultCXJ14JyBupbtPCtDA93ErkIGPwUZMpbvwqS0jRN5uI4jhzhVVWlKrVtG0STPUwgJYQSU1WBM4oomO/anBBi6hoi+gieY3/y0b5TqWMM+MjgcP/QwOULl8q1yp233XHm/Nl6tcJRUDM1ONAPTFACFEFVab3uViuuqqqWqSGi53lcMFVRqapy4dcdx/d9IZhKUFVVhMaRTlLoZdGkWSSIfIuhpStsekthc220rXA2HzadJAPtu9XaEn4/0mkjvSP4NsiUc04w8MOKzmqDuBRykg4AhqbZvp9Lpc+cPL59+/asEFQ3CCGuZ6uq6vu+53kOIURVBBIilU7aMFpAa4cN++u1q3WUgkXkFoCY3xQgIgc11uv1TCYjf5Mn/tm2rWma4zgrVqxwXfeTTz55++23LctatWqFbdsyBLOcx8jdb0IIzdB91iLhcYGP/LnENa3Pe8j64omAXOwS58+fNzS9XqkamhbfjxIwLuwfANCI2RmceRnHF2jXBkvWyJZFlQugdv6QN9YMsi6w4WcoAAJLkIRIwWXkKcGY8BnzPU1RDF3VFIX5rlOvExSmrh87emRifNxzbYUQBO67rmPXnLo9MzODiH19fX19fbITuq4rQ1/IMFjywOFGTJvWWObhnt+WA9colpHR+hrTSep7nQgFFdyza061cuLYZ5ahI/BavappmseYz2XERjnRFUwIxvFapKhN/iEdrTMlfS6XEVasWHHLLbfUarVf/OIXe/fuW79+FBH7+/vluqHjOIZhmKaZFBKmAy0qSl+YhIguNC5NSpaLy93m3kEfMzStVqkc/+yorqr1WsnUdduuh18Ij2NhBSfo+aIZvyEuRhHxXXLXCjIVIbM6tHaSRSaOTRu8VFUAgDFGgCIRCIQQAoiAKDgIIShtTJ9BNM6IFwACwfe5QggBBM7r1RohhPtMpfTq2DgTXFc1Q9NQgGAMBagKrfvM97nnMddzfN/XdVPTFYHouq58goiKSiilPueMCZQHJyYsugUVCfeiME8iLbUYrgY8jLTgglyN4FQ45chPSUkRAZpCa7btIzl6+NBtd91DTbNqV3v7+4QQPkPGFJ9zn3OFEMFlNFMhlslEFb9vRphok3icOdIwqmlapVIxTfOGG25AxIMHDx48eNAwjK1btxaLRWl9lwZ4x3GE6HrzfyJgLVixa0GrrxSR5kKOaZonjx2dGB9PGTpFpIDAOQVk0DLwtu0AgZTH5T7yWhhullbgOGaFywARYUrIBJvTUjm9lQqOLzgwIIKoRE4FGqGlwuGlWpBCgOd5SKlr257vc9fjnBMAwdDUdSaESqlgnHHOfaYQoihKX1+fEKJSr9VqNUopEGK7bt2u9vf3K1zlAgEFaYZQRTkLgzYLF4F6G5ZDbGe76YqxkZEm3i2TUg4gKTJ+IM7fLwhYAGDquuM4iqoU8jOfHfl0+87bCGKpUtENiyiK36rXN8pzzR5nkTrO38jNBMmAFS4JIkptHQBknOuNGzdalnX69OlXX31V07RUKpXJZDjnQcgTRVGSNIikiixFw4JWtPpqalhLSJ9S+tnhw8z37RrLZkzmuDTkIS1aKZjzR34KLH2B30NkdE0awLuiOPCFc1l8i8jSynDYDZOQ3OrBBSUypirIEZwHyIdIRLM6CApSQhTPdrkQiqIw11dU1XZcjaoeY8CEzz0UApgQnLt1x0dKCEGipLNZuajPOSeqUq07iI3djSCAM0EEEUTuLmmD+21dGeLMiQBQnMJfBTdB+0bSX1BNCz5v2+5th7qW5gBA4CohhmF4XHy098P1m27IDQ5Xq1VF1RshHEAwAVy0DI3Xrj205VJjsFhEF8OmHVCGc3BdN5/Py/Fpw4YNiqL86le/euCBB2655RbHcYrFIgDous4EZ10Gsv0/NawGIWK1Wj1y5IimacyxVULdkCE8oDAwhZfYICTWkU7SFps6C24HCuNdW8yCiPAla1iBrMvOqSiK4MCZEACMoGBCIU3XDSCNbbTzX8vWB01RFE0rO46qKBL4FEUB2/Z9H+U6NKWEEIVzaTNWNGJ7LqVUIUq9VvddR9O0TCZTLxSQSItVw7ZNCCWUyK2eYSyQFPbPgmTM6orbkTFpUe0R+hbajR8YWK1DaXYojO+6BDgBkUqZFy5funz5cnZgkAvf8zxUqCH3rtOGrywiNlaRlsN+FxHaUL0SWRH+Sg7PjuPIVSld1+V5Lj09Pdlsdm5u7sCBA8VicceOHevXr5+ZmSmXy6qudUi8LV2T0f2rgFaYQN2mQxGnp6bOnz+vKIqhanKCHVmCDHebyHaQwOgeDt8BMaN7eNRdQq+IlySSMkD7oTJO4YIFpndFUQRSJtBnwmPCY4IJFEgFImNNqy8TPhdMgJwpCw4aVSkQjapEIHN9IhA5ABMKUl3RVKJQIApSjaqaqmeyvYSqiqqPrlix4frre/sHXJ/NFQvpbFbVdc6573MhkFKqUkojwdFDnA9DQFgau+VDW8bGuQqxdf0FE4mXfFEtzrmmKI0jBUzz2NEjk5OTiOiFKBx1Iw7lsKSOyUMhA5eA2th0f5OB5Gzbtiyrp6dHatCqqt5///2+7+/bt+/IkSO2bcsDEDuUM6lfd61hJaW+5L73pZIMTykIcAo4NzdbLBWI4Lqp1StlTVNch0EsGD40pySBF3UgyojoN1+LNEZYfJcR6EVMlVja5xKzOBMUGRMogENjVZABEERkvg9NMWr6QwkAcF03lUrJ50we+tTYU9lYhXBdV4bQ0TSNamqhVKzUaptuuOF7P/rdO+64Y3p6ev/+/WOXLp86dapcKhS8Wea5KhBKVQpyKSDkJhbr+WH1CkKYFVYQFs+TSEZdcRJiONX2V0mJAoBcjhx2zXYdd3Sw/8KZ0zds3d7X1wfMAZ8K7jPuM8Y8ylROgXGVUOhWouJxqVAILubvBQAKBNostmgbbwuACS5TkFZHAih0zRRC+B53HAcE8X0fBEHEbKbnrrvu+uzIsffffz8/V/z644+uW7v6/PkrvOPJ53FK9HRvO7XBmHmvbW/p3HILMLPLzpw0roYdcERTCQIAAZwTjlwIzgkIEIyAkCFRzp07KbjreA73wEqZpVLJNM1qc6EwPMAG40k4VIPMLtCEhRDBgdictzkJMd4xIpOarvgQ1zXkQ+S+THo+C3kjBEUIDG4ghEqRmjoAMJ/7vs985gIoKgUAQEI1pTECC8EFI0hkbHzdMgrlIlWpx32f+alsWhBAhQifu8xDRKCoUBUAPO5z12dcIKV1x1257joPtVTfinsfGsnn808paq1aPn3sSLU095u3X5+ZuJo2NUPXK9W6CFUniMMZ2S047wePUuloIhoR2PgjcIhrJNbgD8w7o4bHnjD/5b1cSE2Sz2C7nHTIkOVERC58ABDQPH2skaxoesAIAUyGiUJEzsHjRE6iLU0hQhDPPrTvvQ1rV/YPDc/MXB3s2eR7Tr7urlu9zhfAAIAJQoCgXE0lgCincCLBP1GhKONkCZBDkQAgSGSIPxk/i4OMqAUIAjkIEHILd8vV95mMsQVAEAkXAgGQAedMJaqqNcY8RbdAjn9M9Pf033X7nQdV9cinhynigw881N8/UCiXq3bddd3AYC/VtMDjIQImS9Sw4s325WpYi1TxeOvuJQJCoAAhCHAgUCrO+r6rqJR7rst8aEbFa0sRuAnwAmF+p04g/SR2EKloNXZci5a0GGqr1sUzIsAJIYIK5A2DlRCCCybdT8P1DSCjbV4dSoIKVRV1YHAQCL1wabxmu+lUxq67NmWpVOb2O++dvnr5+GdHkPlOpVgpF4Foi0w5/s6StaQvhto2CmNMHuFGACgBlaBbr129fGFkZChtaPVaxbQymmZW7TqlmqFrgSYc0TrbE4qGUVNGSwPeWENpIDsBAq2zLgGsmZrANldsuQpAQhAbEeGkz8X8faVcUxRl545bLTN16NNDhXzxqW99M5PJoELr9brv+8EMN+IWH6al2LDCigbE5vbXol4tS2GWlo4QYnx8XJ4YKoSQUBV2bIsjjghN+IPnJERBkUjCvDKuGC4735LU3jjUyj9pk8LKYxBiPFzlYKdekE6EFW1JmmBGR0cHevtA8FqtVqlUxq+OHT322fTk5NTk5NGjR0+cOFEoFOqOw2PaaFudNDIBXEwx2nLpWlrhGoEy+MoXXAhOCGFCAICiKPVq5eSJE5VSydSNWrniOA4hpFQqyYCuS6uvpPBUGptOeZJo6ADnzt+Gy9+AYEqCf6hQVChQ4nFmplMu8xmIzVtu3LBp45Wr4y+/8kq5XDYMI51OS3FKp9OapsllxLbUNWB1Bohwwy+Zj0n5tqW2RVoCbPm+f/XqVQCQJ/HJDfTB3uBwjQIKd+AgX9GcfmJoL1s8u/hPbfFrWSiOWW0zCqQ27P4O0NgIFnwVYX7bOopQSKaA5BNKqVurG7pOKU2lUv29uVwmzX2PMz+XSX38yb533/tNPp93XTeTyfT19bUtdrjM4UyTDMYd5CHcuHGedEURxnZOJy5R0OSbDPcuRwhN0xhjly5dOnXqFAD4vu/Wbc9xarUa50zuteSxqBsdsm7LwwhshfdsJgHTYhgS7piIKI9xk0d833vvvZs3bz558uQ777wzOzvb25vL5XJCCBkarMNBztc0JQxf471iaSkvuTxBd1pa1tVqdXZ2VnoGKYrieR7piHphs1S4yQUX4XegqXNFuBRQUOzwn8tOItkHIiBszl4h1JHCalR8qIhkEe4t2OqIFPDHVLUadVOpFPNdVcGeXLanp9d1606tfv116//6v/zF9OTVlatG3VqFgyiVStA0/UYcJsPFbq3RonAqXvjIzYJvdnghnFpnrIwALiDKjQcCGBfM911VoxpX7Frt2Gefbdi42UzluO/X7ZqimlJKuaoQ0uBPt0N1uDUjUBs0PUEqYm5lbUrepKS9vbqu5/N5XdflZmlEXLduHVWUTw4cMAzD1PT+/n4KWCwWCSEDvX3VarWZ+PwVlt0PKz5YLUHZ6Zxv2+dhni4Ns+bm5qrVqtwSLPdDAeOKooSPfsPWhYggu/B+N8aitvO2hYk8XEZGtc0IY35bkZ4fgYBAzworAhBTryDW4uHqtAWsarVqmdrqlSvSKVPVDI/xXCa9asUocD4zO3Xy1IlaqZTLDAsh6vV6rVY1rSyEepFobY5wYcKAFUHnxbAoUpdumyMu+YtBq0h1mBCKQn3GhBBSwaeUaJrGhDN25fKVi5c2bdlOEZjrpaw0ooCmPAYugYssfGSsDfMwQKugbJFydu5cPHZIh7yRCxGWZRFCisWiruuDg4OqptVs+8yZMzMzMw899NCmTWt1XZ+ZmbFtOyn9ZfPDCpi1+MFqGSlSniV0/tnZWdd1NU2TCxZNcWkJ/hVpNtE6BwmyDhyyglJ1sGGF+da2Wy4LJTVNEmyFUVi+FizPhWWat0abirMi/JNMivk+Y6xWqVwdG2OuoyIgd1O62teTfeP13XatkstmyuWSDLfU398frkJbtkR6WpiZi+dMnEUd3m9LbVPonFrbXzlyx3cEoqIoArjve5SApiie45w6eaxczIMQzPOEELVaTZ4SFAaXbilAq/C+/UAqwiNTvDXjyopoLCILARD8kwuXjuvmenoEQL5QMEyzr78fEBljO3fuHBkZmZqa+vjjj8+fHzdNs6enp8PRXMsTgTwOEF8kWnUuySKpXC5zzmXgC9kYHRbCIAFf5Idho3vQ8+OfL62c10gd8m3VU6L6S4BWketiUg5TX19fvVI9uH//66+9euL4Z8VC3vdcw1BLhdlXXv61ptLhkcFiqSCIKFXLoXlB+1Ew3megG8jo9rVF0tJSC76S6lIjRCdjKAQloBC8dOFiaXaOMeYz13fdSrEkJ4/B50vLNyy00ApYpDVY3mKqFghMRH1zHEdOXAzDGB0d9TxvYmIik8kwxu68887bbrvtypUrr7322sWLF3t7syMjI0npz4dIjpQmrLOE0TQYKiNqZOSTSE++dkpKasEeiC2+Y433ZRAiQ9Gq1TJzvUwuMzExIQErnU7np6f6+/uBzTuyBxUMUCxslpL9VsoZadpQwvuK48MRtk7K4ryKKHfB54E3kEiecYh2M7JFvz+vFSqKEtSiUChomibrLsvQ8DVtRo8KswIRXdeVBkEZ+Uju2gHOfddNp1Lv/uZtLtCynunrHxwaGkrnstMTk6ZGPF29OjHe398vI9u5rkuavmySh0GlJH8iuiFiY5E+UrsOfCahSFhtmbNIknUMFzIA+q7S8biv6KpAsD1HpZQDoOAUMZtOj09OnjlzKtPbn+sb4Jx7vgMAruuiosp1vfD4mgQxnHN5bmakyZKwKR54D2LsCnd8FsCuEBCSQEXTKrUaABBFKVerHCCTyzme5zmOZRhrV6+uV6sXL17c+/77grGbbtpQzCu5XK5QKBSLxd7eXhlOixCyWBuWSDbWhuVpkal9ARQWzUDKOc6jCTSFSYq+PGibcw4gSELwsyC1gBWdgeCLpyUXpu2HYaiVvTHAo7ZqY+TbcOJBcxBCDE2jiB5jzHdnZyaKhTlFIaZpOrbtujYBwZFzRUF5zI+fOA1cRvqyFN4IBdgWDFaNUCICmOcbmnr5wsXrN23p7RsslYrpbM5xHIXq4V1iQdMkTQ4QMb7iHn8trsEsLwWZptPp2dlZwzB27NiRTqcPHjy4Z88eQsi2besPHToDAGvXrp2dna1UKplMplarKYtp+8iIHdEavrKABTG+B91SgpSMvkQVhTE2Nzcnj0emFIPRO9JgkbnG54pW3cpKtzAa17ySPpHv6LouHbKkdhOoEl1VXwghfIZCKEiAghCCCeY6ddcVnPuC+QQEAc45MumgT+RJ558vxQc2+BwwcfHEERC5HDMBAIASAN/3LcO4dOHC2OWLQytWuj5ks7m6XdU1Kg/fDqwQop2BqUmCUAoYNbo3fkuW9uWiiNIj/zQNAxF9zxsdGeE33XT58uVfvfCCpn5/zerVQojZ2VkQImVZzPcVShdrwxLtKID2IMJvBLa/xFaPjSIY1gvkjWxmOW2Znp4Wzc00cqbTQcOK0Bdbs0SKd7wFyxYH9OCnSDtqmtaIUNicoy2+SBF2yYGB+x4KbqlabyY91NerIugqNXVV0zRCMeyqGq5IB6VgadQWrb5E4rGaEQEEBAqmKorr2WdOn56amFA16vuebdvc8wMf8bYUTgpDJ3SEF1Ui6kjkk64oqV5tRQsR5VlhqqpevXqVMXbzzTdv3brVcZyf/exnhUIhlzOkW5aiKL7vU0pJUsaSOrAgjFlfejPHKexxHj5zRe6SkbWT64CEkHK5PDc3R5rnoZJQ6BgMjT9J3Pg8qr8Y+Wv7VeSmc/qwUEcNRDzwfhbt/PsXLFJQfl1VNUUhKI8G9XzXYZ7LPIeiUCiqClGVhunX/wLlKsKKL1eeBfImbAkCMvYFKIQQEH25ngsXLpw9e8bUdbmdJRy2oQNwYKvzDbbqE5H6Ll7e2hLHBf4JgvIfIsoTZAkhvb29ADA9PZ1KpR577LFMJvPzn//8ww8Prl070tPTY9u2rutCLPpg+6ACbUE0LP2fd09eJMlWiTQSNk8/DootjcGFQqFcLoePTpM6Y7z8HdCq8wjzeVO8PIthfueOGmFdAP2iez0roOBkdl3XNU1VKHDmunad+54MmCX1BZk7j63eLDiSd0uLBO4viFCIdlG8ETlFJADZTKZerV48fz6fz9u2LcNjSKaJmC9CuOHaGrZEO4pl3Z7aFn8x6wuRslmWJbdS6Lou3foJIf39/TfffLMQYs+ePQcPHrMsa3BwUIJyooYVqVhQvaTitq38l9j8SeWR2lNQsGAJzHEceeCSaC4jQsLIA+2GoGWv6dL4Ka4NswKKtLJkS6Bngdyj2+X6lyy/1AiIAJVQXVV1VdM1VdMVJAK47zOXcQ+QI/lClzK+EmjVQvMLRAEhouu60rXy+NFjvu8z7juOIwP4hMNjQTugia+TtJWr8JMODOkKyOLfBikQRFPTKaBTqytIBvv6Ld2Ym57pyWQffuDBbCr9xmu7jx35TFdUU9NNTe9Cw4qXNanyXzRgyaZtvQohBHDOuZBnekHj3BckjRkNAgcABQkCs+0a+kyjCiGA8iRUnthgYcxKeudLp0VCW5vn0OKpHDS0nCMHGla3doDgZaoQQOEy33Ft27Ydz2WcgyC6ZlJVJ6iAIAhUBmNCDqyd0f3zxrLlbFNBGv/k/UKEAEQQAASBjasgIIgQggJWy+WedIrZtUtnT2ngK9z3mecy32W+xxmXwZOBAwokACgoASQQXBVCBLB43+wg513R4r06gxa0bdtlvq7r6VyWEFKslD3Py/TkTNO0MuktW7Youvbqq68eO3li5coBI2UpiYLb2i0DwY3DkPwp6XlSieVAHeZd8HL4qzhzsXX6jcCbEXzaXAWivBfAAQhH7rpuLpOulssqJSuGh0pzM4Tz/NQ0MM+t+yqllFCBhAnmeY6iEu5DOAZTwARZ5eBQPGza8oHPE7SeUhWugmhOrj3Wnv9xL75GxQVr+37wmui0SARB4ZNO8CYCALhECZkKEgRAhaDneSolumrWaqJcLgNnKdNwfabruvS6AgDHcdLpdFh4JCsQUWIcE0JGyCJCbRQYBRPgez4HEEAECMGCRieI0Dxacf4KTdeTiMABNMI1JfGn3Q+yl2HjfzMlwUN/AIh5kWvPWBn4DpEQJL7vu64HAJqmeayJ7ChACCSBZtFICwEQGyG/EJAyAADkBBEbPzTyJZRSTaGmStx6ZeLC6alzJ9bfsNV20Cc0lU3bnlOtlTKpVK4ni9wH4IQQShQBAmTAGiBICAbmsdbhlsQiIDX5055tgYBF0kFEGuJbG4YJACmrAABAFQUaMSoAFaorFAEEQLVS0Q1jdNXKuw3904MHf/3SS5OTk48/8cjyRBxdGkXAKAJbi6IgvpWM2NThKhr3hKIQQlEoAfA9GwFUSuqVEkWkiIoMuYhyIykgAQrIF1rxDGtbJAQW1zhQRz4XC/kQLJ51HZJK+in8PJhfxEfphavcnOnwJgAhEJgXYNH677eYGuyS0e9kME/5ZzvGB0MgBQIAKBkDCIBMNMYhx3EoAkUwVcVz6hOXLqxavZpndZe5dcdRVKKoFCii4EgQBEMAARwRG3miCNA83kzxJ9iNM21XL7epfuxqmKbnedVaLZ1O37hlSyabnZyaevrpF5Zna84SKDKn+MKmkNKGJc8Hrtfr0i4zNzcXvNAywQ7tsIHWRhUxCq/UBC+Eta0lUATNO1BEP42D3YLlD8Nu+P14u2Bz61lb03vnosYbum0ZfhspKHx8OhKvV/h52ypHWgQAPM+TW4ilcfrEiRNXr14FzpjnO/W667pS65TehZxDWOjiqUFy+0LMNJ5EEBO8Dm92RbquyyorirJy5cr169cDwNGjR780DSvctPHu9PmR9BpTKREArutamo6Is7OzkTZooJUAQgQJmR5Eu2DtYcxCOh8OJbLpoSuKSFXQATq3fLhsYX5i6MC+rqRHtCpW8kaiPMilCdISirotXMbrFZH1eBdafAm/UiRZIYWnpVLYvAFoTrejshQ0kPwz0kzSIiGPeEilUqZpXr169fTp04MbbiTIXc9264qpa9z36w4oiiI4D5Uh7Joznx3EON8theUKmjaEZSHOuaZpvu87juP7vmVZa9euTaVSXQPWMgpTRGqXN/EkkuspCmmYnIQQ9bo9NzcXYXUAWJQCEXweLxLmQWL+2KV5CIs7c3VF4aEv3M/bUvynKNIt7pBR0bReBZ/HVQPSPC/a932qzgd7i5Q5qVLxFr/GbvNVIGyacSP7usIVTISnVp6H3wnu5bZhRVFs206lUvLgrLNnz24vF3O6BpzZ9apl6sA5Y0zXDSIAG0b3RjT5ZurzI0oS81uEdqH9EouUq25JWkURsV6vyzAqo6Ojw8PDX9qUcF6LCcU2+ALyDYcS1XXd9/3Z2VkJWOECJJUtglbhXipCbrThSCxLK2dYjBbTnyPlj3/SlfISfy0MNBKwEFHujA3zYcFyBi+HWRpQhwJ89SmoBbZ6PEWaMs6u8GtJuC/kObWMyVG2sUs/P3v+7Gm7VgXO6vW6dCWVnllxj24hBIrmmvlCQ8Ui53FhnSNpMri0KaFormhpmiaRWs6NugYskUDdpgOtoLDkii0hUxmlTwhhGIbruhMTE4VCIZx70AARG1aY2kphAFsitPCPyTtRO1NbgV6wdpAMUuHO0JkgoecEnJE2rHCXaNsJ21YqXq9lEaevAgUtHshMEiKEP4nzPJ4mAHDOg0XYSqWSTqcB4MjBA4XZaWCe7zrM9YBx5nPP9f2mj4NoHiAyf173ohtrMQCErfOkzrC1eCCTWoUMoKKqKmNMepx9yRrWtSNxtxTYX0CuOnteoVCo1WpBqdoWTz7s0J2S0AoWPVi1pQXFfTHfLu3zDkkFENx2MaFzXl2V5AuQh2WkDlAbf754fA+unuc5jpNKpQBABu00Nf3c2dOlYl5wnzOPi8aWXs5AcGz8Q5ALlB3yWsJQ8Xk3TeDWwzm3bdu2bUTMZrNKeBzoDPNJPTBcVWxVUsIZQ2v3m99+0ezh2DwzPZxykFrb3ciIqFDaPIquJRe5VkJao1YJIZCg53m2bWcsSw5Tn3zySWOjnOCcMyFEMyhaIzaUNHYKIcJnMQR1DBYHVVVVVVWGupN7dxFbQqAFJQnK2Vk+Fol0ol2wXYiJVKQJkpQ+HjtCUd7I6sgaNZRzQkzTrFaruVxObhiQ21OFEJ7nYSiIpWSRHCc0tXFsV2QvQdIwkFTOyCmB85Xtsh/xUDyvtnyLPExqMqkLMMZs21YURe6acByHUqUrjVG02vgCmZGJG4ZRrVaFEJlMplqtAgoEfmj/R5uv34gCQIhisYREVTWLA1KiCA6+x5GAolIKyBjj2KYwHSQtqezhT1rQIIYnkXciPyU1Fw8dPRnsr1iKhpWo2zUrsBiNaUH5iFN4A3P4PqmccaNYAB+yp0m8qNfrc3NzSV6UHShsI8DQ3DYCQ+Hx4POjZUw/zv+gjhEZDf4M+20ktXvbtv4fjyIN0aG+oiN1SDNClqGXSoWLF86mTEOGSNI0rV6vM194THhMcCZ8BsA4BLs+Qrl0q1gtja49/YCTiauESbwOFkHCXRFb18LC0hl5IaKeRLILpyNal+HDABQaToXgHKIOzwjNk58h1t+EAES0LKtWLhNdLZfLV69elQoCBE3YdGELVlXiFK+IhC2phAXj9pK7aGIbNxfI8RrWH7sqRpBRk4GNexKK1SnjXgSNKA0QjfK2YlxEpfq8u8oXRkmIE6lvqFOI+eYTjRcCXoV7QfxJwEaKmDL1ajH/2ZHDN2zeUitX0umcqmjlal3VLM33maKgAATCORJCUAgueFvXmOVqiOVq33hl5c0ST82Jd8W2aBWQSFj+7ABhkRfaoFVHCra8tTxBVBA55zJon6IoxWJxbm5OURTRbrdzB4qoElJMQ9tyWsJ9dEg2roJ1LkN8AFgaZiXlgpgcqbL1zwCwZH2DqH7QtJiGX46zom1P/m2nMGA1uCHCQyDI26hIhJsC55OChH7beBERgKkEXc+/dOH82PjlXO+I4zgyeIPv+67PNI+hAgRBcCpPiOa8AVjddqhu+bAs6URAA5OkEzoaxcMdNYJcEbRqi2JtU4snGLkJRIG3UnhYSypzmKQtQBpZCCFTU1PyKN34wNiZ6UEU7aBs0m4lmgfMQKhXLwhYGAK+zu/HX1uwqN1SwPl4+pHBhjSPAgtHmodYHwjzP9yl26okv6UUls8wZoVZF7+PcCDOjfBP4ewkhymi4J5hqPVa+eiRz3pzOc9xS6USAMyHymIg9zt3TlAk0NL40PamKwp3fwhJ1BI93UWCT7NoHfZFTKPDjhpW5OV4ppEbQEETxoewVSX4iguBhPi+z32hqqrjOOfPn4/UQojW8TCB4hATwVAIddTODRZ5oa08zf8KyxNRPin9yPGxnTseNDexBwAtWrVaiI1SDYVjETX9raN4P0fExuOYhtXKljZJYUJDBE8QERAFF7qi2sI/e+ZUoTjnM1qpVDLZPtfxVMV3qEdAKEgFAw6Cy6AAIWqf/fLRNTYuxmYSS/TDit+0/TPCZYypThBjWYdf403YdhyQnwSW4CAF+cTzPCGE7/uGYZTL5RMnTiBiMH9pg4n/f/b+NEqy4kgQhc3c7xJ7rpW1A8UOBYhFDQiEBEKAWIRANEK0tmm6n2amu+d1fz1n5ntzzvv+vDNn/rwz87rnnO8bzaJdQrtAgCR2hABJIJaCAsRSC1WVlVWVa2TGdjd3+354hKfHvTciI7Iys4rFTp1bN2/c625ubm5mbm5u3pUO5mva6W5W3aOFBQmh0L1q82Z5Gqwv0I2NWbUAoGNEoNWExIht68pOPLOq+K8ZxNi+i4UFCeljWqCQNo4gjVCubZGMGIO5ubkdO3YQURiKIAiCIFCBSzrDn5oBJGs0603CsokAK8SfMQtrmQGNyW6ghBRL1trlSXcxjwmApZSDTCRsUuNNhCEDQKKs4zaqtUMHx1U4g4paAQDAZuo0ImKdt+7FjCkzo6Pu7N51l36zx65dvRFuUjhWYyorx9I2UIdUWWaByX5Z4TYcIzAbsnifyMPXfIzqoBOOiAgMgQEh9jwedR+5lhP5IQjJhHz9lZ0MiTMZhH4kwkiEURSFUgQi8gUFQoZhS1CqrCLA9bUtY5e+9pyROJUIRwOdxo5lCl0TugdnJ9VjMjLA/FVPE3TsuPrcjAyAlgc39q0u36y0OaoYmM5yk1jc2ISsEUYAh9vV+sJAsTBfnqnXq/PlGSmjrO2QEECSZDN/NqnZDZCIBEUChGQEFjJJSk5JAFB7nSIRIQIHtJCBkK3tmkKHVlKHOCkFUZqzv4ukE5E+F7I5KWi+3Im3MD1RRCz+SNcoKWo+b3fNtshuLpoSAGS4EwCRY/uNOmMs6zqh72Uc2yeJJKWQSNLmzLI4AEVhyJjSF6q9CACoOE12Gtjp/InNq1a/rc8pPUIF271ysNTQMkWw+Zx1CIBhHAgABSERt9Cy1aIc51wKIaSQRNRc6dazYkQgAIaILDY71JWa6hkMM1wxFUNwmTtbndm69YQDh6cnDuw9sOftM845r+4v+DzK5CxBVrXhR5TJ5PNk2Y1Gg4HgFrM4Z8gBmCQphZQkgBAZIAAyhsAQmXJwk4GPSRM9vmJXbjBMsy2tv5stajVMNzBpzaWOF1zelHAZkDTBlhTDMWu5+5up0Ol9plhcAgc8fHBCRiEDApAcAREYR4s3TWR1uItr2+o8UTCkj5a5spWPIbZVBXEJtI8HWBEMyVjrkK1zwNDwRXbvjpWF44Tmhnm1eGRpDDciI0OW+a9LaSm/Ma9eHywO1KuNvOs4jO97Z1ejXmFMkoxE5EUkiEEkYKHuLdQ9L5IAQFIFN5OUsjmpACVJW/joawc4hnTuKaf70UByD3AvAktBsrOTGLIOsGSxiPjWW2+pAG4zHzYhqn+6ajNc3pwAqvEJAJZlKWvLTEC6Ztu5lwcmSeEoLHlpHEbbPL/L2JMQ46UVJEiMN9ZSLC6JEhmBePondZOqsFOtueQkJhXqnpcrFBqNhuM4tm2/9dZbBw8eBIDIDxqNhu/7CplGo1H3PGi5MlRPmcvZmmPN8RXD/2govFJyZtXzYZnGrflkSVwxLfCE4uGphKhzyPYEUkoGwDkPfLlr1y5VThRFynQ1e4yIGFDd87SQUiERYKzQUSvXitpJr3bJg2Fz9Y7YMQETw+790nnMNE1O1jpNR6soPQxStxx2wSRW/rK+OlroFx9zBMYcF52qMAmu75PjpTuomGf1oWVZ8+XyrjffGt2wwXFygefVoco5Z7bdHDucRyS5EeUQS0YCaZoA2pekl63b+oJOzV91Cws6uMz7/bDTk35B6X9ErFWrhycm7Jas0fM+pZGiKAqiMAzDSqXieZ6atKvAK2iPmTDng1plmYbe2nRwv5CkYe+Wb+wrTQR9cGFMdZuVHj3muig9omI3xwpMgaW9B5A2GTRJHbtPfbNLv2RyuUqt5mYyXhgwxlzX3b1799zMjGPbRBQEgTrlQQBFJPVaoRnbDMaw0sIrhnNMhC2DzislZ1bdwlI4xaR4lw5I2FBN0ILGfJOI+jKv1AZRRgBSHjx4sFwuc84tznwAdbSsiKIoiqSgSDZtZnWCoxqN1H4en5JH5hbfKIqUV8BcW+gdvbUEPbTUn0vi2ekF1upflbFIDQMVOwItOphjY5Xg2IoqaB/SsZAaBebkzryaHYGJwO4l6+Wch2HouFnhCcuCTCZTnpvbt3fvxk0nAGcAEAQBMk+9TJHI51xlEMekRicvionMWlpYncBa7Z42hbd60leDk+iljbQ+ClRoBEGw/513qtVqtimLeBiGYRiqI97UnEZKGUmJrfkO6KVGw32mzYrFo9VhcaAe895dErD9uKNlYKs5nnOuctqqYDdod/+Z1XUqp0MNHVGKKbYmY/TbgKUK7wsfzZzaXZAsR0sr/XLSBIsp5i6D1PM8x3GCILAsiwGEQeja9t5du7edfPrgyEixlIuiSNTrjDHGORFlhKUGImslEUg1qWLtismsTm+uIHSqZS1WCZdnCsYYPVnU8pBRsif0g8OHD0dBoOd69Xq9Xq83Gg3P88IwjKQExpQ3XWXXBENgsVbWB3OSGFteOOY6v19Ynmw1xbfy5QGAaYceTWf1Uu+7CJZhxpq2WBIkQK1Rz+Sydc9Tx6zV6/VcLnf48OGDBw9Wq1Wld4MgCKNIdUSqlx2W6qbjh9pWx3icRF4kdTXzEMWs2U51mPPwpBiKfZia6YWIHMcxi1qy700Zp0WJFDKsNwr53OGJQ7///e8HBwelDPbs2ZN1bYiaKZw454JAmQmCyLVcNQhV/lnl6tKud855JpMBALUc47qukGEQBGozMOdc3asjQDTaprNMiLapboxWpnQ27SBsn2KYBiy083enuCHzTVNzUprnpYtejcXxMcYymUwmk1ElB0Fgthfbk5SanRWr1zBD0jGPLcMZCKQ3WFM1xkJ6CzdrT53Wqb3JLV/mkIHWxm/f95W20xouZnaZJDUJouOesP2IebWcbSKsrtl8vu55juN4nieJZbNZr1YHojdee31gaGhoeEwwtOwsIkZSuq5r27bFLe2Q1WzTaWGkX1HVbznm+2a/KPmbBCtJ9y4VpIqJNZO+qYze/ZNUa9bm1uz09MJceaE8jxBZjEVBkM1lVA5ZAUSRFLR4kqaiqd4qCK2jd2IyormnmsVXNhXozojhnJwpx8RT6q/QQdyvPSzPLusEZutWtuReKlXQV70xBRyT8tRyeiYDpDvVkhyP2Jpxx0pW937Q4JwjtxljCFy00Dh06ND09PT6jVudfI4xRogCKGomqGyD3hu7GtAvA1uQRqNlVNnp25WiiGlQ9Asmf7i2LaV84403ZmdnvVpNCj+Xdf1GTZlRRIREDAkY45xLKUEuhpJp/kvaNdjytkLL6R7Th523BKfE5rD29CymbcXaRwikCbj2vuiPYslyutN8yYHX6VdzACdvjF9Xd0TFbNgYVl2+iuGc1ChaTvUS1REr2URMgWmjmQwjiKQQjBARhRSCSEomEarlcnVhQYShzbgyrLT7Qn2rtK9u+0ppvn7LUe0yNTp0teitTuguqXYwMXLWGBBRb83o9A61r7kQkOM483NzLz7/vN9oWJZVbVSGigVymnl7GWMSgDNEp2mR+nUfadHa1+RSCZHNJTDFEJGIzCAsbJ+sxfFv52/9PKaBUwXHGlhYpqBc8p0YdEEM2ydEXWz8tdH/etCmhmIkX069MTRQm8DSsgYMWvUlwhToA4qgfeqkPO7qFFVktuJD5CyTL+Qz2Uwmk8vlsrmck8lwx3Ych7GUZLxrAL3U2EuPLwYfLRuJtWl8bPA0x/BS6lePDX3DOR8fH9+xY0cYhqXhoXptXrZOfAMACcABgJCxFts5JMNIZ9Qkw7mgvRVk+F+oFUqalEcK4oKejPse2k6G/MJ231OskNb9ckKrzBJWVmpg++p4bJzHbBbEDluHVxQfzR4KdBBs969Sb7QbW5swKhrG3NDa3YhbVK7trKIXXk201X1EUhLYtu06WQlAxJHzU7adfsIJJwwPD+cKBSeXY67DLMvOuJYUFuOxeNEuMrrf3l+GNIgxbfcarSTTx0qJKYdkZavB1qmQauX1bmEBAAMgKcuzszOTU0IKm3N1NGEhm8tkXRXHIKWMJEVK2RI5jhOIpp7E1sxO2+dRFHmeJ6VU7lU1j+Oca4GlwNzRvYh5k7MXT4fWDB3zTJsUTkq9mLiMKfx+eyVZePf3l8egqZxmYh7ruFWFmMBKYph8P4kwGH2q/mzJrJSI3C5THnNOpJkBjdU97YZHRIkAHCzLYrblOA4RRWGIzHEc59JLLz359NOG142BY/NMDmwLGHMcxyXpIDNjGrpIqzWATlO3TvS3oE8W0QaL2dQ14K1l24DtCAMAcM7z+fx8xVenvMnAdxyn6Wxqj+sjI+sDqAmjkanO1MPYivBGhjoZqfZDpS6N6Z/QWKLSUcipbdecnzSvlCaPKatlUKxTvZ1K67cWbLetYoWYN2sjrcx6lXToNIU334Q0aaXbZYo/3w/Ml7ubV9DO51o7QosPYwILEYCD7boWWgAQBKFlWZu3nHDStm0XXnjhuo0beKbgk2RujiweETmO40phA2L7zsHlE65n6C6ge4fFCKOk3kuWlVr6MRHPrUoRQB0UyQBl+hUEEANo3nPOi4XS8LrRSnXBC4KR4YE6kW25URQQEUiJRByQKwcZIodF+qiqtfBqnlvlWlIAdziGiKztgAb9fpdeka1s6Oamny7vr5klG2tvJ1geI/YydNcGYjaRfrjkV92LUqUJQt/3gTFsHXqm3yEABGDaC2F8Be1/qieK2RARGSFwZMQRImChBAAmgRMRWs669Rs/ctllH7ni48Mj60pDw4KhH0l0M8RZKIRjWSwIeSsnjylz11I9xBpo/rkk5dvisMwQj1goitmpekwmxTO1WyhgLNvHoNPzHv2Ri7M8ZACo/qkKSQIgkgRkDAgZs4AhA6Zy8duOdeK2bZ+64YYf/uD7lfJ8w4sy2WIYUT5XDH0viAQHnnc5Ivq+7/uetDKMcca4OuiQcwuApJTAoe7XEREthkhe6IsgAsZsy2JoSQEiEgDA0AKUyhOv3EkkQUhCBETGGbft5tZFFXWpppZKz6voeSUZlXEnpUTeCoMwrgDgR2HTr4aqY5oT5X7nhAxbu7VIs3X3Dzr0V8sUBABUbAMAADI9vVXH05j0KUHmfK0bOokwEZMboX18UuvcQy0U1BPTIo5ZUgCLe9pjP6k2WtwJQURRaFvMcRwnnwtDteNLWBbjjKuZIip1iAjIAJAhU09Ya9KDiIAqmzIBEJA0FnNIdY+FLJDI7Gy9Xm/4/plnnPWZW2+5/PLLB4aGBIFAZIxlshYBSiCbMyBpcSt14MkOAot03JlxXYQmky1f6yQFdKvguBZp9pH+IyaSOklcbIdlI7pSgIhNTAkBKHbFllcbgSkP/fRsefMJW6+/8cZDhw499dvfEIGbzbm2VZmfc20rm82L0A8anoxC27YHCsWaH7UbTQQAyIhbNiIiAyJSSfIkEjTT0sSnyalPTL43B5V6rrxgOooHWtt9OiVc/AC6Q8yOwN52mSRf6P5JbGjoDmWMARIypr5f1F5di2uzGJRnlDEiKYQEIOQcLSvwosCrj4yOXv3hD1/x8Y+fffbZmXyu1vDcbBYRCYEBEEotpBj0fQTncQVtm5+X9DjqgZc6LI8VaOZI5cIY61iWVavXz95+zr/5+78/4cStjzz00OGJcSC5aWyUZBQGfhiGBMAsixCFkADAAW3OkKTQhSM6lqXEUyQlgbAISIKglpXTNU+IKarMuHnzoTZgzQwQKrFEJzrE5p5LKp4eyfveAM0bSVOrEyk6WVKpD7Hdh4Vt+R1BzQBUljymdWhrasCRECQCAjU3k6vnTftKZf5E3vBDlGQ73HWyyMj3/Vp1QfLc6WecccUVV1x22WVbTzzRtu1QCs550zY+bnp5paTEosCi9rXCTh7cmLRaESRWELpICmVtlQYHJw6Nr6ORD51/Vjb7hYGBgScee+zVV3Ys1D2G0kZ0snkLUYgwCoJ6ECCzWOswK5JS5ZBszkQBEdHiwJATEQMQSLy1ZhyTLJ1UumZuBdqa05NBRFRpttTmjE4db3afqXiOux46RqAIm9xYA+2sHjORoAdplfyJc67CpqSUnCQAISAgcSBJShI1Uwm3KjL6tOl4bUMGAIIocmzXtm0pZdXz1cJ0vlQ894JLrvrE1ZdeeqnlOJVKhdlWPp9nlqU8GKbYWp7I6HeMr7b5kmJhxf7sIp5i3oFjAjE92UXOEhEgCqJ8YcALg137DmcK+S985csXXHTRA/ff+/CDv1YWu4DmaZOS2xazRBgyjpy4mvqRnvOpPYBMNqWXxYGhsIAE0+7VpEMxpoTRyG8XE1ie56nYVOVY0fkhuzBQXxbW+w3MiGr9BJZaR+oumGJv6ieLkVxCgpAWI2RcIqlTTpQ04k2N1/ICme4hlKoUUjwDDAAEyUwun8lmy+XybKVeKBS2n/2hs8857+prrxtbv7FYLFbqNct1stmsbdteEDDGdLK79xIHWGYXxtgdOgsp88/jYbkndWSaLKWZ1Qt8J+MCSq/eQAaOmz3vQ+cPj46ccsopO3e+8tIf/zg+vt/ifKBYYIzLqHnkQ9PCAiUyDF5X8hHJQkaInDCClOTIWn4lqWTuuTXFmbKw1CZVtUIUhqGKX02lwAcWVndQiiFmOi3JNsk/u7yjK9ICSwjBUDJkjIEEhkQqYZHVbgSYnxMonYQSgKlU3YCEzEI2U14IZ8qWZZ10yhkXXHDB5Zd99Myzz9q4acvcwvzsfLlQKBQKhYbve0Fg27agFN22DO21UhbWyk8Ju5erKauNatO8otYpGmsPMXmk/zR/BUOiqa2AjGFpcAAAJqYmkWjj1q1/8aWvPP/8cwMDg3/843PTk5ORCEBIKYkDchX1zhgQIyKG5pJWe8CUkQkr2dNJCwvaUxuayl/naVEaW9tZXUiR2ncfWFgKkj2inqSuhneRVkkhlfxEOzHVaq/FGeecAKi5OLjo4pTUPEdHfQoAQAQIshXxoMqTwIBzIBocKJ555pmXfuTyCy+8cOPmrZlMptqohypfrmVFUvphwBgrZDONRkO3kalBCqu8LXNNoM2HFbtP1SrJN4/DIdFpKiQBBNHAwMBCpXxkampwcHBgcKhery1UazKKzv3QBaeddsb5v3/mF/fe+9xzz0VBODw40KjNIwJwBsSkYIhSZTxpBmoCJxAkgUACoSTJWdt+8qXx7LCApbwVmulVdZBI5xKD5JSwV5K9zyBmfff1VZcnutjmc2z23WKaMABEBoyJKFKHA0p98FXTDU/KrJLQMr2BETIh4Iwzz/rIZR+94KI/O+GEEzK5PBHVPN9x3aF8Tkai1qgjYqlUUv4EaJehx+EgXR7gS/vn0n9I87JDIn+NvnaysGL5tvQ1amUUM0tbhqXWKSrZ5EV9lQDEQDZ5iQAlU8E4QCQlKNGAUJ6dff7553/9618/9+zv8zZzLc4YC8OwXq9Hoc8Yc22uTHWVkYaIGAeL2chYtVpzM/lsNgsAnud5nqdEjM7nZZIUEYmhynRKRDpEnohqtRq1Nj+qOCxqJWMj43Bpc1djU522oFm+CNPp1mlLNnCTuWO9n/I+i/sTTJrrXlhUbLS4CQmMsd0xLo8Wjcpe+E3FkZk4mxPkmH5tkiiBcKr1lNQr5o0umYg8z6vX60RkOzzjOJwzx3EZY1EUeUFAEoEzKaUk1V9ctSWSUghhWyhV65AFkQC0RtaNrd+w6epPXnvitpO3bD3JcTMMLTvjKte+43LFxrFwOHPnRlvviHQ6Lzm16vRmqkMpCZ3iK5fMnxUrv2NO9xiPxvR/F8x6hCVHwmqDxKbVjQDKySlIiEhaGWdkbOMll390/YZN11577fe/9fXy7PRMuYyIxULRcYeDhlepLticOxZ3XMexLJXtLwiCKPILxUHlLlFucs6567qWZWmll0q9pHhlRjoRM5mifm726PGjP1cck2XwW5KvjpmxSYxZFuMcOQdEgSiB+SKECC3HlUBESJHECEhl+7At7logIkCWyeU2jY6dcvKp519w0WmnnxkKuW5s49DwiARGErhtM8YIUcYl1XscOuZ07yRTNTdQh7inHqFjZPOaACMVg62O5CYAYIghhSKS4AXZTH5kdGxwYOicc84568zTf//M0w899NCuXbuqDT8D5Ht+teatGxkJReRVGip227Is23ayTrZSqTiO4ziOmsRFLUDDgWViQkYyCTCGlgq50iuD2mhqZulqfauuy0hXsrJgilpYabHVF7/1wkKmzbXaLEfIBWEUCgCQgNzN5DN5RGz4ISBDYpKICC3HzuVybsYpFfNDQ0MnnHDCiSedtG79xlJxoDBQyuYK+VwxXyhy2/ZDIaVUWksCoFpfTNB7LXKfrwT0S/+lLawYL8YqWLbBpU2GTqbcGgMRcWYDF5KgXm9AnaQkkGJk3cbP3fnFT99y28svv/T4Y4+99MILMsL1m4oyijhjtu0AAEoSMvKCkISHiLZtq7zJ6rhK5Sl3XRcTTnfEJq9pmaXFk3lIjzmB0jET0Eqd3pyTdphSrTY9k0JqVWvshd9iujYJ+qfVllYSIRQCuMUZA8ZyuXxpcLBUHLTdTGlgiNu2bTnAOEPLyWRKpVK+kM04TtZ18qXiwMBAJpt3HIczGxl3M1lCDCIZRZHaNdX0bCAColoMZseLnZ0CnUjdL7f0fWqOqe7g6HrdlFYxB8GqAiNgpGf3ysACIQTnlmO7iCgjCiOfJBGDbMYNosB2Mh+94qqPXXHV/gP7/vjsc6+/+uobr79eq1WqCwteo84AbNvOF/I2x8BvuK6jfF7qtCvXdR3HUfeptNITPfMYC2VJJT0vsTCILnkg1hJWT1r1y2+p/qZUbFfKudEdap6fK2UKg4PZfH5gYGjduvWlwWHbdT3Pd9xsNlfgtm1x2864+Vwxm3NHBwYBiYgiySJBruXk8kXHcYBZEhgAKIdmc1MhomgLOgXoLLZUOFanPYPHCvoVZB0trNgHK2VYJWtZU1EFQAn3pAkIHAgQpcUd20LGWL1RsR2bMzuIQt/3B4dGPnPLrXd+/i/Gx8cnjxx6+803337zT3t27x4fH5+dmq7WKq7DMo6tktKqvLTUypOVbmEthqI2CWK+o8MdwfBtQbuHq3tfrAFhY9JqNWb3ffHbcWRhEQa+P7A+M7p+48DQUKFQLBQH3WyOAAdGS7aTzeXylp1htmVx23Ycy7bLdW+gWCyVStlsVnGRlLJa94pFm7WSC0JrsViCBNZM/PA+gZ4EltmvqQ6FZYyKpJYzmWkVQW3NAoDWPJ+IgZJixKJIEJGMBKkMU5zyhaIfeLV6A5BcO2NbKCIxv1Bx3cwpJ5+6/cyzCT5TKc+/8847b77xxqGJ/W+/9Xplvlwul4MgUGGfnuc1Go1cLtdlhJhurNhDZiSx1FM/NLzvx9bCSpVWKwj98luPPqw1U5PZoaHRDZs2bj0hXyxaluO4LredSFCuNMi4bblZ23Ytx7VtGzlnjK1fty7jOjbnURQJz88Auq6bsZ1ISo7IUCJjFAkpBAAwi6vIrma71BUBACSlu7E6NXm1ZXe/5S/fwjJt7JXCxqzCnOC0iiMgPNorqHuIX6H9TQCVa4FxQCSGHACINeNjCcDzPGLgZDIqrUskJJEkokw+L8Kw6nkA4OTyp5515onbTg6DOlH4/HPPPvLII6+/trPeqCsjy83YgLLJURRnpJiFlfwphUSJX48trLHQ7KvJqTL96M0r2Yrz4cDBMN4lYAQYqIA9xG0nnrz1hJPXb9piW04oRcbNutksMCuTzTNmWbZtu5lsJudkMupIXs/zbIs7ltXSTApbaXOLM6aO5lKeA8uyLNdpBJ7StYCSqavskhUOuk4wVgh6H6f9g9WJ1WJO3GU7KZLOYLOEFGYiQSSAGIEAYsho8YqkAoAROaC6EgIDlWcYCQhJBQmjRGQEEhABJTIGSIxxVQ6gJImAqCLXlUEthCAgQQEAAC4mVWOIgBKIJAkikiRJSkKIopCAkHMpZSMMhYyElMBsEUZXfPK6x556KkImGQPGpIwACZCaRaodZUACGBBxQCICAptxy2bqXoaRZVkckACBgKSU+vhCIRkiADJkEoExYNQ610cSACGgxRlDRkQiilINMUTUcVumQEz2r/6wk1MftOsX2m7UV2Y+wmbJ7ZNiMDRWrITmDeHiV50XfzQIGS4KcQTGARkSgZQRABAQ6O17TUukGeeFDPVDgFg8IOkrAwKACKB1YiIhSAbAERmzpYTxqSl0MiObTowse3TDxg+de6Ft2xIc4JlcxrYcx3YcbtuW5biu62YymUzGsV1mW5Zl2ZxlLNtijCM4rmNZFuPAEADJtblqnlQZRDgnotDzOQFHBAJov6pt1rT4hJG5WzFhhSR7UIG50dXs2U6gsG2aBcZVCGmO4lbENArZVmZHNmhBRwvr2ACSyqlBIIGU7YPNk/6UL1FthelypQ73zSsmnmizrpPmadWrnfRNlkAgkAQSkDiTxCQjQAbSJs5sJ0uIgEy2gvpskIDKvOrP59DJfYMJ0D572XYI7vHlZF0bWL1Jn2kZSCQA4EAAEAYRgEDk+VxxZOvWLaeeJt3syOiYZWccy7Ud13ZcFe9iuY7ybzqO42YyzcNNFXDucLSQcc5aQcTKIdBxnKrUM5C4ElDK806NWik7HVu8nTY2iQBAACHq+2bW1T7gOBNYany2bsyHsfsVnwf1WGDMLtBPmtuhJaBlqZzxLffTYqSVeh1Ab8JQnLRYcsz2BEMqQRoRlPWkvVrQSgmvdyAyxsyDhcw5+HsYYtO9tZmuOo4ThkJKaVnW8PDw1q1bA27n8kVGzLVctVJsuY66se3msoz6k1uW2s9gce4wsJCZJzOv7Kw/Zrl0L3kFSWf6rNvVybtcYCnADmGWJpXXZuAlEdC1oxHt2bwBYsAZYwMDAy0pps8R6ObsxK7Zsjq1VAtKXYI+nlrJLM65MHISdzKz30uQalutgcyybVtKUCcrQ0uXBEEwWBx0eFNOqZMB1b06Wc5x1LyPa4Flc+TQDMTTa4KYOIj3KCGV01aEYkTUxag3xVar3v7KPx4FVmz0Ji0aWIUh10uB7bbS4oeo4w8YY0CIWCqVoCmnJBExzrDp7OxoYXXCypSMkLYYosWWzmqiA7hiTXv/WFhguMbWxsIKgoAIGGNIYFlWJpNh3HbcrMqjAJwBX0wWxFugt32qf0pUMcCYYbWCTUgqrdjNovZdhe0KCtrdqf2Vc9wJLGy540y26yK8VpsdYxOxVAVuYIUAIKXM5/PUXIkHUJKr6yZPLZVSVR8zjkXQofDq1xga+k0NMRK9H6TVMbGwoihizGKMqdVB27bRdpltM6sllVrHc5nWk8nJi9D6aw0wT0qroyywk4VlCt+jqet43HLUaRqYKrzWEquY0jNBv6YMnEwmY9rwHZfYElWkVgoGP+lJX3I5D1oyS08PY++8H6aECnpc0lpBUMmsdRYNdR8EgWVZ3LK4ZTHO1b+We50zxixc/GezZloOlkgAubIQY6rkpAFWIapO24y6dan1LgnHnYXVI6zZkEvOp7rrByW/VL49MOzEo+l500pS6bFMu13faAtLYyKlZLxj3MB7FY6J0x0ApJTqwBA1JSRggSDkXM0FWSt/rM4XpEE/tzlnINuMrdWcmsWep6rAFa/X7J1lVNFrehkNnero9/1OIKXUx5Fiu1cbVQqO1oGjeu4Ts33AGMYxrJLILGl0mEyDrbU5s4pY4l21i9BxnCAICoODQSCBQErJlZHVDN5TLzMAILF4BHky5kXjENuTAQmTSh+9o7S3KkQIwVrxRLGALN2uOE1osdXmNXl8w/IEX6e4vE5KPgZLVqrjp2ICulMtyTe7a35FL0kkVUifUkWIjLEoihzHqdf9gYGBer1OmVyhUGSMAWPAGLdt13Vd1+WWpThZrQbatu20DC6Q0nLiQ7K72OrOt10aG3sSS2ariZB09nfHhzGWGrTTqTdjfJUcyLGb43FKqCBptZqN0feqp83hlzzqfbUx7IRk7M0uhfQOqQzXnZvXzMQ4fuBYNdlUn01OYGrdeNF1xTlHxiw0bSyGiLyroHyfQIwCSYIc11NCE92YONAzoJh5qWXWGueYbyGmUFqmuMQOwRwxMNWOqreL5RjTUakvv8cg1uS1aa+pNpQMki17HDlHizPbwlY8qDkHtJSvnqm5+/tUYJnWCbQrWmw/ULJvgdWvCdoJurORKZti9ot+wZyRxdDo0cl99JDALS5Vey8kNlPr/smSc1vDUxAftO/tUXFMpJVZI7bSmQFjhEgM9RMzlEFniVkMbngf5VxYhBjfxm5iMguOQwtLC6XY3Cq2kK8ZMbYnbs0mQTFDr/mUgAElPezdp4RJUbWkHWQWmPyk/df+fBDvDTCZpBejdQXrRUQlhkhzLIByY8FihMPi9NBizEKGgKy1Y+V9CElppf+MsfeKCaxODLG8gRETQGZp2vbWFhYz9qbo61q6sWBRvCJjjGH6Ya7dC+nRwupkPCb99OpGyrbh+t42r+BYW1hagXHOpbGQr4WUKbNYazJo8nnyOIn3PMSYM6aMYzJrxaaE/b7fCyeZHUkJUM/ZqsUE9wVNO4tAxQ2aOGPPFlaPNFnGO9Qeo99jXe9eWHtpZYIZS6VFlWWAFlgxhN+H0EVaQcKBhYjH4yphzLbqLraazAEcsZkuRgoQopX9J3ldTVTVk9bOeGyrtJ/auwu45BS4x297fOG9B6suDkjbxQgACJwhR0SOaCGzGbMYszm3GbcZZ4ypGBeGEpEAJGDzH4FYk3kB9XpdK+idaa1+/dMxR8myuV9HM8WK5ZyrfBTmgYapVasnnNnqGZEEQgCmdjaISAISUPxq2StzWEOnhjPG6tXqxo2bOLMdx/EadYszKSU0Y6xUXsBmQm5kIIViVkAEhiBl86RDfd4fKN2irQaZLqGSlEziadodnfpdivSmpVptANA5bwlq5NuuHV5Pdm732XFny33xJCRYbC9qhREvH0SMk7UiTC2fIULr2AdqvowSpADM5wrVqkdg2ZYbBWTlXW45FjEXWZZbLjILkQPYDGyOFgeLITLgDACb9i8HjEQ8Lql7eztSv8MyMSAha6bQIwkEgghVBjoAqa+t3HOd+STV5YIA2Mw3hsZxBESkjpIlUhUv5hBhRmRVJ0cKtc6FWs6UMFnc0UBybtIcyYneSj3xWJszWrml5gZavAI0czD2A33JMpLAua3M/jBQwXhMRFFqkIWaMB5X8D60v1YGCJv/FgnIGDG1pdn8xwAQkSMAAFMHPyPC4krNqkx6tLRqSopYzjgCM3dVW+65Zc1LerGYlrcYshyBlTrtXIaFYvpu2hrQm27R0JeflYign5x2ukzTcdYFpJQqN5vjOPrw1CiKOF/MbtosUyetPC7hKC3o9xskeaNpNCUyW7FV3iqYxCo5QI6+c9O/xZR3KLGlH40whS6Y68/NVvR0kGqXF46yzTGZBQhSSkBpNilVDC1avHJNV4WWFFtEZNtWJpPJ5XKz01Xbbu6nIbYywQR9E3xZFZqduzyF9L6FmIcxFsfAWjkbWv7H9In80UPSRUCkkiYTYroQSWKyvBlAqnjq9A4aQi72WvKro50SHj1DY2KNTAmsZC3dwZRWK9v3poXV+1eO4wwODs5MHYE467RZWEDHXbBgqvn8AfQFpsDS2a9Yh6wyq4pJutiilLCbTr7OTtDVwoonkOkyAVSHD0B7BIP5cmxy0/fm59gLy6a4aS4uyiwgbWElf02tV7Z3yZJipdOUsEex2EstKk/uyMjIO3u48hc2kzespoW1smI66UP8wMLqC0zzqi2cfXHzIJgWFqy+kZXK+XoqE5u+HQ0ySXHczcJKW1Xr9CcR9X3ys1nN0euHpAOLlqXkV3U+uKSlagIiCiE4Y0NDQ7ZtR5GvBBZEoVmCwRYrtnyxsuWsmRXw3gNtXkFrc77pwzJ+XIQ1kVatPxML/eYMsUdM+rKwUr/tSx3qF1ZmSWJFJJe6ifkmNaQ2aQ3MjX5FIbZO0Mrlcsqw0juxY96Bd4XN8oG06hdis61OkPrt6omtJWFVOzpZeNIoib2TnMwqSJ8SLol978OYJZL5psr+1lVyNBeGF19jiSxUTVTBig1+bGVYT2tY25TTvC5pN2nLWb0ZRVGMNQEAkZGIgiBwrcw555xz9/e+MzY2Upmbc1071mQiIgQEYMi0RkJElcoK2s+DMxvYL0+bdDOZQ4WJpNBBtpVPS60oxV4w/RFJ6vWFuf62l580lVZq4JlhgG0UaE0FEFp8Sk1kfN+3LMsPIyGE4zi+EOqgeTUlVGS3LKu5XtyaEuoOVS/0u6MsaRnFBkgMdJwjtPOSDhuKiVQSi/GSnZhwkT4IURQ1YyNahcQiLqFdWxNFkC4K4oNalZYusFaw4ztBXxZT93KOrbViWn9krKqoyIYu5uHRVPQBrCysvSHZvcZl47PiHJJUNtqHk4ok4mJYkmlGrRRicR/Wu25IdBJYnbpcE9QsYRn1djLs1WZsRMxms9lsFo66t0wVqvR6f59DSo6Od10vryokpyewciSK2WhJtkkasMvAp7sFdJT4xxgYjRB2MPiKiJpzhXZRtVKYKLBi5FgzNZ5qVaodKP2WY/YWdl5AXVmIcV6bkYVIRPl8Pp/PCxF0nJ8uVX6s5KNBNYnhUZb5noFU6bAaVXS0R1Innj3jkxRS3fi//8Z1srCSaCxOAFeTuazUUfceBtPCiumNvsqJ+ebQCCFhjEkplYW1sOAdvQ5ox22ZFpbG9oOpZRKSImNlSZS0sDQPpgqmfvFZDduqOyTtg0ULazVhUWCtMSubNp2+LsPC0t1pqqY1sCC6CHpEVG5Xx3GUb970bfVe/orM4JIlfCCtTFhtC8uQUEtYWNDOur3jE5NWKzvDSLrDYzedKlolGfqut7CS9OousJSFlRzAR9PByUm+iITKfCSEYMsVoKm+gxXB8AOIwerNB7vXaJokSTfWsqVVx2+x7zHevqIXF17tDixoraNS8tuVoi0DgGOSHyeVcAjt2aOWvFIsGG8RVhbbFFRTNWfLkFJJWhBRys50axK2p3XslRpRPa6osp6v70lYDp2Rmv8Wo8lTNpl16sfuNS6Jz+ppIwIJyskOUl2bDyFFPiw6lCUSkXntNH5bROtVClkMiUAQAYAAQkSJyAAlQ6Yz5gAwRELkAJBIEZ5oYSxESyuQ1gvYfIz6A30lAM4tAqn6HwDVvLg5o0KVTIYBISIHY19erEc7WqqtZ0m+6dTlurnUfhOGIbbOSSSiUAgppcVYFIqMawshspmclJDJZGaOHF6/fl0QBotfq0AwBAASIv1cxZi+XdRakJJmx2xLTB9qX1ty9hErQb3PkSk6EQA2j040ExLGr5TscaPA2HIStPdXdync3fI1T0UyK2J88VHrPwIAZC0no24+IiZs7V7n4NTsPgAAJCBkDIIgtG0uIfSDRig8O1eUJDhHKaUQwnVdhXMrQkotqC0eaqmu5rmV5kjplO6907l+Ola57YXOFlZyBLV+UNRjBFJdm9KAVMMJmpnoJQADAiJqptlpZaYDQECmR27bFYkBqiy9gASqfKakGCMQJEG25+qyOuXEiWfMAWypi9XVrEQEicxWTcsrNb/VMQLXdYUQQogwDNUNEYGU+Xx+8sih4dJANmPVarUgCNavX1+tLjgszhC0tnOQHiGuV7pe4XjKQX4siYl6fiQBQMgQ2rLXLUrtHk0hU2N18ROlINKu9hLiuMdi2jABAABBRPoK1D4/MK/UUiTdM9PFxm9c2qjMgtqgE0AAIBDQ0u1cJavyveo6CcMQDCumeRAG0fzcfD6fHxgYOLB/TxRFUspMJuN5dZCLJzaTQfDjTmK9S6CXYbyWIoyI9C4FxRvJvQpacPWImLYxlxxE3c3nPizHDjjomzUbzvpcd12josNiHFbs5lhBjCLJmU4MjhW2vu+7rqv2XijzSkpJUhYKheGhgT/tfPXhh36JiLlcbmFhwXEc4Xsxdaf74Zjg/x4AolSPdRt/rzh7qIkVAujwGFRTY0mc8yCIAEAlbtRcoaDJIbrjl8KrRymTpEDqV7o0xHjg9JJomDem+Oi9kI7vdy4jZpbqz+MW1nE4STm2oCfAMR+WY1mubTPGPM8TYQgAiCiFzOcLO3fufOyhh/fu2aNyIVUaDcexzD1QpjPlA4G1PKAeonDWkpmllI7jSBlAB4GlTQZQkXH9rAAuCam2VcxCWd6U8FhBO9qLrVs8Iyt5s1IVp8KS72sUVxaflQLla4+iSAjBOc9ms67rIuIvf/nLH/zgB4j42c9+tlAolMtl27Y7eYjXzMB+T4JJvRifxJYs1oB/iIhzrs4h930fWpMaU1T10u+pEqcvIyvZ3pipkgpdCu/r/RUHs1Goj/nqNPs9/mG1CapXq2P/SMgoCAPPB0mOZctIjO8/8MIf/7hjx46RkZFrrrnm6quvViWogKzUwj8QWMuGJUm3WvzQAcjwYQVBAIaFZUwG+3YD9S7g9MCOfUjtc7qVau9ql2PKqbajZ5fRhlUFSvM7HIdiVFlYyrEahuGRI0eefvrp3z399Gc/c8u111w9WCgeHH+nXC6PjY3Nz0zX657L21ZXPzCujh4o4cRARHnsnLDYch6pVC1aPJk3pKeES4H5TuqgSFa9GtCp5DXgX0yYyYhomXlwwHDOK6MgBd0O8T6dGtAvKbG9fHNu2Fc5/YKpoEzVxBABIAiCIAgcx8lkMmEYVqtVInJdV/35/PPPP/DAA9ls9m/+5m/OPXt7FAVTU1Oe55144okvvPBsKZf1PAm0OEEQkkDF4SCqvTvmUcCqY5LxNerPTuc5JvMf6bao+04frjEkz7lLyp3eIWl9mK2Gdv6JVaG+7fS+OYtv4w1JpPyP2gQAQADGmHIOUESe5/m+b2VySnipiqIo8n2fiDhzHMdR6Sk5a8OKiKi9H2O9bzYk9mHsE0gdShgntWb1JemfrDQVWJ9hT1EUOa4FraVVy7KklI1GI5PJ1Gq1TCZj23YYhpZlTU9Pv/DCC3EL6zi0ZY4hEJGQUgiRyWRGRkYajcb09DQADAwMqLSijUbjwQcffPzxxz/ykY/ceuutIGUURSKKGBFjTDndm8JCyCVpSx/sTD5uoJcxbAIupngEFZfH0owsODpV0TtK7xZGymazkqIwDPWuW4V2pVLZtm3bkSNHJiYmtmzZMjc398gjj7z22mtNgRUzZI5DsbVSFlyX8lP7GBFLhUIURYcnJhBxdHhYSjk/P18sFg8dOvSjH/1o165dN95ww0c/+lHHsgYHB2enpqUQDJllWbZt6yNSUgun3laLPoBjAtr060WRmAJLDT8HINXj3ip5mTOPvmQWGIyNiMcw6q8D9UgIEUaBOs1TpTmRUrqum81md+7cOTw8fOaZZz777LP33XdfNpu9/fbbU3xYyZSm7xMwJwhNO5lARlG9XmeMZTIZZWEVCoWNGzc+8cQT99xzTxAEX/jCF6644grbtiuVysH9B3KZDBEhQ8dxbNtWkzspJUvMSjTvasWCqxM6tCLQzT+6lngcI1iyX9RgY4whSt/3wzB0W10fC2tITmNjFUFiDghHrZhX3ODqiE+flQRBIElwzm3bFkIEQVN4IeL69esZY48//vivf/3rkZGRW2+99cwzz7R0erkep7LvVUjVokQUhmEhmwvDsFGvDw0NDQwM7Nq165EHH3rwwQdPO+20G2+88fzzz280GvOzc5zzXC7HAFAiY4xhc3FQCCGlRN6Wxk/xrKkDO+HwARwTMM0raBvw6QNECyzGwPd9tVDYr7SCmEHUOVIB0kSbCamstYxsDasNaqQgYhiGQRD4vq+8h8ViMQzDe+6556mnnrr44ouvv/76TCYzPj5uqbXY5la4o/OAriqs9pQQElqUiBAgm80qdslms1EUvfnmm48//vgjjzxyxRVXfPnLXx4bG3nnnQPKmq3VakNDQ4HnqXLUeXS62E48F7OwVqotKw79WljH28BYHvTeKYyxKIpUYKPn+0EQoGFhkRHZ0KPM0n/GLKy+CHv86L9OU0IgYgyFEMqHNTAwYNs2AOzZs+eBBx7Yt2/f9ddf/4lPfML3/cnJyUKhYKloN73vaW1bcZyC6WvgljUzNT00NDQ6Ovrwww9/85vfLJVKf/u3f3v99Vfv3394amo2m80ePnx4bGxsy5Ytb7755tjoqKInt5pCiiFalqXSXMQFYkIN6l+PZ+H1foBUB1aXTlEWlmVZjEEYBFHUPAyGErGj0HWgmcxgZtro1wZPcWABUL8TtqXKT4H+p4SOaykS5XK5XC5XLpcPHjx4//33R1F08803X3rppQsLC2EYrl+/vtFoWDYyASQBJQESSCAAkOY6ehxTAgCVGqJ1BeOKbde1gWS9XfDpmn8qqVGr1erGLZtnp6Z/du89Lz3/whlnn3X9tdd9+JKL9+07xB27Wq1KhE2bNtV9b2Ji4sQTT6xVKi0F0NxFwDlDJPMgVViJBaNVAj3tofYrJJ4oMq1NqgbWTF+y9HVVgYjIyLrByLAuGRJKiSBRKieABRSR0F2cKq0kwGL0hAIkQCACFdONDIzUCIqPZduIgwS3qycAybGJiARidb2OKfLBxCdlPGIr5kYtZ+3cufP3v/+953l33nnnWWedNTU1FUWR67oqlsgacKBcEaNFd//4QijF1m0bZuYafhiacSisDROdZEYCMEAJiIBSqPP+gAO0rsgBmplhzG5rtquDhO7Ic50kOhJgCxPjyi2VOYcRCEUgkgBISG2JPzQmFueNRoOIMpkMQ1Zv1FUOo9GxsTfeeOPhBx989fXXLzz//NvvuOOELRvGJyYFycD3mcURoO57EsBynYVa1bYs3/cH8oUo8gcHB4UQ3LHD0GeJcKHuXNNJllGiHHWTjG9S0Ol8umQJLZ2MkCawqIOAWBLP2FzGpLl5Tb7f/LX1XK22cmzGPQERg2bGLvMqpPq8VYjGR8a9QuoqKepOH2hXY5IYADCUTckATRXYiAIfyGbg5DJRZaEyNx3UFvKlISQSQBFJAc2bSEoupSACIiApWgYUYwwQGScAQmCAkkgSSQROpGJiJBEq0wKgdSVqjjVUV9V/JETU5P9WPimSzQxRyS5L9VfE+jH5ifnCYveRQMQkpzi2HYSeiMiyGSKPRCgiQkb5fB4AZmZmCoVCNpt95JFHfvvb346MjPz93/89AExPTyOiSjGgONx6+YXXLrho+9y8Pzw4aGXtt97a72QyA0NDXhgAQDNhVwq+KfmzFE3j97Sa+bOwpelTM3kZeFIraq6LUZPP58MwrNfrKidMPp9HxIceeui3v/3t/Pz8TTfddN1112Wz2YOHppSHAlriVV+ZYcmrOUJyrveuANnzdbUB22/0lRJPFHSys1IH5FH2i7KwlIQkIrSYBBIy4pyX56Y5kYxC5CrUtC0a2ZTO1DLF9Z8AQCAQMDamlnmNjdNVhiadE5hUqvOlUoll2fz8vO/7uVyuUMwhYq1Wm5qa2rJlC+f8Jz/5yY4dOy699NJrr71W7cc0i1VEs7793e8WB/5u64lbJIP5um/b9vDwcCjS01ouiejx5nmJ8Yfyo8ccn0p/zs3NrVu3LpvNNhoN27Zd1z106NDOnTvvvffe00477ZZbbrnkkksAYP/+/UKIsbGxarUaqwWUGUJSCywhxJJnfJHBzXgchzUcb9CvRbB6wAgkghAi4zhBSEJGrm1PTEwo91XSh6Xu9edowDJq77R62Pv7qwQxNBhjSs03F9MZq1QqtVqNiM4888wDBw786Ec/mpiYuPrqqz/60Y9almUKLHNcWNVq9b/99//+D//2HzdsHKrVahs2bCDEuuexTj6sDpBc11ge9Pdt53eTk9BkR5qO1ZGRkUOHDkVRtGnTpkKh8Oabbz744IPPPffc1Vdffckll5x55plBEFQqlVKpJKWcmZlxXTe1XimlWnhFhnqpqMfW9Ojf/QC6QI/jfpEZVojMJATnXPoBETmOMzM1LcNI9b7pejdTOGhUY0sxsHKj6ViBOdbUfSaTUVl31OnCKhmv67obNmx45plnHnnkkSiKbrrppgsvvJCIZmZmMpmMWeCi6+OOO+98e8/u799990I12rRpWEp5+PBhjsgAWD/pkI9SUawSpIqtpIUFAMpjtWHDBs75ww8//F//63/ds2fPrbfe+oUvfOGEE06YnZ2dn5+3LMtxHMuyMplMsqW6WLXwSkSqh7oLLNPCgmNhILxLATvAatcrsTkHjD9vTf85os15o9GoVqsWMtkVzE6PzRmpFQ0DXWWW2fYkb3d/f7XpZuIThqHruq7r+r5fr9fVTG54eHjHjh133323lPLLX/7yeeed12g0VBCpSQETrIsuufgzEwd/ds89w+vHvvCl223OhwYGYk73XiCpJaA1BVt2OT28DbBU0DAYDAHtCtW0sBqNxtatW+bnF+65555HH320UCh85jOfue66qycnZxlj2WxWCNFoNFT60Fwu57XirWI8B0Sc8yiKGGK9XiciqTymnQURtcc3fGBhHQ0sOfhiimFFyMwIOOdIhES2ZXmh4IjTU1Mbt57YSVQpd4E6gwISXPRut7AgoYnDMHQcJwzDRqNRLBZLpdL+/ftffPHF3/zmNxdddNFVV121fv36crmMiGqNNbaIpIlgVev1666/fvf+fU899dTg8PBVV101NJSdmorM13s54kuXeJzYCKnSKvVGQT6ff+mlHY8//vgbb7xx0UUX3X777Zs2rT9w4BAiqv3iQRAoteB53uHDhwcHB7E9IkZLZ8aYCAPBsNFoSCmRJGNL8xx94L16N4NKM6BugoWaY1mHJybOOifAlrEQA5UlRQks2dKaRIR9plfSqk4/OX4UnmnuOY7TaDSEELlcDhF379797LPPvvjii9u3b7/uuuuGh4dV3PXMzMz+/fu3bdumZicKTDOTRSQlZ7fddpvtuvfdd9++fftAQj6f15ETPR5IeHzqhFTpGbOZ1f2OHTt++MMfvvrqq9dcc81f/MVfuK67f//BTCbjOE4QBIrQnPNKpSKl3LJlS5dKtZYIgkBbtt0x7CRGP4CVgtQuWEFqO9wCKTmixVgYBA635qZnRBimSisFsj2rX4wt32NgWVYQBNlsdmhoaHx8/P7773/zzTe3b99+++23Dw8Ph2FYq9UmJydLpdLJJ5+8sLAQ+3zRh2W7bsP31q1ff9ddd0VR9I1vfKNeF67NRofztUqVtVwwjLFyuVwo5DshZFIfzNCShNtIP+9UjrmqsiQhdCap2Gxch+8r3dXc0IfIGFOGj3KNZ7NZ3/efffbZ//Sf/tPo6Og//uM/XnvttWqBL5PJqK9UjmOVDVlty6zVarqBTO3B4VxlFuWce55XLBaDIDh48KB6qLbvq6wj5iKRiXCMep24POZxWJLRiUihp75SGHZxq3XyccRq6fRaEmJ4xhDWr3Xqxy7tSgXWAWTn/TGUyLzepV6N7SLmiIgYBEEmk8nYzuz09PDwsBBifm6uVqupjSaq96MoUtvlwjA0nfFRFEVRpJBXJ12apDDbG8OhyzhSnKY7OiYWzZZ2p3anbtUlmAQBACllGIZEpEzOarUahmEul6vX68r5++qrr373u9/dtWvXxz72sbvuuisMw0ql4nleNpvNZrOe5ykPV4wCi/3bCIO65/lhcMppp37hC1+Ympr6j//X/+VYgAjDg4MA4Np26PuIeOKJm48cmezORsccdKc6jqPY1BQWYRjOzc2ddNLmbDa7sLAwMDAwPT394x//+Ac/+MFdd9119dVXb968WW0K611iJkHVOz09rSJR8fiYLFO7Kff+hCXlYHfQAWgxeY8qBjWMkMi1bJtzKUTg+7VKVcmpKIrUMNbj0PycOtvXR9lruqKjbPiSoDFUUomIqtUqIo6NjWUymUOHDuVyuQ0bNjz22GP//M//PDw8/G//7b+95JJLDhw40G9FzA9DJ5MhxHq9/pGPfOSaa65588037/7uT72aHCq5QcNjjJVKperCgu8Lx3FWuqUrA5SYWKk8FQCgtJZK9mJZ1sjIyJ/+tCuKotNOO/HFF1/8p3/6p3379t10001XXXXV6aef7jiO53lhGKr0e100WBdMlAmzb9++er0ORswbHKOpX8ymoPelsyw2dFecApwxZTc5jmMzDlIGDa+6sABCKk2pDtxV3AgJBqCVniGa7V1VsZXEWeUOVXEJlUpFCDE6OhoEwQ9+8IP777//3HPP/cpXvrJp06ZyuVwqlbob5kmwJILjOhzZ3MyM4zi33HxzWG/87Gc/GxkZuf76q4aHh+fm5kpDg7Ztz8zMlEqlUCy9laEX6IhTn51ERAApbiCV0diyLGUb6/dt21bk+8lPfvHAAw+sW7fuc5/73DnnnFOtVpUmNLlKr1X3DlJKizOGbP/+/WriqZIjm8xnite1kRwmV61JhccjYHuumFbPLpMgsR0gKtYRwbI554gcEIjU9jcAkK3DK/W8KSmPlMwCxmIaZdkKJvYVrmbmBi2tfN9Xar65qoAYRVGj0VD+8csvv/zGG2/MZrPlclm54fuNRrCYZflh6Es5OjYW+H4k/csvv3x2evqRhx4aGx39sz871/Oy09PT69ePzVeq1WrVzWaWLnXNIWm52LatojmCIFA5oc10evfcc8+TTz552WWX3XrrrWqFQq2kWpalWUoZ88oH0TtIKYFzxtihQ4eUA0sfoRq/romZE3OCJOcj7yuIyayVKpYROJbVaDQ4a8odx3FIMq9eVzpPDUud3105KBCRy7g/lxL5GHBZ+x9ihuTyCukRqB045+oMhEKhYNv2a6+99vvf/75cLn/4wx+++uqrBwYG9uzZY1nW+vXra7Vav3UxSZTJZssLC1LKfD6vPDuf/exnhwYHv/fd7+7ZMzE0lM1nso2G1+W4qmVAv6ZgF4hJK001aLkebdvO5XLq3MA//vGP//k//+cXX3zxC1/4wt/8zd+Mjo7OzMzEfK7K1AKAZUyBtX93amrKcRylYcwsiUmE1wCOforxbgfNXUc5P0quVjACUK4ARMaY8qJnHMfmvFwuq3g9bXRod6q6SV2BSVpey8ATDJm1SrNgBbH5oG3b1WqVMbZ582YieuaZZ55++ulyuXzdddd9/OMfl1JOTk5u2rQpn8+r/Fb9VscEECLm8/n5+XnP84aGhhhjg4ODn/zkJ4UQP/nJT2Zn6+vWFVV8aqFUXIUmHxUkpZX6U7k5pZSu6xYKBUQcHx9/9tlnH3jggSiKPv/5z994441qSWJsbCx1BYcxtgyBpSahURTNzs6q1cYwDJWZdqykFaQt1K5Z1ccVrIjMSgWVf861bAAQQliWRUQzk1OVSkVlH1WGlV7PMQVWqsI2++soZRasTo/HVpMUtooOnPO5ubnnn3/+2WeftSzr+uuv37x584YNGyzLmp+fV16tXC43OTnZr+HCLGSTR45s3bx+YGBgamoqFCIMQz8MTz7llM/ccsvOnTu/973vAcD69QOIGHh+7DzRHppFi9lwlrwuF5I9qmdAarlwamrqmWeeufvuu0dGRv7Vv/pX11xz1dTUVLlcJqKFhQVEdF1XLfkrQxIRVYbpfjFxOEMppPDrtQqClGHzaGiVfAcAJaRo0TWA97N5lYSjH8CsladBApPAgigiYMxWcTzSYkxSOFee8RsVEXggIxCSIiGlJIlEFEmKVPIYYkAMETkibw95fxeBRrharW7ZsgUR77vvvl//+tfr1q27/vrrL7744lKp9MYbb/i+f9JJJ83Ozu7Zs8e27WKxbwPIcpE5pYHZqTISqdOriCEBhVF4zgXnn//6a88888yJJ574mc9cNzw4WKvVlN0rhFAnVvpBqAw0tbuaml1otERGAICMG4m7iEAiquw8jEAA6Kw9YLF0J1xMnLduCAlURJWyjFQYCxEBsspCZXR0dGAg99RTf1DHx99262c/ee01UsqZuQXLsZnFCYBZXIknYLiYk5EhAAiSSIuVmrMq5ZtQQC3HKpL0w/r6kYHnn3s28usyCm2L5fN53w+FimEGBgyBCIjUWjg0Pe8IgNBM8YRdfPFE5pWg86mcTWecACAgiQwtxphtOUQkKUpuu20md0qnc/qukS7vSyOHbaqlEJuwdG+F0XxKfa5BhR7FPHdgHK2ibcym8wibD2M7+zR6ZsgVR5QgAYCpDiKU5uHpHOpeAzkgY17oOa4FwJ56/JGv/PW/pEYjUygGYRj5QZXVHSdjESADP5CIITFpcUTGGUPGEVoxVr04SRTzp1I41QnQxFwXSy1mkktHn+liAcCrN9TEpTnwpVR25amnnrpr165HH330zTffPO+8826++eaRkZG9e/fmcrmhoSEAqFQqKgeW8rp0aiB2CP2z+GIKHkAAYs0UOkEU2VJee+21nuc99NBDY2NjH/nIBZVyZNt20PBs2+aMh1IMDQwIosOHDw8MDHSqGAC65fQhAJTNVIoAyRSMqaBbUigUZmanhBBqr0y5XBZCFItFRNy8efP09PQDDzzw3HPPDQwMXHXVVZdffrkfBjGHTowo3ZXbEi8gWUgWykMT41KECBLATC/DxBplkQLoTUtrAbRKk0RMC+lIcv8KArWvZnSXhsuAZJxLrEcJWrwNxAj9evXw/n1bTzhJiogkRVFkS5BSCgJJJIBIqqySTG1F7Hfd+JjYYmp6q8658TzPtm0lvKSUzz777OOPPz41NXXVVVddddVVjuMcOnRoBbmLxXSI/rNQKMzNzW3duvX6668nop/+9Kevv75nw4ZBFRWmNgBHUaRivtX+oGUA9DnNTrqBZmZmcrlcqVRqNBqNRqNUKhWLxUqlYtv24cOHH3744YcffrhQKHzpS1+67rqrlBUWC3iBdsMhdQAn6ZNUgE0NYFlCiDfeeCMMQ60lkjX22N6jAbPGZHtXtWroHD9tPiQDOpVDHaBfZPp6fwWhXqm+9tprRKS8Vyo8UAgBUuhg9BiH9AXLI0hfkNpl27ZtGx8fn52dHRoaIiI1+v70pz994xvfAIDPfvazn/zkJznn+/fv9zxv48aNK4WM1TbkjKuaXs3Pz2/ZsuWGG2645557fvzjH//d3/3d6GiBqKTiAPL5fK1Wq1Qqw8PDZkI7E1jXE9IxmeS/A+WTJRARIORyuVqtQkS5XM5xHLUmuH79+hdffPFnP/vZkSNHbrnlFiVzDxw4kslkJMRHrK4a0+J0sP0djXan3S2u61YqlbfffluVoBhRr2evgbyINY06hNrHWgQrPaoxsTM8ViO1r9+vVO167JqddUzMEAAApEiEe3bvCkLfdWxAHka+kBFE2NwsLaTkUkqgxAyoRzCHwxrwlWbjAwcObNy4kYjm5+dVpPQLL7zw0EMPbd++/ZJLLjnrrLN836/Vaio09PDhwyoN1tHD4rnEMatnbm5ueHg4CIK5ubnzzz//k5/85Pz8/Le+9S3fh0LBAoDZ2dlSyR0ZGVYxF90tKWYcgKwqjllYPfJrUmypcA8lJqIoGhjI1uv1p59++mtf+xrn/I477vjUpz5VKDjq4A3XdWMjJ2lJxW5MbHVbzN1eJqMoC+vAgQMTExPYcvaBEYCz2lylQNViOmVibG2KTuot79IyQBfbpfYVrK4LAsfKwmIAjmXNzczMzcwgkcUYCQFCSrm49+soGSP5effGJivtvWrz/dnZWZVD3HEc13UfeeSR++67b9u2bV/60pe2bdu2sLBQrVbVKpYyLZfRtFSw2njawLtQKNRqNbXClcvlLrnkkkql8uijj27cuPH2229bv37gyBGoVAKVbasLQrEcwZTQq/pJk9CdSReTVkQEQEEQIGtOUQHgzTf3PvbYY08++eQ555xz2223nXPOqTMztTffnBgZGVFR+8iZycexbqZ2cy/JBPpGtYsSAjSKoldeeUX1FiKqqb72QK+BtNL4kCGXIU06ULsHfVUtLI2A3pHe4z7nfimmSXxcWFgAts2rXn3fO3vHNmywLQskRCLgzI1JClJme48eXANSm7Z6TdZon3766fv27cvlco1G45e//OVrr7122WWX3XjjjSqsIZPJRFHkeZ4QIpvNjo2NLSNGNBXip9JrhAqFgso/l8lkfN/PZrPbt2+/6KKLnnzyySeffAoA1q8fqNVq8/PzKu/KkuaVyZ3JcbLkaEmTVgAAGzeum5iYOHz4cKHgHDhw4H/+z//5hz/84aMf/ej/+X/+vzds2DAxMWtZ1qZNm4IgMPOuJg2lVGRiNmAqmEgiYq1We+mll9R2KgBQEh8MCbJKYksLXHMkxOqK/dSpkJVFSVcNLWet6a/RHLKC9XbHZI0BATjC22/9KfAbICVIKRMWR5ORaAnZnQpHYyX18q2p8EymUnbT4cOHf/GLXzzzzDM33njjv/k3/5uU0vM8tRenVqs5jjM2NpbP51VmviWHTy8Qt7CodUzD7OzsyMiIjKLZ2Vmb8cHBwZNOOimfz3/9619/6KGHisXipZeer5Ko5PPu1NRcpxznnYT98pRA8pOJickLLji7Vovuvvunv/zlL/P5/Be+8IXrr7/q4MEZ5dWanZ3lnKsTt2ZnZ7P5XEwq9Y5eLx82Go29e/cqeiKicgXisYivMUX8WtaroFP/JumgGHelMFRNPYYSKgaSBEeamDjoefVssSSJhIgsEojNuJaYOgRi3WYZXYHWcFu753kzMzM//vGPwzD8D//hP5x99tk7d76NiLlcTh03Pzg4KKWcm5vjnBeLxdgpOMsGyxT2TZoRAEAmkwmCgAEMDAygJN/3iWhwcPD222//4Q9/+LOf/Wx4ePjUM04IAqtW823bdhxHCEEInHPZSgCknTgAQO15+JOUVU9kB8bVRSGi2vtu23a+kNu4vrRn78QDDzzwzDPPbNu27c477zz77DOmpiqMMc/zFAUBQFmLuVyOtewdM1DIlEHY7pZSmRt0PilqedBt2/Y8T0XBQOukcjebeXbHjvn5edu2M5nM9PR0sVjU1hYklvnR9O4bCodamznMl01qJA0o8z5VsKo/VaeoFF2d6BwrM4aDaRl1EeupPhpqbZlCY/1UV2qirevinekQs+CISBIxxqjd2Ez2chu5MM4G6qqihFjrAKTeBYF+U91kHNt13YMHxt9880/n54vczdSr1Wy+IIQAh5rsxDlntmWxiARjTB39qQdmrDe7VGpWLfo8+MqMK1RPFE1qtdq6desQcXJystFoFAoFlSfu4Ycf/sMf/rBp06Y777xz8+bNExMTKpxIRWNBi4DKjukirTq1y2Qz87Wl9waqT/QHGzdu/PjHP/7HP/7xkUceGRn7i6GhbLVOjuOoBF2E4Pu+BHAcx3GaHdJe1HLsQGgl6lMO/lwut27dYBBQeX5ux4tvP/Twr8fHx6+99tqbb755dLQ4N1dXsSHQLgWWhFQlH0uoZg4A9USJYDUOPc977bXXlHBU+Y9UttIuOCRZrS+yYJobrlPTYgLoXQ3ahjUJ2FzSTbyMiTW4xQ8TPtYVpA8DYAxqjUa2kD88MR6cfY5jW242E/qebdtCOOYm1kjNcLCJBhgd2i9XLKMJerxA++xv/fr1e/bsKZVKw8PD8/PzhUKhXC4/+OCDL7zwwuWXX3755ZdnMpnx8XEVWjQ/P99pprVS0M13gGlQKpUuvfTSU0899dVXX3344YcbDRoczOizZFzXVcaI2gOsEkKZpenB3y+i8/PzuZw7OFgkonq97vtyamrqpZde+u53v2vb9l/8xV/ceuutQ0PFqamFer2uAkfNcOHUxGkmxHS4flOl69Sfa/y1sQDtSVmff/55tds5iiLOudpL2Mum8WXIcdM0S+oi3RxTyK6lzIqhZ+KWarv1BTFfGHRw5Jt/UruNrz8xFZIp9JPYLgNPizER+gOl4v539k5NT6q8DirnmmgHEzezy3qhT+z9ZYA5QDShhBALCwsbNmwQQkxPT+fz+UOHDt1///3PPvvs1Vdffemll27YsEEZ7EIIdTxqqtDoAv3i2XEgmRyGuLgo5nleLpf7+Mc/vrCw8OijjxaLxU/d8IlMBoRwhRASyHEcG1E1IAiCXMvPTUcXVD04OHjkyLSUcnBw0Lbt3bt3P/300ztffeWCCy742Mc/evbZZ9Tr/sGDR1zXzWQyCwsL2WzWrI5a8y/Z1UGQnHGwDn4rZVUp2QQASngdOXJkfHzcdV01gXUcx5xZdCc1QNza6gWSL+vB1slwWDNpRWkrwklZsLzyVTogdY2zfmIaqF6ICW6NFRrz06RgSraiP0SRLI6OzSany+/s3XviyadLKcKQwjC0wlDYTsiYFUWBFXHRIlF7FrbuNZrdjYaHoV9Qcc5gSGcdQqhShOdyuSNHjnzjG984ePDgF7/4xU996lPVanV6etpxnKGhodnZ2UajsWnTppVaDewEPQksxhZTjHueV6vVNm3adOWVV07PzT7++OOlwcHLLrvQdfncXN0Pg1wux21b5ajO5/NJjjSVWGrNqU/V3GpgYCCXc55/fsd9991Xr9cvuOCC2279rONatZrn+76iLGNMSav08d+h3k54KvlmevrUmypVlt69qLxCe/fujaJoYLCoFnSVwEJEJbbSW9vuwFqS22IDvvtrsUZRK7BgeTzdL6ARIBKTX7H7ZRSuRlQy/ZuiY0zxKFACziwBDHboovB7wbDjO0LmM9koEozj3r27Lw89DGxAOwzDjGjmIBVqc66wGCcpJTJS9NF+TFxqUcKUVsujp3JcmLpT1V6v17PZbKlUevHFFx955BHHcf76r//60ksvPXDgwPDwcLFYbDQa6khUIYTa99JXvf1i21Hzxyw3bTZns1kimpubO+WUU26++WbP837xi18cODBlWVAqFZVNGASBMj2abqyjtv8BIAiCk09e7zjOz39+3ze/+c0gCD796U//i3/xJWW7MsaUtFKmtU4LEzNeukBMr5omgKlz9EYKNex1NyOicmAp+aXSPOh8Dz0ukcSEV4+fxKBT00z818DISrbFVOCwErMYaO8dBUkimDysDwpBRDXlidGkizZdDt2QpAxth0cizDju3MzM4cOHwyBAEDIKzXx+eiWKOpyU0YUC5s2y6Wk6T7gBAwMDYRg++uijP/7xjzOZzF/91V9dc8018/PzKsyKiNRkQnmEVjBAtCOeXX5LDgbWynSuFg1PPfXUSy65hDH2q1/9anJygXMYGsqqU/xUnhbf902GMJm1E3RCZnh4+K23Dn7/+99/9NFHt23b9rd/+7fXXnu570dSSrWlsVqtOo4zNjboOM7ExAS0c1iP3GZyrUkBMBiCDD2mDEkiiqJoYWHh9ddfBwDlnlD2VxAEKjVSL0SGHgRr7NsYkskSkgxNrbW5tYQu7VreGIu12hRYqS8z43AjLbB0UippJNIzEU7ybZdWpIKKV1JhipLE22+/JUloWZnk/NTquo+X1C5eBj2TPiwppYoLffDBB88777y/+7u/GxkZefXVVx3HOfHEE9W5wiqRr1pM7zc97zJgCWewBOAqYgSACIgoCMNQiuLgQM1r1Gq1Sy+7LF8sfv/73x8eHr700ku3bl0npSQhcvk8Y2xubi6WA687YwFAMzFWMxHN4vWNN9647/5fjB84eO1111x37acc156YmAckzpr50lzXDcNwYqJm2/bWrVsbjUZSW/bVkdicDrct8wNDM3OXJEEgESTJsFGvTIzvt0DqJPxqq4Ay/Xqvty8wydjFOtD442qmyk3iphVATBPEcEhFScUj6cYQAJpXI8uIGqDquUwIR1Osa2eiYSmjHqvdh/oypAAjCIWIwpAzm4TvutmJAwc5MCEEt4BaZ97LVhOg2TuLNOmxs3rvUzWkUgHbVZoi0X/72tdmZmauueaam2++WWnlDRs21Gq1Wq0WhmGxWLQsSx2Hrk6iWu1zaiwZRYvKSkXQAAEA4wwACKBtFxyRQMiVilEU+SIqDg26trNly5brr7/+nnvuGRgYGBoayli2MzC4sLDg+/769etrjYaWUKoDoiiSQkoilVpPeXl0/nUpwyAIctkCt5jXCLI512sEb7z5+v/v//u17eec9Zf/4isXXnS+xfmRyckwEPlC1nKaQl0CMYtnrCwAeIEvgbDdH0ZNkZuiSAFALeSZKqsZqAWEiKQiO4hLIgAiEIIk4yhJkAzyOdtrVCcOvC2ietayKBIZ26ktVIQQhWyuXqmiVPyEiyOCmnHN6li7WKUKHzJMOTXS1Jv6WI3kuqcee4rhAEAiSEkCSAIREENkDAFRtOiDAJIkQ6aQsHBx16fmXWo3ymJ2dyfeopYjRs99pJStQQqSJCNgBJYEVLnrVMmqpdB0L6E6GBlAEiGRIGIA6kqI2i6iVgkaTz3JUraVaX0gIudc5R1Rio0xYEy1i3PGOQNjeyxDWNyTLwWokdLqNW2Vp+gkROlaru81nKxtW47vR/NzC426l80PALEwjOqen0WGiI0wRKvhMjfn2Druz9Tumm9jlngz/aX+s8XyqeKVEKIoymQyTJ/xY9kAIKMIACxknPNqtSqjaHBw8I033vjBj36ULeTvvPPOCy64oFKpVKtVldQ4DMNMJqPSywghVChDo9HQFpYW/UtOHTo9j5mNmtmsJOdhu99OBeQ2lR0B5zYwJogEkXI8j46Obt++fe/evU8//XQ+m73iij9jxKrzkHVclfslSsgIRFSSWBnMyqSUUqrriSeuP3JkfnaqvG3biVNTMz/96U+fe+65mz59w+mnn37yySf7vl8Nw1wuxwqsizN7NUAfS0cAnPMwCjK2w4DCoJHNOjtf3pG1mc7w3b2oLv3X/Vst3XRHxkJMj2eQCEBNsx0S3Lz4p3rbIIVMu2Limgqm3ZSkkqanGTnZo7XSCzDGHCeDiAwIgUV+uDC3UCgNq1lh87hMjkg8ktISkSCL0XJir3oBJMjlcoJIhV4TEQmp0pxyQCeXqczPO5ZVGBj4wx/+8NRTT60bGbn2xhs2bdmihLtt2+pQnNUOtoL2gWCSgsVeisvvBKgpkp6vCiFyudyJJ574qU99qlarPfzww6+/vicMIZ/Pq6MAk3go571ySKsZkzqsAQAsyxoaGvrTn/YS0RlnnPjyyzv/6Z/+adeuXVdfffUnPvGJc845R20GUq6x1ejR3kEHLijO833/97//vdlerR5jH5pEjt33XnsynihV8RxlG1cDUjkKE3Zi7KZ3MEW5+STWF7HalcCKxXaZRlmyqKSpngrQivYmIsvmnt84dOigbVnQOpZJH0thRmMlW7FSQEQiDNUWV5s37RU115mcnMzlcoVC4bHHH7/v/vsLhcKtt9567rnnuq47Pz+vwgkVht3jrUyC6PtO+HQpxyxBI291+RnTbDlJpJbGstksSBkEAUjinJ999tlHjhx59OGHf/7zn//ll7+ydeu6hQWy3Oa6vkl9JfKUZ1p5QKG1lceyLM/zxsbGOOcPPvibn/70p6VS6c477zz33HMZY+pQxmw267puvV4PwzCbzXaPq1o9kFI6DmcgPT8qFnI7X3np4IEDQ6VCM9dkB7bWYBI8Sfbu5hK1XAzQHoYTK7yppY8zy0szWYzf+iXCkrWoGz0VhXZ+1ldmnGKvP2dphwPGbrA3B5OIZCZjeUEAABxZFEWHJyaIJEoAIakppHirT0kIwdMSnCybFDFQGQSVwUFCep5HiCqicGRkpF6t/vznP//jH/94xRVXfPqmmwigXq8raZXL5dRRxNAe5ZMENFwcnZjcbF33QmIfdhRYsfqg1UNqzV5KaVmW2tYQBgEiRlF0wQUXlGdnX3nllT/84Q/DwzcUCk654qmodmlsjFJINPceEvm+r3SLsrxUMrCf/OQnjz/++IUXXnjzzTePjY0pN7YKDlDHOANAp91wawNRFOVybhg0hBBZ1/39M89YRpiPOU46GVlJmnfqJBM6KXnz21QpdvxDjCDLwz8paPR0Txdr3pgTakqsn8ZmJTFrCztMW8wWBS2jCREJpcVgemqyVqlk8wUEKUREIpLSIiIJLFJWHl/0taU26miguW0DkIRs7htjjIiGhoZef/31e++9d35+/o477vjwhz8cRZEgEoLUDhYAkFIqv1W9Xu+0IBizTroQZ8mfNJhsEBdYqaQxf2KWpbabBEFgMWZZFkdGRCq74BVXXFGtVp944olcLnfDDVc3E+YJAQZPqDIVo6iILXVuoIqieuutt+655569e/fecMMNt9xyC+d8dnY2l8uFYVgqlaSU1WpV5ZBWyxPH5GBXBgCSGAEJ4dj2Qrn84vPP5zJZEhFDFpMqkNZ5MQur94EqjMPskqNId9NiVx5nIktTJDYmTehFcC8JMSNLP6TWxnIFpsDSCiZGYUhYWOZI6dZfxAAgCAUQ2dzypLRtu1wuHzp44JTTzgAZkQyFcEDoJUsQQggBqTGxKwJIwJCpkA7OeTab5YhCiGeeeebJJ5/0PO/zn//8Ry+7bHJycnp6et369SSlcmCpJMOZTEZNDLtVkWZh9Y1nB2Edd7onK4tVqQIuFNJExDlHxoUQ+Xze87xSqfThD394+sjk7373u+Hh4Qs+fAERCoMDdOGqHERkjGUyGcdxDh8+vHv37ocffjgIgs9//vNXXXWVmuSPja2bmytjy7usgpt83182LfqCJCeq5XY1e0XEbDb3p50vT0xMgJRIxFre36QRFNPGSfx7Gah6iVB/rnh9GdszjwkoipC+J5IkGWOYtg1wRSxEkz6mlNEvIKJO6Kadg536QuvdmMxKl7wAlmUprwjjXAZexs2UK5XxA/tOOeUUKRBDLu1ACIciISwhkKTkRKyLND9KEEI4lgUADCDrupZlHT58eM+ePffee++555578403DQ0N7XzttZGRkVNPP33v3r25YoGCgFpL1QorfUB6SpP7tLA6gfmJSXMr+VLM1o2hUq/Xc7lcJpMJw1Cthir3uW3bKoBz+/btrmV/97vfvffee088edvIyKAOotUVK9DrzUQ0Ozv73HPPPfLII4VC4a/+6q/OO+/0ctmr1+uc80ajoaaB9XqdMaby7NRqNcZYqVTygpXJs9MXIIFr216jmrWdfCa7b8/e0A9Cz8tkHKC4LZlewnL9yjFHO7ToqdMErtQ4X1UwOQFWFGFK8z1h16kDtOvp1EJiirx3fJR7CJBxzoSIMhaLAm96ahJIkASSnCJBrWmjzqTdvVFHAxxRyVAAiKJofn7+j3/84+OPP/5nf/ZnH/nIR3K5XL1e37BhQxAEBw8eHBodUbNUAFBpmlS6FCJa7XirToC7yx4lAFq7eZMgTL+JmvNLIiIls2anp4vF4vrRdY8++ujjjz8+NDryf/wf/54QGo2gWq1GUaSPKbVte2FhoVgsDg5mX375jfvuu29ubu6000674447morXCDXqZnFQuv9PKclY8K45HYiJFZmyy0xdJQDI5jl0jEidHShzmUx1fraYzWUz1l1f+dI7e3fJKCIRInAdQq2MUFWm2lyqZLTGSstxk0d1e/UClt5Brcw6VTgA6I0myv0HrZGpl8yllIGIzG7FdtA7rqA1DnnLLa57QX+bRFLZJqn0N9lJIxORJCIJwFolMMZU5JeZspa1KKCSo8nEIoY2QMyGJEWPXnFrulwRzcQbzSpaLygMzZAxPYdQob+6HEjTN+Zz/ZAjShEiIgETRBIwkhQRhgRf+Rd/ddIpp05MTm096WRB4Li5TC6fy2czjDKu5bquWrnTpNZ0jlXR6TxBNanUK1rKyrMsy7GsoOFJKQcGBiYnJ++///69+/dt377905/+NLSL7OZNh6EnWsnpYtcldU+MdHpzW2yKoKfnMVg8BTIG3WtNgiKNcjMtLCycffbZF1988ZEjR771re/4flQqObZtb9w4NjQ0pAwlKWWpVKrVag8//OQ999xTLpevuOKKu+66y2zYSmmVXqBTXZ3QEEEIAIyx3W+/XZ6dBSnVwEsd3qm19Ng6XQ52MHt7KSc24FOriImDXnBbBnSnz2qDWWkMgbggSNiwy6hOEKkTeQGAIzIABgQkkOTkkYkg9C2be35dSgmcyX56YUl8iEhlDanVao1GI5PJFAoFjtio1nzfHx4eVvnE33777euvv/5zn/tcaiFrsIHLFDgx4ZPK7YuqNfl9X6CUfy6Xc123XC6vW7fu4osvXr9+/a9+9aunnnqqWo3y+XwYSrVtUlXUaDR+97vf/eQnP2k0Gl/60pduueWGRqPRZUT1BSarmfZF909iGgMRJYLEuPYgoiAIODKO+Ozv/zB9ZBIlOZaF7dXFZESX2pMaGwyrsHuPrKpkT5WwR6PYFMTos5bCy6wuKbNSNbdGcsn2JmUxQwuZ9vgQIDEghGjv7l1evZp1Xb/RUEvkZgSWbN/bmKoIuxPNcRzf91VCumw2q4bnwsKC67qbNmx46YUXvvn1r0spb7/99kv/7GJsmWmy/d8aADPAHICdtFrTh3X0HI+IanKbyWTKM7PlcnlwcPDaa6+dm5t76KGHLMu65porFhaCMAzHxsaIaGJi4p577nnrrbeuuOKKm266aXh4YGam0mg0crlcTLj0wiidoMfeTW2OiUbb15IYghAi6zpBELzwwgu1Wm1ksMgZk5FAXDw63Kw9OdrBkIyxF0yc29FoE3+9CI6kODBL0OOQOrtpVqQjjjkkiZCqp7EVGk0q23ILdBx89/I1Jal9DbH5IREjYEhIdGB8X6Uyv35jab7uOVlJRFEUhVHkWCiNTdGxSpOd1QkhbB0ir1I8VSoVzvnY2JiF7P7773/ooYdOP/30L375y8VicXx8vFQqoRWf2quiV7u/Y8OhyzhV77QdGMOMpJr9VqxO1omiKAzDQqGgjlE89dRTb7vtNs75c889t2/fkVLJ2bBhXa1We+21177zne/Mzs5+4hOfuO2229avHzh8eGpmZmZ4eDg2INX90WhgHWPZHUyqmTcxHtWcxBGzrjt1+Mg7e/Y4lsUYQ0nqQBQNMcxjpcVkVuwhGRtQu+PcfSDF0DZLi0lz84Wk6RFDspdKl8QkFatVBbN1ul5cCpbsiC7lm19xRsgIkSzGapWF6cnDgJKk0E7PKGwLdo+VHCu8OyZhGKoNyUoUqnEdRdEP7777qd/+9oILLvjiF79YyOXmZmZKpVJsvBNCR0G40mAylcmQsfZqfmvzIB4NhGE4Ojpar1Yrlcro0LCUcm5uLiiXzzrrrCvn5p566qkHH3zwtttuq9frv/zlL3ft2pXNZu+4447zzz9zft5/++0DpVJpcHBQ6QFzMOByT8Q1W66LWvL9VBmPiIBx94eyX1977bWZmZl8Pg/UDDeTabl0Yi0yZWKyUlNMU7trORW3Tj+Z2Mb+RMMQoITdRAlzz6RhKqrHP5BplaRFUSkyaqtKmVTmHK17YzuVrwsHlEDAEYExAoJQju/ff+rpZ6saPc9znIwQIpIsyUJoTJHMvgNY3O0cA7V5XkXeqNPkd+zY8bunn97z5lu3ffazH7/yynq9PjExMTo6misUZmZmuLPqmWG6Q1LKp3J7PL2M7sXusWFJUCGw0PK+q42ENa8RBMEFF1wwPz+/a9eu+++/3/O8/fv3r1+//q677nJdt16XRDQ4OAgA6nSgGCbLFlV6NJqDrQvPdeI2k6FVQdRKABKG4YsvvlitVreuX1eplBkyx7IaUXxZLTYkYjVi+9wzhkzsw5iwiImVVDD5wKRMclA130+QAtr74iiFlG5SjMhHU2YfVbdrnZheTO0d/WFyz2Oy/CTpSOdzQWDKgwVgSbQs65139s7Pz+cGR6SUnudZbkYLR3NxNrWWJYlmWZZal8/lcpVKZe/evS+++OL+/fvvvPPOD513nu95YRCceOKJlUpl//79GzdurHmNZvl6+bF7trwVgnZatUF6u/TdspmGEAhAZcPhnOeLxUbgi0bdyWYy+Vy1Xh8eHr7yyisZY7/5zW8A4Kabbrr55muDAMJQ1Ot1JaeU7apm3UlMli22jhIQkVqhowwAUJKUiMQIgKQIwz173g5937YtGUbSsphlQRR00g9LVJQmDpYspLsUXlkwzavl1atSWbD2sQ0J81D9oUpfDddvTLLEbBZoX3WBfroyKUciEhwQUCIgMiACDkgMOYepqelqtZobHAEpQxECgEQgAkEkiakUOjxRMlKTMi1Zm46J2qs7ODjoOM6TTz75q1/9amxs7Ktf/erpp5xar1Y5Iresvfv2FQqFjRs3lisLtm3HSL1mgcgxLZIqrTRVrWQ8ReyNGFjWos0sgSRSM88UErOYJElIaPMg9BsN37ZtAlksuBMHD+zZ/TbJ6IQTThgoFaQAx4bKQi2fy0Whz5Acm8/Ozg4MDARh+j6e5Haw5tXoMfOrWDi4pkWsXanNNHmXqbRRDEASRwBGQJJJKpZyL7/4wp7db554wqbZ2dl8qVidX+COHQohgCRJJcep5RZlnBEiMSSmmBfUwLQZSCGMqDEQQohIqPgUxhljSCCEFBo3NIJWqBXGLRMnF5jRVSbpdAkxG02PB00rk6rQzljaCc06nxuYClz3FwFKYqypEiJ1nAQAQ1RJEjkiIPImuwERSNk86xea4UFEAESAgCRbeRckA4PvtRow6cOMqHrN/2YTiEjtaVUvq2RtABBFkeNaml76dQCQOh6QABEZslZiMiJshjNAk7YAJFHCfLmyd+++obHNkfDc0sDCwgJjLLIzETA/jAiRW67tralKowAA4bdJREFUZBFRhKFKCYYMWJN5mrKs4XvDw8Oc87m5Od/3C4WC4zhBEAgRjgwPBkHw4K8feeKJJ7Zs2XLjjTeecsopc+V5AAgCCQADw0OIWPMa3LZ1fGXLHFxCG3WKv5Md9pkn5wqavJDgH0yEZWmwkjMLde3kqO5kPvhRyGwriqKFWtW27cJAiXMugrBULP7kJz9/6aWXTjrppG3btr322msvvfTSeeedNzJScF1X7RGfn5+vVCrDw8PlctnN5FLr7SRAMaGfu7/fLzQ7gAAAOBAgkQQGkmS0753dINSeLNTxB/2WHzcuejZhzF87zR36Rea4gjXL4pyqw7TxFXvYey83BRkSoiGmm78xAFkqFA4dnIiCQDLIIAZBwBiThJEgi5MEJCJBxAEEkZoKqUHcNFQZSYBiLl+tVtVGt9HR0UwmMz8/Pz09vXnzZkS89957H3nkkauvvvr2229Xu3Ay2Ty0Jv60+ouAJqTSU//ZI7u2hVwvqtmuPpGkOtVGdT6fHxoaYozNzs6qfKlf+9rX3nzzze3bt3/+85//3Oc+d9555+3du/ef//mfDx2aLZVcy7JU1nMppeMssanSbGrMmohJdLMtRwm6vaaKQMQgCHbs2EEqIItztcqzDBkR0zy9vJwKqZ+/22XWGkDSxky+ENMNsWlLJ8qnjhTQljtAsVjct3/vXHmWQKIkGTY3uunge3O5uROolOqu66rj4CcmJoho+/bthw8f/ud//ueXX375S1/60q233hqG4cLCwvDwMCTGy9oAMw65MO9TraVu5VAadKFRssN0fZlMxvf96enpXC53yilbDx8+/H//3/93uVy++uqr//zP/zyXy1Wr1XPPPffcc889cODAr371KwDIZq25uTnLsvL5/MJCNZ/Pd0c3KZhSX4CE8OpebC+V6pgPteNhYWFBnZGjZmRKWvUSPxEDRUZzC5HW7cmhAh1MsJg5AO165QNYEmJsA4m5M/TmEk4OJTA7rl3zOTavzM8fPjiRz2Y9v44MRBiIKNAed727q0tX1mq1TCaTzWYbjYbneepkg7fffvtrX/va/Pz8Zz/72Ztvvlmd1AkA9Xq9y9hZbTArjd2bN91xs8w5J/Qg4ZpBscpt1fwfAAAIFubKmUxm0/oNs7Ozv3vq6bfeesuyrL/8y78cGRoKw3B8fFwIMTQ09OEPf9iyrJdeeumee4avu+66devWKYO20WgUi8UwSh/znSSxZqbYDRh25tEMXTWXVsepMmQIEhAYsvHx8UOHDmUdV0SL8VbLSNksjaNAO7Gmqahjuh0TS5BmCR/IrCWhOyNp56DuHU1tfQOJUdPWBRIRUZ0M0PqpOR1RW2v3H9h36cc+Vq40cqXBRqPBWVYs7oUWQgjW+ioV/zAMWRCo+Ec1uXnyySfVAQtf/OIXTz311HfeeSebzY6Oji4sLCCibR2PCbVNenbHzdJDukeJG1caLeCc5/P5QqEwNzf34IMP/uEPf7jkkkv+8f/1t149Upl0SqWSyik8NDR08sknj4+P//znP9+8efPFF38oCCgMQ6UcIC2Zv9kwiDFZh3aa1kcv7epeo84yo/SkJPn66697nlfI5kgyvTm531gQMPRtckikWlgaq1h/JbvvAyNrGRAbObFeMI2mJP1j1Ca1zRtRALH254DEmOWHfiGXnTpypFapRpG0GISBJzKOORkUQljNBKTpw7NUKs0tzOdyufXr1+/bt++RRx7ZtWvXxo0bv/rVr+ZyOc/zMpkMIqrcBLZtC9m+RLuGYIp4k88hEUPTBbHFvDYxWdDxG1Wosf7VLIhz13V3vvLKY489JqX8l1/96vnnn+/7VK1WiUjNFsvlci6Xy+fzmzZtuuSSS+bm5p544omBgYHNmzer3fBhGHbYfJ5utCcbnPqnblHvctn8CgBU0hhBEkiAJCCxc+dOrX59z1OJE8L+c910sY9SX46ZV7FCTFusX0zet7AkC5ljTAusLrxkdgcRASIQUmuZEIGQgAEKIWzHrdUq+/ft3bLtZBEGxK1UH1YXpkXEbDbLOX/nnXcee+yx559//txzz73zzjtHRkZmZmYKhYIQ4tChQ6Ojo+vWrduzZ0+hOJCUEWsA0kgxpp4o4phZRnqRWVbqDAt6GDnJJw888MBLL720ZcuWT37yk2eccbLniampqZGhoXK5rA6GVakL1STozDPPtCzr61//uu/7//7f//tMBmu1KJfLVWuNXtrfXe7oRh19fzQZVBIRIUkgSUKSjPbv369SpDJsHluvz5JaRvnJ5iRnGd0LT23yB2JrSUg6EDr92mOBbToDUSIggCBSp5AtOlBQcgQkIWV06OD4qWecEYWeYxdkez6fJbcETU1NnXjytrfffvvb3/721NTUZz7zmU984hO2bU9PTwPA4cOHXdfdunXr/Pz8O++8s3HjRjW+1lhaKUi1sGKwJFaL+6R1oUqoq+dql5NlWYVC1rIsFedZKBQYY+qk5cHBAcuywjD89re/vXPnztNPP/2OO+4466yTZ2YWJicnx8bGGo2GCl9QOS5U0uRcLuc4zpYtWz72sY+Nj49/61vfWljw83lLOwUBQFmw9Xo9CIKhoaLZbFP/mFJZmTlqr4NKFKXAXJWgrpC0/9UKoCq8UqkQUTabfeWVV8bHx5WxjYi5XC6KIrUsHTt5xdyMro4d1nlT1Quu6+pcS2DkwNJqNqbYtdcfDZ+X/lP5aNEIj5JGwj+zr1k7xIwIk2n0dNX8M2l0JH9NBTTA3LtK7UsWZjlo5O0yJUiqTDf7UWNOht2kp1o6EsVctzIhhozqPv0klmAgScxmCcT0gamqEJVgCwA4ouvaIKOJ8f2ua1cX5hlIdTCwbD9dUfFesVgEgEql4rquOodFSnnqqaf+5je/+frXv16v1z/72c/ecMMNhULhwIED6vNCoWDbdrVa5ZyXSiV9urDZuiV1YV+gKRAjaaf3Y8cFxbYlxQa7lLLjyc+KTOq4+VqtVq02U6NyhvPz80NDQ4h44MCBdevWTU9P/+AHP3Ac5+abb77oovM9Lzx4cDqbzQ4NDc3MzLhpyeoRsVar5fP5j3/849Vq9dlnn92yZctNN10zOJiv1UWtVlM7ocIwHB4eRsSDB4+o3uoCMf7WI5yOzuLQgkNxWxiGru288847iKg8W7S47rCc8vVA0iUsj3tWkOeOIcQ6K5XRcaVNg06lxcR0d6y6gEwGrBNZjEdchmFAIqpWF+bnZoqlgmPzKIq4laLz1q1bt3fv3nWjwyeddNLEgfFarbZ504ZCqfS9733vuReeHx0d/fKXv3zqqdtee+0N3/fPO++8iYkJPRzMobEM+hwNxOR+7Kce+9H8sGP8vTppQkrpOI7KBKYPy+WIB/btYwDnnH36jhdf/N53vjMyNHTzTTedd845jgUkhIwiJLIYy7TyqCbplc/nlTy68sorN2/e/Mtf/vKRR37LGLguV/NHdWqjOrixe0J+U+tqLac19lEqEC3j1RGKiiavvvqq+Sv1YLr3WFGPL6dyIR2F3FwzMNHupFQ6NeToB17MJEwSqkvJWrWYsORXZhubAggkoIyi0OachFCb/ibGx3NZ1/M80+Iw0VOnLnPOJycnGWOnn356GIbf+973nnrqqYsuuujOO+8slUoTE0dKpdLY2JiKxko1VZZHt34h1k1dbvqFjgKLcx4EQaPRAIBcLqsyOvsND4kajYZyk//gBz957LHHzjnnnC9/+csXXXROGIbj41NRFKn4NN/39aQp2QY1ZZuent6yZcvnPvc5xthPfvKTd945ZFlQKOSCIFALHEEQLCwslEqlJQkUg+SUannDmLUSz6tjExHR9/09e/ZA++R02VVo+lBiAthjY2O/pkqB4w1ShWxMbJnPj74t3cuP4WYyrUlkXFbukNj7RMQIwiBgHJFRPpeRUTAxfoAh1asV2Q7qHBYhRKVSGRgY8DxPjb65ubl77733iSeeuOWWW6688sotW7Y0Go2pqSnllyDDJWJy1xoIrKRSSf7Zr9gyub2jwNKGVRAEtVq9Xq+rY+ULhcLo0PDbb7z5P/7b1155accN133qzs/dUcjmDu6fBCGHBwZtxmUYuZbtcMuvN5JIq4rL5XKxWHRdt1KpbN68+brrrsvlcv/rf/2vyckFxwFEnJ+fLxTyg4ODnucFQbAkgWKQqgmXAVpgqc52XXd2dnZ2dtbUt+b0u9/yY3q790LMsRRrKR3Hplayv8wOMvHv1HederwX6FR+UmZB+3DqROrea4xVxy1kBIyAASLJqcnDIgj1EejUMupVOnYVY1UulwFg69ate/bs+S//5b8899xzt99++0c+8hF1MrPruiMjI0SkMtOpQ09jMmvN+CFVJMVEVfdO1KiaQoN12mEIAEEQqARgQggVSJXL5QYHB2dnZ1944YUf/vCH1Wr1b/7mb6655mPValW9oCiiDtFRjmrdAZBgAiWqCoWC67rT09NnnXXWxz/+8X379v385z9vNGhgwM3n8/V6Q2186ZFA1O5SjS24wLIGMBHp5b8oirLZ7J49e1RWCV3j0UhG09boNH5Sv3qXWlhdtIu+h3YKmL92avWS0IUTzPuYgdDJwuqLnYi0232xukwmIymSUgahBwAzs9Mzs1PZjIPUdgqGBsaYbdvFYnHHjh3/43/8j0qlcscdd1x77bUqHBQRq9Wq7/vFYlEduGdivmz5vjxIDvlOomolLSy910RKmclkisViFEXj4+NPP/30gw8+eMkll/zH//j/2bp18549B4moVCqdcMIGIcTMzIx6X6kFdWBsagOUfSulzGazSrSdfvrpV1xxxcsvv/zkk09GEYyNlXzfr1QquVxOr850agy0Syu9oWEZ7BUD3/ep5ftUQvz111/XAsusd3nlx1T3knhSa8kvNm5TR+NxK7NiYjp5D6vflmT5nZQrtHdTEtUuoOdgMVZERN/3LcZICNu2p6amXn/11cnJSX3ekqluAaBSqXiet3PnzgcffBAA7rrrrltuuUl5S6rV6sLCQjabzWaz5XK5UqmUSiXz3CZqLYaugeTqTsPUN/squaMgUP71er2uzFHH4W+//fbvn/ndvnf2fO62P7/wwgtqtYiIxsbG9DKi4zi5XA4RpZTqmML5+XlmN5OaxjrY9/0NGzZUq9VyuVwoFJTYuuyyyyYOHnrskUdszq+55orhwUHP87LZzJGpaeVEiwFhW8laNZnhDvqnvqijIQgCx7IBwOLYECFnMH5gr4g8hg4QkTqDCoAAJILsFPa6FCzDLFqeoREDRoDQ/AegVzuBtfK3Ja9kXJfhEVG2hqIYtBIPxIDaQrEZQTxyctkNp0Qs8fIK6fldhirGQqo0fggAEhgABH7ke2FxIM8lcMfyD869vvOVbK44ODImRQhSgBRIFkdU/yzu/v4Pzzz15JNbtm7+u7//30844YTdew9EUSQI1DEIURQ5jjMyMiKEmJ+fN40DSNNwqwqdKorZqr2XttiKXTN1NA6/UxEiygRVUUWMsVqttmPHjldeecX3/X/7j/+QymTmLk3NFohIDKP2pPo61IjaIyyICIkq5flvfeMbYRh+9atfPfdDZ3oezc/PW64TBIHtuogYhCERKTzDMLQsG9I8VqYOhx4UtakQ2oqSFAUBSFEq5udmpxmFf/uv/9Xs1CQJQSRUxnilzUKV1krG1bIZ5cQYU6kp1JTZtm3b4abxrz2jnYxKhMUT/MxQF9Z+7Ipa5I2iKJRCAqARmqSOI1PoWUYJ2pAEUMmXyAjcANaKe1T30MpaBR28Crp/oWWEhmEYiEi0hJzCgbVulKvFUgFr0BpaLbxjxZqSPabSzd4339T+Zk0uRT3FSCYFKA20BR2GoWJjFU6l1mGS3KVvIpKIqIYMIjJsCl/GmATwGkEmn0PEWqNRKBSYm/3IVddtv+CCfK6wbmTEZg4ibtmydWFh4Sc//NH8/PyZZ51xy603bzlxw759E/ML5XXr1oVB+vZVfd4ftsffgZH0GYwkCp12lVFrXS42jjqKJLb4siklU8kLAAw5tWtrswf154vv2604Kdd1bdtWJ7syxnzfn5mZUU6oJ5988oknnjjhhBP+4R/+AVMCu4haAY1mKJ3SK6aA6CLg9U8bxsZuufkz+Wzuxz/80dtvvpPLYLFYLGRzmUymedZDS7xKBDvjdilqyYed3kEDbM6RAQMI/IbN2fTkkUa9BigZCoYESARSAggidSBYl8I1ZXpEoy9IFcRd8GHGCjEm/kFvV1hWXkpFKIXbEjbamp2FkAY99ld34ICmgpfE1D9AC4Hbth00vMgPXMYH84WLL7rw+T/+4Z09uzOOXZ6brVarpULhlZde+dHdP4oiecstt3z+jjtDIV7e8SdJtH7DBr/zYlQMkuyxIq3rHVKrI8MFDAkhlQpMnVsdBAEiqmVB5TkqFosjIyN79+79xje+8corr9x8881f+MJtaDgdY5A8UzepDMEYjaaoNhENw/DCCy/cfu45e/e985vf/GZ+3stmuRlE7th2U8gKaeZFi4lz8z5WdReCdgJFFsdxdu/eXa1WY0SPKZ90Qrd7ELq/vDyIkXqValkliHHLmmFu2kSprBIbRd3ZuwvEuFGtuWezWRXZxxiLoujMM88sFAovvvji5JEjmzdvXr9+/a49ex5//PEgCK688srTTz89VyyoHSC8ZVB3rw7SRpx+HmtmKvTStB6bb5ZpdrRJwyXrtVRKdeVR9n0fEUulEud8fn5+cnLyRz/6ERH9wz/8w4YNg/v2HRkdHQ38MHVKqMHsSImLR12bHWbi1yZcAXzPFzlx+eWXq4RTjz322CevvTaTcRpBKISQAK7rWrbt+75a9NXrBql8g4lNlV0IGkNJgT72FQAsy9q9e7fv+/mcm2xsN6K094T5cuq3R8Mo/Q6k4xCobafbqlsBMd6I8Qy0c6nZg4rIvXSWyfzqqkyEYrGIiMpLMDU1JYT49Kc//YtfPfjoo4/WajWQ/OWXXy5ki1/84hdPPvnkubmZvXv3DgwWxsbGPL+hNoR0rzSGG7USFiRx7tiKFWKimNxEY4YIBs01iTpNUa0gCJQ/W526rEI9Pc978sknH3300SuvvPJLX7q9Ugn3759ct25duVzOuHZqSZH2R5ER/ajyABl4dG8MAuQKhVBEGzZs+NjHPjY3P//M739fGhz8xCcu547daHAvCKSUHNHiHNKURuxecx4u5eSL0VE/CYIAkDigSpW9b98+AGCMUcLY7NJASOswbN9ClGxCX/CeEVJEzWMpVlC9L1mv/tPkFlM26XvlK+zXsIJ2aQUAaue8PmhKCFGtVo8cOXLmhq2XX3bZiy+89MQTTxRyA5s2bbr6E9cOj45OTk9nc67DMo1Go16vuxkn47pd0hklRZW+SxK2K7VXmKNi0oD6LJ9ls1l1pHU2m123rug41osvvvj1r3/9pZde+uu//utbbrmlXPaEECpgsktGUJnYtaie6z+TdqY5dPUAVvszq9Xqxo0bb7zxxmw2++CDD+7Y8ScAyGZZNpuRUnqeR0S2ZemguE5mZEyzdRkDJubae63c4ap1juNMTk5OTExotdaXLZMUTHrLUUxaHeVATe2FdwXEVMXa4J+sJcalMXFm/tmv2DLLVJvelZWgClEMNjc3t3nz5qGhoXq9zhg7++yzt2/fPlcuqymk8rroqrsryI4yKzFBiz1J/nr0EPNVYWL3uFYJ1HULEVPSXX0wM1N77rnnX3nllfn5+bvuumv79u1EpPIlAICaOUqA1H+CSBBJAEIkRGBM/eu3U4Mg8MOw1mgQ4hlnnHHJJZdEJH927z1vvbWvWg0zDmQcB4nUP2HM12LlxP5csmO0hIpJXhUrrJxo+/btm5qachzHbFGPosEsU9WoSo6N0tQm9ALvOvHUCY5JK1IrjY2l2ENN8O4IJwvRnzf30rsuAAghstnswf0HvEZj546XK/PzhUIhCIIdr7z87HPPDY4MD4+MeL5fnp/PZDLDw8MWY5EfxM+2SKsdEpoghpj55+oJrBh/YiJJhvlaF5JaCwsLhUIhn+czM7X777//j3/843nnnffv/t2/y+UylUoNETOZTL1et207l8vV63XLXiLu3OwebJ+LxsgX+0oN5XUb1jeqNbXz2fO8c889txH499xzz4svvsg5LxS2ZLMsDG1SIfWel80VzKUkNCbDfbF+7GVNONu2AZsxH5OTk5VKZWhwQAqBxlc9WlhJdknuNOgX7e6teBcBpeXPW3s0OrFoJ6z6Jbj+3Pd9dX5EPp9X3ljO+cTExEsvvXRg4vBHLv/o2eecc+jg5Is7XnrwkYdPO/MMmZNuNutYlgQZeB5jLOu6iqVSrZElqddlMK4G6IpiElyZNNAhrCEJViaTyef5W2/t/853vuN53le+8pULLzyvXK5WKjX9cTabBQCVGEvPaZMaI1mHlFJPoGLh4LHcRvpz3/e5Y4dhGIah4zgM8ZRTTrnjjju+//3v1+v19aN/Xiq5IggVVjWqCaGSvrZlhlThYzFMFEUUPvpNjZX5vlmaDEJkUCqVfN/fvXt3sVgsl8ujI4N+re3AVKKm6461UolokcSMFFTQClhT3qswDDv1K6TpQ0RESDlxRPexMhV1lHNql+sC9fwCWt4Z7VODBMckz69U/NVJG2pbUt2oUF7LsmQoADSDLhbIWpkn9ZNmcxIe8Rh9TP42r6C1oKG01dUknWydCNlp6Grlp15QrKUbpadpnT5PKkJ1o+x0lb4JEdVyoedXx/fv/+iVnxjbsDGbza5fv/5DH/rQy6+8/s1vf/tf/+t/nc9kXNtu+FXfD2zH4pxFUSQBZWINugt9WGujWywwLfkJpA3qJRVqjIH1n8r7scg5LWDY5hWJ6XUwBmNzELmu+8Mf3vvf//t/37hx41/+5V+effbZjUbYffWhd0gScUnB7wUBtSZiiGjb9tDQ0AknnPBnf/ZnL7/88uOPPw4AIyOFMAxrtZqaUpkc2aXeHs0uU95T64ByKWWtVpucnFRMJjskrjkmRsExhO7tNX89figTG5xHCUne6wWBJA6aPzds2HDCli0yjCbGx5nFzzv//LPPOefQoUPf+MY3LNexHGdqamr9+vWlfOHIoUOFQsFEI1lR8k/qAKbfVj9ZERKZkCywC9qpPMO+/e1vv/3226eccspVV1111lmnqLj2LsqZuv4DFf2MqJ/ELMBOeGiIokgCMMsCxkIhBFGhUNiwYcP1115XzOUfe+yx3/3uBQYwWCqREIVsDtKc32ZdqcOGEu4qk3ymzNJfzczMHDhwgIgcx4kdQdgvy74bIdaPMcL2WMKqYNZP7SsrrTR0KS3GWl2IoEg6eeiwZVnZbJaIgiBwXfe888478+yz9+7b9/Of/3xqaur0009vNBqVSmVkZMSr16GDJEodAphY2u4iv1aWq2N06EKEJM7mV2z37t0XX3zxXXfddfbZJy8seLOzs8uTrEmGTsXD/DMVuGVB62U1u1H+ow0bNtxwww2u69577727dh3I5bhKsK/rjXUVtRtcplVJlJ55ypRTprYBAMbY5OTk1NSU2jSv9mckS3jPQ+9Cx+S8HnXVakOs9qPvux55gBJmeKq4R0TG2KFDhw4dnOCIKtfu/vHxQql02WWXXXLJJQ8+/PBvnvptoeBEUeTV68ODQzHXRxKTJOU7SahUhbSy/WXKrBh0+sREQL1p/ct/+S9LpRIRNRqAiComSwmLTqWoTRW6qLZGqTlX66r21kK7S7V776rNQEJKQFReSSWz6mF0zjnnNGq1hx9++OGHHx4e/vzIUL4x3eCOSzKFJ2ICK9Zsk1KUsKrMX4WQBOhyPj4+HgRBxnYZY2EY2viuD33qC5KsvyQ3Y3vsJWLzTLZjAqmMR0fh2ifDQ9eFB0wKmMjEXlDSihFk8/nJycl8oegW8rlcrup5vu9LhG2nnlKtLbz00kvf/z6/6VPXD59wwuzM9ECxtOB5Jg5Je6rH/jKlVfuIWAZt0unQaeybJNIIJ7FVr7Ft2zYXi8VarTY7O6t2nygLIr3Wzk2O0UVdJULyYXfJrWSllJJzrpBR4RSZTCYMw4suuuj888//3e9+d++99woBo6MlnaisU7GpGkP3sWlOJmWWbO1tJqLdu3fbtq0PCEiKvPcV9CKt4HiysFIZ4CjL7MVGSKrS1FGg/rQYC31/bm4um83WarUgCIrFIhGpZfqrrrpqZGTkscce27lzZz7vqIxPsWNWFLDYQRiJ7ugC0Ns4XR65knTrkT76NbZ378EgCEqlgork9jxPrTEtA6FU6sR+XZIERKSC5olItlaXVOIaNQE899xzt5919is7Xv7Vrx4WAiyLKYEV28aYREz9GhNGsTeTMgsAVNqD3bt3q5TNURQxI77s/SOt+mXo5IBcbQx7hJiK6guSrVhS9iWNrFRSKBLNzc0dOXQol8uFYagSlHthkMlmbccJhbj44ovPOuusJ5544re//b0Ka9B7eDX/68XfWC3dZZapv3sRxP2CObKWfDlGKLO/2AknbK7X64cPTzqOs27dqNoLnclkOpXVJQEApPZEP2yqlslREgBIKdX2xlAIxtjsfDmfz89XKpu2bPmr/+2v88XC939w9+tvvG1zsBjjyBggEpj/lkDMrLeDJwskIQMSUST8w0cOuQ4PgoBkaPOm4wAlAandjIwRY7SM5AWrCGrX55I4UStWpcsVEZPPYVkpsRRiXXakLuZywCbyvV+XB8sov68h3eNriFgaKE5NH6nWKmEYWhwZwEJ5VkSRxflCubxt20kfu+LKcrl833337Xp796YNoxzQYkynzdL/OlGji8CKrQ9231y9UtA7GdU7bL5Ssxw7XywIkrVGQ5BEzgRJYEgIEkj/U9nyEJj6B4Tqn/pZRFJEUgqKPZeSJIEkEK0b9Q8ZV/8Yt5BxQCZJ5eoB1qqbAbO4zZBHgrK5wtTMLHKL204g6bKPffy0s87+z//PP72zZ3/BgZGibZN0OXMYiiiwLWZxZAgApFJjCxFFJKQUURTJSIAkBqgwYIAMEGTzPF7ewowBcgYOo2LenTpysFqe8WqV4cECk4LJCEmgJFAx9xIZoYXcZhYRAUpkxDhwC1XjmEoygpJAAEpuoWUz9VBzhmnxxQwZpTO18Z8aImxm3SIjEZUSDRxQ/bNa5woRogSIpFQHGQJjBKDWPiVA8gpqAwMiIaonkkh0nQqZloUCCxlD4ggMSf9TKXqEjCSJiEREQoCUSLK51AwMANOuHJEhWoxxxlTiIWboZJ1lLEle/YKUEqQEKaUQJARJiUS6ZI7IGVMuCfUkKbNkey4zbI+8U0/MfgHD0sfWbgfWOsiPc04yatSqszNTuawNJGrV+aGBkowCjjRYKs1MTZUKxT+/9bOWZd19992vvPynTWODDrK84+YdN6jVbcBSvtCo1hgBA+CINuc251qoSUJJKCQICZEg9S+MZCRIPRQS1Dsq43xSoMQYLwZSkBr4SggoWcGQa4mhBYr6NcnPpp2o7xefQwfTce2hhdAi0mBMJYQQpcFB23Vn5uYE0fZzz/3QBRcMDg5+7zvfmTpSRoLA80UYWoypTgAApOaJgaaJiz2pOhMrsjke2PeOFCFjTNlWUkogAhBNrx4hojqO/JhND5dXte5rIlLKtN/rMmo0h30X7broAO35Cv3bWdh/+dg+1TVL68VL0O1XJM65pKg8O0ORiKIQgEQYWgzn5+Zs287n81LK4eHhD1/0Z8yyvvnNbz7//M5CLp/P5kQYDQ8OhX4wMT4+WCoh4mIexPbaTRm07Hlfp6+Sg3d58iRm/Wlg+ufYTffnRw9LNjgmWcMwtCxLub0RcXR0+Kyzzjr//PP/9Kc/PfbYY5PTC6Njw47jVKtVMtYjiEh3EQipNV4SuqDKOX/ttdd0CIVJPsJF4qgxn+yqNVYAphHR5TWzZ3v8ZPXAHOex4bSWtfdeb4xtevy2l3dUWPLBgwf12RPqRAmVHSQMw3K5HJHcvn37hz70IQC4++679+zZk8lwFTqfyWRSk4nH8FSQ9FgloTsdoH3AmmPWdPwvYwikfkJE6Wd/myNt9QaeSY6Y7Ig1Uv1ZqVTCMCyVSog4PT1r2/bll19+1VVX/eY3v3nooYcsC0olV8k1MwtCvx0QA0RkAHt27bIY54g63ZoZWRdLnokJDbw2MsuUO70MPEyzDlYbkhoiJq3WGJ9+603quS4M1qNGjH1CRIcPH9ZpyoMgUPfqHApBslqtRlKeddZZn/70pxcWFu69997XXntrdLSYyWSklMViUW33iTXTHA6QJqaXAclB2mUU91tyqkpo28AFCfGUKsJWBGLkWxLUCp1KN4iI9XodAMbGxq657rr1Gzc8++yzTz75h0jC5q0b1Jk9bcgbLcYO0KleJSgnJydd1yUi3/eTAstsVLKr1lJamSj1Iq1MhljykxWH5OBJfb4GaPRVr+pc1iG5blJmJavrUj5H5ICV+Xmv0XAsC1tnsJfLZc/zXNctlUpqO4qUcmhk5IYbbnjnnXfuueee2dna4GDWsqxyuRxjwn7HWr/QaUx1okkvEPtQl7m0hWWidVTNSsPJLFw3EhLEJSLXdbPZrJRSZSgeHh7OZrPz8/O5XO6WW27J5XJ33333zp1vMAau6yqNFCPfMg45Uu7qiQPj9VrNsSwGIKOIQ3NJRUgJAGoaKNXaFoBESJJ0LWVW6k0SkmJ69Rg6Wa9ZdVLhm89XG5ZXr9kKSoPky7rwJenMOfc8b25ujjHm+74KVA6CIJPLqUxHluPkS0Vmcd/3TzvttMsvv/zw4cN33333woK/YcNQsVjsHpaI7RZJd+iFFJDoVlP0L4+vzOnq4hDuHq8Ra2HyzaOBTm0we91EWp0U7ziOese2bdWdYRhuPfHESy+7DBh78MEH9+w5aGeYOomEMaYXR1jCXdojIOKuXbtUojXFB5zzKIpkWjeYCqHfio4SqN00WBvps1LQhZLHHJMYdBrPnQje79hhjHHGSIjpyckoilQe5CiKCoVCPp9X5y3Ytp3JZDjnxYFSvV6/7LLLPvzhD//pT3+67777qtVwbGwwGZak2aNNhbefupQKveBslmmKKjNOopdyTIit6moMLf23vokZPmQstK8sJEvGVjoR/ZO+Ua5Hx3FUyLs6tjubz7uOdejgxPnnnx8EwQ9/+MNcLve3//tXSyV3bk6YTVC1sNZaWO+AiEcOH478gDOwHNeyLA7oBw1VplrX11kMsdmctnatsfA6zuUUpkX2KiBjH2iX11YcUuvtq9e0IdBJZsWed2oXI1BxJ2Ek5+bmRBh6nj/EeSiEyvMXRJGbyWTzuflKpVFZ2LRhg5JcF198sed5zzzzDGPs05+5eWAg32gdAByrNCZkl9fe7mDqzpge7bcQSNhPlsokEys39pL5AjMyKCVR6UuxYysLkpLBzSSw0DbOY/Xqw2xtu5nDb2GhnsnnMvnc9vPOvezg+CuvvfqDH/z8zjs/OziYO3JkzrVsh1sLtYV8Pp/L5Q5PTTpuNhUZM2RGawYhhIzolVdeKRaL9VpFpffyavUkes0njEkpGANTfZnqBY3Vk5gXLEntGK1ampDH3jdpqJuArRxPGjfTKEjWq0tT2JoPj5KVm6qihaR5bmMvBqlCNCbCqD1/Wex9SLRUK3kz0k2VoPND6ZJVXYqYsVaov6k9Yk6FYpkpsUzLJdb7Zi/E2q5ufN+3OWdoTUxM5PP5QFLgedlikTFWrVZzGZdzPjc3ZzFeGCg1fN/JuLVaLZ/Pf+ITn7Bt+6mnngqi8Ctf+bw6SmZyZrrRaBQKBd/3fd8fHh5ueOkngyXznZkdl4Rkly0pQ7o8N8dCar2LtE3Fphf8VhzMjkwlh0kLDW42K4SYmJgYGBi44YYbNm7c+Lvf/e6pp55DhEKh0Gg0hBAjIyNhGB45cqSQzXVvsOZvxdCWZVUqlcr8vAhDxpheaTbRa5pX2Az+jmG+bA2zbDjOLaz3NpjEX15HYGsvrQwjv+EBQDMjYxiqLAChEJGUKipTqwHl6jrjjDMuuOCCmZmZr3/9e/m8VS6X8/n82NjY3Nwc53zz5s1zc3OdKl1Wc1cGYlO67i93HL+mru6xrGVAzCIz9U9y5MdklprThmGYyeWy+XwoxOjY2Cc++cl169Z973vfe+tPe3OuPTQ05HkeCWExJo09gEmAlpGiTQzLsizLmpmamp6eDsPQ4ZaMIhGEnLFOhEiVWWsJppnQl7X7voUkrboTDTtArMBeikoFjghCIlEQBJVKxUJGRFEULZ7jbRh3xJCIVASWlHLr1q0XXXRRJpP57W9/+8wzz7uuOzSUU/4vACiXyyp1MKSZObFWQGJsxqDLOFo2mKKmU/lLWFirLbNMA6QTB5hvajQUMMbcTCaMotHRUZUS+9xzz73pppvm5+e/9a1v7ds3ns9bruvOzc05jjMyMqJ2k3bCRIEpszjnhw8frs4vsNZZTCpzg0JGLwsq86qVdSdlNr0GguMD8XT0YKquTu+kiio0nM26qOXhoFMJyyhSlhEp10QLPQFNt6muIJvNZjIZtTdodHT0zDPPvOCCC+6+++633nrL98FxnFKpFEXR/Py8OsQvOe9bA+gkgJJ82x2lXi2sVTKvwOASbF+20GA2KSnRhoaKtVqtWqsVS6VMJlOpVEZHR2+77bZ9+/Y9/PDDU0fKY6PFoaEhKaXFOOuqGZIPpZTj4+NCiOZZ0wBEtGQ2i7WXVrHqUvngA0iFpJDqTreYnIpxo1nU8rrA5pwjurYthFACC7TPztilqB6KVhVqQ6KKaj7hhBOuuuqqoaGhX/ziF08//XSh4Lium8lk1q1bp6IXIeGrSh1x3fHvRfT0AjHiLylt+rCwUg2fo4ROwihZkbkZ0vy8XK6uW7dOnUM5NjbWaDRmZ2evuuqqj33sYzt27HjggQcAoFRy1QvaJO4EusNUtJ4IwwP79jPG1Ck+antqEARmx+jtwbIVk5XazOXRpy9I1vKBzOoRYiKmC91SzStMbG86Gsojom3bUsq5mRmFkilEQLGcUb7neerEFtd11YQxl8tdf/31iPjggw8+//wr2Sxbt25YCKGyY+pa4DiwsCBBq6TQNGFpp/tqNyxVZiVrjEkr3YByuTwwXMrn85VKJRKiWCyqbrvqqqu2bt26c+fORx99KvRhoFhyHKe7D8ssXwks3/f379/vWJbNeKNWY4i2ZXXKbphswloC9WYgfABHD0mTRD2PmRjL6wghBBJZliWEKJfLellce9xNHxYiqlV+5cRQPvgoinzf37p16yc/+UnXdX/5y1++/vpuKYFzruKzkjIrlWm7W0xdxlFf0C/fdpsS9lv3MsDE0qwxWXsn/hgcHJybLgPR0OCg12hwzoeHh8vl8vDw8BVXXMEY++lPf/r8iy86GRgdLfq+31Y7xv8BADIgkEBCijCMgpmZGcaRGHqeB4iMW5EQAByIATEAYMQQiAE0/05r44oLkU7dRoal0F+luOqZj5YN1PMV+s8hIYlU6F8zAHCp8iltXCSHeuymR2AAJAWRtBiQFPVGlYQgGTEAEQbqgAMhhCCUABIQELltu65rWZbSrwCg9oQ0Go2TTz75yis+Nj09/fX/8T8nJg5tWDewsLCgIqh1KDU7ujxiKwWd5EASFrM1YHveJc36OpdQ883Wqcu65d3/6TLVolss/Y0ZU9s0BVspswAJGSADlZ5KkiCQkoS6US8AUuQFKIgiCYIs5CKIIi/M2pn58sIpJ5/66ZtvWajUfvyTnx2cmAsjsGwXgWcz+Uw2b9kuMNbw/brfQIsxm4cysl07EiGJaHhwwAI6uP+dmdkpZvNKvTo4PFz3vEq1YTluEAlBICQQoSKFheAg2AzVkIkZbl0ihpP2nXqSnPw2n6t/BvGb3cEYY4wYSgSVaAo4A86omWIH9b8mMFL/ACVgM2UZQUffXCd81Oed/qkyVRYwZKQ4QadGYsg5sxhynTjJ1B4kQRCovF2A2HQzM4aMIefImLqPXztAJ8qrdGCMc+Rc16KiWnT+L0AExhjnzLJiygATB0TqTGTYftxhTNcqQ0mPAkS93ytgTPperZC1ZycPBV4159hBo8YALIYOtzmzgFAQhoQSsOEHYSQkAeOWSi2nqFrI5sszc6edfOqnr7/Jr3s/vvtHRybmTtm6oZjNcJKlXLaQcRu1qs3ZQLFQr1UYkhpT1P4v2enLS+xnsreKXNPny5hkxMTyRawfV0y8djEpY6ZTF+5ZhiXCmnnGQKUm03ksXddFxEKh8JnPfCYMw29+85uVmj84kisUCp5K7C+llHJgaGhweLi8sBAKgYhhFDDGhAyFDB2bT04eYa1TP9VqoACSwNQ/Le5NZcU764dYwzUpOtEkvRCIZ2jSEFPssik7W6Zjt0Kpee03W1i/gNJEpvdWH31+Lk1q9WeM03QJtFResF5g2RYWoGQckUsggSSJROA1EKRKPQothpMAQoIgikTbwCFjN0y1Wh0YGCCiM08//dZbbx3fv/+f/umfxsenhwdzxXyhulAJ/WBkaCjwvMnJyeGBQUq4h9Sq94pPDmIQn1JqxdxB0/QtsDppsJg2MxVL7Cb1z2VDrDoTySiKhoeHL7300m3btr344ouPPPJIo0H5PFdOdNd1fd+vV6uMsXw+L6NIOdRV+IIQwnXd3bt36zJ7l6cxWsfkdfKh+aQv4bUkrDa3Qf++jE4NXwOISSsTT/0EeiBakttToXs5Jt8m7TVty8zPzyfP8jJzqIJh+MQsoIGBAeX/uuiiiy6++OLJycnvf//75XJjYCDjZjO1Rj2Xyw0PD6vUIybeqsxYDuseidMv9MU/Sam6fOgySjv9mWqUdRGCqaCzI5iyGQDCMBRCZDIZz/OuvPLKiy+++N57733yySeJQG1nj6JInbuhUj4QEeecpHS4xQBUXvldu3ZpxJYcip1oEmtprDk9irMlITYI+0V1LcHsU/O62pWmPk+lUl8CFzrPl7tPnUy+1YXEZNP09HQURZi2apZMv2cKsoGBgUqlAgBBEFSr1WuuueaWW2554403fvCDHxw+PLduXalYLKrA91KppH27McHdSaB3oU9fAqjL+0nJoApZMQtLtyc5SmNjNfXXZQ8wRNSTNQHNiRsxFEDcsRuBX6nXTth20tXXXlMcHHjggQdeeul11/3/s/enz7YcVZ4gupZ7ROzxjHeUEBoAQYpRCQgxXBASQkgClANFZtZcZV3W3fZefWh7Zs/a3usvbe8PeB9eWZt1V2VnVRqNVWYVmWSSpBJSCIkEAUqJZNDIJKSr6Y7n3DPsKSLc1/uwInx7uEfEjr3PvkdXWbm4hOLE9nBfvnytny/3cF8OURTt7e2trKwcPXqUWxSssOg8HzQYDF5++WUHDWcy6YNsDVTNhLO5yFEvuAz9YWmhcymoD9CHgFamOFOWzWdz5u18/IY2OTv5V2XipHeYZJDiXRZo9uvk2xgNaWtJjQZQRCqfmDt/8WLYam0ePXppd3ccx+9897s/8clPfue7j3zlq3+xvT08fnwNpTxz7lySJLwz13DCGm8LyufzEMgBFuZkaR6Wv8XXTKVDMzs0yFoFiKVU+hMi8qBvOBxubGzs7e2trq7+3u/93t7e3h/90R+dfXWr14Fer6eSRGsd5ccaCgL+2sJ/njlzZvfSJbuCDRXaZqPKJkvhrL5S9eTo08IdwKGRLZlDwKzSIqqk1BBwqx7OBdx2Msw9KczHhltbW7zuzxx1YXK2Lcvn6tKlSxsbG0EQjEYjDnCilHrf+973kY985NFHH/3iF784HtNVV23ymmqn4pR/poFiz0cNOkIf/WfKoYb89EsDLCoeSmowC8o8rBpLnpf49A3TsZiuRgTBOI5lGEbt9t5gEKfpm2+88bbbb79w4cI3vvGNV165dOxYXwhx6dKlMAz73a4ETNM0CAJeIIqIL7/8cqmrXM92KQBV1d2/OYgo7I7IfnJZaV4FheXVdy7yC6Uya2wosZl21bBv8/WKrC/LQojd3V2OYmIf/2OnrzKoOI77/X6appcuXWq32ysrKwx2n/jkJ29485t/8uSTX/nqV4dDdfToyurGekra+C9mAQB6kwyO3JZCDaHK8LBMwDJ1M6XWBwCrYuuAxEVrrff29vr9/u7ubqvV6na7L7/88j333POBD3zgr//6r7/yZ38mADbXO+0oClDwHkOtlARM41gCIsClrS17C04T/bMZqKlm83f//pFfuyuhvss1wsVyw+LnI+41+XM2Wef+Oibmd3t83+v1zp8/P5lMjhw5goi7u7tE1Gq14ji+++673/SmN/3VX/3VX/zFX8Qx9Pthr9crrYJvvUvvAqsAqwocgip18UdAlJ+kBmX9qhDuIWL8ltlKrqxFumRNqjk9g1apzbQZVPL6cvTcFv4KjVa3yaS17na7cRzzNkD+YjgcDj/+8Y9fvHjxW9/61ptvvPGTd33kyJFNInr55Zf7vR4RjUajzc3N8XB/NBrt7+93Wq0gQK0S442bsniJTZmc3aUrdn3t9i79xDOtF2tMcWER5HG7/IY0CZyeQ6BALJyeVtrcTm52u9ic2/f1uuvH1TL5Y75AyYgUvKhepu485QxFza7J39YrR9q2oErbBfMultXVERdL1Y4bZd7ibzgmjRlYoBf/0penrbpaaykyHqSUnVZrZ2906dKl3tp6t99Gs1ZLKVP9NE1ZC0UhBji1Wy0ZhUQ0SRMiEmFARIlWIgxaUtx+5ycU0Je/8uciDD73uc/wCvjBYJBO4iiKgiDgE85lFCrtfn/3Zesn8N2xKsUz8jSi4KtZouXILSjNBTwlg2plLVUX86JjP1BEK/8tu7FrCrIYK5Gdn9KIuB1Fv3nffe0o+oPf//12J/roR2954cVzJ0+enIzHcRwLgP3dXSC10uvt7+zu7OwcP7JeJaIaqjKby02HWdYVSD5AOD/ZCQ5NVlUslVI2SwVEkG2zj+O4VPO11gooFIgWmJsEdndoDJCI0jQVQhw5cuSOO+5AxG984xtpmv7u7/6m1pHWurO2PhqNzpw50+v11tfX9/b20NoDYWPrAWWyMDUastmdm11581PptmROYMbeTlaVDBUXvpusbGbs9HwkNV8Lm2wE8gHSfM2eAHCcmVOnTq2srHz5y19+8cXzb7zmBK+61VqvrKwAAK/L57iOTpPPJL8v9Xm+HNScw9eWHLHYnepi+ZhrKUg5aczzqlcWJrssYyB2i5Q+9Ik9DsajOI611sPhMAgC2xzMZBa7gVT2TxHxsd7Ov6jdlmE4GI1OXHXVnXfd1V9dffjhhx955PG1ftRrd3Z3d8fj8dHNzVYY7u/uyjwcq6nCXLbgkPNWlXXUZz5jL6ENVWB9xbA9vaqGNy6044376e3nvDHITmM7aM7D0rr5SGH/qZSaDEfHjh37J7/3e3s7O3/wB3+gFLAPrJKk3W632+1WqzUajc6fPbu+vm6XMi9mlf55ODSzY3htyWbsIEyWvvsayt/WT+em6qFDZM0zMB7t7e35m/YNZmEF+TNfXGicJO1OJ47jixcvvvGNb/yt3/qtEydOfPGLX3z88SeiKGy1Wvv7+/1+v9Vq7e7u+nGKFwYs28sBr89w5FaT/4x4WD7VMORL016P6yf2WTe+le1hOVXyS+SPg3zl7sW5sa4Qx/HJkyeTJNnc3Lztttt+9uyz/8f/8R+iKDh+9Ci3Fi9239raOnPmDO+pXMDDqkLMy0elTF6BgGU3q6+vC+fjZ+hg4rz6vDA/hkxzOH3eDA+Ct1vmuXGQbvDsi2bt6aPiV3tDg8FAKbWxuSmk3N7evvrqq2+99db19fUvfOELzzzz7Iljq9dcffX58+fjOD5+9FgymZQ202KA5StnaSvUi2huwHLKqAIpdqz8QHdVduXLxX5ozz0XcquWhX1jZyilnEwma2trQogPfvCDt9xyy9e+9rW//utvdDriyJHNZDJJ46QVhuPBcDgcckS0eYEAPUOqSbwssjlcujUunbCIJpcpw8OUQ2kpDlTZz2vyYX+KdT4Igt3dXdZDM7viI2ApOdkiIgjc3Nzc2dkhIg7Au7Ozc/311997772dTueP/uiPfvKTn25sdFdWVtI0XV1dTZKkxod4TagRYJkn4NmhD/k2ZtmAZfKp6hl8KWDZ7BhU9F01FbEz73a758+fb7VaR48e7XQ6p06deve73/3lL3/50Ud/hAh8+hsi7u7uYnEyormTBR5iHg6R505fgZi1RMlU9XD2T07iy2pydqGlXlUT/cH8UyDlH+WzE+rL0AqygUXJP57Ddf4hYqfTIYHD4TBN06jVklKGYXjixIlPfepTe3t7f/Inf/Lccy+fOLa5sbY+HA673a4zp7xwH2AbEVZQE0Ob46BEKEMx8DDeXt5Gzeae7PydX9FagOqLwBfbTJmGodw8dvTs2bNxmqZpurK29qm77p5MJl/84he3zm+trPT7K914NL544ZxWqUCNV9hMNoEboamKsmgSTWIwsCD528TlDoyFJd9PFjCAuV7xwQuWPenekOqtMQtuozHViogCAomYjMbpJCadEpECrfLXJQg+hHymewWWXZw7d+7oxma/32c/a2VlJU7TCxcuHDt54p577rm4vf2HX/jC1qW9jSO90WTc7fexKmxUMUjJoYXWqovTZLtLBnrA+z7Io24HhqehtQQikFapShOVJqQVAgkEL3Ze9s+Uqywya3Ps9uBStNZ2fC7QGrQmpcxqXfNTIISUchBP9ifDoBPtTwYKRK+/unnk2D//Z//i7Nmz//v//r+Ph+NkMrnmDccvXbowHOz0ui0kTSrRaazTGEkhKdCpTmNSCeiUnwjQEimUGMpCdCQmrF1Aa8RV1e2Y5sj6g1yt+TMQ/0uUyuSWpKC0IJCAggCUziGOELNYUtwuWQDC6T+OQgiIWIyTlQW0EmwfgjiyFQriJ373W9XBMCmVRTQDE4CJG0yndqSzaewzr0+2+8WZhjqTqrKyp19NvVjP7avJBCp8W9OIpf23x41IATUKKWU7DEPAIFHdUI73dqNQAnJzK601aqSUdKIECQEoUSABKU1KI4FEkYeVy/7xT6T0Sm9lPBzH47jT6ggQw8EICFfXNnZ299/57vfcdfc9L73y6v/3//fvXjpz6Q3XnZwkabfdIpW2o7Df7agkFkArvS5oJRECgaEU/E8iIGnQqqrhCzHvLAn7mlOvP3WAVfpwAZ2oIdsg7RtHBasKNc+b99XjeExIYSuKogiEQCn7/f6xE8c/9tHbnnzqiT/8wz+86sSR7e1Lk9Fwc2Nt99IWx7QrZcAu65D76uV7QbznYdbOh+W2/mFSQ0+kYVbmfma7z9RhmzQC8dZljUQkNCAoTFUyGRERu1MaCWAaFxD0clrkyJEjz58+ffzkyXs/85nd/f0//MIXTr904cSJNUQMpQStkajbbgdCqCSJgsD3reShmEOjmO6lxTdsBl8tHN8BiwH8a8gu187N57Pmhj8VR1HEO9TTNA3DcG1t7b3vfe/NN9/8wAMPfO1rD/R6vclkcuHChbW1NfDAFL3vgAdvnqraXVFU2qnMm4kjPSfny0fLAqyZXVfNW03KNe6YGdYkSTIcDqtswfzpmNW8/E8mk9XV1W63+6Y3venmm29+9tlnv/jFL+7vp+vrvc3NTSLi5WBhGPKWW6deJh/H4paOXDM8LKd4X2XhAG5XqdbWKJbfVKX5+CKzZcdhmjmHNE3jOObleceOHfvMZz5z3XXX/ft//+9/+tOfvvrqq5PJpNVq1SuZ42Qt0Dx+7RaW52Wl0qZfjGwpHVpla/RqsdzM/XJtEq0JBB4cKaUGg0HpuBVqDaEJ8+at8Xi8ubnJJ7becsstt9xyy+nTp//Tf/pPg0Hc6Yher8cncppjE53JCjurKgNcCs0eEvrMOWhVX4AtXywSeEPCmtxKoYqsIBuGW/BAyn7Oexv5OzE/5PmylZUVRLzvvvtWVlb+3b/7dz//+c+vv/76s2fP6rKoMn4VDtgkDhxcsUQH7qh8QV2ZAF1Ftv77alaVvjlQ2nM9vONCaz0ajaredex0JjrYbWfzv7q6uru7GwRBFEVKqQ9+8IO33nrrY4899hd/8RevvHJxdbV17Ngx/sl+ESos1x/ZLIvqhoRUnCO0eXK4XExxfQ/LBzW7DRyo8nG9FKTsEgGA5+nNwJC3enJwZKXU2972ts9+9rO//OUv9/f3nW3eUGZa9SU2IT/zK9OAbfbgAMDqGNUBc1ugXF+v5iVfB5ZoljYwMWAR0Xg8dj6+G3I+iM3kpFSHEZGIer2elHI8HhNRp9O5/vrrb7vttq9//evf/e53d3bGKytRr9ez1yQ5VulI9TJh1iKT7nOhVZWAqtI3USy/aF869o19zw0shDBjQwAQQuzv7x87dmwymbzpTW+6/fbbtdYXL17s9Xp+fW1WG1ZqJl2BCFVKh4YvS6dlAda8EpjXXuy4V5Br7GQycXDKzx8OBg0cT5xz63Q6HIb0Ix/5yA033PDMM8889NBD587tCAGtVisMQ+7vwZOGY32XA7MWn3RnWrrumqo6aL1YQb7IKA9vwq7WZDLhOSwppdZ6b29PKXXLLbfs7u622+2dnR3z1syc/xukAzbKQTJZoNClAFZpzjPTOGhVU2VnLREDVpIky5WSDzHr6+vPPfccIr7xjW/c399HxGuuuWZ7e/vzn//8cDj8xje+8ZOf/CSO016v1263ndgvNbR06wgcB88QFU/aQW/bc9VbzhW950zGu3Fy8Hfz+MWZwRrkX3VLRyt2zuYn0zMopYgwDEMkAtRK6dFoFEVRgPK5ra12u50mSRRF3Lnxbgnf/fZXl9jIaN/Ya3ZqlI+8yFk2ggOAwEKsJR7e8g0HnDANyg/Nvgqn+Q6uSZn8y+JSOTcF10AIe1yD3iI1W4yIyLFTbIk58jFCs5vGlpjNrd1STH7EMad1bKEZTbC7PZY/+x0mhLG9UIuspV5m0trIraAzABy+rdPpABGlNBwO19bWzp49G8dxp9cloiRJsI1802mFZI6kJAIA3oforFu0peFvMuHnw+Hw2LFjALC7u9vtdrnzXllZ0Vr9o3/0jx588MEvfelL4/H4M5/5ZKu1MhgMwjDc2dnp9XrdbpeP9ul0OuM4JsxO23GMscquq2yhSj+n8bCoGKbKtKguBtYpzaWGqgo+oMHMy0lzHw0R6zu0Q3OpDl7QEv2Iuahe1DYEL6BRVyzVO90LNAQiGszh2Fi8GR+sKEwmsdNZLqvRiWhtbe22226L4/gv//IvW63WJz/5sdXVVQ4mPhgMeLkDnzs1Ho/b3R5aXcjSm7gyfIRBK3+rzeWjmfk7sF0Ko06HWa9GzlsAIITgeccqtWtamYORbdVNCnUk41T/crPtlD4zpeM2/r0hu0a2cjrVbKjnkHe0Wmv+KGSydTzT5oaJFVSVptfrjUaj48ePf/zjH19bW/urv/qr73znsY2NLuNUFEWtVqvT6cRxPBqNVldXTQ41ZVWV24TcfSS2lH38gjIlqweyhrzOREObK/NkZvWwMWYZlqSUg8HAdA5VmDiz6OVSkwb2BWK/tZh+zCSnXZpbjr+H6TUhv30PLijMh2NmdAJWWzRBK4NKkE9f8LSReUL5bADM6r8XrgITeyp7e3s33HDDb//2b0sp//zP//zJJ3/e7XbX1tb4fHUAGI/H4/G42+3a+mZLY1lUONXGsU8jF2cns/MK1KppDVqZmyp89PGi9MZu4NJSmkjNASyeBSht/stk+aWlNC/LMTko6+UuE6tQVIMmNuM001JsbDGyFengsnLetUVh/1RvL1DEOMrP+EIr5DyjlT13Yee5gD36fPLN/v7+xsZGp9PZ2dnZ3Nz82Mc+FkXR7//+7+/s7LTbQbfb3d/f39vba7VaURRtb2/7HZiD176FzkUFr9Iuw8/Oron9vF7bqhhdgF2nbRoaBhRNt55PKHpYTrkH1OaFqUryNjnIjrVotUSA8BulyVsHUdml07Kk4VTKaZHmJTq/Uv5FBfKjT4wDYWaynS5/iXVpt9vD4bDVagHA1tbWO97xjrvvvhsAfv/3f/+ZZ36+ttY+efJkEAQ8MHQWuPoOx8HJXdbgeytOBewnpeheVfN6qHIkXlNnxzB8cTj5zzR150UzhwUeiDt5Xm5Cr8OY9/V6mS+LFutIrii08lVo4Qztfs5kPm99qehhmTks2xZsWHSqsBhAmLdsnWm326PRiD+gt1qtIAg44N8vf/nLhx566Je/fGljo3vy5El2+njq3YzJtBUmryEOzKTydVhUXLaPnoeCnvcxL1VhVj01L24B8+YbIQR72gev40GoHmdLm62KT7/Vlk7NRbREaLgcVGNFTYI9Oe+WiqUK0AWAoEIOmgOZIRFolcRCaQQlCQC0EAKEQJQlMeGWR4i4v79/4qqrNMCFra3eysokSc5duHDt9dd/7vOf/8Vzz33pT//03IW9Vkcoov3h0Nl7W+ph2bHXFmC+8pgve30NeP2Gz41Z/GoS83ib15U4iclya+36ICLBdAw/reT0rDfzk3mlJGA8WL2TQ1qzF82liOwOIE3TKAwUxgDA4fc5PiwvKDUnwZmVNfNamt8TZpmQACIgAOKznbLfkRfsWL1dJljShnvSOov/ZeZfBRKBJkKWgLVoyO51apj3k9n9ufmzyupKM0RrNpDPkbTbiJcOOQXxvdZaClmVrSNevsmTE2RKiCwtDsVIBKiR//GfGiQAEKJGINKCgDEgyN80xSCAANAWk2ZNk1n9xEvhmBl+mGiFiJq0QCE4qBZkEuE8WcqI2bGCOlaBDEQASinSKSGi0FLoeLC7sdKJx+OV1TVQKlYpCNnr9XgZGeXnOdrL7hxB8RMhy5seYdpBUqaQoImidufS7h6hWFlbH8cJEYWtdpyqt9309gtb208//fR/+dKf3Hvvvddee3xvb/3MmTMrKyvj8ZgjOqRa8wkJnU4nUWneMIA4DT+JYnZ8SZsC8NBhXsLi4jeHnIVqxh5y+CjEyS+1glIDw+oT6OzcqrNCMI2U/wD5TkMz4176uv9TvTe0ANUBindTRRoAAcrN/b8Zqu9adH6tl5L9vgAgTyFtdDDqQUQam+Y/VUrLldOoCRGQECiJR5QmEoIAMAUiolSpcZxEMrCNyOlmDk4sIrL+ASIR7Q0GH/zwh1Otf/zjH69vbq6sfarXax0/eXL74kW2oCRJona72+1OJpPd3d1OrwuWwPm6QITSwO4wTTc4EwXsBI5OONZb5amZP7H4Mc7I2fEsDJ82VBnPy28ex51pSFLKJEnSNJVSqiSxBeLw4z+ZqyCbT5vJJaLef5tk64Yx3eX2JaUq5QwUllWcIQ7rjnI6JGKHTinUWjpaCpdhHsP21BBxfX19NBrdfPPNcRx/+9vfDoLgvvvubbdDIYQgEFEkhNBKDScTEGJ1dZU9LEYoBqzF4im7OzYWqIbtAdnWy8/tdaf2K/amFiMIhxmTsjR/u3RRcaxOKatVRER8ps54PGZXCypmIheTVXP6B9g6IPmj7yVmjsXe2ldah42lEM+4842J8QLzH1Q8L1Vl2G63z507t7a2dvfdd1933XWPPPLIN77x8Pb27vVvPN5qtXg6BRFHo1GSJL1er2rcN9d4EBiwFl7FXgoWDqaUAqIPQE4Ojoxq8ndEaeuorbV+5g7xsB8Rh8PhcDjEfENWqZNVQ/PKsF7j/4HmJafdL5OjUdPW9k9LLN0gFMfYozziiB/vZbnl2mTr+fnz56+++mreJv25z33u+PHjX/nKV374wx8CQLfb7UQtnaRCiLW1tXYUXbx4ESxsOshxFcIZEi7APZQBkP0nExWpNCus8JUcY7aVxs6KczZNWF9QKWABwP7+/v7+PpUtU74ci7NLofwfMOuA5GDWoXlYdvMtt1AO+Al5vEmoUBJjAssqtwqgiajb7QIAR2G67bbbrrvuuke+/e2vf/1bSZJce+3xlZUVXs8YhmEax6WZLwBb4uDN6fgXPnj5VdVeGE8snpnh64RdHNRCYT341gAWNzN7WJR/dqmqZpOaNqRSzPoHOiBdVg+rpsTLhFn86c2GYLOa1GHM+ZB1cHKqzH/2+/2tra1ut9vpdF588cUTJ07ceeedvV7vW9/61rNPP60UrKz0uq12Mp4opfr9fvYuFfysBWhpgOU/9P+swpQqELFfqVIUKnqIVWjlYE1pLTgfjvJuCq0BPvAwa1n0D5i1MC0doZqUWNqnLpcmk4lxrDDfr5MkCRQNcOkelkNG7eM4DoIAEVutVrvd3t3dDcPwnnvuAYDHH3/829/67ngcX3/9yY2NDZ2kWmsbnuadt7IpMAdgQLFT8t0im2OyBkq+vIopC6+bG16lgvlYzJpHc7smzCcXSysgpSy+nu2qtXOwVcpUq6BnqJNJHARBK4zOnDkzHo/bqz0+Vgdy78/4XJgfUQdFXfEx2ubBX96Rv1uyhKIGoI376aSpajUq+6Zp3vWZNyEAHLdxMSCw3+LvucJbb+VMoVIxFAGv7zNPDFdV/NgxDOw6Or2jFSAMMWcDs2+LAhHN3j3kv/MSlVJU1hk7/attIFSsJudXiLVgVZzX/WUNhEAAQohWq6W1Ho1Gnd7aeDxu9VfjOG63s53GPO/OEXQpXwJmC7nYyoUpXZtVKEMAR8dMAuafd2ULIdhYUIjf+53f+eM//uNvfOMbx44de9e7buQtOynpwWDQbreFEHGaAkAURgCQJEmVVlXqf9UPWEEV+c9NduWdm4WpBj780ktfJw6QVhGtsCEPTZ7bmjEvHVBKVxSZJqvBff+tGglcIcI5iLGU2p0Tg8BBxlJdrZKkYyY1fPrllubscP7pe+/d2Ni4//77f/rTF9ZXozAMBUG31c5mXbRWSsVxnKbpAiKahq8EC1NraN4CqvLx0WqxfEoT2E+cetllOW3PXI1GI5u9eetbUy6WYVaVGtUXcYWY5bKoVFD2n0YgTXoRR6kO3hE2oeZtNzMfh9jLS5LErGywo9RBxeoN9GwZqqHKubGr4CxL8lM6fPZ6vauuuuo97363StP777//Zz87feLYSr/fl1LqJGVvIBAC8k8HVUQV5G7NwVkryJfY9qXAMW9zOz6tnzmTj0FEBIBE0/1MiKi1HgwG0/ECHLSyWFzm6jNvODf39RpP1npIp5t9fZFjS357OTc2UeO1oM1THpxMRWYaUfMMEQARhBDTzc9AlH8KF7NCtvkA5COXTYb50j7byQ2t1blMAjGOY9L6xhtvDILgb7797a9//etR9Nnrrz+ZJAmfrcdHAaV5PO95ZTJdulkKwwcnv8copZnlVr1o27mdQ329/B7YNNLe3p7ZoLMAENSU6zCwsIf1OkUoJscAatTAvqnKoTR/x7F6TTysemWuIYdbk4/tYYGltFWLKEulWkMO8+AppF0dP71ZjTQejfqdLhFdffXVH/nwh7cuXvzSl7708ssXjxxZ2djY6LU7EjBb+EoECwCWw4EjOJ/mLaCK6gXXnGzLd5bOQ3W9oGwWCYseFpRF7G9IfrmlVfO9qplC8FX2dY1fpQbj36AF9DALs5okuBzkI+zC+uyjLXskfp6+GqAH9w3J5tn8KaU038dKjdQ85AVJJ0+eHA6He3t73W732muvfdvb3jaZTP7zf/7P8Vi3Wq3V1VU+A5S/bzaUg00FD8uu5+EAloEYH2tK0/tEnoflSNaplxEHeGqN1hzWAVf/l5aLnqpBUbmrUjr0+oUnQ76ISuXg/wmzPCa/QzpkcZXqW3Nihp2FiuYJlu1UsytYbw6lOulrnZ2Mz/7hq98uPrVarfF43ApCCZgkyTve8Y73v+99Z86c+frXv376+eeDIOj1epEMQiFNlI65qHz1FpYFZrkcgFUq0MtHTv7TLQJ66rakaSq4wfSSK+szsIA8CYAAzGDV3v7u08IbIC4naea31HjsdEvUhyo5C+ta9zpM5zKrRL0sVv2wSw7yOhIjIkLQQBqoSYSpJlBlk73n17xSKk/+9VfPP/+Ga9/Y6ffOXji/srKyeeTI2traRz7ykT/90z998sknkyTp9bq9Xo9jAcL8KlpYhGWLyVn/4lfD3PvxGHxx2w5UVlvklU2F+IRg6XEpu04TAkDAAZAoqwAnwjyYLD8GsnpaDg7Fq70gCyQESJ2oNRoMOmHEu+B1mq6urm5vnYe5vwIILgUA0GparTncS160afKK7G05mMT2DfHSQa1A65S0show6xuFQESOvmTrXD1KmtftJqh5Bb3Z2aq+Z5oMKW8sYvxCzM77A0LSxPFWWIIaNRQR35ZJiaVRrg9ZIxhGBWQfWEig4NhjgEBpmqUkQgQhsmVXgAiIlN8AokA0gcagaC/cFoYH+6NNmqbMqCM0XsfnMG8LHxE1sFcleKHTYDCQUiqiOI57nT63KwjBPQAhiiCQUmYREVgTyCqR88yDKvstCfYv+e+aCtuqK9uUBQKwtrGxu7dHRP2VlfFkosbjtfX1lfX1226//fG/+7txHN93332bm2vnzl1EItluI6LZzg35tIxSqhR2oAbgqtSuhqrUulT1fae3JofSrOqhrepdp7vIQBkAAARkwspyPsQPTM2JBPI/jcADeo1L695nFL0U/zqPolmz3jnvWrhSh+p0Q3U1F5vOrLHzuYg100RJnnbzmLmsOs9ZA6hlTGXMmwNY/n6BJUQAeOtb33rjjTf+9Kc//drXvkYEV111JE3TUMjxeDyZTPjURT4rTCnFIeRLqSSAH3pfK51+vpQcL6C0J7fT2PuT550wMvw4bojNudMDw7T7Yg8IibKglNyf8q+8FZ4br36dyGtFpo6Ox3G5adqLztNSc+Wf+SRXQD9xCDz4+ulbGTctEbA2slUjBmSd+G3ndvB28W1/3jyr7O7YsWObm5vD4fBv/uZvpJSf+tSnjh07dv78eV7iwC5nkiS8ZZLDFJdS4FTV4dixh5kN6YjbubHTmEUDjgHMVBR0FrlQ+a/+W/mdeZBNUmWApQkR4ySJ49gAFiLCZTDOA5IjgaoqX1YyrXaZDJuxK4uneznJ8G9r4xIrxfZjZ2cKsm1t2v1YgxvKt9FAjlBaa2nNupgb8PKvoqpf7djfNT7HTNIIwnrJBoFut3vq1KkkSR588EEp5T33fOr48eOX9nZ5xYaUkh2rNE1rFsGXbH72R0xNGK3JB8rUojRgQ8OySjmscTr4iQl3bb53OMk4jvtkMikA1pVH846jl1joZXKvoGx28vDJcVguaxF+Kb6y2SpNZrGodUK9uXFaZwH+faVaWAgas388dwFS8PXM+XOrG+v3fObTb37rjd/+7iMPf/s77Z7odDpSyvF4vLe3F8cxb6WumsCChnNYTey2xlHyPSxHvk3A0cncSV/zYk1FHE4Q0QGsmbU+fHK+ItnfKw6NDmIY9dlC0WAOAbl8rVtuuVX5lxZR6ihgPlTkpVho7dwu5baeeZqTDlhxY3dxHG9sbEwmkyiKPvrRj25ubj744IP33//Nbrd19OjRzc1NROTxIADYYXMcEjZzVZ5Lcy4NANlMm/v6ivkfUGuArIrPGtQzPzkmQdYiF3sOy4mHdYWQw7O5OZyia/5cYhGHUx2bTENfpqJ9zIIi1lQpublROZlGd3opB+7n5ZCo8L2+tIgmpL1/hEiIimhlbY0Qz1240FtZufVDH1rb2Pjrb3zjySefieP4xInNjY0NAOBN0TXLSmcsgziIxWKFk0VljlgVMDXPtiqN/RDLdhTaSsONZOPalUZL7wmblwtXqkwOQpe7T6rKv1SSNZhlvhLaaGIA5eCtc/n0iu1uY2PjzJkzSqmNjQ2l1HXXXXfq1KkjR478+Z//+U9/+lMi6Ha7HGDLxG4qpaBmuAhFQbDseImEwReTwBi542SZbS6lIvAFzbw6OAJWF2SjidY6ENLuHEwCExLIdkkAQGkFwMvssmOYhBAIpJNUa5xMJqPRKJKIiK1WK07GZnVYQzy1V5PZDe+c7mPm0ebtxLhettgxn+Cwn0wbSLsAbUvVJ3taxHlOxS+wdlZG8o4bC8U+yeRm6wLnzMUKnCobZuvYCGDarCZ/My+L1lLBUieafyqdx7UVxlFUczS8M/VZiGNVnIotgRtjGpY0pJDofDiyWBWW/hNwcwqBuLq6+uqrr57q95MkESJoRR1mUocSYHqwI2ualBK8QA62BZl7Yzhsd8aIOGC8CcPrN7qtHrZhmvWbTlvv7u5GUcRCDsNwMpn0+/277777T7/0pe9973urq6tvf/ubJpP18+fP8+z7eDyOoggRGXDCMOSIYPMtNPUVYmZ6qLANrCAH1xykKNV+O5lzkORMDp0cTDCsJvX6b4qaS/JwyMEvm0pZdXDH0SuffMs8TAn4Ng9l3gAW97TZHWSTUmYmW2Ld7cCTphZCiI997GPPP//81772tdOnz4VhePLkyfX19Z2dnU6nE4Yhdw9pmk4mEyLqdDqNhoSl7epAbI0CleYpKsgXOnr7p+x7u/L2viebT9slqWdsPB5jvpEQvRVPDSt4RZHfr8401FKyE8BlsN6q9m3yik2OjTnZ+lTPlV9NO//LIQpH8+3nZu2VA1gOZtlDRV+S5qYK2nzJOCKdAYgCsx1CAu17lAIEaiBFmncRoRRSyre85S0f+chHXnrppf/6X//rYDDY3OwOh8Ner0f5RwY2Zx4OB0Ew4ysheJjl1MT3DJ06+9YC1dqD3roSPyu/OLBazhB4mjRTsYQQ5oAvJ/HrC6R8Whb/tok278kbkgNVM9GqBnR8FVqA5yps8jNZOnxD2WiRF46C5a3Yam9jlg3Wpebjd0V8b6f0EzSsaWk72lbJmUgpZRiMJpM77rjj1ltvfe655x588MEXXzzf6XTe8IY3sFfFRxpHUcSRo5MkcQP4+WVTcYWbXWeHOT+Nqb+jQH7KJlKAIiZmmVAhgcOe0zD14hZC7O/vCyFSrUnrwFtDW1rQFU6OSRtdnDefBRR3LkJvWgdqRS282O1QgUe2+TmmWFMLspZlmrds1Z2Zw2Jkowa3HOU7YXmxexS6EyA+atusOuBFeQLfJM19KVfOtappEDHfNJtLCQAQCTH7aJj/SgBCCKX0uXPnbr31Vinlgw8+OBqNfvd3f1dK7Pf7vMqB15SaExgrAQuLC14d0HGYLk1jo5WD7lg9T+RYlC1ZB/5Lpez3CQ7PNSSEGAwG7GEBEUAJk68vtLLJ6feqpFEvJQetFuh46jkEb9K9LnE1h37v4tdrpj7YtfMhwE62RNgiZxbCypkBK8w/4EDFiRtVr/selv0TFd0rP1mTjooQgEoG9Y6dCnNMjNa9Xu/CuXPdbveWW245d+7cE0880Wq1Pvaxj508ebLdbg8Gg+FwGMdxFEWMWXUelo9ZNutQra8FkdWaR+m7rhSsXq7U5BwR67JY/U3KRWsOCyHbaQie9r8eMasJVNWT3w0s17mo9LAW5dYxG98NsZdfVuVg9Mfvd02yBdibyTxkPkhhBMprGqBoXw7uME0RoUyeDvQ4oOw8sW8a2hFZ2doAYji0Z2y01lddddX29na73b7rrrviOH788cdXV1c/9KEP9fv9fr8/mUx4WZYQIk3TxddhlfqHTYzZ1KSUHN1qjjh2Yn+tgM1t5hV7nCJimgUbIUELDl2vNPINdSk1WtxQeRo2n4y1/pU1STWhRTNTwvxfCSvZnweveVdd83hbTo4yjyMCuW6zYpuHtillJQJIjiRDgOQapi7iyAx3qXa8XPrcOSTVviIR3wshONANP+dZY4HB3t5eFLY//vGP3/ye9z799NMvPP/icDiMwlar1RIYAAAoiOM48IG2vhW5me0K2/FrbL+G8wmCwH5oMqnp2arYcH7KSlSFBd/GvbJft3V0NBmRQCk5OhJqpUhpIAVKA8DWhQugKRRSChGPx4GQgNIDv4I8iv+AOxi/Eytdj46IBCqLzVTMM+Pf1IJvSGitSReWEWpNWlMWfwKQCAgIEUhrRAzCcnupWpuXlePNWVSR/UHKTu/nz88DDImIq6zz5kIAZM7tyGWoiUh48XlZMma9j9Nj2+3u8GNyttvFrICxJODOBzHZH+adTLB6I5cEzItFIAClU50HDs3TCJ7QMY4hAAsGlAbWdIAAhU5SAcBltVC0oihJklYUcpQhRn0kkASoOSoYULbWEEhrs9sl+2w31S0ge/0XZOHjMv6xMOo0Qral7UC/QGDnEIlXiKFA0KniewIgpQEBCYQQ7VZ3MJygDNqd/mgSh1HnzW96S6vV+r/+8Auf+0e//dFTH1pfWU/HSiBKEBJkyak5pXKvp3pHzKYFMndys52vKuCrSmO6cDtwD+avmA3xRITL4Hb5hBq0qJrZweIw+Ur0DSn3pNipIMTMTl0Pw2I+h6+DVedKbM2cWEs5iJU/RyMIlOkSEeWsYakgQACGQ40ocszKEi9PKapaxEQ8s6+Yj+4NlvE1VZoXqXItwjA6cuRIGIYqTv/LH//X/b3Bb/zGncO99nA4XD9+ZGdnJ7DLbuhkgTWrNVMPbPdnWUrjwLzjuzlP7FeoNuoxb2Iy27UOU8WxbMbhILk5N1cWYQ5XgluEMJtrn8IYgCsNW98OUq8mbuPSqYrz5mpmfEkzP2W/6DuJxRILq+2XQo6OUYPJEzulSU+khRBSCLPqamVlZWVlRacpL3Rot9ufuP3U+vrq+fMXe72eewgFzNIGJ/1MLh0PayZy+f6/4yxM3aVqWClF0vrNnOxp8+lv9TVaOjl+9UGc3CvUsTKErvxr2trot0lsN/1i5dtodWh9Uk37OoOP+rYzaAWeWZmCbBk6kqyyrIPojF+XeV/kDUD8bpqmvPkZADY3N//pP/2nKysrX/jCF5544tlOB4QQ05XuDdHKKa+JkZhq+DcLk9NUfvdiuLIX1PkpbeLVtA5gHYLxV+nWwlnBPBPSh0+l1uXw6ZicrTALK4+jLYfmYc1s37mcLD50CzwTqC8dLoMm+63WxBHxb3ixAhsdV43jjh45cmRlZeWOO+544xvf+J//83/+27996pprNsIwFH6t6hV9YdOys63Pf2Yn4HcvthnYmfjrgKuIl9KakENozetfbvLNdeFMrkyQKlLBlahpaINW2WvVI6A5yi5qy2F6WM6fNhY3xCxbk2tA3JHkZcIs3yQbvuU/5M9HvKI9DEOu3Xg8PnPmzI033vjpT386juOvfe1rv/jFqysrbfeMsya1mhfgHC1ciuBKXWKnRPtLNkNPTdHsl5q9WubFg7NaT6WSOQhmgSfzK48Kc1WYfa8qzGGZn8BzjhYs0svkkNGqtH3nAixbJ/0XqWxQ6WNWFR2kdk1E6gCo+dM+b5GrJoSIomhvb48XYR09evRTn/pUkiR/9md/9sILr1Se/NyE0YYpbRYPbksNe1obdJoUai8jdIR7CHRAqJqZ7RVL8yrDwkNCP5+DZ9KcStt3ARS2xVX1YqlID0ETFhCpIxalVJIkHAa60+msr6/v7e0Nh8N3vvOdN9544+nTpx944IGAjzP0yUzlNDRdx8hNY9jRTu1MzLoYWwVrSikVB2Ll5gOD33aJAqUQqICyeFhTeBKTyYQ3WzLEKRWnaSpEwEWUet31AnGIAdFejeWLy75x8ndg2hGalNL/VmAguzQTTu8bElaIuup7xdxOKJp1W+DEt8wTTNMSgBCF9VxGr0o4LyqqI1Iz9YPFDzL26U12z6q9c+H5LdOxOQvrTA6OH1G1kZ6XLjqT6HZ7EREA/594x1Kr1SKi0WjUXom4OjWB7jJB5WtGbHUpTW8YdrgtZd55blfZjoeFZd/xHeIvg5grZBiGgoADM4xGo1arNRgMdnd3b7nllvX19b/7u7+bsfm5qmJkfZu0NcNv4CrDnlmT0vTOuwDLPLXO9rdx/k6JDn1ZfBNXfOE8r0Cig61smNeXcW6avFLTzdSXshiVvp5hn5/y0CfsFnAhDSVJEoZhEAStVos3Px89evSmm24KFssOvW0rpZGF6zOfq2jfOHPAWhpGWD3eHCZhezqHYO0O0DdH/IULuhzZ2r1dczk7aFX6pL5chwH/ZmY+VbQA9NhuyLyv+7MWU87R4ifLuVDTpdASTbuU+NMhRx9FIqXU2tpat9s9qIcFRUH4TV7jYRmqSea8Yt9kfy7PqeEVt5yzmfeCimXlMyt4+egwYfEyFeejfKUYrcJtfSt155uXC0VNhqJ2+cNMBx1KyeGnvi8pzaqJLtnMODd20VBEw6noZhZwMLJHuAfJxwy9pZQqSeI4llL2+/25Paxy1MifOOAF1ZqkizGnX3Ni0UgpEZE0oXDd+/p3zf3lxi/bsbL9rOXmD5cNrQicuSFCkc21lKUuEWa2AbgYo7G5h2WodNbG6LAQ8y1RtBGtodDyPrEEdBq+K4SoesnxsJY+JKyqoyiLTl7r3JVXQEqZpilbJbcFR9eZ28OqUmjHw585YLFfd1Skipwucelkr8qDWQrqj0cOjRyRXj4PyGnrZeXsi6vSXBHI+pZg8+NIfiaHTvqSkZRXis/eAh5W1SsLeFg2OltUEILZP25SuoZZHWJsKWT8X1P9g1gHT8nz4qwsSvICHlY9ZtkpoVaTql4sJVvDCnkuT/5CCPawYKqjMwbqTn1fK+S6fB7WcjO3M5zXJSlVp3ll7pgQlk1rmJ+qbkppsaa3hdAwh1KPzHnXc/kPz8MyjDnOyrxaxIsbgD+nAvAJYHEcz70wkipoRnqN/hUA+D7fxF/HjOM/g9dmDUlXv2HLGuZUwZnovCy6fL5PTXFLzXGeJiO0tx9Wue2LSaO0feuVeS6aK6upl5T/83Pjm2lMK142wQFpLAvSIACAsrBIQiMACQ1AIJYYqmEG5fy41u1cq01eEYkg4A1z4zjmmASJUtkcM4Db7/nuQ4Y8tetxbPzKRMzBtwAJEDiMVxaPRwAKzGLnIAEpDYAYyJIZX8MbE//p7KN24KycTzLnBgoppeAwRqSAOGYWXHXVVUQUhiEAx2zQgLpEi1hJ8hpmfyMioqbUSCwvk7ktIDsRkJ7WBcDtyclzp41oTUOU9hY2mmevs81n96aUnDv7P9VUBd/c8ZS4IaW6iPwpGYHs/h4REGiGXiFkox1+U1OKgAjIYhQ86YhzAqKlLUaSLDdzKLyzGwYFcSQvJ4oZWdHyAAEFCfZpKiTL9WI/wu4pzQhYAHAQlqzuSpkwLHGaQqQBKFZpEASkWaQiD4uIJESSahQIBBqRABWhIiANEsoP1CnVIq6L/au5EcF08sS+xhPWfxQYgOQxSu7ckcj4NFcOzFUkyvRUpqSRSIYhAHDsnajdnn2KqrlfsOfJhAiNrjBV9BqPd0aBtXzayme2BRzyUO7w6LJ/FJqTap3oUppruDQfL4flpc5FGrNBgI/fGbJg9rFPZ2kEEAoCIBTcGcDUpjjUNwDofG5bF5vgMgg256HRdQaRQBaI+ddo0v01bFqnH/BRzHYMyftEXZqh5S1mKYUQHHH0chO+RvP0h0/zqkqNQLA4wYQHWE/k60nVMPOKJccQFpsn8TO53NWfV+GxOL1o/qwELCquUTg0IiIDvs1Fb79ej1kopu6VFd33MFwRZ6D99x6zlk4O3CzwriEfsxbO+XBoOldjPanSpXr099Fq+ewug3zMghrAAq9RD78XKvWn/O144I1em2RORMYvPYR6OR3FVP9eJx37vLQsD8uZxVuYH78bs32r14WHVTI76cHWXB4WHCJaVRU0cwLHxiy4Aj0sQ45MnUOZ/DlC56cqznl2NcvWDA+XGeq6kvyhzeUv8+8bHVBopXry+kIr8h6W3tfPijh5whU2kQdFb9rGrPk8rMPh1VDVQN1JYNdnJpNmHCiE0OZMXa0CnHs+eC4qnb36e4xZS/Sw7JHaQWavSvXE8bCu5Bap8aRKraM6k4KPf1l4XRL545L5rPTQMGuuxphL6PaXQabDxOIrf+LgCqRlyarJqORKczR88mvhGMtcQ8LXCxmGA2O0UPSkStcx1dTTHojZEOD7RHVdGYKUErzFRwCQJInfEyIixwgFS9UcJHJGYUWfESmPJCOEgOk2t2ymTAihVGHhou2pOkjqlOWPTP1hLBbjVVVJ1WKY+Eyf/ETC6TnANgpPYxZWHgk2u0TDpHPjkTuZ7aR3hmDLCq5h1MBuU9tcSxl2GovyDWGULzA0GZo9D9675QLl+G4mc6MbuvpIE7vXNE2mK9ajKaXa7baxzTiOV/sr5jxQpnx6N1tBRkQk8nOYs72xyIugfLuo5LKYwNzY+GAbAsI0tK/tvdqb3nzT8Klqvac7JGySVxVdjt7J1jAjBfsnswDP4aSqDfLnmP2R6XjTT8I1Of8DvSZ0wBZZltLOm08pzzMzQczWJ89VllOEeduA/utIq6cr3Q0dEK1sKSyWT7nvVbHti9f+Yh7asVGTA/iApbVGmR/6prM5eJNhk5z/gQ6TbK+qzmdvRlUDgoWzcvwXxx80Lonjh9aXXnhrUT6JiGdunT7+cgOWbz6O/9GQSs6RXxZbOUMLZmJLECu+r7HrbkRvVjws4GGR1v7mZ6KSGDivo+7o7z2x4ZlAw4vlUDpUXzg354ooShWm0sOqLdko7EFs1e6GF87ktTKBwpDQDDgXyKgaQRfIZxoQwx88QxHR7C7rIMR6bwL4mS1Udr1ejy7033sySnvwFilVtuZs2Df1HlZpKfVVcHN4valf1ZTZ4h7WUhg6SJNXke862qXMy3+WMlvQAPx/VnvjYZE1kw0ejv8DWl05dPDxgdO4B+z8HG2kPLa6P0Qw3e00JadpMP+NB5vJMgbl8PC6oKmHZbfcwjZZ4xbNk0M5A6UDfjtoga12NfkDVAIWDy6082Gr+C4uOj33D7RcstV1qhLLaJmDe1jgaYuTp19E/uKMaSx7SLiAHhrzNKFBF7P0qreqGPLLWqzckm/qy7LGA04EOFlVCshDqxlcaSJezkCE+U1B4wEg3yt/kK77ctGVFoDhCqCDtFGpsh2MHTdbx0rr8xcEwuJIezfc/hno8Cv5ld+bxnuwyjF5ljLzOnKyphFHHVFWKUHV+ogqcjocZ2DlFloIMGTPXFY2M5976IOO423ZuQkC0IRAoAEJUAgESrVWSp246qrRZLy+0t/dutDvdifJOFXaEZHdzA2FtgDx108ogiaac+6QAMla9kvAcUSyf/l99n8JADyKMAIx7ei0S/Va4gqdxgp9mIqFnBtHYk6v4LrnWbA3Xi4HlIVLAaUUmAEXIJAgjQSIool+kglzZseGd+YB0F7RdrDe11cScy6k3ShcumkAxZHUgDRBGEX7wyEI0el0dobDq954fBTHK6trAUGAIhCCJzTMaedaKbIVkm+QEDFThWoPADzzqUrmE+uPn4m/3pB/rVqfVTyfcXozd0z3erpMUO2I7yCDsmy9AnBwNOs571QKAl4BqHE56LMwq06TNymo9LlzkOrrdDxbxbb9kIFvKfr3GorIMWudX1PSIsy+CGW6igIRZbGHIWsuzBEF91rz0hWiLYaNBY/5OkiCJmTkbs9bcbdQdfTuAQkReTFxFEXmjEXzkw8fVdU0Dh1WLBybl2wfpEk+tvdn8zkvAl4h5IixVJhkrSoScpGo387NFThE0lpHUcSawF4Ju1RV6curMH83XO1JHYaI/GFZJWDN7woupwJUXNZgMMseQmJ+kvjSAavb7bZarWQ8ZFg0Y4R5Qcd5azHhOCXOZMAHKfPEMGM0YO4j5l878jELyoA4h61FtscepJkOh5RSnU4HABiwtNZCBHZ4ZUPOkKpArx/A8nuRBYeEzRnNS1r8a6ODFPaN7XcshYQQaZoyYE2G+85MijP0gMYe1sGHhA09LIfhg0y7XIHku6vco9he9sLKUJrDlSY9rXWv1wMGrEBqraWcTq458H2lMb8w+U2ztDksR2QLE+Vbc/xRIVhTxfPO/c8kIUSaThiweBEplS2taIhBpR7ivCwtxcNymtxJcOVT1RDbfJU3vx7EjX1d2LkBLCGEPWvhTJtA3dftuZXwNZSJo7ozPKx5GfUVa2FyhoG2mjq+xsHLMsTDTJ7Dyhig7LnNmM3ezAyX6GE1Kc65sfPxky3ROT0E8ofYZkvWEt0iR/EOxvLyqdPpYL6Eij8y2nzWt7t5PG+hr5UcStEKLsdXwqVYQpV341jvcqWptQ7zr4S46FfCJWKoTTOHhD4bmC9fcAaJC3t8VwLZmGXI/LRYns3H+68t8QHIYHXe5ie/W62guYG4Kv3h6I9fSuXJzyY8EDSbELEtqol1lfuuSJAPCR2NNOtWnOLqm82/ZuegISAiRxzVWiPoNEn7/f5oMOj1elEUkU7SeCylVMU5XVOczjdL8/p4yEHWWd8Elg3YWGb269YL1q4vl+6coOfn7FAYhg4ndsvaBTmt5rBXNUmvdKFdam6YStd/mSr4Depwa/SBigS5/JMkQWv9FBT10M7HlqEvUv4AZ8s/yydfd9bQV03T1G4mp9twOCRrqJulJErTdKIUEa2srIzHYxl11HjcX+8lSaKUovx8QLI+R1S2ApIQ03WpvnXY7x4EkprotsOh84Tj3Dlth4gzhoQ1wr1MhIimH5i3rLncECLyPwggom3hy6Wl9ORmHOTYm+NulBbakLfXF5WCNRXHSr60a+q7XPequenWE68QzPq5A+RGVB4Qwu6oHACtzOeykc+MEWAlYNmMLrcJ68lpD9cFK01fNuMzS9AlUMXN0+12iUhaC22rnLi5yFaCg8iz1LV0GCv1bkrR3Hn4+oItx2fJZVIi2xqBz9XJHYR892ouiqIoDEMDWFXg6zjINVTf9M3zOSA5DDi25pteUMWQ8/zQMMsAVo1BOs+dBmNquM4oVyKkvD/p9/s+pixLoavUojmV+gv+KADLdLoGsxZj5kogrikVF5qVQjaTXd9SgZQ6qgfksObPhtRut8MwzOK1ZRwWFtbZo8KZ5OtDVa98OIbv616Vns/+SnhoXZBV3Hw9hu1kNexY7K8lDFj8k5RyZWWFiISQJr2RAFrLFBYgHxoWyMrYp6mvbZxOB46IpCt7sFKWXi9kNzd/5nfMr6alqEDTVxpOLM5Fdv9xEA8rDEMO1mayNS02l4dl7Mv3sGzeli6HKvI10KmCo+d15xKW3l9ucgBrpshsJDa7dmoYrtdjIWW/37cXuTjtahpyXpnY+RxEDw7uYYEFvsvl7fCpAM0VLVI1erKpyr9YCi3FwwqCYGrAxelL+7qAh2VedFAVGkzILJ1sQyv3sOpr6DuNl1uhtdaA2rfAevIVt2ZlKRGZUyfAai0AMHNYNVq+RA9rsUxK1aiqA6/qwar+fN2R0xxO2/lg4fTEpfW+fB7WQfJh5rXWIvewnIa2IayKHA8LLLv2AQutr96Xj2o6Th+2ZntY9pgILjdgEWYCJQGCECQKABIoiDQCaiABoKZXdGO/mGarFDTv57cqgYiaBABoyr4SAgCC0KXzt681VX0lLJ2zQy/4d9WQ8HVKpf1wKZr7z0v7j8vdH88canHUGyfEFQESYkocXIdC4l8FEmorVBaUOllIQJhdAZxwQI75OJi1kIfF6RGAGlzrNBBLJ92r4s443VRD/LadydIKz1QIIUMCTZpdX1BECITcKyACAaAAQkAJgAJQ6UQA8hdfLpFXcAhAzsG40LwCK0VAkNm0JSFpDUBACmWYpnGi1ImTVwdhW2fMRFKmZK1+cvpnAx9+vZp6LlT3NZML1JryfzoUkrIq8X/zgDmpQiGElAKRw2Ex00JOcwTWlKx9s86WadqpCnOuXJYsb5cpY3bVjNht1YfqDgMr1luVdodEhGxg5rmTAAAQiDQgoSAgkiLiH0ijJgBiDjl/JCLSSBq1Aq2ACJRSbJ8m3iyXax9HknNSMqlvi4IsMmky8+JPSfkHJZh2JAWfBhE1aAIOLYmkgJsxUaq7thEDRN3uRGMYRPEwXlvdhEQHnTYICSLQIBjoEEggalIAIAiFBESJSIgCBaRpXnB+Dgv/OT3NAIA0mdhLTfCh0L68zMtAZPFKGgC15XxU9i4Gc5wx04yV7q9ND8wbYwgAsnMZs87Bu2oA1AK9GBt1bJMwjlPWOxGZSNqkQUopw4BIa0BZhrml8FRFOP9s11xUyont0kOz3RjkjYJLc74yPTK/Q8WDfR5ZCksLvOVgfHa0LyEAksAUhAbQKARKBCkIRDYi4X4d0N5LyO3OO2KFBkAp5h4hEc04xaeSsm5mxpWIqqJrOD2BeVgHWA6mLldZZ+ZW7+SbX/hEWxuJm2Rb6hDxiD2KoiiKVDxyBlk2ctX7sSY323hmMrYA2cBUBCmYWW6VC2xbfqlnfSVjlvnTdojqGTb6YGR4cJjz2+LgxCvvtdZ5eNHpgdVT9z9Lm2kyWvNc5jpzIejlMPYF8vfNja+N5rCaFLBcaoZWWUoGLGgMDf64g4hIawGgte50Op1OZ28yFEJAfm64LY0mWmhMfemY5Uum1DyalFgPVVCE3SsTp5gKQDM/m47cYCGgqWmXpRBvJCQitIbhAKAtEtlwfjoNkk0cNJikO5xWbp7/Ih5W6WuH4Gbb3d1MORrAao5WU3TTZDsaKFClKQPWzpYWQuh0uqHJvoGaMbznnlw+JfA9LP9aZcGOPwLewMq/KS39tQIyw5jdKyCiSl0UbtJepS7qwnQ5PKxOp8MBKqQsSN6glaWfAGbPbE4z/MwyDzq7WVIVKvOfk14zD6sqQ1+BahkgFGIBkfr9IREhCqV1u93udDrcX+limrnyrxpSHZBmeljNnU1nxOS7hL6fBUs1wmVRkaW55VyF+wvzcDm69m63m502wHvgSRvAIjMwzNrLNp9Mt3mEiIjQbAfIa+5qoTcLyX/O4WEdDtk9ZxMGEJEH7Q31ozRZ5mFxSKxWxCGxhJm/XMjNPGQPy76x/2xSdg1IOWjrq9FrS74EarzFJvksnatltX632w2CIM2xSYM2X6idT9g8DETk2d1pyDA+bbOmey/1UXB5a3sq8i8nf8zEfy4SAPtKo3m1ze8M7ZsgCPgTr59tE2/2tTLmectt2JROsteLAjQfH1SB/pVGvJGQLOLnVCST3gn37idw6DV3qRyyR1q252stvqiY5bKzaOjI2MniuJxRe+KwSWX8mLCICAhSSv5K6gSKMuuAHJ6J7EJRSskrjxKtxuNxK4pGo1EYhlprEQRSyjAMlVIc1YiVwNcPzFfx1FfB/rLDfwZBkCZ1K/LtghBRSsnrhnj3HK844wpGUWTesoP2QXFNv6m78MJRlDqSvssGZZPxjlZBHr+stB3trBzhlAqh9LlTI5PSnOfo5GC2bTnM2P6XHdfMV3V+HUVhht5GBFsmpiCztgtsvS3z+9gdVkpJKRFAK42IQgopAZQajUZJkhAJYp5FJuQwklpr1k+Zqyj/xB6WqYsZMdicOzKxlSFPOeUcLJ1EK1QZr4LMXqlor0rroPJzCav0J3DYLc/0ADSXItYwUAWURGQG6j6UzEVZu0ppL0OdN5O5Xpk3/9KOBMo+V5u2rzwXtfg6WQMopxScc3hl8qyvwhVIdq9+8KyM9GrKsonyyScoG8unaaq1Bsy6zGxcmPe7B5eqr1E1rAJAp9MhIpUTn2eMiLKJwh2AKiOOLovq2x6LEz1ojVptxtCb9DXZ8t5DyC3NfDGZl0+eYkfEIAg48BCUAX9zqnqrYT5V2ETFeSXj3DkIOxXXrIJK0coutOivudNbNdk2qeahke1Z2G4CeBp1cCqVT30p5E13ZriJyP1xHMdaawyQXZuUUmeTlvNuFW/kzUtCsZeCInBrmMKuneaFF15otVoc9Cbr6YUQQpC6vHsPywELlzdZWJWPHQqWvCFGjStRuFr7S6D4iXdePvM1LFPAsp21mtatqXUV3jVEQMfZse/tUYYDWB7PjYbwJtvSpidvDn6mhlyBgOWM4KDMD1oW2zVoNbMIxHyfh/Uk23CGCNxJa5UHES7HrBqyq2zedWL/Tx090uAZKQC8+OKL6+vrx44da7VaPAznt9RhAtblULKqPWX2vi2nRyrFLEeliomnDeZ0ns3JHKIrpeRQHlQWfXwmOWyXGn/pfU0+PnybG9YSs/GtLP+mcvBHwVXIZd+8XshYlPGwwDNO52be/KHWgny0spss48pKRnkaexaJKBtEgDZ+YqGXaigHqGhou+65aMq/eF511VX9fn91dZWPxZtOpzZh4gAUOHB7mFpYY9tV0nda3e+LFiaz9QFA2jpdyttMQfmY2xCnnExqcjB/OvP9C7Sg46/ZBmD1tPPNZzWs4yFTKayD1x0uvaASvS1Sxo9JZrzdPL3x+nkFFpPWWtDsGHClZTkeloOkpazaRVx33XX8U5qmSZJoraWUUsrDGBL6jvESqSpP36RNevunmn4J8+E9FC1qsVrYq/IM+X3RTKrxhvzn1MwDqkF2NHMHHpO5KGYw79sSlp1VY4puiFlXGmCR52H5qnIQD6s0H/+h/9xh0kxNGPFx+na7LaWMlVakTCtorYnKp31riij1sGwHE+yGzr+K2j0WWWc48Q2jlc32ZaIASBBoBMkBH+z7JVwBqqpQY4R5GAoCQgKNIAAJCOxQFSgACAQACW2H6ljYTjCfHbCXR5QyPBctzE/DFx0PqKzjmZ2PramYH8ZRH7mtoY955ZNjqEvMtv55la+nEcDqZQRIAUoQtIIoQDEhBayfkhAxJRXCdFlAvW9T/6sP0zaK2WjFv04mEz7mrtVqcX+ZJMlkMgllAADN8WFeCuJEIYcCE1m7kdYEWooAgEMbCgAEFAACUChFgAgEKAQQAmRX0uA858gwRKlTpN+l25gdhRKQw5hpIuQWBNICJQriK5AgUFqRJlXoKIA0ECGQNyMzHUChMD0De68SEQDiOG6324I0EUVR1Gq14vFYCAEiQIlAiGjNSRPx6i0C0IAChQYEEIgIxs65xJJyAVEgCgQJJEAWurWpcxdILoi0JkCtSRMBgkRhPmkbfbIXqTnk/GTkXDpIsb0ns0wRKtDHdoptZhzQdJqgik8zqnVYmhf47L2EaBEA8Nd3FgjvyzMf453TAB2JFZmvm6yw2a5HQLOyrxBwiggDkSoFSgcgAiEEIGHQawURhmqShBjKdpt9GR1QSimJFiGCEIRIiDwPj5pkEGYzYsjR5DgqEwiZ6W2RdZ5By3k2jCNQmp07KRABUQgkFCCnc9MqSVUun0BIysLFIKOHuRKA88QeW1DF1SeGQwS0rqZ21tXEpWLlnHYC0zTeW9ZkoU/OyCgj0AASAAA1EAcDQ8gWvxEiAmoAnP5K6Bhkk37SH6NhcSK2ST6Oh+zgr7nxnb7SnGfqt53SRgrfwOpZbVKEzbz9J3iiWyL5Ulp6WaWOsyluphiXTiXFIREAZSHCAUGSBiQCBTpNQZEIstEiDwwVujXiee9lVYSI5s7IvOFiSAmqLECBqF2fXeoNlTBZrVtVsuOVuDU52JZvPyztuhuijHnLxyyyMH1e1DMeohAC/VmAMufffljqShRgPH/F+Efmieml60dwdob1yarq7viAYOFgfYYNyfiMNsrXZF7/UxPH0E7vQH/z/mNhchTAUWYhhADkeLmJUkpBHMdKKQwRrRFJ6H0hQUTek7MYV77SvlZUxUBQCgH2Q+fGwayZBlC5oLEIMWxyiNO9EXPBkF/PKsYcozV/ZBGHsaC+M4szhmHxXLmyn/O064WI/LYDBw5alQrcoNUCMN3kFVv4dotYC6wXoZp2Aa/pqfH5kjbbVObYlkKY3RANW3xZVNWNaSJ2kRCQ8rjYirJ1WIXu0OvSwNKKefkxkHflYFYplcR0h7KpQZt727rAqmpNMU4fAh4mZmLyZgaNJhmD9wEUGuCUId/L4D+zeB0HbqQaOZQKqtS6oAhefnosxiCfSTUeh5/Sz9OI/fLpsQ1SDmaVpq9iw3/LrnupSKE4JGyiz8uikr6ZsqjERJRm041AIpul0giE00XORhnAaqN6zut1wOYnk8NrdBJLVS0Cf1NoFVqZv2D+DtZGN74xQjdFmBTFQqeAVZqz3ZlUGblNxRW9vh7P19n6ulL1IhU9rGkpVLBVh0pLLLxeOzUDxfFRE1N0kjmJnfaChTShik/7Zll4YWyvilsjSXsl87yVWoCcsjLdsOYleHVoqolQSBm0Om0ZBvwBSwgheS2LtbfZSCxjfk4BVnUYVxpZpzMW+88KtHLJf7E0jWOEjuVMVaosjyoscDTbCQ9U4xU73Pro0KSp7NJtjS9t9UKX1djDAg+CuRhbGvxTzVdCp44zq9bEVu26V+2qn5eqFG9e7HBaFsomifxXHO06HMBy2Mu0iAAJTMArIgQpRBC0Oh0Zhil/lpJS8IfOVNsbs4rMV3acVSyVquvBxxzLpcAoX6nF+vqN3try+tYtNUXbfop9deHjgVEj29qdnsR4iL4rUcWPXym/+51p2LaIyqRUuam7IdV7Ir4cGiLRzMROGB9biW0GLhM5ndACcquiqo7BKf1w3Kt6YhaIAUtIFAhShK0WSkkqW5JiNmMZx9DqwA5U9JXpWBkK7KA2/s9Wv1T+vqmeed1HDbLWxfovOgLOupmi10NESZKgN3GDiLyUxk7v+1Z2Efb4P2ODnSPSSmutUcoQEXm3QRRF+6OhWUpqumJHrfn7oN1hOhUs7dUNP/a6KsgXrzqcO5CN1hIeW8PQG/5kHxPKBne23lN+niMHLzQVMVT1FdI/vw+KOjBXN9C85/DT5CnL07Mn6PhZiBgEgQlzZpZoQfG8RbsiMnCb1dE6v/VLq2ZiFttarZFIa0RAKSeTSSfqTpJ0MBy+9V1vXd1Yn6RJp9uXUTslHWCAiP1+H/KmNMvKpJD5J6wsOoDRCqoeedSHgapBQae+VR+rbQ33u9uqbH2aESK5CWGtvz0vEZHRk6oETmWaF1ovd6uPms5lmvWTdjQPu+GxSE3YOGAnRkXXvTR/K82CRTRM6ftEPpPOT0uhqro3TOYz7L/YEG1nOm5Vb1Vlq7UmQRyUTQOEUbS2vg6IZNYue1SWuTsX3FBiVXw6dJAqH4RmH0JRWqrpoOzeu6ozsV2PmVJjcHBed1rF5q2qM69ipoa4FJOPEAIRzConG854q6d5y/SQhk9HIE7+9p9mHYWT2Gc4k8CsGfQiWrmzdVA0FSqdtvDS10vPrrV5xawXW8yem5Cd/7To/CdHJWrE5bQaWOK1c8h/LYysq7JtQlVYk6YqwEBKSYhEFHXax06e4NVZhEgigy1pTZtWIVeR80VoWd2MA9B+f9awxLk9LN8Iq+Cp9K2Z9SciM4qBosk575aaQRVsNSF2mjiCYt785X2sM3HAibOH5LaNw4zz0BeIU4UqsuVcmmduxiVl2crtV9BvuyZaa4vCVxJzc/nAy5e2340ZNmxufbTyX7dmErST1WI1qgKaQIiYCIkAUWudKNWOovXNTZCCBIIUNknEAAUWkau0FKho3CZ8LlC7JrktJrcFAcsu2GeiFMJK05fnj25BpfDnXKsg0ruZ0QAMWJkBFEOYmravgdEa5TDGXNDU4pxXaXWKRUwT8MRZlTzZxrRyTbHUPk1BpTjYULds4fhasVzV932cnElyyGeyior5FNx241PX639z8ucfbfaIFY8gJc2fCEEIEAKFwAJkFdDK5id/Ujc6OUzya+p7Nk0kOfeQ0PzqCKjKwyrNp4YzxGkMoMLDSgAqcOVLoUl1gCdBAYgoTdM0TY2alnJeL9kqLKvxhkorWEMOrpXmCWX+TlWr2U98Tmrqy4PlJhu86vNZjGrwGoqIQ1bH4Bi5fWPzjIjmAwhPC9irrGsk2YR8mRCRQNBaB0IgYpIkgBAEQavVCsMwQSx6VyLAKWb5sAt5aGP7+QJ8LgvgSlFiAVrEwzJlO+ANHlqZh7bqz9Rau25+/1BjV86fFRhaXjpxaAittcoAy/ZitBd91K94xrA1GV/VKo4OlXY+lT35rNUbNZDaBDhKPawaMsjuY5ZjJMtFK9uxQm8uqYmTZT4OOs1hp7ErmP9Qp//NqaRlAcCcdoOYpqmQstXp8pnPSoiqGfcytCqp72J8Ltcjw+IX9ho9ryp3kZA0zeswd20plyzxDk5p7rPoOcUrEVEWfgadX/0nQKImBI9RbnsMSJR9rLGXQdsxs6pwswovqqzCZqORnJphlnNTw1uT4qp+KoWG5cJTQ/L7y1LGShHKIaebtPNZug1PC9JASrHap4pSwCBqRVEXRYAgJUgBQoBk5pVAQgQs4KYU2bgYAFAUfkJEAYgE9r+ZlFsFOtdSe5wrxNVUjMxHs+uMIaHdtKX9pG+uNUZot7ffQeUagYCSuYMs3AZwpCsgACLQxDPbQAgoQWf3RJjH4eIXiWN1IfLUAwABb2WYlpUvKSaiQEokCAMZq8m5c+c6nc5oMEDEJEnsU4xMtyysCEqmUlprReUdmklsPi8y8MkAAUnIjGcFEKcpqay4bBtsroRElOrsFjj+FoIC0qQFmjmR7Gw43gVm+HQYdnhzjNzczDRvYa28z+I0aW19tZjmmY2tcLrOyy5L6ykE2zhr5gccJ8KM1JwmSLQiynYNE2TbhbM0iCgETwYRogKCPBqaD/12/nZ0TSGnamDzDxaftlRLo2tAdVCAQIZ7u3vd/mrQ7sUpXNje++gdvzbYH/U3jiGEUmEIIgqCoBVhKFOEQAgpSKCWAoUgiRgIDKQErREICdgqmFfMPRSjCbm2Zl91CYE4emZOWkGuS4IRD1EACiLeeIu5qYqGMO7qEmlAnQfmBEDWXg2AABpAONfpEs2qrrIhVan1It0R+1l+9Jz5r+X5lJbZwGeZowYHGKtjGdUUVIo1CxS62IvzlmsKMtAzFyc2zGFxdGwAwvZ/7WxnCrOG52UpQFWtDYV8KKkGKQINCBAQiijoCBJIKAlF/hla43SAxE8EWIWiBgDbiRJAACQIBIHkWHPWCMvuDEwmRAQ0jyXOS9Ngwbrh9fKeS+jb0szisPjdB8uWuhQUsQEbpjPEfDKyAE98RTAKXg/cM6tAxRmuuSRsd8LQ2HoNq0ZozUt03lpYHwwPfg4OP3Zz+Nw6zW3rgJ+VUzp5UfnNW46DNs2qorq2SB3e6smGKh8x7ZtSypa8ay2DkCiVgRRCZGGIvSrY1BCOC7bA6fMXiQhgukCan4iluCDLo0rAWkzpzZ9OtrYqL4BZTd4qzcfPtqrrY+QCaxMDk6MEM6tQynB9ejsBWuF6wVIvqDgwrdQ4F8OsmaxWvWjvAXBy8/lpEq7EbxqnCexGcdqrihksUkMe/HIrEc573QEsw0w9A0QkhEjTNAwjrXWn1eKDMnnhqLOCwc+2IWDZr4GFgJhNRFQONV5zWsLWHEPGukqtuiFamaxszIKi6doZVrWP3REVjbnADBFlzZPvuvMBC4pwPLMtHYZnVtlO4ACWk4aIeKOlUwWnlMUM8iBUZZ8+P1WAZXcnDhg5faGDgAanbB7sFueUxtSdzaQ1NXJ8mZmv2O+WCqQJrPCe2TRJAyKt9crKSqvVYr79r4Q5n+WrRkupAMH51N70udfl2O11JUBYsCyV9QHFJkeNqNoFsJqhZGyI1rRFdq3m31Y1U67Ng8tbDlhO4rlERHN6WHaCqunYmtcXBiyHDq4GNr7b2VLRBuo9rFItojIPyy/a/rZrcisln7fS6oA1qc/LzZpYrNOROErYBLCCIBhPJlydI0eO9Pt9rbXEPPhxsQrmxYaYVXxl+sTW9qJwZ9b4UKkSsA6Ipo7qgAcQ9YRlE1hYO+r0c4BmMDq9zwHLplLbaAJA9UXXc27HfoBqNLFLsVOS7R00KN+W1WJkW6mPWYU/YcqhL6UaUHDSOJ3QFLCsiOZoLRC1vycWpNRggqJ4rUxvs+RIw5FwTTWTJOm124gxEQkhjh49urKyorUOrMkm8KVaJCKqakxbepwl5YjM6m9nCACoK0Y2S3J05iV3mWxDnPbJf6O0SeY14OXKxVEpKANWJ8EC5DsIc3FY0xClfNoYujDbB5ezg+PNuxMoegelVfZzm9mRmDztODzNdXtmifO+bnNV86LWmiPeAIAQYmVlpdPplAJfKWY14c1/0WH4IDhwuSngJTP2ngP73DooeuA1FUhTZV63E5uIlH4mVa4KeQRlWFNPxodHax4dALrd7t7eHp9C2Gq1JpNJMpkAQK/bOfPKSyvdzmq/v7Gx8exTP+l1OoPRUCMIIcIwpOJECZ8r51SKiKQsfMcwaar6pTRNDG8mRpKd3qxc5R2OitAOLmYytN8tzIKVTYRTMS6S3RA1mO4rsWGShayU4iXvBiN8Iu1O69g3ZgeMkXOpcRqetUVOQ/huTjk/VhX8F+1f2VlL89OehBWXze82DNt2Dr5s0Zq542u/39/e3o6ibqJ1r9e77rrrkiQJwxCsaTizdEMIiWUkhMD8a7ilGISIRm85GAlYoXoBplPChitZsbZ8YUCnQg9UuRrCUT9zU9hRNbPgerBwAKghssxVxAJvOSxduHAhCIKVlZU4ji9evDgajaSUQRC8/PLLx48f11r/8Ic/PHv2bL/fj6IoTVNnr9ZMTpzP6rYez0ulugjL8IYWy6GqfZ3cDpK5g/XO5l4HU3yqKrpe/qX8V2VV9Z0OPE2ryn8m83YHMBwO7QPxGmblPy/tdRqq9BVFgd1RGLK7AvSmDGZmSgeYwSkC8ByvzHyXFT0IAnZVwjDsgFBKTSaTOI6PHj06Ho//9m//9rmfP7O/v6+1HozH7JybztxoUhNmHKrRDFtWTodsa6rIDh8smZD2nQjnCRbnBBcgu01rFGZhA3Ci0dYjwsz+wAEdHwpr+HdyM1mV+koOb/OK1+Q5veHTLTm2jE62traOnDgZREg0dUbqhWyrhN+p2KpFFVW+kklUAZZp44Yt4SQ4iGGYEhuCo31T2u3bmt3r9eI4HgwGQogoithO1tbWkiT5xje+8cgjj6ytrV1//fVpmu7s7ARBUIodNRpTZUVYTTWVcl4s7d5tcdlF841J79hwc2aq6uhI28nBx5T6BrV/NZUVQkgpeVBcBRPmRSdBFSe+eO1C7Ye+6NCaEXNKt/kvbb4qZhw2wFo7mqbphQsXkiSxs8UKFK6vpv26U6+aRrkCKcD8O0mpHKkMravIeZ0WCsnqt3rDop0rVgDWeDzm3XyDwSBVxNE8kiT58p/+6Qu/+uWNN9549913Dgd7T/446PV6SRIHrQiKjV3PjF96vRB8pXH02CnaXLH4rX1mKVThizUk37ocq3AEvlgp4IGFPZ9FxQlW+4l5hYqZ+Hz6yuxDFVXP25o/nXW8VVpRKodSoWVFFyFpa2uLBwSQe1g24pRCEvPGO58LCfhQOyykd+z9yqfpTlQz+WKe2I03lwoaBVpAFqWv1BTtAJz/unnOpJRqtVpJkiRJ0mq1EfGnzzzz2GOPvfTC8x94/3t/677PHlnvv/rqq6PRaHNj48K5s+bwAtswmlTE758rKpAlNnzauujMQPvScNJj8QsDAKAo3+p0ECrtVKrSOFQluxqId7wPp0GZLDMu31Rvrxc1LeIDk93ETgvmyUqMxUdA+8apjl1oCQOW6ySl3Nvb4+KwyFiFFN2eD4vw5MAcwesPswKirAHsNnD6mYaK7lR+LoyzMzH380JkFYeGKyKKoiiOY611u90ejePTp08/+eSTp0+fvudTn3rvze8+ceL49oWz/LVrNBoFQRCr1MmknjFb12s6Qyc9y8r+XsNP8nmrGf6m01J+EQ5m1VehipzqV7XUYtrvezScjyhGVTV1MR2JAazsXY9JWy2p2Ptyeh8fa1TX5OaEYSgVBRT1wW4FKDa9I0Bu9CAIJpMJcLzTiqFDgbEyHqaPs92y01fY4LUF6Fc+TRdVk7e/ARZVPpeax7spUtPSvXyyI++Lz4kIkEjp0WAoAKWUzzz11Fe/8pVLly797u/8zmc/+9l+v/+Tnzyxv7//6++5+ejRY+fOncP8E7IfJKSOnbJ5okYVKdbd6fqqELOJlBZgwOdnZhEHKaVKUA4sVvUBTXrT+tKdG/8nOyuDWWaJyVzM1CcjIlZgKaXSKQBoqjytNou64OeQxYmDLNxCFmMGFZD5R0TKUzOvAJorXtV8V4AsEkNjCuI4nvJmdUqieIyV+dXvuGoqTESBRODI/agBBIECIgAtMADUHOaTrxz9yz9T0M+Uc847Yg2gMYuYgxw3B5HSJE5VHMio1Q4TpYeDPSDR63e2L148cfTY7mD/Ww8/+KMf/uTY0SOf/ORdpz7062fPbKskWen1ut2elMFkMjl29Hg8GUkpOcCT6QnJOjXHt7EgtGugKa8BiqncClLNj6cjK8YWEfnnPHKyNJ0uOLLbAq1Bpb1ES+Rm7iy88pdx1aChrQ+lyfznpYv1EVEItLM1b+n8XCLnSsZW89K42KgVKIVxrAlAa0IEFISCpMIsbhoHsQOQgIAoAEETkNZKizw4OmIWLY3zzGCI8mAmyMGZiJsPs6bMRujshnNNRX6ukqm7ETivjMnr7q62Ny04nXAA6na7e4MRIPAKvHa7PRqNwk4XkDQppVNQKAQSCchnAPKpAxQij/qOCJDFWkBABERCAEiL2JfjGNoLomwNJlAAQIAAmjt8AEGk2H4BRNWVIEsJJAr2jpmFMiaYnQ+OFjk35s+Szc9YMfqjBRYrIGWKZiLaENTEuyGi+YKgYu7h8rvsRoECAhTUbXXTNN3e3gaATqejtd7b2XnjG65+4Ve/+ptvP/Lzn//8+je95a677rr+uhvOnNnRcUJaC5RBEPR6vVbUSQi0SnQKRIlT68VcCUduVD18q3reMHFD8gcyVUUslj8U1c4UV5phaS1qiqZ8wOh8s4OKWTIbT+1eFj32/Co7P6H1rZDyqUY7cSlS11TTJqVUdjQOARGFYSgkRpLttOiMoAZwDz8uCByybTeMSUCokYAEifKwH3Vs5QMUBASk3D+os+XM0nN7J1BZfL48DQoCaLR1zKZC+Ecsjq7B0mNHoR3fagG1rkLQxcjOxKgyz1VFUZQkyWAwCMNwdXX1pz/96fceeeRXz59+z3vec+ddd1977cndncn+/n4kEEDzd/S1tbV2uw06VToiRILMw2JHAysCKsxba0eV7edEJbOHB8QOh6rsc1nlOu1rO4PO84NIEvMwpwY4TETTqle4EY2Difnew+YwygrAC/qsRecFjxIsn7EmK5/SNBVhwIClteZQDVGYfaq2mXSKI8oCAWTJvM6MiGo2njdshfpep4amAi9+0CA155DQ70wczDL82e1a2hWXZD+rjZZigYYl06LMbZqmSZIIITqdDgDs7OycP3v2z7/85Var9fGPf/yOT965udE9c2Z36+J2t9vVKkECjaCU6vZ6KCUrJRFpUkmS2OpeY2Yza+QYsC83v7e3G8U8cX5ajJzSHZCqUoaG5DBW5WTV+1b1RTNaoXW8TT0zU1zLB3ESpNMKjkXZD43k0ezUyc8rKa21Se/kXM9n5sQhJkq1220O1UD5HIij5+YJVKiTxdLs6BSlzx2BzD3M8vK3V9XNq7uBr5FVbDl94wHJz23xnhbdOTUAUEoFQZAkyXg8jqJISvnCCy98+1vfCsPwjjvu+OCtH1JAzz13Jk7TXq+HiAIDnWrSejKZtNttzofPqU9VYoPUwtUv9S9mqq8PTD6sLMaPP04hz7M7oAdk1xet1cg+GwuUgtaEEVgireHH/5OKLq0jUgNP5k+7t4Bim5b28aXWXkPTeS6CNE07nU6SJDJqCel6WFX1IisdlTH2uqbpkNBXXyh67FXdyFLoIBnaqmNIaz0ejzudzvr6+ksvvfTYY4+9+OKLUbv9e7/7+auOn0i02t7eHk0mnU5HCDEej9utkCft4zTtdDqIqIAEIg8SzcTqTFZnVsS2K8daSpNVWdRSfKsqsPDLXYBszKpy2UpB02apqnR7ConyeSUiquqyq2pa2mH7tbbbCyzpsRvu7L6u4rmJh2KOa0UUALCysmL4dDwsxzD57xq8JgCCytZs8vwgHZgN3AfR28DpVJ3OxNyUwpbPkPe0rmxf4rPemJGVA1h8vXDhwo9+9KOf/OQn119//d13333TTTdeuHBp+/z5Vqu1ubkZx/FwPCagRCmi7HCxfr/Pm3IoFzEDll3KAutW/M6wtFd3Etd7WFWZN6HSLqqm3AXIbmJf9X1la07s/PrLTbLj3RqQr7GOYB3nyH7FJDNzmryBphSIbTdtJvpLKRUREQiZTacGQSClLB3u+lbpgNdM3K+RRmlZCyuDYy8GUua19wCqh76lauSbymJ0mXw0A1hpmp44ceLll1/+y7/8yxdeeOF973vfJz/5yeuuO/HLX5xeW1tbW1u7tLurhpNut9vv90ejUZomoJUMApSi1enIMGBjBQuzbChcbKGdb8BVuHBApFiYDr9cWw7OTzWclHpAUD0nUpre8Zuq2CglsnQDAMxBcFUlNiREJJ2dsyWl7Ha7YRgGQRCrcmmUCs2vV5Nya341KmqsbF799/3KHLDmk1Jg1vs4ZFYS27nbhTmdiTmKznh9WmsCTQDZd81iVlXrekwFnPQmrlahzqBJ6VY7VEoNBgOlVLvd5u+Da2trTzzxxMMPP/zKK6+cOnXq85//fLsNP/vZ6W6nNR6PNWEYhoHEVKskVUIIlDJqhclkMh7Hq932W9/61m//zSvtKCQijj+Tpqm99MaWgBDWHnIqxP8yaZx1T6Yu4/EY86BXRvttzTA3mK/V4k+WZlcdk5O/kZJS2qQxRfhfOc2L3I62c10FDX5d7E7YCRfFV50fEF1qUZjPSZleB6wVA448zZZglp5Z8yyEtzmpaCp2iUTE8qF8UGlkxfrmm7GrrnmCVqtlR+bC3Ct34Ng3HGMvmYjSRGvdbnfHqQqC4MiRI1rr/f39VncV8rMsg1xP+E8T4krKafCVTG52qDsAM9vrN6KtS44eOmR+tRvdqYjTpuAByPQn67GdJvskIqUQIk2zw9iFEAc9hMKuuWlyfiKEYI0rfXHebtyxIvMwarWGw30A2NjY0Frv7Oxorbvd7qOPPvr4449PJpP77rvvgx/84HA4PHt2r9vtImjFyoHT6GEEQIgkUAMEUoowaHe7UkqNABUNUFqdUv1u0svZalQqGQs77H1zC9JM4fua14RKAc5JMDOH5mXZfxqYU7oR2weRXn2etujm8nGYoihKxqM0TbWmsBUiYhAE8SQmys+js0dnRVhZcn1eOzIdM/uthrTWC24gcroXLIbdcJLNm23Nr0653Ej86ffixYvj8XhlZWU8Hv/gBz/45je/2W63P/nJT546dWptrTccDuM4DoJAF/PROQAI64TkIAg2NjaCwF2kVgUTtoI6jgY0huZSv8AvFD2qkp7DVUNO/P6/CfMOw/7DhpmYt2a+aDpIh7DoKDk5+Ho7F2MzebaLXiyfMAwRMU1TrXUYhrxQvtTT8ZXNeXi5yXevoEw/66VRWgXIRy1MQRCwMcZxnB1CYdewylkwnFXduPAPUD2lUD4cqCGbT6uHgfF4DJgt3lNKbW1tPfnkk48++ugNN9zw8Y9//D3veft4rF566Qwi9vv96bgSgTccIiJlN6CMn4O4sbGBQmildBGtqvictpxVu3qnqfz1okzsF9HyMVmJtXVOjGOKhgHzYYismbJ6HcKyIWFzsCNr1GDLYWYOPrjUvGKbB1kzLEJk/fPMzclLRCubn4UXFTPZ3YzWent7+8iJk/kH0ClprQUJO2CBC1WXwYUs5dOmJq3cMLc0TTkUmqmvUipJksDRJ8cAqqi01R2wBABAqnHhHOPJVLw2vdu3ICVJMhjuraysHD169LnnnnvooYfOnTt37bXX/ot/8S+klDs7Qz43CcwsWD5yRkSEqUFqpRG0EQ1/Tnb6EPtDoQPTUyahYOoNJekAk23tdvUNzmA+N1ET9CbLE6dyttFnJlf2WzUpfbIXHMwrB0caMzELrWmv/EkJSDmlVP16EDKcmEm3Anw0pjiOETGQQZKkcRy/+uqr1735LWy3YMWwp+n+Qc8ocoaWV7kS8qs205Oqf+7c8MQcAEwmE966K6VstVoBeGrRvCf0lcyRGopKwVWZWRXZTTLtWJAAYGNjAxGffvrp73znO6dPn37f+95377339vv9wWAwGo3I2jaBiAZQVJnESSARjeO41enYNQLLyXLQykUcnD6nZp6FLRAoitcBMlOcAYWZ+TsgNVPspYkbVsFRDB+z5nodZqmi3RDmxviepT2BfTOzg5yLfAYWy4cNVUoJSZokydmzZ+M4jjpdrTW4xwVUToovAJSLEXmu/cEz5JsoivjrGSN4u93mD1+BrZd251CVY2mrQ9632MJCxOb6YHKresEs2iwE9EDiavz85z9/9NFHh8PhbbfddurUqRMn1n72s9Orq6udTmcwGIzH41arxSk5aoKibDBIiCL3s4TAIAhAJ2maRlEEAFLKlGLwRuaOfApagu7DJm3po5UjGZOh+YpqmIF8ktLPzeYHPPCq4cdBmeZwY2frvO4jSNXrTezNEa8jQLu3dzB6uQbmV8G+XwA4hBCAmcS01ru7u/xtmoSPTyVegrm53GRKISs44mJYaWdlrmYBrZQyiqIgCPb39y9cuJDNK5uSGpXH27WRgDeEU7aBW0gEEAQaND9BFAhQHsrHt5nsT4YsK2cgQCAgysZbpEkTkAYC0jrqRd/97t9+73vfC8Pwzjvv/NjHPoIIzz33ysbGBjd2v9/vdrtxHI/HYyGEEBIABJC1v54QAUGIABG0SpC39WgQQePFJr5lNie7wWzDq+otzU9TlJ/licCiJjqXCvqgc8DevoZnR1A+D447eRAhzMvqQaocBEGaxdQjKZA3sWqtUYDINSRfuAFEpIjyyAnAkVw8IgAEIPY5S0M1zCYSefYKSABq70rW1f+18qorTvoaDocSUWsdStmOojRJXn355WeffTaQiMT+CxHmy/+B9wWANaAzHZQA4DBBHPsGsqtAJNCAAIIIMEsDWlhxjHIfhAc16JgcaU0IQRgkSoHK80cNBFon4+Fo88j6cG843NtZX1knhOFgHLSCL//Jn/ziuefW19c//elPv/vd79jbG+7s7PR6vclk0mq1AID36LAqAIBOFaDk70sQaNRaZTChKaXhYBAFstNpKQIRtXSaCCEgVagJlKZUAQertQcjYOqHrBtzYZbfL7EvGUURP7QHF0QkAQEAOZ4Oh2vShDqbbDaQ5zga/iDLXjfn/GQY84HApqyHwywuGEG+ho4AADTlOWfPKDe26aI8tD6r2QBkl2V6Wt+Hgtzjtp+zEqIgKRA18ihKax2EgeOeZGXJMGMZURFgFvCEQASpUgIgDANA5O/rQRCgTqd1t3oaW9Rm5ylRFkgPsl/R+MjTOlp+OQqtVCoQZRBEMsAgQIK9SzsneitJkhKizOdYA60lBlJKFAEJCSLQJLTKPnlHQcAAJQQKCYBIPCmCWiLHBcs5z8dA/IVVoLAFTpqkDBkiNSEhAAogBBSaFKLkNxAEd/mMIUACwGw5yLsNQCDBt7nciDCLF2bm19M4IaJAiE6rJQj29vZ6vd5Ku/PDH/7wb7//fSiNh1VHfnyr/Er8kS2PkkNEHJeqqq9xrCW7mc5PKSBAJFAEpLXWayu98WC4ttIToLe2zl911VXj0ei//NEf/exXz936oQ/ddtttb3zjGyeTNE1TXuVQWQUSmcUT6UxZCIAASQPwwZQaQQZBEARxPAFwjb+qOvPIsZo7zzHxhzzGPGzplZp0PVelwHpAn8hmoCFdDt8Hy0aj9elncsg3pemc102TYfUURyVp0DnQAhHks+yIASLKLJLgtHPSOdgxPiiiyOYTNaFA5Fh5WlRXwa6srXKkc3DjL+v8NvdGmeuGfKX8zsAvgAFG84TATqMpCtsppRxYhYhAk0RURJEMzp47e+0113Q6nfv/8i8ff/zxG2+88ZZbbgmMotPBNruaiXAz2eRYmiG0po3L+22zapnBWGutddgOB4PBKzs7q6urx0+ceOLJJx9/7LFz587ddtttH/zwh9/ylmtGI+KDuYIgGA6HZhWV3yKmIBtOmWEppUABAFEUtVqt0d4um729vsb3O4qwu6C1O1BV6igx+/ZDf30Dp7LWzVcu3MXioAm9MZStD1Uo5nQ5pX86EpsLEB2unEIbvgvFjzalnDs8GzWugfX6utjSm9l52KT1FLB48aTWWgRZiFS7Ona7E9WFuyplz/nTMGlXyhFaFTnScLTRydB+kiQJL0sCAAEoAikRAWAwGGxubiZJ8uijj37v+98/efLkqVOn3vzmNwdOjjPFSjyXVPbcxj6/DqW9kN0Azk8mT/7Pzs4OA8pkMnnhhRceeOCB/b29u++55577PjlJYHt7tL+/z3tWeJauWsQWh7Y7ns/wIQERdTqdXq+3ff6cASp7ET9Uq/u85Ci908ZGh6zv5dPiDGNgbV3CIs0Fn74FluKFTZQnK80N/F/JxZGSNGX5OAKZmRiLTlZpMjs3RyFNJvaffv6lEnNKKs28iszWK4Ob9h4smxnH3MDDghryNdnfnOwUZIqrr4vfsqXqbSiO4zCSWcSLlEdpQEStVqvX6z304IMPPfTQO9/5zk9/+tNHjxzZ3d2delillWlONT2YU8mqCtsaKXjufTolAmmahmG4srb2gx/84Gv333/06NF/+a/+1XU33JCmsL8/mkwmDFLsWHa73dFoVMonZsspOecMtoxhSykpVby5Z3V1dcqPtYQaysxsMaGVSoBJF2OcwxSzpkNCe42iPwrOAKtCex0Ycm7Icqz8XtcppfTGvjq9Ec3jxZciZikG+W/lEihs3LXTzOTZ74OzGZFZ68tMVpqmfzYhKWWqU2AEEUJbSzRKqQqzmhRYao9+ho5dO6/nxdX1u9U3FARBFIVIMJrEk8lECBHyojMU3/nOd/7uRz+68W1vu/fee48fP37mzBnwI44aVqoUgio8LPBahRVCa2X3ZubebmmyllYFIjAl28JaW1t79dVXH3/88SeeeOKqq676zGc+c/PNbx/HcPbsRREEDFVBEPBy9r29vTAMS5m0peZ7WCiE0loBdTqd1dVVKSXkO0vtzclOfQuKXlNqLTk6QcXRBOWKS96Q0GEGymCiUgKNA3VU9qjei/594d0KD6uG7Oo4TVCTuNSEaqzO70epwsOyb5y6+BMdnr81A0iyffWcv+VhEU1nyqFoTQ6YNhGpXd9SwLKzLRWaUxG7U/Fz8Es3DwUgKZ0qxR5Jp9ORiHEcP/zgN5955pkbb7zxnnvu6Xe7Z8+e5U1LgcPTTIWoqb/dwLYgHOKH9s4JG5i01sgfbrUGmq7uPf3yS0888cSjjz563XXX/at/9a+uvvroq2e3u91uq9XSAHEcj0ajdrvd7Xa11nEc1wMW5HNYvkZqrRGo1WpxVCytYp9/p6bQQBHnIrL6VUeSYDFgyGzkdDwCAGg+r1GA3Xm2FpWKwn5IRUtraFFOegcKZ7JkiwjKlNxW9apGdORJRPy2g1lV0qjqD+rJ7r9NjBA0E1tWFaqCTBGRi5Rl5JgklEGMDVsz62KjalVWxZ8oTVPSpJSSiN1OR0p57ty5F1988fkXT7/5rTfe9rHbjh49eubMGU202u+PRqODRmuwyW4h18zyBOahUxNDSKSsMB1mL8LDDz/8q1/96uabb/785z9//PjqpUtjRNwbDuI05TX77XY7SZJLly5FUXT06FFeylBDDmBhPmpgwOI8hRC6TL/tKi9HdhZXNb9iPnS1ZVuDmDTP0GBGubOGhM1/9UFwLgg7BGoIiDW/ggH9sgQ1xp9roKbshOPsPDFBZmXI1NM0bBxcgDU1soHGgfiqov2HVZmL3MY5RtD29vbjjz/+/e9//5577rn11ltXe/0LFy70er04js+ePdvr9QIzWevk65+Ll/81HRI6Pad9Y/7kTsAP9jQajcIwDMOQozWmOe6A1uPBkBebCCH6/f4zP/vpn//5nw+Hw3vvvfe2226LouCVs5e01kEQCA1mnyAiBkHA4dvLsBxM0cxeEAQKpoGlBEAYhipNwjDUKh4MBu9+97v/6i++glrz0iGzWqR0tsjc8MLU5mT4Md/7zEZuA6B2WCXEaXXQmlYzKwxtf8TpM+yOgeU27SfylP6KeUeYznOqmGFxHCLzp05j+0/DgLbO9XOMwc7KYRgq9M1waKpjTrhxDkCioq9qmsB2WsEK7+VU1ti5kacnqHLh+D0li2GSJu12ezhKWp3uYJwIEfCBT0JKlNK043QyPjd4yFU0ZynvFYhMkVxh9GRb5KEAi1NPvdhkfqPzK1opYykAwAI3zgdYxzhya4xGoze+4aqzZ8+maRzJ4KFvPPjz5375z//5P3/b296mtd4d7GuE4WQMAJ1+j3DWmUheGxQAqwk5NmOks7KyovMd2KZKaRzrJF1ZWdnb2+t0OkEQPPjgg9/+7iPr6+v33XffjTfe2O8Hw6HmaF5SSuJdVxbP5pNKFWY50refIPI5nwQk+FNjp9NJhqmkTJVNvAvfkErzLJVnzVsOsBq9gYK6aD8B5fEJZroGNWTrblUC+ydcaMhjm31VQf7zKq7m8g39ChKVLAXgZLq4G9FnwPc1wJLJ9K1Z7DV5XlN3O65OGeVc1bJxcPI5dOxOa91utwGAt/eGYUhE8Xh01YkTP//5z6+55prhcPiFL3xhMBj81m/91smTJ+0olSZPXbNwtNCLThuYnYuSlqvq8bA4coHcsTQbzQGAQ3rynzs7O5PR6MiRI/v7+3/913/9ox/96Po3XnvLLbe87/3vFwJ399P9/f2UD14WIrRCTToWbtfTrkWmhcxVvmocrBkiKQUDVqfTWVtbuxSPhFZgOYk252V1rzNCu0vn58I7z878yaStKJ3sBPg5Y348n3lichPFdikIocxPIWveyv7ThycqDnkcUdRQqak7UnJYshnwQbyq6FL+3TpW818KVeahSV8ik8Z7Nu2is8QNxlx26T5g2WkQAUz1TbZeFWbyVkWlquv8xCSl5EEAr9uYTCZEFEWRUur40aOvvPTSo48+evHixQ996EPvfsc7AWAUT4go34WScUtYC1i+CWUb/WCqVX7FXDUqApZp0SRJWNwGcZRSOk17vR5o/eqrrz7yyCPf/f73b7755s997nPHjm0MJ+nu7mA4HgsheCc3ISjryAHDpMOYI9PsV3QBi3kw3jIittvtjY2N3YvnBJRsvneMypfDTLI13kYxtPxznYcQMSntyXXTRqwQpmhd2MTu6vG0sg08xFKAsMmZU7OLqKr1AiJyMAt8NZvlqqBFzrDXTmMjZqGaZfM4NkxUbq6orqwvf/KeO9oLRbUp5ZPT5p1clpRq+4nmLeIw5t/YrW9raRRF29vbRLS6uiqE2NnZEUKsbW5MRqNLly498MADFy9e/I3f+I13v/vdg8FASpmFaLfYIwScf0hYqGG90dqA5eRM+bwAf9FTSpkR70q3t721df/99z/77LO333bb7bff3u12JxPFuBYEQavVkmHA014AILEQo0pYMa3rema0+GTA4g0QWgvMBthRFK2trQkhBEwX8hhyPmBbdaz0vkuR1PxkbInyeDimXsbJgvy0GCjDLMgHMqUAamuSkYbdLdmJyfMR/J+yV6CQ/0zVrwcsu40MlNsMY9HfqQJKvwhnr8IU04u8mSKq4vD58G2/5WANWh5TlTTcPCscvdL62u1oyc2CM9TmUT6qANvDatJepc+dch1ZGb0yc22TyYRXh04mEx6+AMBkMjnz8it/8Rd/RgCf//znf+3Xfo23Fo7HY5DC1IShirOd/ZWw3OCLFXaUtfBn3pk7ZsYawxNYfDoIIiaTyd/93d/96Ic/PH/hwl133XXXXXetrbXOXxwMBoNWtyPzeUczUSWEUEnqSNY0pK/cRJS3n8UnA1Y+QCDKvsvwqi4pJcLU/bGLKKksVPaoVSuJzZ8GsCAHKfOToSrbMCyZmSxfIDa3vilWAYSdwGcYILN4v8RSa/dTmqx86LTZtlvTqb6fYSnbIj83xNYNu0hHtk7pzg1YNlkFkSbf0sd+FcDMVNSWawvHaWIeG/Jh2FmHKgRbe42H5eh2c3LY46uwFMxW3eFwuLm5SURbW1tCiPX19f39/Z/97JffeejhKIo+dffd73//+1966aXxeLx59KhSivdx5xWb5lkJWL6uWHbuiqxKexBRU2Em2JgiBypjXOCjbs6fP//qyy9///vf39/bu+P22++++xOpgp2dSb/fA4DRaMSz7HGaEI+ApISyyQVbgbCIXFhceWxMDq1jOI0qB0HQ7XaDIACg0knN0ipX+VfOUM4wbK9j5hvbvTKvTJOROyT0tVlUR+CcyqFiCGOS2bjg4+M0PbhmUK/9trhKwdHGZR+kHHRoglZOiabumQTITc9kOhi/53MMlfOR1ic8W3RzeVg+FVq5qNgGpDA/7pc30oaBvcLZ6uSqGZjJYSlj9o1TBfPQDHQ4Pj3kYUguXrz4/PPP/+JnPyWiz33uH910001nzpyZTCadTmc0GgVBoFXK1QORMaCmgFWMbGXiW3FAAxTA12xDtihfHVra5xvuTcMQEX8plbm8QQgkunj+/I8ee/zxxx/vd7v/9J//03e+46bBKFapTnQ62B612hEiRq2QQEySCfEJZEqPxuNOq22LzAiuuiXc1TGSEUoIUJpQkgBNQoMQMgyilhAShBKCD3/OrlwCFDemZ0841k91w/udDxS10CCU3fyGkFJ+ZP5h5huSQCLUIEhrDZkXnUuDBCIBCQJFeTQiREKNQoAgIQAECSEgLTMerPaYqqpZRTofmGiALIwA788mKoQrApBludVzwuIDqz1MDlPXFcD8S7X2w0P5ymwwiGP7CM4ZALkJEAFABvmmkdyR5z/Lo8FV8Q+S0MRf4EfZOTECCQGMamkAAkkgJSIrZYBCShkFAUoMhAn4JoE0oCTQggSgRkQogv5ByG8LAuCQBQR8HAJru15ZWTl79gyiuPrkiSROf/iznz7xo59sX9r67//Nv7n65PHz57eGo9H65lGlkt3d/XavLTAgQQgScr0VJBSoAJAANS/YRJAAGlGiyCJeoRAEGpDjLyGg1qmefpagqWcspUSYRgJK0zROEqVUu9NKkkQABEEgEOMk1kkKAKv9/s7OTjKJNzc3d3d3v/XAA8889dTJq6/+H//t/x2QdgcjTQoISUDQDhXoIJRJErMgBDtugN1OWysiXpqE4PyzHSEzlgZJNDVjtnYEQE1aZeonCUUKCFFrdePIJFaCI3UJiSIAkRKQBh3IkEBrRUor0oQCEIQUIITAPMIa5P4OM5LtvFfTJTMsyCRJUpUKIXjzQZIm8STudrsF8CUABVqnUqBZTGtDXu4haiDNIZ2AhzYQAGSxioAQUQIioAgCwRIWIAMRCETSkKSpDIXyukfKB+DmvGXI4VXH+darnE/+Mwojw55hVSMEgSSBAjCL6aUVKVJAUmTPeGGJRkiUojTttts6TXlqg4/j5lAkYRSNx+N2u91ut0ejEYc/C4Mg5ikCbnlLDUBPOQEiASiEDIRMpLa6zqnnwp/VlVIcLpKIOOZTiBxeHUjrbJzF3YyyOhgrKK6QIeRLYczm/OmkclFPACCMotFwTARJkoYyAE27O5daURBI5LOgRYAoJQZSSwFSRGHYCmUURa0w5DVYiAKE4CAdAhFRAqBgP4GExhxCM1AmNhcppen8bL2ixI1CzDfaOrfRME8AiU7DUI6HExngyura7s7W7u7+2mp/e3trfa0vRbi3s/3EE09961sPnThx1f/jf/qfCPHS/lArCtrdwXAMSK12V7OJamDc4x4NASXKYBrTisCKb4UECggAFBEBEl+NmhoyjWT7UJkvgCiEGAwGKysrAmBnZ2cymXS73W67jUR7O7ub6xtI9LOf/exvHn74F7/4xc033/ybv/3bmpQm05BE2vQGLC8SNL0ScL/TyAXA4rCiKgEAopCaAFGIqLW6vkZpPBqNFBAlqQbUCBoQpEAQUoKE0BZIiMC6qs35hyggQ0KQKFAqpXSSJuM40VpJGQBQgJKQAg0QYLvVidptnSgSJAg1EilKSVGqCTSiMtEaEaSQIPjDg0YCBQAoCDSiIIFBBlj5t/vcBQDgjxIaAEgrUqiIBBEpTeNkQoIQpRAgRCAkIEpESlMNAjQIAqVBKJ3wfEXUaRMRadBsj6B1SoA02R8IiVIEQSilCKREgRIF7A0GJEhC9j8SKGQoUatYKVJKowIlQWKAAQYigDTRKLDd6nL6RCcCAxHQ7s5+2A7TRG9Pdtphu7+6Go/iM2fObKytm5ra+mmGePawAACGo4kxOR5V2d9bncSYH7Car+jgGRsBQIPBSAiQMpQS+SpEAIhxmiZapaki0ECIAhOlY5X2uv28w0s1y01pAIjjhFC02l0IojhNkiRFKQIUSikMskgkUasdtltB2IqCQAghETkkS+Z48FcaS6/5Kog0AmpRGnTU9Ez1RlSVIPNJkZRSnajTEWJ3d3dy8VwQBEeObrRaLZ1eiuM4kvrJJ5/8/ncfecdNN33qU58KAjGJteIgwtlwhTua0uELIGEhpjsVx24Oi3wTSOkAlg0EfrffarXSNAWteRl6EASj0Wh/f//o5uZgNPzlz3/xwAMPnDtz5sMf/vDdd9119OjKma39NNcWyitBmiCLs1f8rONNWpXK0XZV7Dpi0fk387Lmptfr7Q5HlMSjjMb8TVNrnejYkQAAEKkA0bQ+okAEREKEMIyUolTrNFVEIIIwagVCYCdqAxJqiFWSxmk6iSUIDIQgBCGEDGQgJAjKY69O4iFagKiUJlJcogFK5LlWHsDownjZiCIIgvxrAyrNGkMKdG9lVeWGpBTFaapVQqDDIBKAUiCBIAAQAYJAxK3tHUQUQgqRX4MAETaOrBqwVkqnaTJJ45RUp9vToEmRIqUpH8ChBAEmPByKQAYyDCIpRTqaICEoHceJitNYJQzXa2vrvdX+eDDa2RpMxmlLtSMZnjj5huFwKKbqSqbiYZivZTNHi2vSAN1OX0F+UABAokiRRqQ0VY6vAQDCYAEhCsBsQEhCYrfb5+kUAq0UKa1JK40QRJHSKlUaEcIwlFIwOO0NhojA/reQgRQoWhIALl26FIQRSqkIRkk6iVWcqHGcrG5uBK1ut9dr91bCVluGYSDDQGKYB++F3Ck2Omke+nDjWIH9q1drtH8qxYTpvYB2u723tycAWmFISkkhkiTZ2tp6w4mTW1tbD377oaeeeuptb7nxjjvvPHLkyMXt7VShtg52cnoInwLzm1MZH0oxnxJ2fCuwuq/pyCtPH0bhYDAArXu9HqOVUqrVahHRAw888IPHHm+1Wnffffe9934qCOC5519tr62Y4jCf0Kl3oGzM8r0/W+H8fOx3eUkbAPAqVkRcWVuTQQuk7IZR1O310lQpxY69nYnKSWsVBQHmOyey4wOINFFKKIJWu5X13nl6vT+OTWcogqgdBGEYctgvIkq0VuPUjAEBdb/b0aQItQahtdaUnQMUhAFpzRGcERGFQCmFEJpHSDmkQS6NoN229TKfbxBnLlxkOU5XJAqBGExSJbQQIqX8KyoLrdVdMdqsAZQmPuv73MUzURT1er1+v9/vd1utlpRSCBiNRrFKJ5PJZDLhb8RECgDCMBRappSmqY6TWI80wEAQ9Hs9SLVSMSIGYbTS63O39+qrr46SVGvd7vSDIBgMBpcm+6urKypJS+dk40nM87A8M6tJsV/TaXc1Zp4salCgUYNGagWRAhLE8Cg4DSEEUQiUaxEi928aYGcwZK3jkb6UUoZSCIwVaAxACgJINKjMhQiiTgtyiEm01qnSOiGiVAvSNNaJ0qhAtLrtqN3RJI4dv0qGUdTqyjCSQQBCCiECRCmQR7JgARZyP5mNF3LrJjJH1Rt7t/paF63yJ2DsyL6xbXz6k6ZOp3Pm/JlWGG5sbMTjMUeMkSjOnj//xI9//OMf//jaa6/99Kc/feTIkVdeegmlJAiyGMDF4VqVvePPt4YOiz4w23lFQeg8N78aK83MTwhETJMJ+9i8n0YIwcd/fO+RR775zW/2+/3f+Z3fefc735Gmejwep1opgearMlhwY7aAOYwRoPMEc3tzWsIXt32jlArDkHc48mRTFEXnzpzd296SIpOgUorPHeIpFVtLDADtXtrRlMZxPJlMxuPxeJw5ZWfOnOEYW2aT9oULFwZ7ezpJk8lkPB4bVdNap2lqti7xNslszkvieDSwx+ZmOpFX5dmNKIRgJwioRBRm4ZtxihERBLY6nVJFSZKEJ19shxQRx6OJ2Xze6XTa7TZj0w033NBut1dXV9fX19fW1nq9XqvVEmGwvb2dpsl4PJ5MJnEcm28Lu7u7XHGW22g0Go/HSZLs7eyMh8PBYMDrpNM05dPbrr766jRNh8Mh7/ngI5G01qTLAcu+kgYCzdckTmUgWkEkQhmg1EigSIEe7Q81kgRhroJQEUVh21EhFsja2hrlHdVUagK3tne4B9JaJ0nCn8U5lEg2vouiKIo4DUhx9NjJIAoBQAZRu9dttzpXv+HaX7vp7e1uF0QAQhIIQhDIXwRFKCCQWVsIAkZMKWXAT2wU0KT484aYRgTEYtwkH7BACaiwF0dDiIiQgija2d1mHdjf3Q3DcLW/MhqNvvKVr7z00ks3v/vdd955ZyjkcDjksdck1iQKnEC1ewUAjU5+Nvd+xUwBRu+h6KMhYqfTYTtnhf7VL3752GOPPfHjH994442f+MQn3vnOG0cjfe78uVYYrW2s7wwHZBXkiKmUSj0s89xRLKdjsclsSwyCIEkSAFhdXzt69KgUgCCUTifjeDgaDPaHk3jcito80W6bASCt9voGwtKctNZra2usSWa57GQy0Wn64gunB3t7Ozs7g8GAg+Ts7+8Ph8PBYJCmKZsuQ2SSaEi11oKyA1+VDU9Ru+80TbbUNnQ7GF903F5BEKAMLl26xEqNgsxMGaBut/utdthp97q9dqfd63Rb7VY3DMPrrrsuClu9Xm91dXVtbW11dbXb7UZRxOsDub5crtaaQJ98wxuVStJUa50SIc/7CAHtdlcIQJQ8N50kkyRRKo3TSToY7u3vDceT4XAwPn/h7OkXXjp77tUf/+iJtfWVG66+dn+w++orZ6XSUdjeG1zqddqaUs1zaikpnWgFBKrd6gLqbKYvrxcKIBBaQ6xIgkqAtE6VIq3TTrePSDx/hyj56yURCRmywMz3TE6zN5wQKSLUOs0O60JJiNfd8OZub6Xf74dhyAuAO51Op9NZX1+Poqjb7fbZBe12W62WCOT+cBhELUUURVGn19UKEMTK2trO3gA1a68ilCRJ8KjUC/NdMNLGHpbJwUYryqfhbTP0sWJ6Q5RMJhziaTQadbvdTqfz0ukXH3vssRdeeOHDH/7wx06d6vV6O1vb/EqsUhJmvUABN6swC3+xPbL12/xgT1Lauh7KwE5sBFTlAbWigGP6AECapq+88soP/vaxn/zkJzfddNO999775jdfc+nSaDAY9Pt9ibg3GJAMsu+0+QdHbX1z8fN3JO54WLb7YPwXX/REpJTqdru7u7u872d/f7/T6QghJkmCiKRR6WQ8ikfjwXAwjpOxFKE9+Y2C+JrGsch3q5s2IKJut5skCXtbQggO3dWOWm0Z8FcwwxJjHCPa7u7u9vb2hQsXtra2dnd3x+Px1sULSqecVRzHZuv43t4eWuGSkyTJFuUGaIvFNKUZubCowzBstVphFF133Q0yDNutTq/f7XX7vX633eqEURCFragVdju9TrfdaXfbnVa71QnDcLA/LNVmLNJUryTyZDMvnZGBkCIQEpM4FRIDGfIkvZDI3cBkOCatgDCMAoFyNB5uXdze2b30f/7+HwDSJ+648wO33nL6hRd/+dwvdnf2Xn7lpUs7W0qn8SQZT0bj0WQ8GSVxmqqEu5w0UUka82AQQaCAAKWA/HxKEKYT2t8boADmxCzx0QiaT9Lib3EoRf4xIU1UEMp2q9Nf6a2trq+tr/Z7K1G79fab3tHp9fiITNYKDlJi4wX70WmapqTDTlsGLdaHVqs1GcfD4VAEUSBDDKRAiYgIEgMZySAIhRQkZB4ThYC/pQZBwDMDVR6W3UamR7EBa9qUaroezW5f+wuy9Tz75J4kSRiGrTB66aWXHnvssZ///OenTp26/fbbpZSvvPLK5vp6EAQXLlwIgkAGbbQCupmyqgDLXThqu1elV7c+ORlP2HZk2A3e39/nDuTpp5/++te/nown733vez//+c+vrLQvXRoNh8ONjQ2NsHdpRyNo0kIXhtZ0gHN0G5IDykZ2QRSNYpXvaAqCCFoAQkZK9XiEYmZzCIDnEkSYLeQjIQBRAaAmDTiepCBku9NHKQMhFFGc6Ek8HMsgEEJKmfV+QBjKVqsjW2l3FY+cuOpNiAxA7GdNRgNNKonTJI3ZFFWqCfRoOGbjASSV6kk8Ho8mqUo0KQOpAgMDrAgyCEUYtMJIBjJqd6Jup99qtVqdLiHyYp5IhhiIACUJaIctfi8lpROV6FRrGKeqt7KmeFFMfhUAiigQQgNIROcaSEhJgaKUFGpQSECQKN3r9RVoQZiQVqnSiiQIQNKEGpAIdKoQCGSwsr7R7vd+5x//k//w+//+x08+dc9nP3PTO975yquvTsbx/mAvSeMknYyGk/3B7v7ecH+wOxpOknRy/tzFOBmPhpPReBBPUqUT0ihAD/dHLJkwku1Wt9trdzv9qBWwlKQIhQT2MXlkrbMgahnUGsA9snmUAbfVjjrtbrfXabc6URSNJokMw06rhVIiUZymKklGiep1Ouy/aQCpdaKUVEooNZrEUuNkEqdp2tUkhIja3Xa7PUnSIAgCGQohzPGDWmspXJekytTnItvDAs/YqxIDUJqkJHQrjFZWVk6fPv2Nb3xjd3f3E5/4xJ133vnqq6/yGvdLu7tCiM3NzXEca+XG8q03dvzZxUHBA7T6YRt9jbcicbqHjuy4PPngWSnFEzdhGLbb7XgyWllZGQwG3/ve9771rW8ppe6999577rnjwoU9u7Ycq1wDEKAuOw7SXnlcEJNOppWxHEsT/sHxv2xPzU5gry0y+WvgRaTTxZymvib+VJrPxLOPyZ2nWQA5HVQgghBREDBgUX7yYycIsWwwa3goko7HYwLFQxvSqCnlj9XGqPjKZoaCWu3IOKlEkJ8LlQmPv+JB/hVZA0RhCwQKkiR09glcoUZlP5leuQxAyHMnAMHrcoko/04t8iUAhOyRKpMDSF7kQAGGXJZ9BdQqJcFgAUor0JTyEE9g8OA3H/jzP/uLOz95x7/57/77/kp7f298+sXnwygIw2A0Gqdp0u+vIML+/iBJ4jhO7JqaK2rgIT/DPftT7DGxD8h+lgxEIEMQgrjdvANBWf58Na2TD9rdnp8ApMhW5pjhA98Pk1gDkLb3rgIARJK/j4nipgtAASiywEehsMbgWpuFzpl6K52SklLyUqwq18RVvHSqkyX+l5U+TdMkifv9/iQerfb7v3rhha9+9avj8fjuu+++9dZbL168WEiPWSCFqvgLtsNl09wRR6u8NR6AsGfbbrePHj0ax/H29vaRzfWLFy8+9thjjz322IkTJz75yU++9a1vPX9+dwqoeQ4agABK0aqUDb5BawLLSeADliG/Cj5YcC52ehtT2u22gTAz424Xyl/sTd/BZzTxSgfuFihf0g0AMl/b7az2RgBlXQFF0G4BAGieRcmmj/3JZRCY+1FCgxZESmsDIgSglTKAYswXAVEEiAgIAgOQAIQgQRCvjZEgnCsAiul4wLuyqU6fEJIAIEGYXdFcs+dUuIIAUDrbjSQIiUgSaiKJUn7owx8dT9L777+/1e79D//Df5dqffUbrt0f7AZRgCIcx2MUQapTGUStblclitD9HyDJfBiIOWzxAJAByz7VnIdjSmPpVD4pTSiBgFAgAoFAJAF5QCYPFFgriNe/ZUv1CAE6geRDBG2PlaiQT75chjtElrGr0qVGehDny7YjIgqCgP0SzD+MBkHQbrfOnTlz41vf/OMf//irX/3q5ubmvffee+21104mk+m7WLiZN1LX9BAKKnqV9sjO3CCaRdQutVotZoun3La2thCRT4747re/8/TTT19zzTW33/mJd73r7UKAUirJvzIYhokPg6ytgIPu3MaOM8zM1wAWWtNe9jDQVinK4UYrEPlZFYggRDZCiaLQdrvybpLifP2OmSxDaznIdK2AwWtuNjDnUUK2HIlAI2B+JYGMbUHQgtwbLUBbNulPBc9OgEBNJJCIz9FURDwMEUI6OYisz8iXbucCYgmW4r5pOP5n4Mm8bt9zhavisZY2k90caG1L5ufdbvfOO+/8xS9+cf/997/lLW/5+MdvA4DBaAhCBmGrJUUoQpWMw0h2+p1knHj+YT7/CAX/iK9CoPFk2YcikBoAJZb4acaXhGlkDxTsXbl1sTWQ62ZQRAJEiBp5vokEgQLi7a9JoiDv3qxPPYCCZyNKFhtVCbayHYvLMHPbcfPk5/zVuNPpUD4HBwBC4Pr6+qPf/d5DDz0EALfddtuv//qv7+zt7e7uZgdK56vguCICpntRG9I0riuTU20HsGyO7RvIIwpqrSeTCX8NSdP0woULf/1XX3vppZeuvfba3/qt37ruTVdvbw8Hg8HR48eS3T1bkNl2kupTaX1O6l0nn0Oj8XYyv+I2nEneHpCnzybyuWPMTVQIQfluRA0QBGG23ltr0Frlw0MeBvLw0Mzv2NVH75o/x6yTFdm3Nsw335O11FprbdsPZCiGaeaDERHxPkHuKGQQcK6MIHyIuAAwPXmVYGfKvErCADA9OXxO8kcuvHleSvmP//E//uIXv/gf/+N/3NzcfP8H3hWGoSZI0oQAZRRFABMVawUEAgEJ0L4CoNb5TAGSIKWReNdAKAKNAgEUCCTQ2UrxLKwQy9C+GpRHdn6IWLa2/tiApfKtLa5rr7UEAIGSCBAkEUhQRFGUvauy3XkscB5wI2arWNAuwve5atDBdAmlkjdpDE0mk36/L4QYjUZa6yiKEDEej199+eWvfvWrvV7vn/+Tf3rDW9586dKlcRw72dqDKpxTIQLHZ/G5NJM7pXybd/f39zc3N5VSOzs7Kysr6+vrzzzzzAMPPHDpwvkPfOADH/nIR6655vh4AkopGYa7u3vT/DFj3eKgzJudrrid3giY9gl2w5eK3lTN2JUNYX7FIUMJXjpsCuJNxgCgOC1B9rU4zyJgwJI5YLHXwyCV+z6AABy2pmaK0YJa66EmG3bJG6E7FSciyDYSEnBiDrGT+Tp5C5qyIEVwNJsAqGpOgcc1nLtZQ17R1Wv23+zDqLksBASLbfvblkZtaiokaE0CgQjiOLnmmmueffbZldXeb/zmZ/+3/+1/+z//4D8cO/G/XH3ViTiFNLk0Gg1USFIEiCqeJFHU9rxJAaA1ggKFfJ67RjMnRSh5a7gQJEggakFCgk5VUrq5PWsoM0IDQgQiksL8iTAFLyI0LimLIJMZEbB6AYIiyhIIZI+YiCSRKtjsVOcFTv0spxcx/FVwnqV0PCw/gSH2SHghDq/M2Nra+tUvf/nXX/va9ddee9fdd//ar/3aq+fOjsfj9fX1RKkkSYx7ZZwskSnAHITPnNstyDuft3Y8lKkgaDoBb//Kkzi8BG5ra+upp5566qmnzp49+5uf+fS73vWu48fXdncnO/t7vV5PBMFgMBC8cBGzue1MsoRAohywijFq8iuFiEaB0FvN4cjd73ZKcY3fYijRqcLcM7IHX8698aRQBKUeFg/EeFbCfDUjxNSa7C/18lw56KwiTnXs9ip4OsJ96Pc9hYaG6TmSdrZ27PyisLI5XQteyw2Gb6RwTciuuJ0DE3tS5k+jeLxfQkq5tbUVRdGjjz765S9/+dduesf/+//1v/RW5N4enT9/HhHDMOTlmlEUlbKvKhx2s163IGRQoFUpYJl1v27F8/WVjlg4fyg2JRIEwFufCqahUSMi5U8Uo5o28s9ykNM5ycx/t3VdEGgkACiddLebrwBMND0cnqwJEAMC7Xa71+vt7u4+/vjjP3jsb9dXV//Vv/hnb3jjG3/1q19prbsr/SRJ2Iul3DXJJAYgACQF83lYzt9GoDbf5gkiUpFd80qr1drd3UXENE2feOKJhx9+eG1t7b777rv9tg/FMe3uTnjteBzHkKZRFKXeSlnekS0qRtxlaJXzabHnV6S0ds4T9DydLH9NAgkRsvkgAkQQhBq5+SHvlQkFoub1o8B7nSVi5rATCAQByN/SBGcr+OfpvHsN2WwXD+WZnqEgBG97Je7b+VdE5GnZ6SxT3p1zI+LUQ+LxJHtS5KiBh/NT1gCmXp6DRFAx0BBoJ4PcKbHtZ5qDEgC2Hy2yaTal6cLF829605sI9HA4/OjHTu3sXrr/r752//333/qhj1x99ebKyspwOKQ8eHSVJ6usH+xKKsoOpBFiCvkCdSBLzq0AYNcITHwIFjV/krWFCdVKyCQxaz7eR5QBlsgwEjlIEPupAokItNXBk2u/fkFVHWFpI/ppjPWxj8Jbr86cOfODH/zg9OnT6+vr//h3f/fEiRMXzp0bjUabm5sSxc5wCEJwiFEbrQxLFeIsZyMAEgqUIEH84RpAEm9EEBoUkNCgRP7EzOm7jjXRcH9/ZWXl0tbWd7773aeeeOL48eP3fOpT733v2/f2Y/7ej1IIgWmapkkynkxarZbDShafopZc1c/rXNpp+687PUlVEVNM5KAi+bwS/0HZqIY7K+70CCgLhmFrM2K28Rz4v9mIrOkkaCmfjgTMnyIP+2cnIMr2E/tv+ctETHE8LeIJpFFH6HBbaiHOwEx69/Y1n9bMpZiFhqV4klx/3Q2nX3gxDMONjY3xePz+991y8cLWH//xH6+srLzhqo+v9js6jXnBgAYwceAKnCBAPNUi+2pv8Z/20ABaQemXLQTB2CtwOnbOFo14+UPFZ3sEUAQCst2NhJIHrSwE/q8ERCQNKBA0CETUPPMObhOxshmvgudAeSgKJCD7mEDmSqCtFWcpaSxtdM4wDMPJZJKm6cWLF7///e9/97vfvemmm/7JP/knJ45sPv/8c1HUPnny5IWtS0LCkc1jg/GAuIWthSCC1wPM5V8B4FNnBs6eKWf/lL0plEALlXQ6HZ2k27s7qGllfS2SwWA86rbaL77y8iN/8+0nnn7qrW9+y2/89m/dcO2JC9tDRWQiwJhSdTWCqpRKp97LDRUpEFlYMpsgj31O3qJTuxtxbdtBK/5TTTO3l8CYL7W268df6zWh//WN5wLNt7zpENLCVsdmnMyzNLn+lS5M853iqrkn+/WCNLAgBx/6XZas4F+mUPZo0F/HB5o9RH9ZAC8tME+mu/2ql7nY41DKDjFR/5//9X/tttv/9t/+21tvfdf+EHZ3dy9sba2vr8dpgpj5KfYwHFRFT148t9GQRCwHrKqpGJo2rt2yHH4TPCADIiItCEmAEBKywwY0yoIcptpFqPOe26aqdYsAlhbqkpYwW8Qzzol49Cql5J2eHIKFPxpcuHDhe9/73q9+9atbbrnljjvu4FAN4H1BJSTe22ByZmyBCuCG6uWj+MTZAZSZitPHZqtDSYcEaTxGRP4mOB6PpZS9Xu/JJ598+OGHz58//5GPfOSjH/1ot9uN4zhoRbFW0ykqux0rAEun5Q1vxvxF9lmBSgCr1OOACsDyccrh0NY2vuHNhuApBH/kKamXtyWIr3aDNQQsu5r2rw5gGTmU8uMDVqlAZgNWsTqGefL3tRERaLTmHG3ya5S/UXkwrbPWV2utVfrTp566/6tf6ff7/8//+X8+enTzxRdfPnbyxEuvvNJutwmz0TJNVzWBqNC3IJh+j7KpCpgqAauYwCQzm4ed57bkzZpPbZ1C0pAcwCq1PrsFS/lHxDAIeCl4kiRRFDFU8cE2APDNb37z2Wef/ehHP3rrrbcyq1Vz6FUANC9gVUrBtmH7hpcvIOL29nYcxysrK+Px+Ac/+MFXv/rVOI4/+MEPfvjDHz55cp3nOHV+gq6vu1XlYgU5pojW/qNSi7KLcGzSQY1SazfpnWVT5O/In4fsGtnZQlk/0SQ358YupUluNspAETWc+yZs2H9WGUAV1fNZVS464czD8P3vf/9HP/rRp5555g/+4A8Gg9HVb3xDHMfmi4HIgUA2mK+Bij6ghpmaejn6djjkA1OV/vsvGlVnr2plZQUAtra2xuPxsWPH9vb2vvrVr7744osf+9jHPvCBD6yurgZBEMdxFSfLavcZK91NDbNPA1orpbUAROSAGLu7uz/5yU8eeeSRdrv9iU984oMf/AAiXLiwzwkmaSJbEVq5mZsqXmvqYL+VGz2C1mBNElNxltdpD/OT30gOwJl7YR0e4WfYnNCyELsW9pMmKOOjQyk/Jquq3Jy30Jvds/uGen58Y/YNFfIZvWWR8aBtDokoSZL3vve95y9e/PrXv37VNW/41//6Hw+H2WiAIAsXZfws0KXDqSnbvmwXw1Y7z6omWy7ZJuDcQFm9qhIMBgPuDHg/dhRFSZK8/PLL3/72t8+ePfuBD3zg7rvvVkqdP3/ehM25rBTwdN10YrM4C0bZtxJCTaQ1AqVaj/YGq6urJ4+deOGFlx566KHTp0+vH9n83Oc+t7m5CRI0AQZyMpkkWskwhCKWH6SHKYNnDsxaOS1tdNr/tbQhTUHmXljn09mLORZ2Cpx7Z9N4k2yd3gnLoujMzK0GZUp/qmm1UoCzH06TZRo2e45yJnGUHrDmK5RSWnE4V3HfffdduHDhT/7kT6699trbP/EREGIwGIBSKWmtNfAwRGullBTlffa8itqwY4BZm3uXSzXaXqX/jgvGUUw4cMja2tqxY8eefPLJBx54YHt7+5/9s3920003Xbp0iYMJ7+/v9/t9XSG0gwC9TY0OUrVIAwAfL/qTnzz1ne985/Tp0+94xztuv/3266+/ajymwWDC2sPnKQgpeYudnU89Q1UJ/NEfEdUIwRZ6Db74joZzs1yqyt/Bl4adsAGFUm4ZO+rzoaLTaj85oIeFxQj6poLLdS5sLc1gK02PHjkyHA7v+OSd27s7f/iHf7iytvb+97+TVzmmsdJa88KNmZKBMm08uIcFtQq5RHIgaaZXBWVjxk6nw6c0Hz16dDwef//733/22WeVUr/5m795/fXX87dCXiu+uro6mUxkMPf25LloxkxeAav4FBAhUq2ffvbZv/r610+/9NJ73//+u+6++7obrjp/cV8RyTCcJMlgNCJEGYY6DxNs9gbPZIgqyJ4Ls5PZDpf/FlSM/hw4c/Kx9/2V8nwQ98r3E320qs/E97Bq0lSRo81+bvVFlFat6vWqJwchZ6mq3V5Rp721c+mqq6767d/+7VTrP/7jP/75z1/sdDpRFHGsESISAIEQQfVMdpPOdS6ylW2J2dYXB2VoVar/pWn4SZIk7C48++yzDz/88GQy+c3f/M1PfOJjFy9ePHPmzMbGBm/Q8Rcq2VSlh/PWq+mnB1OZKIqeeOKJhx56aDgcnjp16p577rnqqs3z5/eCINjZ2dnZ2Wm1Wqurq2ma7u/vJyq1l8YeBLBKazgzw1K0Kk1ZI1DnlYNbHVrIVfrTUmhmVsuyHB+YlpJtPZke1KCVlFIEsr+6+rNf/GJtba2/unr1Ndfceuutzz///J/92Z9FkeATcQQgn+YloHLNB1weZDlkzIJ59N/86tD+/v7x48dbrdZjjz32/e9/v9vtfuADH3jPe97zwguvHD16FBG3t7ePHz/e7/fPnz9/CHNY+OzZoY2vxlCllHt7e0opDrzJWxxb7ejJnzzx7e98azKZfPazn/3oR29JUzh/fhsRS3klZ+eNdVOl1qTKdag8fb6swc+/ssJzmpOwYsM7URad4vKfluMSV9WiysJ08YR6c63qaXkdkI/O6O1w4Idm5qVhO5YTb6ATBemZDqn0DaMPdr386mQ3SACQqjgeT4QQnU5ne3v7kUceeeSRR+67777f+I3fCILghRdeWFtbU0ptXbiwur6ulNt5LIYmZhmEw1vVHOVM4HBuquRTL/8adXXe5dMMhBAcLZLy8xOlEEEQPP744w888MD6+vrv/M7v3HTTTefOnTMTiDZucKY1/DQnXwJ8E/gV4Cc8hZam6d7eHjtNr7766uM/eOyvv/b1X3/ve06dOnX99dfv7EzG43EVWjEd3gTj5aHD7xUXo1LFbQjif58oiwErEKUIgmBtbe1Nb3rTcDj85je/+YY3vOHDH/7g8ePH93d3gyA4evRomqZm1/2BgLioIT5M2MkOxwMtJYcl+8+1tbWdnZ04jvlsWt7C2Wq1Bvv7Dz300BNPPHHNNdd8/OMff/Ob38xHq1TtzbzcNN15aGM/EXU7HT5HIQpD0vrF06f/7u/+7gc/ePzm9/76Rz764Xe+661JAltblxAxjKIkSYIlTbYtqzmXqBZXlLVXeiLVTJYaUs2w9HVNKa9d5Jg/CJ1e94Ybbuh2uz/60Y8eeOCBbrt9yy03t2Wws7OTu58lo/4FYMVfGAxF/4isrxmHIPOZ6Ok82d/f5yEzEXFYPgAYj8d/8zd/89xzzx05cuT2229/z3vew58Le72eWTh9yFQS090o9N7eHp/U9Mwzzzz88MO7u7tvf/vb/8f/278cDNWFC3tExOc18KkwrwXzy6SZBn/IsOX38/VaPnN2z6mFP378e0O821kpxWc7drvdq6+++t577/3mN7/5pS99aXNz89duvDaOOxcuXAhaEVYvzZuLnCGzI2cqntp7aLpUj1P2/Wg0WllZQURexR6G4dmzZ3/xi188+eST73rXu06dOnXDDTeMRqMLFy6w4R8O/z65X8EYsLTWw+GQQ3M8/fTTjzzyyLlz597znvf863/9L9MU9ofD0WQiggClHE0mkySJ2m0NUPpvXqqZ/H5N8jFfDKDBhMISqQpfFquXnZuZM1pYJlcyIUfQl5KnYyaTiSIdhuGpU6fe8653vfDCC1/+8pdffXX7yJHe5vo6arLPa7F763nLpVqCQ+/27HL9aQ2bN/4strq6Gsfx/v4+o9XW1tbTTz/9gx/84JZbbvnQhz50/fXXj8dj9mBardb29vbh1MKnwLSQ3dXw/pvhcPjDH/7wO9/5jhDirrvu+tCHPtRuwy+ee7Xda3McZHYd2c96vTtZVZr0Go4HnbFDQw+rfghQhbl/P2BL5xURQoRhCGbpg0BQ+s4775xMJo899tjG6tq//Jf/8sSJtfGLsUIB3uz40qVhe1gLY+IBGXDuHTAlIqVUu92Oouj555//wQ9+sLu7++Y3v/nee+/lDS37+/sAwJ/gXkMPKxDEoXUQOOokAWlCTRfPnX/22Wd/9KMfdVvtU6dOffzjp6IInvvV2ZWVFRlJg1atVotHha9VBf6+kj18MC4A4tzRaUxuUNTavx8I5ZOUUoFKtWYni4gYtibj8bFjx+647eM7W9uP/+3fvvENb7jjjjtWV1d3hxPIl0dwDnbnvTD5OTijwkMg258yV6NUDmDt7++3220p5enTp3/4wx+ePXv27W9/+6lTp7rdLh/xy9Nb4/E4CIJ+v2+fK3GYVPxKjkSg+d93Hvn2Nx96MFXJ53/vdz5596mgBa+c3V1ZWeUlDkmsut1up92L43g0nEzPSjvgtdmROVOaHsGxjNLLrtmBSxqJqBH/SPkBRg2uM+vXeBBammBet/Gyu5Pzttf8+sAff7QCIuIw0FqBUmp1bXNra+vqa6694447/v/dXVtv40QUnrE941yapEGQ0s1DUakEPFZLu4gGp1RFlDegIP4Kgl/Sn7AXEBLKU6maB3Z5SVew6iYRrZC6VaNuLk03Tu3MjB3zMInrOrG3CWlS8T2MrJEzPj6enDlzZuY7OmG/ZjL7+WIkIosQSJzLClgQWLC7TQsMGNCw/TKn4QOT89D9PrGjB3I/BQILSRJGUunk5Mkfj4+Pj9//4L1UKjU/f6dSqTSbTU7Zyjff8njRON/FCbj/Tz3+RoxSWjurBsKBaDRa+LuYzWaLxaKiKKvpT9+aSTBqUtLJ4iVh3IfNqIfvxi55as/eetNo96Z6tyzL5iFylb4v0ad9zvVjt2+z/PDEWMDinEvdPCcC8JK/L2eQ3bKTV4iXAgCu/Cu8bJsAdPPrdVjD2xAAAD12Vjkpd68M193D2K7SNSV8rfac9zvv9NpLafYwxPrD76t56Nn+FvbXsTj/1LXb7ySU6MY2hG47ArQoYVPhEGOGQUkhX3zw8P50LP7jD9/PJt40DFatnZmWJSBJJ0REkslHKQiFjld7GS1BXeIHl57ta5fz4rRiLovWFy7OHLudK172VbPofJxd6TxoeeWHkvCqUQ+gQDAk680Wo7qMg1iWMAqcviz9/NMvL05efPPtd+ufrekt1mg0BAcB5HX+j4PS4Pjowako+x0FSZJKpZKqqsnkLELo8ZPff9vZLldefvX1lx8u3Y3FY6ZpEMaACJEcxIEQAN1x8ibK4XBz8gwtf4d6/XWlZzoDNwadRwwxsI9vkuitQ24dgLcdvx7gZWlBAEDbghhjw2xTSkWE33l3/u7SMmNsa2urVilHIygk44tmA0tieCpECDFM2tntDC+5if+DPJOBy4rZvlUwGISCdXFxAYEZi8WmQgGqt/58mnt0/8H5q7PNzc20ktI0rVorQy/C8slBQAghhPhh6729vd3dXV3XV1dX+dZQCGGz2Wy1WnbqvVE92BUycFXefrh6Axh1sNa5LDiQVAD0H/x97r8N+r/p/sBzkvMQUiKRWFlZmZuby+VymUzm/FybmYmHQiHGmK7rhJBoNDrB/jn0eojLWXbW2xeUUlmWJUniJwQxxqqqHhwcbG9vE0LW1tYURRFFUdM0jPGgbvUYIBmGEYlE6vX6X8+ePnu+Pz09/fEnK6nUPVVtUUoJYYwxKGDuZFJKMR7ZaezerjCpCf/tRG/H9dFPr5HyV2avtZ248gd630HBF+/5n1DTtGQyqSiK1TZ2dnZm77y98fkXiUTivNEQgRgIBMYgjxf6zvh8bJZrBsprvEL+AIBWq4WwyBf3JUmqVqvF5/lisRiNRtPp9NJH90zLKpVKSMZyMKhp2ggpzEYCgRCiqmqhUMjlcqIorq+vLy8vaxrTNI3vu8MYY4z5ZjzPXE+D4//hYXE4g02jat/ZVG9A10cq14XPnTfqIQ6KvhHr0crTbrd5N+Yr9AsLC4qiIISy2ezh4WE4jGVZjsfjsVisXC6PQR4vuJzroT2sXkMGAOBr+owxhJBlWUdHR/l8/vT0dGNjY3FxkTFWr9c5f1StVvMnYJgI/gUwcE+QlE6DBwAAAABJRU5ErkJggg==\" class=\"ndarray_image_preview\" /><pre class=\"ndarray_raw_data\">array([[[184, 208, 220],\n",
              "        [184, 208, 220],\n",
              "        [184, 208, 220],\n",
              "        ...,\n",
              "        [178, 197, 210],\n",
              "        [178, 197, 210],\n",
              "        [178, 197, 210]],\n",
              "\n",
              "       [[184, 208, 220],\n",
              "        [184, 208, 220],\n",
              "        [184, 208, 220],\n",
              "        ...,\n",
              "        [178, 197, 210],\n",
              "        [178, 197, 210],\n",
              "        [178, 197, 210]],\n",
              "\n",
              "       [[185, 209, 221],\n",
              "        [185, 209, 221],\n",
              "        [184, 208, 220],\n",
              "        ...,\n",
              "        [179, 198, 211],\n",
              "        [179, 198, 211],\n",
              "        [179, 198, 211]],\n",
              "\n",
              "       ...,\n",
              "\n",
              "       [[221, 231, 248],\n",
              "        [208, 219, 233],\n",
              "        [216, 227, 241],\n",
              "        ...,\n",
              "        [200, 217, 230],\n",
              "        [199, 216, 229],\n",
              "        [198, 215, 228]],\n",
              "\n",
              "       [[217, 227, 244],\n",
              "        [221, 232, 246],\n",
              "        [204, 215, 229],\n",
              "        ...,\n",
              "        [200, 217, 230],\n",
              "        [199, 216, 229],\n",
              "        [198, 215, 228]],\n",
              "\n",
              "       [[210, 220, 237],\n",
              "        [208, 219, 233],\n",
              "        [163, 174, 188],\n",
              "        ...,\n",
              "        [200, 217, 230],\n",
              "        [199, 216, 229],\n",
              "        [198, 215, 228]]], dtype=uint8)</pre></div><script>\n",
              "      (() => {\n",
              "      const titles = ['show data', 'hide data'];\n",
              "      let index = 0\n",
              "      document.querySelector('#id-12635440-0426-41e8-9fa9-4e0726621f9b button').onclick = (e) => {\n",
              "        document.querySelector('#id-12635440-0426-41e8-9fa9-4e0726621f9b').classList.toggle('show_array');\n",
              "        index = (++index) % 2;\n",
              "        document.querySelector('#id-12635440-0426-41e8-9fa9-4e0726621f9b button').textContent = titles[index];\n",
              "        e.preventDefault();\n",
              "        e.stopPropagation();\n",
              "      }\n",
              "      })();\n",
              "    </script>"
            ]
          },
          "metadata": {},
          "execution_count": 14
        }
      ]
    },
    {
      "cell_type": "code",
      "source": [],
      "metadata": {
        "id": "ivKnurG_inT8"
      },
      "execution_count": 12,
      "outputs": []
    },
    {
      "cell_type": "markdown",
      "source": [
        "### Data Visualization\n",
        "\n",
        "Before setting the model parameters or splitting the dataset into train and test, we're going to see if each image matches its label."
      ],
      "metadata": {
        "id": "U2XpzXAsoCCi"
      }
    },
    {
      "cell_type": "code",
      "source": [],
      "metadata": {
        "id": "75CAZzGNoNjm"
      },
      "execution_count": null,
      "outputs": []
    }
  ]
}